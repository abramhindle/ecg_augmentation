{
 "cells": [
  {
   "cell_type": "code",
   "execution_count": 1,
   "id": "993136c3",
   "metadata": {},
   "outputs": [],
   "source": [
    "from helper_code import *\n",
    "import numpy as np, os, sys, joblib\n",
    "import ecg_plot\n",
    "import pandas as pd\n",
    "from glob import glob\n",
    "import os\n",
    "from torch.utils.data import Dataset, DataLoader\n",
    "from sklearn.model_selection import train_test_split\n",
    "from tsai.all import *\n",
    "import torch\n",
    "import optuna\n",
    "from optuna.integration import FastAIPruningCallback\n",
    "from sklearn.metrics import classification_report\n",
    "import transformation_funcs as tfs\n",
    "import seaborn as sns\n",
    "from torchsummary import summary\n",
    "import amir_tools as at\n",
    "torch.cuda.set_device(0)"
   ]
  },
  {
   "cell_type": "code",
   "execution_count": 2,
   "id": "587b0938",
   "metadata": {},
   "outputs": [],
   "source": [
    "def snomedConvert(label_df,snomed=True):\n",
    "    codes =  pd.read_csv(\"data/snomed_codes.csv\",sep=\",\")[[\"Dx\",\"SNOMEDCTCode\"]]\n",
    "    if snomed:\n",
    "        label_df.columns = [codes[codes[\"SNOMEDCTCode\"] == int(x)][\"Dx\"].item() for x in label_df.columns]\n",
    "        return label_df\n",
    "DATASET_ID = \"CPSC2018\"\n",
    "# DATASET_ID = \"ChapmanShaoxing\"\n",
    "DATASET_NAME = \"WFDB_%s_signitured\"%DATASET_ID\n",
    "X = np.load('./data/big_numpy_datasets/%s.npy'%DATASET_NAME, mmap_mode='c')\n",
    "label_df = pd.read_csv(\"data/%s.csv\"%DATASET_NAME).drop(columns=[\"headers\",\"leads\"])\n",
    "y = snomedConvert(label_df)\n"
   ]
  },
  {
   "cell_type": "code",
   "execution_count": 3,
   "id": "90c0c41b",
   "metadata": {},
   "outputs": [
    {
     "data": {
      "image/png": "[encoded data removed]",
      "text/plain": [
       "<Figure size 1152x360 with 1 Axes>"
      ]
     },
     "metadata": {
      "needs_background": "light"
     },
     "output_type": "display_data"
    },
    {
     "name": "stdout",
     "output_type": "stream",
     "text": [
      "Counts by label: {'right bundle branch block': 1857, 'sinus rhythm': 918, 'atrial fibrillation': 1221, 'ventricular ectopics': 700, 'st depression': 869, 'left bundle branch block': 236, 'st elevation': 220, '1st degree av block': 722, 'premature atrial contraction': 616}\n"
     ]
    }
   ],
   "source": [
    "\n",
    "cv_splits = get_splits(y.to_numpy(), n_splits = 10, valid_size=.1,test_size=0.1, stratify=False, random_state=23, shuffle=True)\n",
    "y_multi = []\n",
    "for i,row in y.iterrows():\n",
    "    sample_labels = []\n",
    "    for i,r in enumerate(row):\n",
    "        if r == True:\n",
    "            sample_labels.append(y.columns[i])\n",
    "        \n",
    "    y_multi.append(list(tuple(sample_labels)))\n",
    "label_counts = collections.Counter([a for r in y_multi for a in r])\n",
    "print('Counts by label:', dict(label_counts))"
   ]
  },
  {
   "cell_type": "markdown",
   "id": "2f5af314",
   "metadata": {},
   "source": [
    "# INCEPTION CSPC RAW ANALYSIS"
   ]
  },
  {
   "cell_type": "code",
   "execution_count": 12,
   "id": "4277cfc0",
   "metadata": {},
   "outputs": [
    {
     "name": "stdout",
     "output_type": "stream",
     "text": [
      "[]\n"
     ]
    },
    {
     "data": {
      "text/html": [],
      "text/plain": [
       "<IPython.core.display.HTML object>"
      ]
     },
     "metadata": {},
     "output_type": "display_data"
    },
    {
     "data": {
      "text/html": [],
      "text/plain": [
       "<IPython.core.display.HTML object>"
      ]
     },
     "metadata": {},
     "output_type": "display_data"
    },
    {
     "data": {
      "text/html": [],
      "text/plain": [
       "<IPython.core.display.HTML object>"
      ]
     },
     "metadata": {},
     "output_type": "display_data"
    },
    {
     "data": {
      "text/html": [],
      "text/plain": [
       "<IPython.core.display.HTML object>"
      ]
     },
     "metadata": {},
     "output_type": "display_data"
    },
    {
     "data": {
      "text/html": [],
      "text/plain": [
       "<IPython.core.display.HTML object>"
      ]
     },
     "metadata": {},
     "output_type": "display_data"
    },
    {
     "data": {
      "text/html": [],
      "text/plain": [
       "<IPython.core.display.HTML object>"
      ]
     },
     "metadata": {},
     "output_type": "display_data"
    },
    {
     "data": {
      "text/html": [],
      "text/plain": [
       "<IPython.core.display.HTML object>"
      ]
     },
     "metadata": {},
     "output_type": "display_data"
    },
    {
     "data": {
      "text/html": [],
      "text/plain": [
       "<IPython.core.display.HTML object>"
      ]
     },
     "metadata": {},
     "output_type": "display_data"
    },
    {
     "data": {
      "text/html": [],
      "text/plain": [
       "<IPython.core.display.HTML object>"
      ]
     },
     "metadata": {},
     "output_type": "display_data"
    },
    {
     "data": {
      "text/html": [],
      "text/plain": [
       "<IPython.core.display.HTML object>"
      ]
     },
     "metadata": {},
     "output_type": "display_data"
    }
   ],
   "source": [
    "max_len = 10000\n",
    "sf = 0.5\n",
    "model_type = \"inception\"\n",
    "data_set = \"CPSC\"\n",
    "processes = []\n",
    "\n",
    "batch_tfms = []\n",
    "\n",
    "processing_type = '-'.join([x for x in processes])\n",
    "if \"sc\" in processes:\n",
    "    batch_tfms.append(tfs.Scale(scale_factor=sf,))\n",
    "if \"n\" in processes:\n",
    "    batch_tfms.append(tfs.Normalize())\n",
    "if \"bp\" in processes:\n",
    "    batch_tfms.append(tfs.BandPass(int(sf*500),low_cut=50, high_cut=1,leads=12,))\n",
    "if \"sh\" in processes:\n",
    "    batch_tfms.append(tfs.RandomShift(0.1))\n",
    "if len(processes)==0:\n",
    "    processing_type = \"raw\"\n",
    "\n",
    "print(processes)\n",
    "\n",
    "tfms  = [None, TSMultiLabelClassification()]\n",
    "reports = []\n",
    "probas_list, targets_list = [],[]\n",
    "for cv_num in range(10):\n",
    "    fold_splits = cv_splits[cv_num]\n",
    "    dsets = TSDatasets(X.astype(float)[:,:,0:max_len], y_multi, tfms=tfms, splits=(fold_splits[0],fold_splits[2])) # inplace=True by default\n",
    "    dls   = TSDataLoaders.from_dsets(dsets.train,dsets.valid, bs=[128, 128], batch_tfms=batch_tfms, num_workers=0)\n",
    "    metrics =[accuracy_multi, balanced_accuracy_multi, precision_multi, recall_multi, specificity_multi, F1_multi] \n",
    "    \n",
    "#     model = InceptionTimePlus(dls.vars, dls.c, dls.len, depth=13, ks = 110,nf=28 )\n",
    "    model = InceptionTimePlus(dls.vars, dls.c, dls.len, depth=12, ks = 130,nf=32 )\n",
    "    learn = Learner(dls, model, metrics=metrics, \n",
    "                    cbs=[ShowGraph()],\n",
    "                    model_dir=\"models/10CV/\")\n",
    "    learn.load(\"%s_%s_%s_%s\"%(model_type,processing_type,max_len,cv_num))\n",
    "    valid_probas, valid_targets, valid_preds = learn.get_preds(dl=dls.valid, with_decoded=True)\n",
    "    probas_list.append(valid_probas)\n",
    "    targets_list.append(valid_targets)\n",
    "    y_pred = (valid_preds>0)\n",
    "    y_test = valid_targets\n",
    "\n",
    "    report = classification_report(y_test, y_pred,target_names = dls.vocab.o2i.keys(),digits=3,output_dict=True)\n",
    "    reports.append(report)\n",
    "for report in reports:\n",
    "    for k,v in report.items():\n",
    "        report[k] = report[k][\"f1-score\"]\n",
    "# df for f1\n",
    "f1_df = pd.DataFrame(reports)\n",
    "f1_df.to_csv(\"csvs/%s_%s_%s_%s.csv\"%(model_type,processing_type,max_len,DATASET_ID))\n"
   ]
  },
  {
   "cell_type": "code",
   "execution_count": 13,
   "id": "7a1baea9",
   "metadata": {},
   "outputs": [
    {
     "ename": "TypeError",
     "evalue": "'float' object is not subscriptable",
     "output_type": "error",
     "traceback": [
      "\u001b[0;31m---------------------------------------------------------------------------\u001b[0m",
      "\u001b[0;31mTypeError\u001b[0m                                 Traceback (most recent call last)",
      "\u001b[0;32m<ipython-input-13-c67c23568423>\u001b[0m in \u001b[0;36m<module>\u001b[0;34m\u001b[0m\n\u001b[1;32m      1\u001b[0m \u001b[0;32mfor\u001b[0m \u001b[0mreport\u001b[0m \u001b[0;32min\u001b[0m \u001b[0mreports\u001b[0m\u001b[0;34m:\u001b[0m\u001b[0;34m\u001b[0m\u001b[0;34m\u001b[0m\u001b[0m\n\u001b[1;32m      2\u001b[0m     \u001b[0;32mfor\u001b[0m \u001b[0mk\u001b[0m\u001b[0;34m,\u001b[0m\u001b[0mv\u001b[0m \u001b[0;32min\u001b[0m \u001b[0mreport\u001b[0m\u001b[0;34m.\u001b[0m\u001b[0mitems\u001b[0m\u001b[0;34m(\u001b[0m\u001b[0;34m)\u001b[0m\u001b[0;34m:\u001b[0m\u001b[0;34m\u001b[0m\u001b[0;34m\u001b[0m\u001b[0m\n\u001b[0;32m----> 3\u001b[0;31m         \u001b[0mreport\u001b[0m\u001b[0;34m[\u001b[0m\u001b[0mk\u001b[0m\u001b[0;34m]\u001b[0m \u001b[0;34m=\u001b[0m \u001b[0mreport\u001b[0m\u001b[0;34m[\u001b[0m\u001b[0mk\u001b[0m\u001b[0;34m]\u001b[0m\u001b[0;34m[\u001b[0m\u001b[0;34m\"f1-score\"\u001b[0m\u001b[0;34m]\u001b[0m\u001b[0;34m\u001b[0m\u001b[0;34m\u001b[0m\u001b[0m\n\u001b[0m\u001b[1;32m      4\u001b[0m \u001b[0;31m# df for f1\u001b[0m\u001b[0;34m\u001b[0m\u001b[0;34m\u001b[0m\u001b[0;34m\u001b[0m\u001b[0m\n\u001b[1;32m      5\u001b[0m \u001b[0mf1_df\u001b[0m \u001b[0;34m=\u001b[0m \u001b[0mpd\u001b[0m\u001b[0;34m.\u001b[0m\u001b[0mDataFrame\u001b[0m\u001b[0;34m(\u001b[0m\u001b[0mreports\u001b[0m\u001b[0;34m)\u001b[0m\u001b[0;34m\u001b[0m\u001b[0;34m\u001b[0m\u001b[0m\n",
      "\u001b[0;31mTypeError\u001b[0m: 'float' object is not subscriptable"
     ]
    }
   ],
   "source": [
    "for report in reports:\n",
    "    for k,v in report.items():\n",
    "        report[k] = report[k][\"f1-score\"]\n",
    "# df for f1\n",
    "f1_df = pd.DataFrame(reports)\n",
    "f1_df.to_csv(\"csvs/%s_%s_%s_%s.csv\"%(model_type,processing_type,max_len,DATASET_ID))"
   ]
  },
  {
   "cell_type": "markdown",
   "id": "ebd9873f",
   "metadata": {},
   "source": [
    "# cspc + inception + all funcs analysis"
   ]
  },
  {
   "cell_type": "code",
   "execution_count": null,
   "id": "bed47959",
   "metadata": {},
   "outputs": [],
   "source": [
    "max_len = 10000\n",
    "sf = 0.5\n",
    "model_type = \"inception\"\n",
    "data_set = \"CPSC\"\n",
    "processes = [\"sc\",\"n\",\"bp\",\"sh\"]\n",
    "\n",
    "batch_tfms = []\n",
    "\n",
    "processing_type = '-'.join([x for x in processes])\n",
    "if \"sc\" in processes:\n",
    "    batch_tfms.append(tfs.Scale(scale_factor=sf,))\n",
    "if \"n\" in processes:\n",
    "    batch_tfms.append(tfs.Normalize())\n",
    "if \"bp\" in processes:\n",
    "    batch_tfms.append(tfs.BandPass(int(sf*500),low_cut=50, high_cut=1,leads=12,))\n",
    "if \"sh\" in processes:\n",
    "    batch_tfms.append(tfs.RandomShift(0.1))\n",
    "if len(processes)==0:\n",
    "    processing_type = \"raw\"\n",
    "\n",
    "print(processes)\n",
    "\n",
    "tfms  = [None, TSMultiLabelClassification()]\n",
    "reports = []\n",
    "probas_list, targets_list = [],[]\n",
    "for cv_num in range(10):\n",
    "    fold_splits = cv_splits[cv_num]\n",
    "    dsets = TSDatasets(X.astype(float)[:,:,0:max_len], y_multi, tfms=tfms, splits=(fold_splits[0],fold_splits[2])) # inplace=True by default\n",
    "    dls   = TSDataLoaders.from_dsets(dsets.train,dsets.valid, bs=[128, 128], batch_tfms=batch_tfms, num_workers=0)\n",
    "    metrics =[accuracy_multi, balanced_accuracy_multi, precision_multi, recall_multi, specificity_multi, F1_multi] \n",
    "    \n",
    "#     model = InceptionTimePlus(dls.vars, dls.c, dls.len, depth=13, ks = 110,nf=28 )\n",
    "    model = InceptionTimePlus(dls.vars, dls.c, dls.len, depth=12, ks = 130,nf=32 )\n",
    "    learn = Learner(dls, model, metrics=metrics, \n",
    "                    cbs=[ShowGraph()],\n",
    "                    model_dir=\"models/10CV/\")\n",
    "    learn.load(\"%s_%s_%s_%s\"%(model_type,processing_type,max_len,cv_num))\n",
    "    valid_probas, valid_targets, valid_preds = learn.get_preds(dl=dls.valid, with_decoded=True)\n",
    "    probas_list.append(valid_probas)\n",
    "    targets_list.append(valid_targets)\n",
    "    y_pred = (valid_preds>0)\n",
    "    y_test = valid_targets\n",
    "\n",
    "    report = classification_report(y_test, y_pred,target_names = dls.vocab.o2i.keys(),digits=3,output_dict=True)\n",
    "    reports.append(report)\n",
    "for report in reports:\n",
    "    for k,v in report.items():\n",
    "        report[k] = report[k][\"f1-score\"]\n",
    "# df for f1\n",
    "f1_df = pd.DataFrame(reports)\n",
    "f1_df.to_csv(\"csvs/%s_%s_%s_%s.csv\"%(model_type,processing_type,max_len,DATASET_ID))\n"
   ]
  },
  {
   "cell_type": "code",
   "execution_count": 29,
   "id": "8dc9d0ce",
   "metadata": {},
   "outputs": [
    {
     "data": {
      "text/plain": [
       "(TSTensor(samples:128, vars:12, len:5000, device=cuda:0),\n",
       " TensorMultiCategory([[0., 0., 0.,  ..., 0., 0., 0.],\n",
       "         [0., 0., 0.,  ..., 0., 0., 0.],\n",
       "         [0., 0., 0.,  ..., 1., 0., 0.],\n",
       "         ...,\n",
       "         [0., 0., 0.,  ..., 0., 0., 0.],\n",
       "         [0., 0., 0.,  ..., 1., 0., 0.],\n",
       "         [0., 0., 0.,  ..., 0., 0., 1.]], device='cuda:0'))"
      ]
     },
     "execution_count": 29,
     "metadata": {},
     "output_type": "execute_result"
    }
   ],
   "source": [
    "next(iter(dls.valid))"
   ]
  },
  {
   "cell_type": "code",
   "execution_count": null,
   "id": "a456cfb0",
   "metadata": {},
   "outputs": [],
   "source": [
    "max_len = 10000\n",
    "sf = 0.5\n",
    "model_type = \"inception\"\n",
    "data_set = \"CPSC\"\n",
    "processes = [\"sc\",\"n\",\"bp\",\"sh\"]\n",
    "\n",
    "batch_tfms = []\n",
    "\n",
    "processing_type = '-'.join([x for x in processes])\n",
    "if \"sc\" in processes:\n",
    "    batch_tfms.append(tfs.Scale(scale_factor=sf,))\n",
    "if \"n\" in processes:\n",
    "    batch_tfms.append(tfs.Normalize())\n",
    "if \"bp\" in processes:\n",
    "    batch_tfms.append(tfs.BandPass(int(sf*500),low_cut=50, high_cut=1,leads=12,))\n",
    "if \"sh\" in processes:\n",
    "    batch_tfms.append(tfs.RandomShift(0.1))\n",
    "if len(processes)==0:\n",
    "    processing_type = \"raw\"\n",
    "\n",
    "print(processes)\n",
    "\n",
    "tfms  = [None, TSMultiLabelClassification()]\n",
    "reports = []\n",
    "probas_list, targets_list = [],[]\n",
    "for cv_num in range(10):\n",
    "    fold_splits = cv_splits[cv_num]\n",
    "    dsets = TSDatasets(X.astype(float)[:,:,0:max_len], y_multi, tfms=tfms, splits=(fold_splits[0],fold_splits[2])) # inplace=True by default\n",
    "    dls   = TSDataLoaders.from_dsets(dsets.train,dsets.valid, bs=[128, 128], batch_tfms=batch_tfms, num_workers=0)\n",
    "    metrics =[accuracy_multi, balanced_accuracy_multi, precision_multi, recall_multi, specificity_multi, F1_multi] \n",
    "    \n",
    "#     model = InceptionTimePlus(dls.vars, dls.c, dls.len, depth=13, ks = 110,nf=28 )\n",
    "    model = InceptionTimePlus(dls.vars, dls.c, dls.len, depth=12, ks = 130,nf=32 )\n",
    "    learn = Learner(dls, model, metrics=metrics, \n",
    "                    cbs=[ShowGraph()],\n",
    "                    model_dir=\"models/10CV/\")\n",
    "    learn.load(\"%s_%s_%s_%s\"%(model_type,processing_type,max_len,cv_num))\n",
    "    valid_probas, valid_targets, valid_preds = learn.get_preds(dl=dls.valid, with_decoded=True)\n",
    "    probas_list.append(valid_probas)\n",
    "    targets_list.append(valid_targets)\n",
    "    y_pred = (valid_preds>0)\n",
    "    y_test = valid_targets\n",
    "\n",
    "    report = classification_report(y_test, y_pred,target_names = dls.vocab.o2i.keys(),digits=3,output_dict=True)\n",
    "    reports.append(report)\n",
    "for report in reports:\n",
    "    for k,v in report.items():\n",
    "        report[k] = report[k][\"f1-score\"]\n",
    "# df for f1\n",
    "f1_df = pd.DataFrame(reports)\n",
    "f1_df.to_csv(\"csvs/%s_%s_%s_%s_f1.csv\"%(model_type,processing_type,max_len,DATASET_ID))\n"
   ]
  },
  {
   "cell_type": "code",
   "execution_count": null,
   "id": "4c20e0bf",
   "metadata": {},
   "outputs": [],
   "source": [
    "#df for auc\n",
    "aucs_list = []\n",
    "for targets,probs in zip(targets_list,probas_list):\n",
    "    fig, aucs = at.draw_aucs(targets,probs,list(dls.vocab.o2i.keys()))\n",
    "    aucs_list.append(dict(aucs))\n",
    "auc_df = pd.DataFrame(aucs_list)"
   ]
  },
  {
   "cell_type": "markdown",
   "id": "23f07e60",
   "metadata": {},
   "source": [
    "## scale + normal + bandpass"
   ]
  },
  {
   "cell_type": "code",
   "execution_count": 43,
   "id": "feaf2eab",
   "metadata": {},
   "outputs": [
    {
     "name": "stdout",
     "output_type": "stream",
     "text": [
      "['sc', 'n', 'bp']\n"
     ]
    },
    {
     "data": {
      "text/html": [],
      "text/plain": [
       "<IPython.core.display.HTML object>"
      ]
     },
     "metadata": {},
     "output_type": "display_data"
    },
    {
     "data": {
      "text/html": [],
      "text/plain": [
       "<IPython.core.display.HTML object>"
      ]
     },
     "metadata": {},
     "output_type": "display_data"
    },
    {
     "data": {
      "text/html": [],
      "text/plain": [
       "<IPython.core.display.HTML object>"
      ]
     },
     "metadata": {},
     "output_type": "display_data"
    },
    {
     "data": {
      "text/html": [],
      "text/plain": [
       "<IPython.core.display.HTML object>"
      ]
     },
     "metadata": {},
     "output_type": "display_data"
    },
    {
     "data": {
      "text/html": [],
      "text/plain": [
       "<IPython.core.display.HTML object>"
      ]
     },
     "metadata": {},
     "output_type": "display_data"
    },
    {
     "data": {
      "text/html": [],
      "text/plain": [
       "<IPython.core.display.HTML object>"
      ]
     },
     "metadata": {},
     "output_type": "display_data"
    },
    {
     "data": {
      "text/html": [],
      "text/plain": [
       "<IPython.core.display.HTML object>"
      ]
     },
     "metadata": {},
     "output_type": "display_data"
    },
    {
     "data": {
      "text/html": [],
      "text/plain": [
       "<IPython.core.display.HTML object>"
      ]
     },
     "metadata": {},
     "output_type": "display_data"
    },
    {
     "data": {
      "text/html": [],
      "text/plain": [
       "<IPython.core.display.HTML object>"
      ]
     },
     "metadata": {},
     "output_type": "display_data"
    },
    {
     "data": {
      "text/html": [],
      "text/plain": [
       "<IPython.core.display.HTML object>"
      ]
     },
     "metadata": {},
     "output_type": "display_data"
    }
   ],
   "source": [
    "max_len = 10000\n",
    "sf = 0.5\n",
    "model_type = \"inception\"\n",
    "data_set = \"CPSC\"\n",
    "processes = [\"sc\",\"n\",\"bp\"]\n",
    "\n",
    "batch_tfms = []\n",
    "\n",
    "processing_type = '-'.join([x for x in processes])\n",
    "if \"sc\" in processes:\n",
    "    batch_tfms.append(tfs.Scale(scale_factor=sf,))\n",
    "if \"n\" in processes:\n",
    "    batch_tfms.append(tfs.Normalize())\n",
    "if \"bp\" in processes:\n",
    "    batch_tfms.append(tfs.BandPass(int(sf*500),low_cut=50, high_cut=1,leads=12,))\n",
    "if \"sh\" in processes:\n",
    "    batch_tfms.append(tfs.RandomShift(0.1))\n",
    "if len(processes)==0:\n",
    "    processing_type = \"raw\"\n",
    "\n",
    "print(processes)\n",
    "\n",
    "tfms  = [None, TSMultiLabelClassification()]\n",
    "reports = []\n",
    "probas_list, targets_list = [],[]\n",
    "for cv_num in range(10):\n",
    "    fold_splits = cv_splits[cv_num]\n",
    "    dsets = TSDatasets(X.astype(float)[:,:,0:max_len], y_multi, tfms=tfms, splits=(fold_splits[0],fold_splits[2])) # inplace=True by default\n",
    "    dls   = TSDataLoaders.from_dsets(dsets.train,dsets.valid, bs=[128, 128], batch_tfms=batch_tfms, num_workers=0)\n",
    "    metrics =[accuracy_multi, balanced_accuracy_multi, precision_multi, recall_multi, specificity_multi, F1_multi] \n",
    "    \n",
    "#     model = InceptionTimePlus(dls.vars, dls.c, dls.len, depth=13, ks = 110,nf=28 )\n",
    "    model = InceptionTimePlus(dls.vars, dls.c, dls.len, depth=12, ks = 130,nf=32 )\n",
    "    learn = Learner(dls, model, metrics=metrics, \n",
    "                    cbs=[ShowGraph()],\n",
    "                    model_dir=\"models/10CV/\")\n",
    "    learn.load(\"%s_%s_%s_%s\"%(model_type,processing_type,max_len,cv_num))\n",
    "    valid_probas, valid_targets, valid_preds = learn.get_preds(dl=dls.valid, with_decoded=True)\n",
    "    probas_list.append(valid_probas)\n",
    "    targets_list.append(valid_targets)\n",
    "    y_pred = (valid_preds>0)\n",
    "    y_test = valid_targets\n",
    "\n",
    "    report = classification_report(y_test, y_pred,target_names = dls.vocab.o2i.keys(),digits=3,output_dict=True)\n",
    "    reports.append(report)\n",
    "for report in reports:\n",
    "    for k,v in report.items():\n",
    "        report[k] = report[k][\"f1-score\"]\n",
    "# df for f1\n",
    "f1_df = pd.DataFrame(reports)\n",
    "f1_df.to_csv(\"csvs/%s_%s_%s_%s.csv\"%(model_type,processing_type,max_len,DATASET_ID))\n"
   ]
  },
  {
   "cell_type": "code",
   "execution_count": 46,
   "id": "4a9ee2da",
   "metadata": {},
   "outputs": [
    {
     "data": {
      "text/plain": [
       "1st degree av block             0.860317\n",
       "atrial fibrillation             0.945148\n",
       "left bundle branch block        0.911840\n",
       "premature atrial contraction    0.759480\n",
       "right bundle branch block       0.946151\n",
       "sinus rhythm                    0.806625\n",
       "st depression                   0.810050\n",
       "st elevation                    0.525063\n",
       "ventricular ectopics            0.845929\n",
       "micro avg                       0.863821\n",
       "macro avg                       0.824211\n",
       "weighted avg                    0.861098\n",
       "samples avg                     0.838185\n",
       "dtype: float64"
      ]
     },
     "execution_count": 46,
     "metadata": {},
     "output_type": "execute_result"
    }
   ],
   "source": [
    "f1_df.median()"
   ]
  },
  {
   "cell_type": "markdown",
   "id": "11aaf39a",
   "metadata": {},
   "source": [
    "## scale + normal "
   ]
  },
  {
   "cell_type": "code",
   "execution_count": 47,
   "id": "076adf66",
   "metadata": {},
   "outputs": [
    {
     "name": "stdout",
     "output_type": "stream",
     "text": [
      "['sc', 'n']\n"
     ]
    },
    {
     "data": {
      "text/html": [],
      "text/plain": [
       "<IPython.core.display.HTML object>"
      ]
     },
     "metadata": {},
     "output_type": "display_data"
    },
    {
     "data": {
      "text/html": [],
      "text/plain": [
       "<IPython.core.display.HTML object>"
      ]
     },
     "metadata": {},
     "output_type": "display_data"
    },
    {
     "data": {
      "text/html": [],
      "text/plain": [
       "<IPython.core.display.HTML object>"
      ]
     },
     "metadata": {},
     "output_type": "display_data"
    },
    {
     "data": {
      "text/html": [],
      "text/plain": [
       "<IPython.core.display.HTML object>"
      ]
     },
     "metadata": {},
     "output_type": "display_data"
    },
    {
     "data": {
      "text/html": [],
      "text/plain": [
       "<IPython.core.display.HTML object>"
      ]
     },
     "metadata": {},
     "output_type": "display_data"
    },
    {
     "data": {
      "text/html": [],
      "text/plain": [
       "<IPython.core.display.HTML object>"
      ]
     },
     "metadata": {},
     "output_type": "display_data"
    },
    {
     "data": {
      "text/html": [],
      "text/plain": [
       "<IPython.core.display.HTML object>"
      ]
     },
     "metadata": {},
     "output_type": "display_data"
    },
    {
     "data": {
      "text/html": [],
      "text/plain": [
       "<IPython.core.display.HTML object>"
      ]
     },
     "metadata": {},
     "output_type": "display_data"
    },
    {
     "data": {
      "text/html": [],
      "text/plain": [
       "<IPython.core.display.HTML object>"
      ]
     },
     "metadata": {},
     "output_type": "display_data"
    },
    {
     "data": {
      "text/html": [],
      "text/plain": [
       "<IPython.core.display.HTML object>"
      ]
     },
     "metadata": {},
     "output_type": "display_data"
    }
   ],
   "source": [
    "max_len = 10000\n",
    "sf = 0.5\n",
    "model_type = \"inception\"\n",
    "data_set = \"CPSC\"\n",
    "processes = [\"sc\",\"n\"]\n",
    "\n",
    "batch_tfms = []\n",
    "\n",
    "processing_type = '-'.join([x for x in processes])\n",
    "if \"sc\" in processes:\n",
    "    batch_tfms.append(tfs.Scale(scale_factor=sf,))\n",
    "if \"n\" in processes:\n",
    "    batch_tfms.append(tfs.Normalize())\n",
    "if \"bp\" in processes:\n",
    "    batch_tfms.append(tfs.BandPass(int(sf*500),low_cut=50, high_cut=1,leads=12,))\n",
    "if \"sh\" in processes:\n",
    "    batch_tfms.append(tfs.RandomShift(0.1))\n",
    "if len(processes)==0:\n",
    "    processing_type = \"raw\"\n",
    "\n",
    "print(processes)\n",
    "\n",
    "tfms  = [None, TSMultiLabelClassification()]\n",
    "reports = []\n",
    "probas_list, targets_list = [],[]\n",
    "for cv_num in range(10):\n",
    "    fold_splits = cv_splits[cv_num]\n",
    "    dsets = TSDatasets(X.astype(float)[:,:,0:max_len], y_multi, tfms=tfms, splits=(fold_splits[0],fold_splits[2])) # inplace=True by default\n",
    "    dls   = TSDataLoaders.from_dsets(dsets.train,dsets.valid, bs=[128, 128], batch_tfms=batch_tfms, num_workers=0)\n",
    "    metrics =[accuracy_multi, balanced_accuracy_multi, precision_multi, recall_multi, specificity_multi, F1_multi] \n",
    "    \n",
    "#     model = InceptionTimePlus(dls.vars, dls.c, dls.len, depth=13, ks = 110,nf=28 )\n",
    "    model = InceptionTimePlus(dls.vars, dls.c, dls.len, depth=12, ks = 130,nf=32 )\n",
    "    learn = Learner(dls, model, metrics=metrics, \n",
    "                    cbs=[ShowGraph()],\n",
    "                    model_dir=\"models/10CV/\")\n",
    "    learn.load(\"%s_%s_%s_%s\"%(model_type,processing_type,max_len,cv_num))\n",
    "    valid_probas, valid_targets, valid_preds = learn.get_preds(dl=dls.valid, with_decoded=True)\n",
    "    probas_list.append(valid_probas)\n",
    "    targets_list.append(valid_targets)\n",
    "    y_pred = (valid_preds>0)\n",
    "    y_test = valid_targets\n",
    "\n",
    "    report = classification_report(y_test, y_pred,target_names = dls.vocab.o2i.keys(),digits=3,output_dict=True)\n",
    "    reports.append(report)\n",
    "for report in reports:\n",
    "    for k,v in report.items():\n",
    "        report[k] = report[k][\"f1-score\"]\n",
    "# df for f1\n",
    "f1_df = pd.DataFrame(reports)\n",
    "f1_df.to_csv(\"csvs/%s_%s_%s_%s.csv\"%(model_type,processing_type,max_len,DATASET_ID))\n"
   ]
  },
  {
   "cell_type": "markdown",
   "id": "cc1b12f6",
   "metadata": {},
   "source": [
    "## scale"
   ]
  },
  {
   "cell_type": "code",
   "execution_count": 51,
   "id": "3fe4f908",
   "metadata": {},
   "outputs": [
    {
     "name": "stdout",
     "output_type": "stream",
     "text": [
      "['sc']\n"
     ]
    },
    {
     "data": {
      "text/html": [],
      "text/plain": [
       "<IPython.core.display.HTML object>"
      ]
     },
     "metadata": {},
     "output_type": "display_data"
    },
    {
     "data": {
      "text/html": [],
      "text/plain": [
       "<IPython.core.display.HTML object>"
      ]
     },
     "metadata": {},
     "output_type": "display_data"
    },
    {
     "data": {
      "text/html": [],
      "text/plain": [
       "<IPython.core.display.HTML object>"
      ]
     },
     "metadata": {},
     "output_type": "display_data"
    },
    {
     "data": {
      "text/html": [],
      "text/plain": [
       "<IPython.core.display.HTML object>"
      ]
     },
     "metadata": {},
     "output_type": "display_data"
    },
    {
     "data": {
      "text/html": [],
      "text/plain": [
       "<IPython.core.display.HTML object>"
      ]
     },
     "metadata": {},
     "output_type": "display_data"
    },
    {
     "data": {
      "text/html": [],
      "text/plain": [
       "<IPython.core.display.HTML object>"
      ]
     },
     "metadata": {},
     "output_type": "display_data"
    },
    {
     "data": {
      "text/html": [],
      "text/plain": [
       "<IPython.core.display.HTML object>"
      ]
     },
     "metadata": {},
     "output_type": "display_data"
    },
    {
     "data": {
      "text/html": [],
      "text/plain": [
       "<IPython.core.display.HTML object>"
      ]
     },
     "metadata": {},
     "output_type": "display_data"
    },
    {
     "data": {
      "text/html": [],
      "text/plain": [
       "<IPython.core.display.HTML object>"
      ]
     },
     "metadata": {},
     "output_type": "display_data"
    },
    {
     "data": {
      "text/html": [],
      "text/plain": [
       "<IPython.core.display.HTML object>"
      ]
     },
     "metadata": {},
     "output_type": "display_data"
    }
   ],
   "source": [
    "max_len = 10000\n",
    "sf = 0.5\n",
    "model_type = \"inception\"\n",
    "data_set = \"CPSC\"\n",
    "processes = [\"sc\"]\n",
    "\n",
    "batch_tfms = []\n",
    "\n",
    "processing_type = '-'.join([x for x in processes])\n",
    "if \"sc\" in processes:\n",
    "    batch_tfms.append(tfs.Scale(scale_factor=sf,))\n",
    "if \"n\" in processes:\n",
    "    batch_tfms.append(tfs.Normalize())\n",
    "if \"bp\" in processes:\n",
    "    batch_tfms.append(tfs.BandPass(int(sf*500),low_cut=50, high_cut=1,leads=12,))\n",
    "if \"sh\" in processes:\n",
    "    batch_tfms.append(tfs.RandomShift(0.1))\n",
    "if len(processes)==0:\n",
    "    processing_type = \"raw\"\n",
    "\n",
    "print(processes)\n",
    "\n",
    "tfms  = [None, TSMultiLabelClassification()]\n",
    "reports = []\n",
    "probas_list, targets_list = [],[]\n",
    "for cv_num in range(10):\n",
    "    fold_splits = cv_splits[cv_num]\n",
    "    dsets = TSDatasets(X.astype(float)[:,:,0:max_len], y_multi, tfms=tfms, splits=(fold_splits[0],fold_splits[2])) # inplace=True by default\n",
    "    dls   = TSDataLoaders.from_dsets(dsets.train,dsets.valid, bs=[128, 128], batch_tfms=batch_tfms, num_workers=0)\n",
    "    metrics =[accuracy_multi, balanced_accuracy_multi, precision_multi, recall_multi, specificity_multi, F1_multi] \n",
    "    \n",
    "#     model = InceptionTimePlus(dls.vars, dls.c, dls.len, depth=13, ks = 110,nf=28 )\n",
    "    model = InceptionTimePlus(dls.vars, dls.c, dls.len, depth=12, ks = 130,nf=32 )\n",
    "    learn = Learner(dls, model, metrics=metrics, \n",
    "                    cbs=[ShowGraph()],\n",
    "                    model_dir=\"models/10CV/\")\n",
    "    learn.load(\"%s_%s_%s_%s\"%(model_type,processing_type,max_len,cv_num))\n",
    "    valid_probas, valid_targets, valid_preds = learn.get_preds(dl=dls.valid, with_decoded=True)\n",
    "    probas_list.append(valid_probas)\n",
    "    targets_list.append(valid_targets)\n",
    "    y_pred = (valid_preds>0)\n",
    "    y_test = valid_targets\n",
    "\n",
    "    report = classification_report(y_test, y_pred,target_names = dls.vocab.o2i.keys(),digits=3,output_dict=True)\n",
    "    reports.append(report)\n",
    "for report in reports:\n",
    "    for k,v in report.items():\n",
    "        report[k] = report[k][\"f1-score\"]\n",
    "# df for f1\n",
    "f1_df = pd.DataFrame(reports)\n",
    "f1_df.to_csv(\"csvs/%s_%s_%s_%s.csv\"%(model_type,processing_type,max_len,DATASET_ID))\n"
   ]
  },
  {
   "cell_type": "markdown",
   "id": "62daf4e7",
   "metadata": {},
   "source": [
    "### Table Generation:\n"
   ]
  },
  {
   "cell_type": "code",
   "execution_count": 30,
   "id": "c2e22637",
   "metadata": {},
   "outputs": [
    {
     "data": {
      "text/html": [
       "<div>\n",
       "<style scoped>\n",
       "    .dataframe tbody tr th:only-of-type {\n",
       "        vertical-align: middle;\n",
       "    }\n",
       "\n",
       "    .dataframe tbody tr th {\n",
       "        vertical-align: top;\n",
       "    }\n",
       "\n",
       "    .dataframe thead th {\n",
       "        text-align: right;\n",
       "    }\n",
       "</style>\n",
       "<table border=\"1\" class=\"dataframe\">\n",
       "  <thead>\n",
       "    <tr style=\"text-align: right;\">\n",
       "      <th></th>\n",
       "      <th>1st degree av block</th>\n",
       "      <th>atrial fibrillation</th>\n",
       "      <th>left bundle branch block</th>\n",
       "      <th>premature atrial contraction</th>\n",
       "      <th>right bundle branch block</th>\n",
       "      <th>sinus rhythm</th>\n",
       "      <th>st depression</th>\n",
       "      <th>st elevation</th>\n",
       "      <th>ventricular ectopics</th>\n",
       "      <th>micro avg</th>\n",
       "      <th>macro avg</th>\n",
       "      <th>weighted avg</th>\n",
       "      <th>samples avg</th>\n",
       "      <th>experiment</th>\n",
       "    </tr>\n",
       "  </thead>\n",
       "  <tbody>\n",
       "    <tr>\n",
       "      <th>0</th>\n",
       "      <td>0.854962</td>\n",
       "      <td>0.937759</td>\n",
       "      <td>0.918919</td>\n",
       "      <td>0.728972</td>\n",
       "      <td>0.923483</td>\n",
       "      <td>0.793651</td>\n",
       "      <td>0.826816</td>\n",
       "      <td>0.526316</td>\n",
       "      <td>0.855422</td>\n",
       "      <td>0.858896</td>\n",
       "      <td>0.818478</td>\n",
       "      <td>0.856420</td>\n",
       "      <td>0.834546</td>\n",
       "      <td>inception_sc-n-bp_10000_CPSC2018</td>\n",
       "    </tr>\n",
       "    <tr>\n",
       "      <th>1</th>\n",
       "      <td>0.833333</td>\n",
       "      <td>0.945148</td>\n",
       "      <td>0.923077</td>\n",
       "      <td>0.774775</td>\n",
       "      <td>0.940874</td>\n",
       "      <td>0.811765</td>\n",
       "      <td>0.811111</td>\n",
       "      <td>0.600000</td>\n",
       "      <td>0.833333</td>\n",
       "      <td>0.866303</td>\n",
       "      <td>0.830380</td>\n",
       "      <td>0.863926</td>\n",
       "      <td>0.838428</td>\n",
       "      <td>inception_sc-n-bp_10000_CPSC2018</td>\n",
       "    </tr>\n",
       "    <tr>\n",
       "      <th>2</th>\n",
       "      <td>0.865672</td>\n",
       "      <td>0.945148</td>\n",
       "      <td>0.850000</td>\n",
       "      <td>0.782609</td>\n",
       "      <td>0.945736</td>\n",
       "      <td>0.789189</td>\n",
       "      <td>0.802198</td>\n",
       "      <td>0.512821</td>\n",
       "      <td>0.810127</td>\n",
       "      <td>0.859851</td>\n",
       "      <td>0.811500</td>\n",
       "      <td>0.857781</td>\n",
       "      <td>0.836002</td>\n",
       "      <td>inception_sc-n-bp_10000_CPSC2018</td>\n",
       "    </tr>\n",
       "    <tr>\n",
       "      <th>3</th>\n",
       "      <td>0.867647</td>\n",
       "      <td>0.965812</td>\n",
       "      <td>0.950000</td>\n",
       "      <td>0.750000</td>\n",
       "      <td>0.953608</td>\n",
       "      <td>0.802139</td>\n",
       "      <td>0.808989</td>\n",
       "      <td>0.523810</td>\n",
       "      <td>0.857143</td>\n",
       "      <td>0.872727</td>\n",
       "      <td>0.831016</td>\n",
       "      <td>0.871410</td>\n",
       "      <td>0.855410</td>\n",
       "      <td>inception_sc-n-bp_10000_CPSC2018</td>\n",
       "    </tr>\n",
       "    <tr>\n",
       "      <th>4</th>\n",
       "      <td>0.888889</td>\n",
       "      <td>0.953586</td>\n",
       "      <td>0.904762</td>\n",
       "      <td>0.752294</td>\n",
       "      <td>0.948454</td>\n",
       "      <td>0.817204</td>\n",
       "      <td>0.820225</td>\n",
       "      <td>0.486486</td>\n",
       "      <td>0.848485</td>\n",
       "      <td>0.873392</td>\n",
       "      <td>0.824487</td>\n",
       "      <td>0.870000</td>\n",
       "      <td>0.847404</td>\n",
       "      <td>inception_sc-n-bp_10000_CPSC2018</td>\n",
       "    </tr>\n",
       "  </tbody>\n",
       "</table>\n",
       "</div>"
      ],
      "text/plain": [
       "   1st degree av block  atrial fibrillation  left bundle branch block  \\\n",
       "0             0.854962             0.937759                  0.918919   \n",
       "1             0.833333             0.945148                  0.923077   \n",
       "2             0.865672             0.945148                  0.850000   \n",
       "3             0.867647             0.965812                  0.950000   \n",
       "4             0.888889             0.953586                  0.904762   \n",
       "\n",
       "   premature atrial contraction  right bundle branch block  sinus rhythm  \\\n",
       "0                      0.728972                   0.923483      0.793651   \n",
       "1                      0.774775                   0.940874      0.811765   \n",
       "2                      0.782609                   0.945736      0.789189   \n",
       "3                      0.750000                   0.953608      0.802139   \n",
       "4                      0.752294                   0.948454      0.817204   \n",
       "\n",
       "   st depression  st elevation  ventricular ectopics  micro avg  macro avg  \\\n",
       "0       0.826816      0.526316              0.855422   0.858896   0.818478   \n",
       "1       0.811111      0.600000              0.833333   0.866303   0.830380   \n",
       "2       0.802198      0.512821              0.810127   0.859851   0.811500   \n",
       "3       0.808989      0.523810              0.857143   0.872727   0.831016   \n",
       "4       0.820225      0.486486              0.848485   0.873392   0.824487   \n",
       "\n",
       "   weighted avg  samples avg                        experiment  \n",
       "0      0.856420     0.834546  inception_sc-n-bp_10000_CPSC2018  \n",
       "1      0.863926     0.838428  inception_sc-n-bp_10000_CPSC2018  \n",
       "2      0.857781     0.836002  inception_sc-n-bp_10000_CPSC2018  \n",
       "3      0.871410     0.855410  inception_sc-n-bp_10000_CPSC2018  \n",
       "4      0.870000     0.847404  inception_sc-n-bp_10000_CPSC2018  "
      ]
     },
     "execution_count": 30,
     "metadata": {},
     "output_type": "execute_result"
    }
   ],
   "source": [
    "path = \"csvs/\" # use your path\n",
    "all_files = glob.glob(path + \"/inception*CPSC2018.csv\")\n",
    "li = []\n",
    "for filename in all_files:\n",
    "    df = pd.read_csv(filename, header=0)\n",
    "    df[\"experiment\"] = filename.split(\"/\")[-1].split(\".\")[0]\n",
    "    li.append(df)\n",
    "\n",
    "    \n",
    "frame = pd.concat(li, axis=0, ignore_index=True)\n",
    "frame = frame.drop(columns=frame.columns[0])\n",
    "frame.head()"
   ]
  },
  {
   "cell_type": "code",
   "execution_count": 31,
   "id": "5fa33cbd",
   "metadata": {},
   "outputs": [
    {
     "data": {
      "text/html": [
       "<div>\n",
       "<style scoped>\n",
       "    .dataframe tbody tr th:only-of-type {\n",
       "        vertical-align: middle;\n",
       "    }\n",
       "\n",
       "    .dataframe tbody tr th {\n",
       "        vertical-align: top;\n",
       "    }\n",
       "\n",
       "    .dataframe thead th {\n",
       "        text-align: right;\n",
       "    }\n",
       "</style>\n",
       "<table border=\"1\" class=\"dataframe\">\n",
       "  <thead>\n",
       "    <tr style=\"text-align: right;\">\n",
       "      <th></th>\n",
       "      <th>1st degree av block</th>\n",
       "      <th>atrial fibrillation</th>\n",
       "      <th>left bundle branch block</th>\n",
       "      <th>premature atrial contraction</th>\n",
       "      <th>right bundle branch block</th>\n",
       "      <th>sinus rhythm</th>\n",
       "      <th>st depression</th>\n",
       "      <th>st elevation</th>\n",
       "      <th>ventricular ectopics</th>\n",
       "      <th>micro avg</th>\n",
       "      <th>macro avg</th>\n",
       "      <th>weighted avg</th>\n",
       "      <th>samples avg</th>\n",
       "    </tr>\n",
       "    <tr>\n",
       "      <th>experiment</th>\n",
       "      <th></th>\n",
       "      <th></th>\n",
       "      <th></th>\n",
       "      <th></th>\n",
       "      <th></th>\n",
       "      <th></th>\n",
       "      <th></th>\n",
       "      <th></th>\n",
       "      <th></th>\n",
       "      <th></th>\n",
       "      <th></th>\n",
       "      <th></th>\n",
       "      <th></th>\n",
       "    </tr>\n",
       "  </thead>\n",
       "  <tbody>\n",
       "    <tr>\n",
       "      <th>inception_raw_10000_CPSC2018</th>\n",
       "      <td>0.860390</td>\n",
       "      <td>0.942889</td>\n",
       "      <td>0.902381</td>\n",
       "      <td>0.728972</td>\n",
       "      <td>0.946429</td>\n",
       "      <td>0.790356</td>\n",
       "      <td>0.827772</td>\n",
       "      <td>0.512821</td>\n",
       "      <td>0.810969</td>\n",
       "      <td>0.861125</td>\n",
       "      <td>0.815148</td>\n",
       "      <td>0.858535</td>\n",
       "      <td>0.834304</td>\n",
       "    </tr>\n",
       "    <tr>\n",
       "      <th>inception_sc-n-bp-sh_10000_CPSC2018</th>\n",
       "      <td>0.867950</td>\n",
       "      <td>0.943174</td>\n",
       "      <td>0.871795</td>\n",
       "      <td>0.732357</td>\n",
       "      <td>0.944941</td>\n",
       "      <td>0.790428</td>\n",
       "      <td>0.782371</td>\n",
       "      <td>0.513158</td>\n",
       "      <td>0.824623</td>\n",
       "      <td>0.857628</td>\n",
       "      <td>0.812525</td>\n",
       "      <td>0.855021</td>\n",
       "      <td>0.834182</td>\n",
       "    </tr>\n",
       "    <tr>\n",
       "      <th>inception_sc-n-bp_10000_CPSC2018</th>\n",
       "      <td>0.860317</td>\n",
       "      <td>0.945148</td>\n",
       "      <td>0.911840</td>\n",
       "      <td>0.759480</td>\n",
       "      <td>0.946151</td>\n",
       "      <td>0.806625</td>\n",
       "      <td>0.810050</td>\n",
       "      <td>0.525063</td>\n",
       "      <td>0.845929</td>\n",
       "      <td>0.863821</td>\n",
       "      <td>0.824211</td>\n",
       "      <td>0.861098</td>\n",
       "      <td>0.838185</td>\n",
       "    </tr>\n",
       "    <tr>\n",
       "      <th>inception_sc-n_10000_CPSC2018</th>\n",
       "      <td>0.861448</td>\n",
       "      <td>0.942913</td>\n",
       "      <td>0.908907</td>\n",
       "      <td>0.751311</td>\n",
       "      <td>0.947505</td>\n",
       "      <td>0.810050</td>\n",
       "      <td>0.810837</td>\n",
       "      <td>0.500000</td>\n",
       "      <td>0.830926</td>\n",
       "      <td>0.861403</td>\n",
       "      <td>0.815315</td>\n",
       "      <td>0.858093</td>\n",
       "      <td>0.839034</td>\n",
       "    </tr>\n",
       "    <tr>\n",
       "      <th>inception_sc_10000_CPSC2018</th>\n",
       "      <td>0.858305</td>\n",
       "      <td>0.941423</td>\n",
       "      <td>0.904762</td>\n",
       "      <td>0.759011</td>\n",
       "      <td>0.946015</td>\n",
       "      <td>0.803255</td>\n",
       "      <td>0.825177</td>\n",
       "      <td>0.459064</td>\n",
       "      <td>0.854540</td>\n",
       "      <td>0.865649</td>\n",
       "      <td>0.816061</td>\n",
       "      <td>0.862641</td>\n",
       "      <td>0.844614</td>\n",
       "    </tr>\n",
       "  </tbody>\n",
       "</table>\n",
       "</div>"
      ],
      "text/plain": [
       "                                     1st degree av block  atrial fibrillation  \\\n",
       "experiment                                                                      \n",
       "inception_raw_10000_CPSC2018                    0.860390             0.942889   \n",
       "inception_sc-n-bp-sh_10000_CPSC2018             0.867950             0.943174   \n",
       "inception_sc-n-bp_10000_CPSC2018                0.860317             0.945148   \n",
       "inception_sc-n_10000_CPSC2018                   0.861448             0.942913   \n",
       "inception_sc_10000_CPSC2018                     0.858305             0.941423   \n",
       "\n",
       "                                     left bundle branch block  \\\n",
       "experiment                                                      \n",
       "inception_raw_10000_CPSC2018                         0.902381   \n",
       "inception_sc-n-bp-sh_10000_CPSC2018                  0.871795   \n",
       "inception_sc-n-bp_10000_CPSC2018                     0.911840   \n",
       "inception_sc-n_10000_CPSC2018                        0.908907   \n",
       "inception_sc_10000_CPSC2018                          0.904762   \n",
       "\n",
       "                                     premature atrial contraction  \\\n",
       "experiment                                                          \n",
       "inception_raw_10000_CPSC2018                             0.728972   \n",
       "inception_sc-n-bp-sh_10000_CPSC2018                      0.732357   \n",
       "inception_sc-n-bp_10000_CPSC2018                         0.759480   \n",
       "inception_sc-n_10000_CPSC2018                            0.751311   \n",
       "inception_sc_10000_CPSC2018                              0.759011   \n",
       "\n",
       "                                     right bundle branch block  sinus rhythm  \\\n",
       "experiment                                                                     \n",
       "inception_raw_10000_CPSC2018                          0.946429      0.790356   \n",
       "inception_sc-n-bp-sh_10000_CPSC2018                   0.944941      0.790428   \n",
       "inception_sc-n-bp_10000_CPSC2018                      0.946151      0.806625   \n",
       "inception_sc-n_10000_CPSC2018                         0.947505      0.810050   \n",
       "inception_sc_10000_CPSC2018                           0.946015      0.803255   \n",
       "\n",
       "                                     st depression  st elevation  \\\n",
       "experiment                                                         \n",
       "inception_raw_10000_CPSC2018              0.827772      0.512821   \n",
       "inception_sc-n-bp-sh_10000_CPSC2018       0.782371      0.513158   \n",
       "inception_sc-n-bp_10000_CPSC2018          0.810050      0.525063   \n",
       "inception_sc-n_10000_CPSC2018             0.810837      0.500000   \n",
       "inception_sc_10000_CPSC2018               0.825177      0.459064   \n",
       "\n",
       "                                     ventricular ectopics  micro avg  \\\n",
       "experiment                                                             \n",
       "inception_raw_10000_CPSC2018                     0.810969   0.861125   \n",
       "inception_sc-n-bp-sh_10000_CPSC2018              0.824623   0.857628   \n",
       "inception_sc-n-bp_10000_CPSC2018                 0.845929   0.863821   \n",
       "inception_sc-n_10000_CPSC2018                    0.830926   0.861403   \n",
       "inception_sc_10000_CPSC2018                      0.854540   0.865649   \n",
       "\n",
       "                                     macro avg  weighted avg  samples avg  \n",
       "experiment                                                                 \n",
       "inception_raw_10000_CPSC2018          0.815148      0.858535     0.834304  \n",
       "inception_sc-n-bp-sh_10000_CPSC2018   0.812525      0.855021     0.834182  \n",
       "inception_sc-n-bp_10000_CPSC2018      0.824211      0.861098     0.838185  \n",
       "inception_sc-n_10000_CPSC2018         0.815315      0.858093     0.839034  \n",
       "inception_sc_10000_CPSC2018           0.816061      0.862641     0.844614  "
      ]
     },
     "execution_count": 31,
     "metadata": {},
     "output_type": "execute_result"
    }
   ],
   "source": [
    "frame.groupby(\"experiment\").median()"
   ]
  },
  {
   "cell_type": "markdown",
   "id": "0c7872eb",
   "metadata": {},
   "source": [
    "# CSPC + minirocket "
   ]
  },
  {
   "cell_type": "markdown",
   "id": "336c8522",
   "metadata": {},
   "source": [
    "## raw"
   ]
  },
  {
   "cell_type": "code",
   "execution_count": null,
   "id": "3c499d72",
   "metadata": {},
   "outputs": [],
   "source": [
    "max_len = 6000\n",
    "sf = 0.5\n",
    "model_type = \"minirocket\"\n",
    "data_set = \"CPSC2018\"\n",
    "processes = []\n",
    "\n",
    "batch_tfms = []\n",
    "\n",
    "processing_type = '-'.join([x for x in processes])\n",
    "if \"sc\" in processes:\n",
    "    batch_tfms.append(tfs.Scale(scale_factor=sf,))\n",
    "if \"n\" in processes:\n",
    "    batch_tfms.append(tfs.Normalize())\n",
    "if \"bp\" in processes:\n",
    "    batch_tfms.append(tfs.BandPass(int(sf*500),low_cut=50, high_cut=1,leads=12,))\n",
    "if \"sh\" in processes:\n",
    "    batch_tfms.append(tfs.RandomShift(0.1))\n",
    "if len(processes)==0:\n",
    "    processing_type = \"raw\"\n",
    "\n",
    "print(processes)\n",
    "\n",
    "tfms  = [None, TSMultiLabelClassification()]\n",
    "reports = []\n",
    "probas_list, targets_list = [],[]\n",
    "for cv_num in range(10):\n",
    "    print(cv_num)\n",
    "    fold_splits = cv_splits[cv_num]\n",
    "    dsets = TSDatasets(X.astype(float)[:,:,0:max_len], y_multi, tfms=tfms, splits=(fold_splits[0],fold_splits[2])) # inplace=True by default\n",
    "    dls   = TSDataLoaders.from_dsets(dsets.train,dsets.valid, bs=[128, 128], batch_tfms=batch_tfms, num_workers=0)\n",
    "    metrics =[accuracy_multi, balanced_accuracy_multi, precision_multi, recall_multi, specificity_multi, F1_multi] \n",
    "    \n",
    "#     model = InceptionTimePlus(dls.vars, dls.c, dls.len, depth=13, ks = 110,nf=28 )\n",
    "    model = MiniRocketPlus(dls.vars, dls.c,dls.len)\n",
    "    learn = Learner(dls, model, metrics=metrics, \n",
    "                    cbs=[ShowGraph()],\n",
    "                    model_dir=\"models/10CV/\")\n",
    "    learn.load(\"%s_%s_%s_%s_%s\"%(model_type,data_set,processing_type,max_len,cv_num))\n",
    "    valid_probas, valid_targets, valid_preds = learn.get_preds(dl=dls.valid, with_decoded=True)\n",
    "    probas_list.append(valid_probas)\n",
    "    targets_list.append(valid_targets)\n",
    "    y_pred = (valid_preds>0)\n",
    "    y_test = valid_targets\n",
    "\n",
    "    report = classification_report(y_test, y_pred,target_names = dls.vocab.o2i.keys(),digits=3,output_dict=True)\n",
    "    reports.append(report)\n",
    "\n",
    "for report in reports:\n",
    "    for k,v in report.items():\n",
    "        report[k] = report[k][\"f1-score\"]\n",
    "# df for f1\n",
    "f1_df = pd.DataFrame(reports)\n",
    "f1_df.to_csv(\"csvs/%s_%s_%s_%s.csv\"%(model_type,processing_type,max_len,DATASET_ID))\n",
    "f1.median()"
   ]
  },
  {
   "cell_type": "code",
   "execution_count": 5,
   "id": "643bae4d",
   "metadata": {},
   "outputs": [
    {
     "data": {
      "text/plain": [
       "(12, 9, 6000)"
      ]
     },
     "execution_count": 5,
     "metadata": {},
     "output_type": "execute_result"
    }
   ],
   "source": [
    "dls.vars, dls.c,dls.len"
   ]
  },
  {
   "cell_type": "code",
   "execution_count": 6,
   "id": "55b12f79",
   "metadata": {},
   "outputs": [
    {
     "data": {
      "text/plain": [
       "1st degree av block             0.811555\n",
       "atrial fibrillation             0.915462\n",
       "left bundle branch block        0.850000\n",
       "premature atrial contraction    0.372358\n",
       "right bundle branch block       0.907246\n",
       "sinus rhythm                    0.637298\n",
       "st depression                   0.730248\n",
       "st elevation                    0.305361\n",
       "ventricular ectopics            0.618402\n",
       "micro avg                       0.764165\n",
       "macro avg                       0.687524\n",
       "weighted avg                    0.753884\n",
       "samples avg                     0.706817\n",
       "dtype: float64"
      ]
     },
     "execution_count": 6,
     "metadata": {},
     "output_type": "execute_result"
    }
   ],
   "source": [
    "for report in reports:\n",
    "    for k,v in report.items():\n",
    "        report[k] = report[k][\"f1-score\"]\n",
    "# df for f1\n",
    "f1_df = pd.DataFrame(reports)\n",
    "f1_df.to_csv(\"csvs/%s_%s_%s_%s.csv\"%(model_type,processing_type,max_len,DATASET_ID))\n",
    "f1_df.median()"
   ]
  },
  {
   "cell_type": "code",
   "execution_count": 9,
   "id": "a5eb2b9b",
   "metadata": {},
   "outputs": [
    {
     "name": "stdout",
     "output_type": "stream",
     "text": [
      "['sc']\n",
      "0\n"
     ]
    },
    {
     "data": {
      "text/html": [],
      "text/plain": [
       "<IPython.core.display.HTML object>"
      ]
     },
     "metadata": {},
     "output_type": "display_data"
    },
    {
     "name": "stdout",
     "output_type": "stream",
     "text": [
      "1\n"
     ]
    },
    {
     "data": {
      "text/html": [],
      "text/plain": [
       "<IPython.core.display.HTML object>"
      ]
     },
     "metadata": {},
     "output_type": "display_data"
    },
    {
     "name": "stdout",
     "output_type": "stream",
     "text": [
      "2\n"
     ]
    },
    {
     "data": {
      "text/html": [],
      "text/plain": [
       "<IPython.core.display.HTML object>"
      ]
     },
     "metadata": {},
     "output_type": "display_data"
    },
    {
     "name": "stdout",
     "output_type": "stream",
     "text": [
      "3\n"
     ]
    },
    {
     "data": {
      "text/html": [],
      "text/plain": [
       "<IPython.core.display.HTML object>"
      ]
     },
     "metadata": {},
     "output_type": "display_data"
    },
    {
     "name": "stdout",
     "output_type": "stream",
     "text": [
      "4\n"
     ]
    },
    {
     "data": {
      "text/html": [],
      "text/plain": [
       "<IPython.core.display.HTML object>"
      ]
     },
     "metadata": {},
     "output_type": "display_data"
    },
    {
     "name": "stdout",
     "output_type": "stream",
     "text": [
      "5\n"
     ]
    },
    {
     "data": {
      "text/html": [],
      "text/plain": [
       "<IPython.core.display.HTML object>"
      ]
     },
     "metadata": {},
     "output_type": "display_data"
    },
    {
     "name": "stdout",
     "output_type": "stream",
     "text": [
      "6\n"
     ]
    },
    {
     "data": {
      "text/html": [],
      "text/plain": [
       "<IPython.core.display.HTML object>"
      ]
     },
     "metadata": {},
     "output_type": "display_data"
    },
    {
     "name": "stdout",
     "output_type": "stream",
     "text": [
      "7\n"
     ]
    },
    {
     "data": {
      "text/html": [],
      "text/plain": [
       "<IPython.core.display.HTML object>"
      ]
     },
     "metadata": {},
     "output_type": "display_data"
    },
    {
     "name": "stdout",
     "output_type": "stream",
     "text": [
      "8\n"
     ]
    },
    {
     "data": {
      "text/html": [],
      "text/plain": [
       "<IPython.core.display.HTML object>"
      ]
     },
     "metadata": {},
     "output_type": "display_data"
    },
    {
     "name": "stdout",
     "output_type": "stream",
     "text": [
      "9\n"
     ]
    },
    {
     "data": {
      "text/html": [],
      "text/plain": [
       "<IPython.core.display.HTML object>"
      ]
     },
     "metadata": {},
     "output_type": "display_data"
    },
    {
     "data": {
      "text/plain": [
       "1st degree av block             0.817344\n",
       "atrial fibrillation             0.914162\n",
       "left bundle branch block        0.886305\n",
       "premature atrial contraction    0.431193\n",
       "right bundle branch block       0.915982\n",
       "sinus rhythm                    0.693182\n",
       "st depression                   0.715839\n",
       "st elevation                    0.332895\n",
       "ventricular ectopics            0.607891\n",
       "micro avg                       0.764447\n",
       "macro avg                       0.697922\n",
       "weighted avg                    0.758933\n",
       "samples avg                     0.706914\n",
       "dtype: float64"
      ]
     },
     "execution_count": 9,
     "metadata": {},
     "output_type": "execute_result"
    }
   ],
   "source": [
    "max_len = 6000\n",
    "sf = 0.5\n",
    "model_type = \"minirocket\"\n",
    "data_set = \"CPSC2018\"\n",
    "processes = [\"sc\"]\n",
    "\n",
    "batch_tfms = []\n",
    "\n",
    "processing_type = '-'.join([x for x in processes])\n",
    "if \"sc\" in processes:\n",
    "    batch_tfms.append(tfs.Scale(scale_factor=sf,))\n",
    "if \"n\" in processes:\n",
    "    batch_tfms.append(tfs.Normalize())\n",
    "if \"bp\" in processes:\n",
    "    batch_tfms.append(tfs.BandPass(int(sf*500),low_cut=50, high_cut=1,leads=12,))\n",
    "if \"sh\" in processes:\n",
    "    batch_tfms.append(tfs.RandomShift(0.1))\n",
    "if len(processes)==0:\n",
    "    processing_type = \"raw\"\n",
    "\n",
    "print(processes)\n",
    "\n",
    "tfms  = [None, TSMultiLabelClassification()]\n",
    "reports = []\n",
    "probas_list, targets_list = [],[]\n",
    "for cv_num in range(10):\n",
    "    fold_splits = cv_splits[cv_num]\n",
    "    dsets = TSDatasets(X.astype(float)[:,:,0:max_len], y_multi, tfms=tfms, splits=(fold_splits[0],fold_splits[2])) # inplace=True by default\n",
    "    dls   = TSDataLoaders.from_dsets(dsets.train,dsets.valid, bs=[128, 128], batch_tfms=batch_tfms, num_workers=0)\n",
    "    metrics =[accuracy_multi, balanced_accuracy_multi, precision_multi, recall_multi, specificity_multi, F1_multi] \n",
    "    \n",
    "#     model = InceptionTimePlus(dls.vars, dls.c, dls.len, depth=13, ks = 110,nf=28 )\n",
    "    model = MiniRocketPlus(dls.vars, dls.c,dls.len)\n",
    "    learn = Learner(dls, model, metrics=metrics, \n",
    "                    cbs=[ShowGraph()],\n",
    "                    model_dir=\"models/10CV/\")\n",
    "    learn.load(\"%s_%s_%s_%s_%s\"%(model_type,data_set,processing_type,max_len,cv_num))\n",
    "    valid_probas, valid_targets, valid_preds = learn.get_preds(dl=dls.valid, with_decoded=True)\n",
    "    probas_list.append(valid_probas)\n",
    "    targets_list.append(valid_targets)\n",
    "    y_pred = (valid_preds>0)\n",
    "    y_test = valid_targets\n",
    "\n",
    "    report = classification_report(y_test, y_pred,target_names = dls.vocab.o2i.keys(),digits=3,output_dict=True)\n",
    "    reports.append(report)\n",
    "\n",
    "for report in reports:\n",
    "    for k,v in report.items():\n",
    "        report[k] = report[k][\"f1-score\"]\n",
    "# df for f1\n",
    "f1_df = pd.DataFrame(reports)\n",
    "f1_df.to_csv(\"csvs/%s_%s_%s_%s.csv\"%(model_type,processing_type,max_len,DATASET_ID))\n",
    "f1_df.median()"
   ]
  },
  {
   "cell_type": "code",
   "execution_count": 14,
   "id": "aaeee0f0",
   "metadata": {},
   "outputs": [
    {
     "name": "stdout",
     "output_type": "stream",
     "text": [
      "['sc', 'n']\n"
     ]
    },
    {
     "data": {
      "text/html": [],
      "text/plain": [
       "<IPython.core.display.HTML object>"
      ]
     },
     "metadata": {},
     "output_type": "display_data"
    },
    {
     "data": {
      "text/html": [],
      "text/plain": [
       "<IPython.core.display.HTML object>"
      ]
     },
     "metadata": {},
     "output_type": "display_data"
    },
    {
     "data": {
      "text/html": [],
      "text/plain": [
       "<IPython.core.display.HTML object>"
      ]
     },
     "metadata": {},
     "output_type": "display_data"
    },
    {
     "data": {
      "text/html": [],
      "text/plain": [
       "<IPython.core.display.HTML object>"
      ]
     },
     "metadata": {},
     "output_type": "display_data"
    },
    {
     "data": {
      "text/html": [],
      "text/plain": [
       "<IPython.core.display.HTML object>"
      ]
     },
     "metadata": {},
     "output_type": "display_data"
    },
    {
     "data": {
      "text/html": [],
      "text/plain": [
       "<IPython.core.display.HTML object>"
      ]
     },
     "metadata": {},
     "output_type": "display_data"
    },
    {
     "data": {
      "text/html": [],
      "text/plain": [
       "<IPython.core.display.HTML object>"
      ]
     },
     "metadata": {},
     "output_type": "display_data"
    },
    {
     "data": {
      "text/html": [],
      "text/plain": [
       "<IPython.core.display.HTML object>"
      ]
     },
     "metadata": {},
     "output_type": "display_data"
    },
    {
     "data": {
      "text/html": [],
      "text/plain": [
       "<IPython.core.display.HTML object>"
      ]
     },
     "metadata": {},
     "output_type": "display_data"
    },
    {
     "data": {
      "text/html": [],
      "text/plain": [
       "<IPython.core.display.HTML object>"
      ]
     },
     "metadata": {},
     "output_type": "display_data"
    },
    {
     "data": {
      "text/plain": [
       "1st degree av block             0.811152\n",
       "atrial fibrillation             0.909481\n",
       "left bundle branch block        0.839634\n",
       "premature atrial contraction    0.405357\n",
       "right bundle branch block       0.911876\n",
       "sinus rhythm                    0.703146\n",
       "st depression                   0.739957\n",
       "st elevation                    0.329823\n",
       "ventricular ectopics            0.638984\n",
       "micro avg                       0.770334\n",
       "macro avg                       0.701077\n",
       "weighted avg                    0.764967\n",
       "samples avg                     0.713464\n",
       "dtype: float64"
      ]
     },
     "execution_count": 14,
     "metadata": {},
     "output_type": "execute_result"
    }
   ],
   "source": [
    "max_len = 6000\n",
    "sf = 0.5\n",
    "model_type = \"minirocket\"\n",
    "data_set = \"CPSC2018\"\n",
    "processes = [\"sc\",\"n\"]\n",
    "\n",
    "batch_tfms = []\n",
    "\n",
    "processing_type = '-'.join([x for x in processes])\n",
    "if \"sc\" in processes:\n",
    "    batch_tfms.append(tfs.Scale(scale_factor=sf,))\n",
    "if \"n\" in processes:\n",
    "    batch_tfms.append(tfs.Normalize())\n",
    "if \"bp\" in processes:\n",
    "    batch_tfms.append(tfs.BandPass(int(sf*500),low_cut=50, high_cut=1,leads=12,))\n",
    "if \"sh\" in processes:\n",
    "    batch_tfms.append(tfs.RandomShift(0.1))\n",
    "if len(processes)==0:\n",
    "    processing_type = \"raw\"\n",
    "\n",
    "print(processes)\n",
    "\n",
    "tfms  = [None, TSMultiLabelClassification()]\n",
    "reports = []\n",
    "probas_list, targets_list = [],[]\n",
    "for cv_num in range(10):\n",
    "    fold_splits = cv_splits[cv_num]\n",
    "    dsets = TSDatasets(X.astype(float)[:,:,0:max_len], y_multi, tfms=tfms, splits=(fold_splits[0],fold_splits[2])) # inplace=True by default\n",
    "    dls   = TSDataLoaders.from_dsets(dsets.train,dsets.valid, bs=[128, 128], batch_tfms=batch_tfms, num_workers=0)\n",
    "    metrics =[accuracy_multi, balanced_accuracy_multi, precision_multi, recall_multi, specificity_multi, F1_multi] \n",
    "    \n",
    "#     model = InceptionTimePlus(dls.vars, dls.c, dls.len, depth=13, ks = 110,nf=28 )\n",
    "    model = MiniRocketPlus(dls.vars, dls.c,dls.len)\n",
    "    learn = Learner(dls, model, metrics=metrics, \n",
    "                    cbs=[ShowGraph()],\n",
    "                    model_dir=\"models/10CV/\")\n",
    "    learn.load(\"%s_%s_%s_%s_%s\"%(model_type,data_set,processing_type,max_len,cv_num))\n",
    "    valid_probas, valid_targets, valid_preds = learn.get_preds(dl=dls.valid, with_decoded=True)\n",
    "    probas_list.append(valid_probas)\n",
    "    targets_list.append(valid_targets)\n",
    "    y_pred = (valid_preds>0)\n",
    "    y_test = valid_targets\n",
    "\n",
    "    report = classification_report(y_test, y_pred,target_names = dls.vocab.o2i.keys(),digits=3,output_dict=True)\n",
    "    reports.append(report)\n",
    "\n",
    "for report in reports:\n",
    "    for k,v in report.items():\n",
    "        report[k] = report[k][\"f1-score\"]\n",
    "# df for f1\n",
    "f1_df = pd.DataFrame(reports)\n",
    "f1_df.to_csv(\"csvs/%s_%s_%s_%s.csv\"%(model_type,processing_type,max_len,DATASET_ID))\n",
    "f1_df.median()"
   ]
  },
  {
   "cell_type": "code",
   "execution_count": null,
   "id": "e29e7ace",
   "metadata": {},
   "outputs": [],
   "source": []
  },
  {
   "cell_type": "code",
   "execution_count": 10,
   "id": "3c9da546",
   "metadata": {},
   "outputs": [
    {
     "name": "stdout",
     "output_type": "stream",
     "text": [
      "['sc', 'n', 'bp']\n"
     ]
    },
    {
     "data": {
      "text/html": [],
      "text/plain": [
       "<IPython.core.display.HTML object>"
      ]
     },
     "metadata": {},
     "output_type": "display_data"
    },
    {
     "data": {
      "text/html": [],
      "text/plain": [
       "<IPython.core.display.HTML object>"
      ]
     },
     "metadata": {},
     "output_type": "display_data"
    },
    {
     "data": {
      "text/html": [],
      "text/plain": [
       "<IPython.core.display.HTML object>"
      ]
     },
     "metadata": {},
     "output_type": "display_data"
    },
    {
     "data": {
      "text/html": [],
      "text/plain": [
       "<IPython.core.display.HTML object>"
      ]
     },
     "metadata": {},
     "output_type": "display_data"
    },
    {
     "data": {
      "text/html": [],
      "text/plain": [
       "<IPython.core.display.HTML object>"
      ]
     },
     "metadata": {},
     "output_type": "display_data"
    },
    {
     "data": {
      "text/html": [],
      "text/plain": [
       "<IPython.core.display.HTML object>"
      ]
     },
     "metadata": {},
     "output_type": "display_data"
    },
    {
     "data": {
      "text/html": [],
      "text/plain": [
       "<IPython.core.display.HTML object>"
      ]
     },
     "metadata": {},
     "output_type": "display_data"
    },
    {
     "data": {
      "text/html": [],
      "text/plain": [
       "<IPython.core.display.HTML object>"
      ]
     },
     "metadata": {},
     "output_type": "display_data"
    },
    {
     "data": {
      "text/html": [],
      "text/plain": [
       "<IPython.core.display.HTML object>"
      ]
     },
     "metadata": {},
     "output_type": "display_data"
    },
    {
     "data": {
      "text/html": [],
      "text/plain": [
       "<IPython.core.display.HTML object>"
      ]
     },
     "metadata": {},
     "output_type": "display_data"
    },
    {
     "data": {
      "text/plain": [
       "1st degree av block             0.802699\n",
       "atrial fibrillation             0.909084\n",
       "left bundle branch block        0.850000\n",
       "premature atrial contraction    0.453288\n",
       "right bundle branch block       0.902390\n",
       "sinus rhythm                    0.693338\n",
       "st depression                   0.731317\n",
       "st elevation                    0.352564\n",
       "ventricular ectopics            0.644841\n",
       "micro avg                       0.770774\n",
       "macro avg                       0.700076\n",
       "weighted avg                    0.760271\n",
       "samples avg                     0.719772\n",
       "dtype: float64"
      ]
     },
     "execution_count": 10,
     "metadata": {},
     "output_type": "execute_result"
    }
   ],
   "source": [
    "max_len = 6000\n",
    "sf = 0.5\n",
    "model_type = \"minirocket\"\n",
    "data_set = \"CPSC2018\"\n",
    "processes = [\"sc\",\"n\",\"bp\",]\n",
    "\n",
    "batch_tfms = []\n",
    "\n",
    "processing_type = '-'.join([x for x in processes])\n",
    "if \"sc\" in processes:\n",
    "    batch_tfms.append(tfs.Scale(scale_factor=sf,))\n",
    "if \"n\" in processes:\n",
    "    batch_tfms.append(tfs.Normalize())\n",
    "if \"bp\" in processes:\n",
    "    batch_tfms.append(tfs.BandPass(int(sf*500),low_cut=50, high_cut=1,leads=12,))\n",
    "if \"sh\" in processes:\n",
    "    batch_tfms.append(tfs.RandomShift(0.1))\n",
    "if len(processes)==0:\n",
    "    processing_type = \"raw\"\n",
    "\n",
    "print(processes)\n",
    "\n",
    "tfms  = [None, TSMultiLabelClassification()]\n",
    "reports = []\n",
    "probas_list, targets_list = [],[]\n",
    "for cv_num in range(10):\n",
    "    fold_splits = cv_splits[cv_num]\n",
    "    dsets = TSDatasets(X.astype(float)[:,:,0:max_len], y_multi, tfms=tfms, splits=(fold_splits[0],fold_splits[2])) # inplace=True by default\n",
    "    dls   = TSDataLoaders.from_dsets(dsets.train,dsets.valid, bs=[128, 128], batch_tfms=batch_tfms, num_workers=0)\n",
    "    metrics =[accuracy_multi, balanced_accuracy_multi, precision_multi, recall_multi, specificity_multi, F1_multi] \n",
    "    \n",
    "#     model = InceptionTimePlus(dls.vars, dls.c, dls.len, depth=13, ks = 110,nf=28 )\n",
    "    model = MiniRocketPlus(dls.vars, dls.c,dls.len)\n",
    "    learn = Learner(dls, model, metrics=metrics, \n",
    "                    cbs=[ShowGraph()],\n",
    "                    model_dir=\"models/10CV/\")\n",
    "    learn.load(\"%s_%s_%s_%s_%s\"%(model_type,data_set,processing_type,max_len,cv_num))\n",
    "    valid_probas, valid_targets, valid_preds = learn.get_preds(dl=dls.valid, with_decoded=True)\n",
    "    probas_list.append(valid_probas)\n",
    "    targets_list.append(valid_targets)\n",
    "    y_pred = (valid_preds>0)\n",
    "    y_test = valid_targets\n",
    "\n",
    "    report = classification_report(y_test, y_pred,target_names = dls.vocab.o2i.keys(),digits=3,output_dict=True)\n",
    "    reports.append(report)\n",
    "\n",
    "for report in reports:\n",
    "    for k,v in report.items():\n",
    "        report[k] = report[k][\"f1-score\"]\n",
    "# df for f1\n",
    "f1_df = pd.DataFrame(reports)\n",
    "f1_df.to_csv(\"csvs/%s_%s_%s_%s.csv\"%(model_type,processing_type,max_len,DATASET_ID))\n",
    "f1_df.median()"
   ]
  },
  {
   "cell_type": "code",
   "execution_count": null,
   "id": "0bbfd8b5",
   "metadata": {},
   "outputs": [],
   "source": []
  },
  {
   "cell_type": "code",
   "execution_count": 11,
   "id": "1d0eaa93",
   "metadata": {},
   "outputs": [
    {
     "name": "stdout",
     "output_type": "stream",
     "text": [
      "['sc', 'n', 'bp', 'sh']\n"
     ]
    },
    {
     "data": {
      "text/html": [],
      "text/plain": [
       "<IPython.core.display.HTML object>"
      ]
     },
     "metadata": {},
     "output_type": "display_data"
    },
    {
     "data": {
      "text/html": [],
      "text/plain": [
       "<IPython.core.display.HTML object>"
      ]
     },
     "metadata": {},
     "output_type": "display_data"
    },
    {
     "data": {
      "text/html": [],
      "text/plain": [
       "<IPython.core.display.HTML object>"
      ]
     },
     "metadata": {},
     "output_type": "display_data"
    },
    {
     "data": {
      "text/html": [],
      "text/plain": [
       "<IPython.core.display.HTML object>"
      ]
     },
     "metadata": {},
     "output_type": "display_data"
    },
    {
     "data": {
      "text/html": [],
      "text/plain": [
       "<IPython.core.display.HTML object>"
      ]
     },
     "metadata": {},
     "output_type": "display_data"
    },
    {
     "data": {
      "text/html": [],
      "text/plain": [
       "<IPython.core.display.HTML object>"
      ]
     },
     "metadata": {},
     "output_type": "display_data"
    },
    {
     "data": {
      "text/html": [],
      "text/plain": [
       "<IPython.core.display.HTML object>"
      ]
     },
     "metadata": {},
     "output_type": "display_data"
    },
    {
     "data": {
      "text/html": [],
      "text/plain": [
       "<IPython.core.display.HTML object>"
      ]
     },
     "metadata": {},
     "output_type": "display_data"
    },
    {
     "data": {
      "text/html": [],
      "text/plain": [
       "<IPython.core.display.HTML object>"
      ]
     },
     "metadata": {},
     "output_type": "display_data"
    },
    {
     "data": {
      "text/html": [],
      "text/plain": [
       "<IPython.core.display.HTML object>"
      ]
     },
     "metadata": {},
     "output_type": "display_data"
    },
    {
     "data": {
      "text/plain": [
       "1st degree av block             0.830852\n",
       "atrial fibrillation             0.915230\n",
       "left bundle branch block        0.889229\n",
       "premature atrial contraction    0.467428\n",
       "right bundle branch block       0.906961\n",
       "sinus rhythm                    0.697793\n",
       "st depression                   0.746384\n",
       "st elevation                    0.428105\n",
       "ventricular ectopics            0.672792\n",
       "micro avg                       0.784053\n",
       "macro avg                       0.725375\n",
       "weighted avg                    0.778323\n",
       "samples avg                     0.733358\n",
       "dtype: float64"
      ]
     },
     "execution_count": 11,
     "metadata": {},
     "output_type": "execute_result"
    }
   ],
   "source": [
    "max_len = 6000\n",
    "sf = 0.5\n",
    "model_type = \"minirocket\"\n",
    "data_set = \"CPSC2018\"\n",
    "processes = [\"sc\",\"n\",\"bp\",\"sh\"]\n",
    "\n",
    "batch_tfms = []\n",
    "\n",
    "processing_type = '-'.join([x for x in processes])\n",
    "if \"sc\" in processes:\n",
    "    batch_tfms.append(tfs.Scale(scale_factor=sf,))\n",
    "if \"n\" in processes:\n",
    "    batch_tfms.append(tfs.Normalize())\n",
    "if \"bp\" in processes:\n",
    "    batch_tfms.append(tfs.BandPass(int(sf*500),low_cut=50, high_cut=1,leads=12,))\n",
    "if \"sh\" in processes:\n",
    "    batch_tfms.append(tfs.RandomShift(0.1))\n",
    "if len(processes)==0:\n",
    "    processing_type = \"raw\"\n",
    "\n",
    "print(processes)\n",
    "\n",
    "tfms  = [None, TSMultiLabelClassification()]\n",
    "reports = []\n",
    "probas_list, targets_list = [],[]\n",
    "for cv_num in range(10):\n",
    "    fold_splits = cv_splits[cv_num]\n",
    "    dsets = TSDatasets(X.astype(float)[:,:,0:max_len], y_multi, tfms=tfms, splits=(fold_splits[0],fold_splits[2])) # inplace=True by default\n",
    "    dls   = TSDataLoaders.from_dsets(dsets.train,dsets.valid, bs=[128, 128], batch_tfms=batch_tfms, num_workers=0)\n",
    "    metrics =[accuracy_multi, balanced_accuracy_multi, precision_multi, recall_multi, specificity_multi, F1_multi] \n",
    "    \n",
    "#     model = InceptionTimePlus(dls.vars, dls.c, dls.len, depth=13, ks = 110,nf=28 )\n",
    "    model = MiniRocketPlus(dls.vars, dls.c,dls.len)\n",
    "    learn = Learner(dls, model, metrics=metrics, \n",
    "                    cbs=[ShowGraph()],\n",
    "                    model_dir=\"models/10CV/\")\n",
    "    learn.load(\"%s_%s_%s_%s_%s\"%(model_type,data_set,processing_type,max_len,cv_num))\n",
    "    valid_probas, valid_targets, valid_preds = learn.get_preds(dl=dls.valid, with_decoded=True)\n",
    "    probas_list.append(valid_probas)\n",
    "    targets_list.append(valid_targets)\n",
    "    y_pred = (valid_preds>0)\n",
    "    y_test = valid_targets\n",
    "\n",
    "    report = classification_report(y_test, y_pred,target_names = dls.vocab.o2i.keys(),digits=3,output_dict=True)\n",
    "    reports.append(report)\n",
    "\n",
    "for report in reports:\n",
    "    for k,v in report.items():\n",
    "        report[k] = report[k][\"f1-score\"]\n",
    "# df for f1\n",
    "f1_df = pd.DataFrame(reports)\n",
    "f1_df.to_csv(\"csvs/%s_%s_%s_%s.csv\"%(model_type,processing_type,max_len,DATASET_ID))\n",
    "f1_df.median()"
   ]
  }
 ],
 "metadata": {
  "kernelspec": {
   "display_name": "Python 3",
   "language": "python",
   "name": "python3"
  },
  "language_info": {
   "codemirror_mode": {
    "name": "ipython",
    "version": 3
   },
   "file_extension": ".py",
   "mimetype": "text/x-python",
   "name": "python",
   "nbconvert_exporter": "python",
   "pygments_lexer": "ipython3",
   "version": "3.8.5"
  }
 },
 "nbformat": 4,
 "nbformat_minor": 5
}
