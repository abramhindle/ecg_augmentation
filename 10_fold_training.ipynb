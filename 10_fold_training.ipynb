{
 "cells": [
  {
   "cell_type": "code",
   "execution_count": 294,
   "id": "212dedf4",
   "metadata": {},
   "outputs": [],
   "source": [
    "from helper_code import *\n",
    "import numpy as np, os, sys, joblib\n",
    "import ecg_plot\n",
    "import pandas as pd\n",
    "from glob import glob\n",
    "import os\n",
    "from torch.utils.data import Dataset, DataLoader\n",
    "from sklearn.model_selection import train_test_split\n",
    "from tsai.all import *\n",
    "import torch\n",
    "import optuna\n",
    "from optuna.integration import FastAIPruningCallback\n",
    "from sklearn.metrics import classification_report\n",
    "import transformation_funcs as tfs\n",
    "import seaborn as sns\n",
    "from torchsummary import summary\n",
    "torch.cuda.set_device(0) "
   ]
  },
  {
   "cell_type": "code",
   "execution_count": 295,
   "id": "75d31fae",
   "metadata": {},
   "outputs": [],
   "source": [
    "def snomedConvert(label_df,snomed=True):\n",
    "    codes =  pd.read_csv(\"data/codes.csv\",sep=\";\")[[\"Dx\",\"SNOMED CT Code\"]]\n",
    "    if snomed:\n",
    "        label_df.columns = [codes[codes[\"SNOMED CT Code\"] == int(x)][\"Dx\"].item() for x in label_df.columns]\n",
    "        return label_df\n",
    "DATASET_NAME = \"WFDB_CPSC2018_signitured\"\n",
    "X = np.load('./data/big_numpy_datasets/%s.npy'%DATASET_NAME, mmap_mode='c')\n",
    "label_df = pd.read_csv(\"data/%s.csv\"%DATASET_NAME).drop(columns=[\"headers\",\"leads\"])\n",
    "y = snomedConvert(label_df)\n"
   ]
  },
  {
   "cell_type": "code",
   "execution_count": 296,
   "id": "ad921647",
   "metadata": {},
   "outputs": [
    {
     "data": {
      "image/png": "[encoded data removed]",
      "text/plain": [
       "<Figure size 1152x360 with 1 Axes>"
      ]
     },
     "metadata": {
      "needs_background": "light"
     },
     "output_type": "display_data"
    },
    {
     "name": "stdout",
     "output_type": "stream",
     "text": [
      "Counts by label: {'right bundle branch block': 1857, 'sinus rhythm': 918, 'atrial fibrillation': 1221, 'ventricular ectopics': 700, 'st depression': 869, 'left bundle branch block': 236, 'st elevation': 220, '1st degree av block': 722, 'premature atrial contraction': 616}\n"
     ]
    }
   ],
   "source": [
    "\n",
    "cv_splits = get_splits(y.to_numpy(), n_splits = 10, valid_size=.1,test_size=0.1, stratify=False, random_state=23, shuffle=True)\n",
    "y_multi = []\n",
    "for i,row in y.iterrows():\n",
    "    sample_labels = []\n",
    "    for i,r in enumerate(row):\n",
    "        if r == True:\n",
    "            sample_labels.append(y.columns[i])\n",
    "        \n",
    "    y_multi.append(list(tuple(sample_labels)))\n",
    "label_counts = collections.Counter([a for r in y_multi for a in r])\n",
    "print('Counts by label:', dict(label_counts))"
   ]
  },
  {
   "cell_type": "code",
   "execution_count": null,
   "id": "ad909584",
   "metadata": {},
   "outputs": [],
   "source": [
    "max_len = 5000\n",
    "sf = 0.3\n",
    "tfms  = [None, TSMultiLabelClassification()]\n",
    "batch_tfms = [\n",
    "#              TSStandardize(by_sample=True),\n",
    "                tfs.Scale(scale_factor=sf,),\n",
    "                tfs.Normalize(),\n",
    "                tfs.BandPass(int(sf*500),low_cut=50, high_cut=1,leads=12,),\n",
    "                tfs.RandomShift(0.1),\n",
    "#                 tfs.MulNoise(6),\n",
    "#                 tfs.CutOutWhenTraining(),\n",
    "             ]\n",
    "for cv_num in range(5):\n",
    "#     cv_num = cv_num + 5\n",
    "    dsets = TSDatasets(X.astype(float)[:,:,0:max_len], y_multi, tfms=tfms, splits=cv_splits[cv_num]) # inplace=True by default\n",
    "    dls   = TSDataLoaders.from_dsets(dsets.train,dsets.valid, bs=[64, 128], batch_tfms=batch_tfms, num_workers=0)\n",
    "    metrics =[accuracy_multi, balanced_accuracy_multi, precision_multi, recall_multi, specificity_multi, F1_multi] \n",
    "    # model = MiniRocketPlus(dls.vars, dls.c,2500)\n",
    "    model = InceptionTimePlus(dls.vars, dls.c, dls.len, depth=8,ks = 120 )\n",
    "    # try : loss_func = BCEWithLogitsLossFlat(pos_weight=dls.train.cws.sqrt())\n",
    "    \n",
    "    learn = Learner(dls, model, metrics=metrics,\n",
    "#                     opt_func = wrap_optimizer(torch.optim.Adam,weight_decay=6.614e-07),\n",
    "                    cbs=[ShowGraph(),SaveModelCallback(monitor=\"F1_multi\",fname=\"inception_augmented_%s_%s\"%max_len,cv_num)],\n",
    "                    model_dir=\"models/10CV/\")\n",
    "    learn.fit_one_cycle(300, lr_max=0.008)\n",
    "    learn.recorder.plot_metrics()"
   ]
  },
  {
   "cell_type": "markdown",
   "id": "6d749902",
   "metadata": {},
   "source": [
    "### check f1s"
   ]
  },
  {
   "cell_type": "code",
   "execution_count": 312,
   "id": "cbfe187f",
   "metadata": {},
   "outputs": [
    {
     "data": {
      "text/html": [],
      "text/plain": [
       "<IPython.core.display.HTML object>"
      ]
     },
     "metadata": {},
     "output_type": "display_data"
    },
    {
     "data": {
      "text/html": [],
      "text/plain": [
       "<IPython.core.display.HTML object>"
      ]
     },
     "metadata": {},
     "output_type": "display_data"
    },
    {
     "data": {
      "text/html": [],
      "text/plain": [
       "<IPython.core.display.HTML object>"
      ]
     },
     "metadata": {},
     "output_type": "display_data"
    },
    {
     "data": {
      "text/html": [],
      "text/plain": [
       "<IPython.core.display.HTML object>"
      ]
     },
     "metadata": {},
     "output_type": "display_data"
    },
    {
     "data": {
      "text/html": [],
      "text/plain": [
       "<IPython.core.display.HTML object>"
      ]
     },
     "metadata": {},
     "output_type": "display_data"
    },
    {
     "data": {
      "text/html": [],
      "text/plain": [
       "<IPython.core.display.HTML object>"
      ]
     },
     "metadata": {},
     "output_type": "display_data"
    },
    {
     "data": {
      "text/html": [],
      "text/plain": [
       "<IPython.core.display.HTML object>"
      ]
     },
     "metadata": {},
     "output_type": "display_data"
    },
    {
     "data": {
      "text/html": [],
      "text/plain": [
       "<IPython.core.display.HTML object>"
      ]
     },
     "metadata": {},
     "output_type": "display_data"
    },
    {
     "data": {
      "text/html": [],
      "text/plain": [
       "<IPython.core.display.HTML object>"
      ]
     },
     "metadata": {},
     "output_type": "display_data"
    },
    {
     "data": {
      "text/html": [],
      "text/plain": [
       "<IPython.core.display.HTML object>"
      ]
     },
     "metadata": {},
     "output_type": "display_data"
    }
   ],
   "source": [
    "\n",
    "batch_tfms = [\n",
    "#              TSStandardize(by_sample=True),\n",
    "                tfs.Scale(scale_factor=sf,),\n",
    "                tfs.Normalize(),\n",
    "                tfs.BandPass(int(sf*500),low_cut=50, high_cut=1,leads=12,),\n",
    "#                 tfs.RandomShift(0.1),\n",
    "#                 tfs.MulNoise(6),\n",
    "#                 tfs.CutOutWhenTraining(),\n",
    "             ]\n",
    "reports = []\n",
    "for cv_num in range(10):\n",
    "    fold_splits = cv_splits[cv_num]\n",
    "    dsets = TSDatasets(X.astype(float)[:,:,0:max_len], y_multi, tfms=tfms, splits=(fold_splits[0],fold_splits[2])) # inplace=True by default\n",
    "    dls   = TSDataLoaders.from_dsets(dsets.train,dsets.valid, bs=[128, 128], batch_tfms=batch_tfms, num_workers=0)\n",
    "    model = InceptionTimePlus(dls.vars, dls.c, dls.len, depth=8,ks=120)\n",
    "    learn = Learner(dls, model, metrics=metrics, \n",
    "                    cbs=[ShowGraph()],\n",
    "                    model_dir=\"models/10CV/\")\n",
    "    learn.load(\"inception_augmented_%s\"%cv_num)\n",
    "    valid_probas, valid_targets, valid_preds = learn.get_preds(dl=dls.valid, with_decoded=True)\n",
    "\n",
    "    y_pred = (valid_preds>0)\n",
    "    y_test = valid_targets\n",
    "\n",
    "    report = classification_report(y_test, y_pred,target_names = dls.vocab.o2i.keys(),digits=3,output_dict=True)\n",
    "    reports.append(report)"
   ]
  },
  {
   "cell_type": "code",
   "execution_count": 301,
   "id": "c17ea8b5",
   "metadata": {},
   "outputs": [
    {
     "data": {
      "text/plain": [
       "1st degree av block             0.857143\n",
       "atrial fibrillation             0.947574\n",
       "left bundle branch block        0.926829\n",
       "premature atrial contraction    0.684753\n",
       "right bundle branch block       0.938615\n",
       "sinus rhythm                    0.751177\n",
       "st depression                   0.796537\n",
       "st elevation                    0.494444\n",
       "ventricular ectopics            0.787097\n",
       "micro avg                       0.848566\n",
       "macro avg                       0.798919\n",
       "weighted avg                    0.843962\n",
       "samples avg                     0.820718\n",
       "dtype: float64"
      ]
     },
     "execution_count": 301,
     "metadata": {},
     "output_type": "execute_result"
    }
   ],
   "source": [
    "for report in reports:\n",
    "    for k,v in report.items():\n",
    "        report[k] = report[k][\"f1-score\"]\n",
    "pd.DataFrame(reports).median()"
   ]
  },
  {
   "cell_type": "code",
   "execution_count": 306,
   "id": "4688c81a",
   "metadata": {},
   "outputs": [
    {
     "data": {
      "text/plain": [
       "[('AF', 0.9475738396624472),\n",
       " ('I-AVB', 0.857142857142857),\n",
       " ('LBBB', 0.9268292682926829),\n",
       " ('PAC', 0.6847527472527473),\n",
       " ('PVC', 0.7870967741935484),\n",
       " ('RBBB', 0.9386153121565755),\n",
       " ('STD', 0.7965372232078323),\n",
       " ('STE', 0.49444444444444446),\n",
       " ('macro avg', 0.7989188534643077),\n",
       " ('micro avg', 0.8485664033055083),\n",
       " ('normal', 0.751177394034537),\n",
       " ('samples avg', 0.8207180980106743),\n",
       " ('weighted avg', 0.8439618361186179)]"
      ]
     },
     "execution_count": 306,
     "metadata": {},
     "output_type": "execute_result"
    }
   ],
   "source": [
    "def label_convert(label):\n",
    "    mapping = {'1st degree av block':\"I-AVB\",\n",
    "    'atrial fibrillation':\"AF\",\n",
    "    'left bundle branch block':\"LBBB\",\n",
    "    'premature atrial contraction':\"PAC\",\n",
    "    'right bundle branch block':\"RBBB\",\n",
    "    'sinus rhythm':\"normal\",\n",
    "    'st depression':\"STD\",\n",
    "    'st elevation':\"STE\",\n",
    "    'ventricular ectopics':\"PVC\"}\n",
    "    try: \n",
    "        return mapping[label]\n",
    "    except:\n",
    "        return label\n",
    "df = pd.DataFrame(reports)\n",
    "df.columns = [label_convert(x) for x in df.columns]\n",
    "sorted(dict(df[df.columns].median()).items())"
   ]
  },
  {
   "cell_type": "code",
   "execution_count": 311,
   "id": "35c65b45",
   "metadata": {},
   "outputs": [
    {
     "data": {
      "text/html": [
       "<div>\n",
       "<style scoped>\n",
       "    .dataframe tbody tr th:only-of-type {\n",
       "        vertical-align: middle;\n",
       "    }\n",
       "\n",
       "    .dataframe tbody tr th {\n",
       "        vertical-align: top;\n",
       "    }\n",
       "\n",
       "    .dataframe thead th {\n",
       "        text-align: right;\n",
       "    }\n",
       "</style>\n",
       "<table border=\"1\" class=\"dataframe\">\n",
       "  <thead>\n",
       "    <tr style=\"text-align: right;\">\n",
       "      <th></th>\n",
       "      <th>winner_ensemble</th>\n",
       "      <th>winner</th>\n",
       "      <th>inception_augmented</th>\n",
       "      <th>inception_scaled_only</th>\n",
       "      <th>inception_normal_only</th>\n",
       "      <th>performance</th>\n",
       "    </tr>\n",
       "  </thead>\n",
       "  <tbody>\n",
       "    <tr>\n",
       "      <th>AF</th>\n",
       "      <td>0.933</td>\n",
       "      <td>0.897</td>\n",
       "      <td>0.947574</td>\n",
       "      <td>0.942929</td>\n",
       "      <td>0.930537</td>\n",
       "      <td>True</td>\n",
       "    </tr>\n",
       "    <tr>\n",
       "      <th>I-AVB</th>\n",
       "      <td>0.875</td>\n",
       "      <td>0.865</td>\n",
       "      <td>0.857143</td>\n",
       "      <td>0.846465</td>\n",
       "      <td>0.846465</td>\n",
       "      <td>False</td>\n",
       "    </tr>\n",
       "    <tr>\n",
       "      <th>LBBB</th>\n",
       "      <td>0.884</td>\n",
       "      <td>0.821</td>\n",
       "      <td>0.926829</td>\n",
       "      <td>0.871795</td>\n",
       "      <td>0.871795</td>\n",
       "      <td>True</td>\n",
       "    </tr>\n",
       "    <tr>\n",
       "      <th>PAC</th>\n",
       "      <td>0.826</td>\n",
       "      <td>0.734</td>\n",
       "      <td>0.684753</td>\n",
       "      <td>0.454995</td>\n",
       "      <td>0.388295</td>\n",
       "      <td>False</td>\n",
       "    </tr>\n",
       "    <tr>\n",
       "      <th>PVC</th>\n",
       "      <td>0.869</td>\n",
       "      <td>0.852</td>\n",
       "      <td>0.787097</td>\n",
       "      <td>0.686306</td>\n",
       "      <td>0.673146</td>\n",
       "      <td>False</td>\n",
       "    </tr>\n",
       "    <tr>\n",
       "      <th>RBBB</th>\n",
       "      <td>0.910</td>\n",
       "      <td>0.911</td>\n",
       "      <td>0.938615</td>\n",
       "      <td>0.936772</td>\n",
       "      <td>0.935407</td>\n",
       "      <td>True</td>\n",
       "    </tr>\n",
       "    <tr>\n",
       "      <th>STD</th>\n",
       "      <td>0.811</td>\n",
       "      <td>0.788</td>\n",
       "      <td>0.796537</td>\n",
       "      <td>0.765686</td>\n",
       "      <td>0.750875</td>\n",
       "      <td>True</td>\n",
       "    </tr>\n",
       "    <tr>\n",
       "      <th>STE</th>\n",
       "      <td>0.624</td>\n",
       "      <td>0.509</td>\n",
       "      <td>0.494444</td>\n",
       "      <td>0.467852</td>\n",
       "      <td>0.438438</td>\n",
       "      <td>False</td>\n",
       "    </tr>\n",
       "    <tr>\n",
       "      <th>normal</th>\n",
       "      <td>0.808</td>\n",
       "      <td>0.795</td>\n",
       "      <td>0.751177</td>\n",
       "      <td>0.697025</td>\n",
       "      <td>0.719006</td>\n",
       "      <td>False</td>\n",
       "    </tr>\n",
       "  </tbody>\n",
       "</table>\n",
       "</div>"
      ],
      "text/plain": [
       "        winner_ensemble  winner  inception_augmented  inception_scaled_only  \\\n",
       "AF                0.933   0.897             0.947574               0.942929   \n",
       "I-AVB             0.875   0.865             0.857143               0.846465   \n",
       "LBBB              0.884   0.821             0.926829               0.871795   \n",
       "PAC               0.826   0.734             0.684753               0.454995   \n",
       "PVC               0.869   0.852             0.787097               0.686306   \n",
       "RBBB              0.910   0.911             0.938615               0.936772   \n",
       "STD               0.811   0.788             0.796537               0.765686   \n",
       "STE               0.624   0.509             0.494444               0.467852   \n",
       "normal            0.808   0.795             0.751177               0.697025   \n",
       "\n",
       "        inception_normal_only  performance  \n",
       "AF                   0.930537         True  \n",
       "I-AVB                0.846465        False  \n",
       "LBBB                 0.871795         True  \n",
       "PAC                  0.388295        False  \n",
       "PVC                  0.673146        False  \n",
       "RBBB                 0.935407         True  \n",
       "STD                  0.750875         True  \n",
       "STE                  0.438438        False  \n",
       "normal               0.719006        False  "
      ]
     },
     "execution_count": 311,
     "metadata": {},
     "output_type": "execute_result"
    }
   ],
   "source": [
    "winner = dict(zip([\"normal\",\"AF\",\"I-AVB\",\"LBBB\",\"RBBB\",\"PAC\",\"PVC\",\"STD\",\"STE\"],[0.795,0.897,0.865,0.821,0.911,0.734,0.852,0.788,0.509]))\n",
    "winner_ensemble = dict(zip([\"normal\",\"AF\",\"I-AVB\",\"LBBB\",\"RBBB\",\"PAC\",\"PVC\",\"STD\",\"STE\"],[0.808,0.933,0.875,0.884,0.910,0.826,0.869,0.811,0.624]))\n",
    "inception_no_augment = dict(zip([\"RBBB\",\"PVC\",\"AF\",\"LBBB\",\"STE\",\"I-AVB\",\"PAC\",\"normal\",\"STD\"],[0.944,0.715,0.939,0.891,0.482,0.833,0.505, 0.709,0.789]))\n",
    "# inception_augmented = dict(zip([\"RBBB\",\"PVC\",\"AF\",\"LBBB\",\"STE\",\"I-AVB\",\"PAC\",\"normal\",\"STD\"],[0.935,0.682,0.944,0.884,0.450,0.846,0.474, 0.731,0.778]))\n",
    "inception_augmented = dict({('AF', 0.9475738396624472),\n",
    " ('I-AVB', 0.857142857142857),\n",
    " ('LBBB', 0.9268292682926829),\n",
    " ('PAC', 0.6847527472527473),\n",
    " ('PVC', 0.7870967741935484),\n",
    " ('RBBB', 0.9386153121565755),\n",
    " ('STD', 0.7965372232078323),\n",
    " ('STE', 0.49444444444444446),\n",
    " ('normal', 0.751177394034537),})\n",
    "inception_scaled_only = dict({\n",
    "                        'I-AVB': 0.8464646464646466,\n",
    "                         'AF': 0.9429286608260325,\n",
    "                         'LBBB': 0.8717948717948718,\n",
    "                         'PAC': 0.454995499549955,\n",
    "                         'RBBB': 0.9367724233463863,\n",
    "                         'normal': 0.6970246316758748,\n",
    "                         'STD': 0.765686274509804,\n",
    "                         'STE': 0.46785225718194257,\n",
    "                         'PVC': 0.68630634479812,})\n",
    "inception_normal_only = dict({\n",
    "                            'I-AVB': 0.8464646464646466,\n",
    "                             'AF': 0.9305368413587689,\n",
    "                             'LBBB': 0.8717948717948718,\n",
    "                             'PAC': 0.38829471182412356,\n",
    "                             'RBBB': 0.9354067624592703,\n",
    "                             'normal': 0.7190058479532164,\n",
    "                             'STD': 0.7508747606786823,\n",
    "                             'STE': 0.43843843843843844,\n",
    "                             'PVC': 0.6731462086300797,\n",
    "                        })\n",
    "\n",
    "winner = dict(sorted(winner.items()))\n",
    "winner_ensemble = dict(sorted(winner_ensemble.items()))\n",
    "inception = dict(sorted(inception.items()))\n",
    "inception_augmented = dict(sorted(inception_augmented.items()))\n",
    "df = pd.DataFrame([winner_ensemble,winner,inception_augmented,inception_scaled_only,inception_normal_only],index=[\"winner_ensemble\",\"winner\",\"inception_augmented\",\"inception_scaled_only\",\"inception_normal_only\"]).T\n",
    "df[\"performance\"] = df[\"winner\"]<df[\"inception_augmented\"]\n",
    "df"
   ]
  },
  {
   "cell_type": "code",
   "execution_count": 310,
   "id": "a240ffc7",
   "metadata": {},
   "outputs": [
    {
     "data": {
      "text/plain": [
       "winner_ensemble          0.837778\n",
       "winner                   0.796889\n",
       "inception_augmented      0.798241\n",
       "inception_scaled_only    0.741092\n",
       "inception_normal_only    0.728218\n",
       "performance              0.333333\n",
       "dtype: float64"
      ]
     },
     "execution_count": 310,
     "metadata": {},
     "output_type": "execute_result"
    }
   ],
   "source": [
    "df.mean()"
   ]
  }
 ],
 "metadata": {
  "kernelspec": {
   "display_name": "Python 3",
   "language": "python",
   "name": "python3"
  },
  "language_info": {
   "codemirror_mode": {
    "name": "ipython",
    "version": 3
   },
   "file_extension": ".py",
   "mimetype": "text/x-python",
   "name": "python",
   "nbconvert_exporter": "python",
   "pygments_lexer": "ipython3",
   "version": "3.8.5"
  }
 },
 "nbformat": 4,
 "nbformat_minor": 5
}
