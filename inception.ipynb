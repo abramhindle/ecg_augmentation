{
 "cells": [
  {
   "cell_type": "code",
   "execution_count": 1,
   "id": "02efb79a",
   "metadata": {},
   "outputs": [],
   "source": [
    "from helper_code import *\n",
    "import numpy as np, os, sys, joblib\n",
    "import ecg_plot\n",
    "import pandas as pd\n",
    "from glob import glob\n",
    "import os\n",
    "from torch.utils.data import Dataset, DataLoader\n",
    "from sklearn.model_selection import train_test_split\n",
    "from tsai.all import *\n",
    "import torch\n",
    "import optuna\n",
    "from optuna.integration import FastAIPruningCallback\n",
    "from sklearn.metrics import classification_report\n",
    "import transformation_funcs as custom_tfms\n",
    "torch.cuda.set_device(0) \n",
    "\n",
    "\n",
    "def snomedConvert(code,snomed=True):\n",
    "    codes =  pd.read_csv(\"data/codes.csv\",sep=\";\")[[\"Dx\",\"SNOMED CT Code\"]]\n",
    "    if snomed:\n",
    "        df.columns = [codes[codes[\"SNOMED CT Code\"] == int(x)].iloc[0][\"Dx\"] for x in df.columns]\n",
    "        return df"
   ]
  },
  {
   "cell_type": "code",
   "execution_count": 2,
   "id": "30a4dd19",
   "metadata": {},
   "outputs": [
    {
     "data": {
      "text/plain": [
       "array([ True, False, False, ..., False, False, False])"
      ]
     },
     "execution_count": 2,
     "metadata": {},
     "output_type": "execute_result"
    }
   ],
   "source": [
    "X = np.load('./data/big_numpy_datasets/WFDB_CPSC2018.npy', mmap_mode='c')\n",
    "df = pd.read_csv(\"data/WFDB_CPSC2018.csv\").drop(columns=[\"headers\",\"leads\"])\n",
    "\n",
    "y = snomedConvert(df)\n",
    "y = y[y.columns[0]].to_numpy()\n",
    "y"
   ]
  },
  {
   "cell_type": "code",
   "execution_count": 3,
   "id": "7331e756",
   "metadata": {},
   "outputs": [
    {
     "data": {
      "image/png": "[encoded data removed]",
      "text/plain": [
       "<Figure size 1152x36 with 1 Axes>"
      ]
     },
     "metadata": {
      "needs_background": "light"
     },
     "output_type": "display_data"
    },
    {
     "data": {
      "text/plain": [
       "((#5503) [6512,6719,568,3007,5266,2620,287,3001,6680,3730...],\n",
       " (#687) [5943,4366,1156,1709,4109,6237,3598,3607,5000,1037...],\n",
       " (#687) [2626,5678,5053,2717,3363,963,5856,5471,1253,148...])"
      ]
     },
     "execution_count": 3,
     "metadata": {},
     "output_type": "execute_result"
    }
   ],
   "source": [
    "splits = get_splits(y, valid_size=.1,test_size=0.1, stratify=True, random_state=23, shuffle=True)\n",
    "splits"
   ]
  },
  {
   "cell_type": "markdown",
   "id": "03ba2679",
   "metadata": {},
   "source": [
    "# Multi Label Problem"
   ]
  },
  {
   "cell_type": "code",
   "execution_count": 4,
   "id": "8e9a727e",
   "metadata": {},
   "outputs": [
    {
     "name": "stdout",
     "output_type": "stream",
     "text": [
      "Counts by label: {'right bundle branch block': 1857, 'sinus rhythm': 918, 'atrial fibrillation': 1221, 'ventricular ectopics': 700, 'st depression': 869, 'left bundle branch block': 236, 'st elevation': 220, '1st degree av block': 722, 'premature atrial contraction': 616}\n"
     ]
    }
   ],
   "source": [
    "df = pd.read_csv(\"data/WFDB_CPSC2018.csv\").drop(columns=[\"headers\",\"leads\"])\n",
    "y = snomedConvert(df)\n",
    "y_multi = []\n",
    "for i,row in y.iterrows():\n",
    "    sample_labels = []\n",
    "    for i,r in enumerate(row):\n",
    "        if r == True:\n",
    "            sample_labels.append(y.columns[i])\n",
    "        \n",
    "    y_multi.append(list(tuple(sample_labels)))\n",
    "label_counts = collections.Counter([a for r in y_multi for a in r])\n",
    "print('Counts by label:', dict(label_counts))"
   ]
  },
  {
   "cell_type": "markdown",
   "id": "b96e9cce",
   "metadata": {},
   "source": [
    "# Study 1"
   ]
  },
  {
   "cell_type": "code",
   "execution_count": 5,
   "id": "d4616c09",
   "metadata": {
    "scrolled": true,
    "tags": []
   },
   "outputs": [],
   "source": [
    "# def objective(trial:optuna.Trial):\n",
    "    \n",
    "#     # Define search space here. More info here https://optuna.readthedocs.io/en/stable/tutorial/10_key_features/002_configurations.html\n",
    "#     nf = trial.suggest_int('num_filters', 16, 48, step=8) # search through all categorical values in the provided list\n",
    "#     depth = trial.suggest_int('depth', 3, 9, step=3) # search through all integer values between 3 and 9 with 3 increment steps\n",
    "#     dropout_rate = trial.suggest_float(\"dropout_rate\", 0.0, 0.5, step=.1) # search through all float values between 0.0 and 0.5 with 0.1 increment steps\n",
    "#     learning_rate = trial.suggest_float(\"learning_rate\", 1e-5, 1e-2, log=True)  # search through all float values between 0.0 and 0.5 in log increment steps\n",
    "    \n",
    "#     batch_tfms = TSStandardize(by_sample=True)\n",
    "#     tfms  = [None, TSMultiLabelClassification()]\n",
    "#     batch_tfms = [TSStandardize(by_sample=True)]\n",
    "#     dsets = TSDatasets(X.astype(float), y_multi, tfms=tfms, splits=splits) # inplace=True by default\n",
    "#     dls   = TSDataLoaders.from_dsets(dsets.train,dsets.valid, bs=[64, 128], batch_tfms=batch_tfms, num_workers=0)\n",
    "#     metrics =[accuracy_multi, balanced_accuracy_multi, precision_multi, recall_multi, specificity_multi, F1_multi] \n",
    "\n",
    "#     model = InceptionTimePlus(dls.vars, dls.c, dls.len,nf=nf, fc_dropout=dropout_rate, depth=depth)\n",
    "#     learn = Learner(dls, model, metrics=metrics,loss_func=nn.BCEWithLogitsLoss(), cbs=FastAIPruningCallback(trial))\n",
    "\n",
    "\n",
    "# #     with ContextManagers([learn.no_logging(), learn.no_bar()]): # [Optional] this prevents fastai from printing anything during training\n",
    "#     learn.fit_one_cycle(100, lr_max=learning_rate)\n",
    "\n",
    "#     # Return the objective value\n",
    "#     return learn.recorder.values[-1][-1] # return the f1 value and try to maximize it\n",
    "\n",
    "# study_name = \"inception\" # Unique identifier of the study.\n",
    "# storage_name = \"sqlite:///{}.db\".format(study_name)\n",
    "# study = optuna.create_study(study_name=study_name, storage=storage_name,direction='maximize',load_if_exists=True,\n",
    "#                             pruner=optuna.pruners.MedianPruner(n_warmup_steps=50),sampler=optuna.samplers.RandomSampler())\n",
    "\n",
    "# study.optimize(objective, n_trials=100)"
   ]
  },
  {
   "cell_type": "code",
   "execution_count": 6,
   "id": "1b07292e",
   "metadata": {},
   "outputs": [],
   "source": [
    "# import optuna\n",
    "# import pandas as pd\n",
    "# import numpy as np\n",
    "# import imp  \n",
    "# study = optuna.load_study(study_name='inception', storage='sqlite:///inception.db')\n",
    "# display(optuna.visualization.plot_optimization_history(study))\n",
    "# display(optuna.visualization.plot_param_importances(study))\n",
    "# display(optuna.visualization.plot_slice(study))\n",
    "# display(optuna.visualization.plot_parallel_coordinate(study))"
   ]
  },
  {
   "cell_type": "markdown",
   "id": "54de79bc",
   "metadata": {},
   "source": [
    "# study 2"
   ]
  },
  {
   "cell_type": "code",
   "execution_count": 7,
   "id": "6fbfb947",
   "metadata": {},
   "outputs": [],
   "source": [
    "# def save_callback(study, trial):\n",
    "#     if study.best_trial == trial:\n",
    "#         PATH = Path('./models/inception_multilabel_big.pkl')\n",
    "#         PATH.parent.mkdir(parents=True, exist_ok=True)\n",
    "#         global learn\n",
    "#         learn.export(PATH)\n",
    "# def objective(trial:optuna.Trial):    \n",
    "#     # Define search space here. More info here https://optuna.readthedocs.io/en/stable/tutorial/10_key_features/002_configurations.html\n",
    "# #     nf = trial.suggest_int('num_filters', 16, 48, step=8) # search through all categorical values in the provided list\n",
    "#     depth = trial.suggest_int('depth', 12,18,step=1) # search through all integer values between 3 and 9 with 3 increment steps\n",
    "#     conv_dropout = trial.suggest_float(\"conv_dropout\", 0.0, 0.05, step=.025) # search through all float values between 0.0 and 0.5 with 0.1 increment steps\n",
    "#     learning_rate = trial.suggest_float(\"learning_rate\", 1e-3, 1e-1, log=True)  # search through all float values between 0.0 and 0.5 in log increment steps\n",
    "    \n",
    "#     batch_tfms = TSStandardize(by_sample=True)\n",
    "#     tfms  = [None, TSMultiLabelClassification()]\n",
    "#     batch_tfms = [TSStandardize(by_sample=True)]\n",
    "#     dsets = TSDatasets(X.astype(float), y_multi, tfms=tfms, splits=splits) # inplace=True by default\n",
    "#     dls   = TSDataLoaders.from_dsets(dsets.train,dsets.valid, bs=[64, 128], batch_tfms=batch_tfms, num_workers=0)\n",
    "#     metrics = [accuracy_multi, balanced_accuracy_multi, precision_multi, recall_multi, specificity_multi, F1_multi] \n",
    "\n",
    "#     model = InceptionTimePlus(dls.vars, dls.c, dls.len,conv_dropout=conv_dropout, depth=depth)\n",
    "#     global learn\n",
    "#     learn = Learner(dls, model, metrics=metrics,loss_func=nn.BCEWithLogitsLoss(), cbs=FastAIPruningCallback(trial))\n",
    "\n",
    "\n",
    "# #     with ContextManagers([learn.no_logging(), learn.no_bar()]): # [Optional] this prevents fastai from printing anything during training\n",
    "#     learn.fit_one_cycle(150, lr_max=learning_rate)\n",
    "\n",
    "#     # Return the objective value\n",
    "#     return learn.recorder.values[-1][-1] # return the f1 value and try to maximize it\n",
    "\n",
    "# study_name = \"inception_study2\" # Unique identifier of the study.\n",
    "# storage_name = \"sqlite:///{}.db\".format(study_name)\n",
    "# study = optuna.create_study(study_name=study_name, storage=storage_name,direction='maximize',load_if_exists=True,\n",
    "#                             pruner=optuna.pruners.MedianPruner(n_warmup_steps=75),sampler=optuna.samplers.TPESampler())\n",
    "\n",
    "# study.optimize(objective, n_trials=100,callbacks=[save_callback])"
   ]
  },
  {
   "cell_type": "code",
   "execution_count": 8,
   "id": "b7542712",
   "metadata": {},
   "outputs": [
    {
     "data": {
      "text/plain": [
       "[[TSRandomShift -- {'p': 1.0}:\n",
       "  encodes: (TSTensor,object) -> encodes\n",
       "  decodes: ,\n",
       "  TSMagAddNoise -- {'p': 1.0}:\n",
       "  encodes: (TSTensor,object) -> encodes\n",
       "  decodes: ,\n",
       "  TSNormalize -- {'p': 1.0}:\n",
       "  encodes: (TSTensor,object) -> encodes\n",
       "  decodes: ,\n",
       "  TSWindowSlicing -- {'p': 1.0}:\n",
       "  encodes: (TSTensor,object) -> encodes\n",
       "  decodes: ],\n",
       " TSMultiLabelClassification -- {'vocab': None, 'sort': True, 'add_na': False}:\n",
       " encodes: (object,object) -> encodes\n",
       " (Tabular,object) -> encodes\n",
       " (object,object) -> encodes\n",
       " decodes: (object,object) -> decodes\n",
       " (Tabular,object) -> decodes\n",
       " (object,object) -> decodes]"
      ]
     },
     "execution_count": 8,
     "metadata": {},
     "output_type": "execute_result"
    }
   ],
   "source": [
    "[[TSRandomShift(magnitude=0.1),TSMagAddNoise(),custom_tfms.TSNormalize(),TSWindowSlicing()], TSMultiLabelClassification()]"
   ]
  },
  {
   "cell_type": "code",
   "execution_count": 9,
   "id": "f5d4d3ce",
   "metadata": {},
   "outputs": [
    {
     "name": "stdout",
     "output_type": "stream",
     "text": [
      "Object `trial.suggest_categorical` not found.\n"
     ]
    }
   ],
   "source": [
    "trial.suggest_categorical?"
   ]
  },
  {
   "cell_type": "code",
   "execution_count": null,
   "id": "3db9fa41",
   "metadata": {},
   "outputs": [
    {
     "name": "stderr",
     "output_type": "stream",
     "text": [
      "\u001b[32m[I 2022-03-12 14:57:22,758]\u001b[0m Using an existing study with name 'inception_study3' instead of creating a new one.\u001b[0m\n"
     ]
    }
   ],
   "source": [
    "\n",
    "def save_callback(study, trial):\n",
    "    if study.best_trial == trial:\n",
    "        PATH = Path('./models/inception_multilabel_big.pkl')\n",
    "        PATH.parent.mkdir(parents=True, exist_ok=True)\n",
    "        global learn\n",
    "        learn.export(PATH)\n",
    "def objective(trial:optuna.Trial):    \n",
    "    # Define search space here. More info here https://optuna.readthedocs.io/en/stable/tutorial/10_key_features/002_configurations.html\n",
    "#     \n",
    "    tfms = []\n",
    "    random_shift = trial.suggest_float('rand_shift', 0.0, 0.5, step=.05) \n",
    "    noise = trial.suggest_float(\"noise\", 0.0, 1.5, step=.1) \n",
    "    window_slice = trial.suggest_float(\"window_slice\", 0.0, 0.6, step=.05) \n",
    "    rescale = trial.suggest_float(\"scale\", 0.2, 0.8, step=.1) \n",
    "    norm = trial.suggest_categorical('normalize', [0, 1]) \n",
    "    learning_rate = trial.suggest_float(\"learning_rate\", 1e-3, 1e-1, log=True) \n",
    "    depth = trial.suggest_int('depth', 8,14,step=1) # search through all integer values between 3 and 9 with 3 increment steps\n",
    "    conv_dropout = trial.suggest_float(\"conv_dropout\", 0.0, 0.05, step=.025) # search through all float values between 0.0 and 0.5 with 0.1 increment steps\n",
    "    fc_dropout = trial.suggest_float(\"fc_dropout\", 0.0, 0.05, step=.025) # search through all float values between 0.0 and 0.5 with 0.1 increment steps\n",
    "\n",
    "#     nf = trial.suggest_int('num_filters', 16, 32, step=8) # search through all categorical values in the provided list\n",
    "    \n",
    "    Xtfms = [TSRandomShift(magnitude=random_shift),TSMagMulNoise(noise),TSWindowSlicing(magnitude=window_slice),custom_tfms.Resample(scale_factor=rescale)]\n",
    "    if norm!=0:\n",
    "        Xtfms.append(custom_tfms.Normalize())\n",
    "    \n",
    "    batch_tfms = TSStandardize(by_sample=True)\n",
    "    tfms  = [None, TSMultiLabelClassification()]\n",
    "    batch_tfms = [TSStandardize(by_sample=True)]\n",
    "    dsets = TSDatasets(X.astype(float), y_multi, tfms=tfms, splits=splits) # inplace=True by default\n",
    "    dls   = TSDataLoaders.from_dsets(dsets.train,dsets.valid, bs=[64, 128], batch_tfms=batch_tfms, num_workers=0)\n",
    "    metrics =[accuracy_multi, balanced_accuracy_multi, precision_multi, recall_multi, specificity_multi, F1_multi] \n",
    "\n",
    "    model = InceptionTimePlus(dls.vars, dls.c, dls.len, conv_dropout=conv_dropout, depth=depth,fc_dropout = fc_dropout,nf = nf)\n",
    "    global learn\n",
    "    learn = Learner(dls, model, metrics=metrics,loss_func=nn.BCEWithLogitsLoss(), cbs=FastAIPruningCallback(trial))\n",
    "\n",
    "\n",
    "#     with ContextManagers([learn.no_logging(), learn.no_bar()]): # [Optional] this prevents fastai from printing anything during training\n",
    "    learn.fit_one_cycle(100, lr_max=learning_rate)\n",
    "\n",
    "    # Return the objective value\n",
    "    return learn.recorder.values[-1][-1] # return the f1 value and try to maximize it\n",
    "\n",
    "study_name = \"inception_study3\" # Unique identifier of the study.\n",
    "storage_name = \"sqlite:///{}.db\".format(study_name)\n",
    "study = optuna.create_study(study_name=study_name, storage=storage_name,direction='maximize',load_if_exists=True,\n",
    "                            pruner=optuna.pruners.PatientPruner(optuna.pruners.MedianPruner(n_warmup_steps=25),patience=20),sampler=optuna.samplers.RandomSampler())\n",
    "\n",
    "study.optimize(objective, n_trials=100,callbacks=[save_callback])"
   ]
  },
  {
   "cell_type": "code",
   "execution_count": null,
   "id": "ffa29754",
   "metadata": {},
   "outputs": [],
   "source": [
    "tfms  = [None, TSMultiLabelClassification()]\n",
    "batch_tfms = [TSStandardize(by_sample=True)]\n",
    "dsets = TSDatasets(X.astype(float), y_multi, tfms=tfms, splits=splits) # inplace=True by default\n",
    "dls   = TSDataLoaders.from_dsets(dsets.train,dsets.valid, bs=[64, 128], batch_tfms=batch_tfms, num_workers=0)\n",
    "metrics =[accuracy_multi, balanced_accuracy_multi, precision_multi, recall_multi, specificity_multi, F1_multi] \n",
    "# model = MiniRocketPlus(dls.vars, dls.c,2500)\n",
    "model = InceptionTimePlus(dls.vars, dls.c, dls.len, conv_dropout=0.025, depth=13,)\n",
    "learn = Learner(dls, model, metrics=metrics, cbs=ShowGraph())\n",
    "learn.fit_one_cycle(200, lr_max=0.004178080960048705)\n",
    "learn.recorder.plot_metrics()"
   ]
  },
  {
   "cell_type": "code",
   "execution_count": 8,
   "id": "b8f937df",
   "metadata": {},
   "outputs": [],
   "source": [
    "# PATH = Path('./models/inception_multilabel_bestparam.pkl')\n",
    "# PATH.parent.mkdir(parents=True, exist_ok=True)\n",
    "# learn.export(PATH)"
   ]
  },
  {
   "cell_type": "code",
   "execution_count": 11,
   "id": "c38bdd27",
   "metadata": {},
   "outputs": [],
   "source": [
    "PATH = Path('./models/inception_multilabel_big.pkl')\n",
    "learn = load_learner(PATH, cpu=False)"
   ]
  },
  {
   "cell_type": "code",
   "execution_count": 12,
   "id": "159f8356",
   "metadata": {},
   "outputs": [
    {
     "data": {
      "text/html": [
       "\n",
       "<style>\n",
       "    /* Turns off some styling */\n",
       "    progress {\n",
       "        /* gets rid of default border in Firefox and Opera. */\n",
       "        border: none;\n",
       "        /* Needs to be in here for Safari polyfill so background images work as expected. */\n",
       "        background-size: auto;\n",
       "    }\n",
       "    .progress-bar-interrupted, .progress-bar-interrupted::-webkit-progress-bar {\n",
       "        background: #F44336;\n",
       "    }\n",
       "</style>\n"
      ],
      "text/plain": [
       "<IPython.core.display.HTML object>"
      ]
     },
     "metadata": {},
     "output_type": "display_data"
    },
    {
     "data": {
      "text/html": [],
      "text/plain": [
       "<IPython.core.display.HTML object>"
      ]
     },
     "metadata": {},
     "output_type": "display_data"
    },
    {
     "name": "stdout",
     "output_type": "stream",
     "text": [
      "                              precision    recall  f1-score   support\n",
      "\n",
      "   right bundle branch block       0.89      0.84      0.86        64\n",
      "        ventricular ectopics       0.92      0.90      0.91       134\n",
      "         atrial fibrillation       0.56      0.83      0.67        12\n",
      "    left bundle branch block       0.64      0.40      0.49        68\n",
      "                st elevation       0.84      0.95      0.89       155\n",
      "         1st degree av block       0.72      0.77      0.75        92\n",
      "premature atrial contraction       0.62      0.72      0.67        76\n",
      "                sinus rhythm       0.68      0.52      0.59        25\n",
      "               st depression       0.64      0.59      0.62        61\n",
      "\n",
      "                    accuracy                           0.78       687\n",
      "                   macro avg       0.72      0.72      0.72       687\n",
      "                weighted avg       0.77      0.78      0.77       687\n",
      "\n"
     ]
    }
   ],
   "source": [
    "tfms  = [None, TSMultiLabelClassification()]\n",
    "batch_tfms = [TSStandardize(by_sample=True)]\n",
    "dsets = TSDatasets(X.astype(float), y_multi, tfms=tfms, splits=(splits[0],splits[1])) # inplace=True by default\n",
    "dls   = TSDataLoaders.from_dsets(dsets.train,dsets.valid, bs=[64, 128], batch_tfms=batch_tfms, num_workers=0)\n",
    "valid_probas, valid_targets, valid_preds = learn.get_preds(dl=dls.valid, with_decoded=True)\n",
    "\n",
    "y_pred=np.argmax(valid_preds, axis=1)\n",
    "y_test=np.argmax(valid_targets, axis=1)\n",
    "\n",
    "print(classification_report(y_test, y_pred,target_names = df.columns))"
   ]
  },
  {
   "cell_type": "code",
   "execution_count": 13,
   "id": "89206d25",
   "metadata": {},
   "outputs": [
    {
     "data": {
      "text/html": [
       "\n",
       "<style>\n",
       "    /* Turns off some styling */\n",
       "    progress {\n",
       "        /* gets rid of default border in Firefox and Opera. */\n",
       "        border: none;\n",
       "        /* Needs to be in here for Safari polyfill so background images work as expected. */\n",
       "        background-size: auto;\n",
       "    }\n",
       "    .progress-bar-interrupted, .progress-bar-interrupted::-webkit-progress-bar {\n",
       "        background: #F44336;\n",
       "    }\n",
       "</style>\n"
      ],
      "text/plain": [
       "<IPython.core.display.HTML object>"
      ]
     },
     "metadata": {},
     "output_type": "display_data"
    },
    {
     "data": {
      "text/html": [],
      "text/plain": [
       "<IPython.core.display.HTML object>"
      ]
     },
     "metadata": {},
     "output_type": "display_data"
    },
    {
     "name": "stdout",
     "output_type": "stream",
     "text": [
      "                              precision    recall  f1-score   support\n",
      "\n",
      "   right bundle branch block       0.91      0.90      0.90        79\n",
      "        ventricular ectopics       0.88      0.87      0.88       127\n",
      "         atrial fibrillation       0.95      0.95      0.95        21\n",
      "    left bundle branch block       0.47      0.40      0.43        65\n",
      "                st elevation       0.87      0.89      0.88       159\n",
      "         1st degree av block       0.67      0.79      0.73        78\n",
      "premature atrial contraction       0.74      0.73      0.74        79\n",
      "                sinus rhythm       0.65      0.68      0.67        22\n",
      "               st depression       0.68      0.60      0.64        57\n",
      "\n",
      "                    accuracy                           0.78       687\n",
      "                   macro avg       0.76      0.76      0.76       687\n",
      "                weighted avg       0.78      0.78      0.78       687\n",
      "\n"
     ]
    }
   ],
   "source": [
    "tfms  = [None, TSMultiLabelClassification()]\n",
    "batch_tfms = [TSStandardize(by_sample=True)]\n",
    "dsets = TSDatasets(X.astype(float), y_multi, tfms=tfms, splits=(splits[0],splits[2])) # inplace=True by default\n",
    "dls   = TSDataLoaders.from_dsets(dsets.train,dsets.valid, bs=[64, 128], batch_tfms=batch_tfms, num_workers=0)\n",
    "valid_probas, valid_targets, valid_preds = learn.get_preds(dl=dls.valid, with_decoded=True)\n",
    "\n",
    "y_pred=np.argmax(valid_preds, axis=1)\n",
    "y_test=np.argmax(valid_targets, axis=1)\n",
    "\n",
    "print(classification_report(y_test, y_pred,target_names = df.columns))"
   ]
  },
  {
   "cell_type": "code",
   "execution_count": null,
   "id": "97c63131",
   "metadata": {},
   "outputs": [],
   "source": [
    "classification_report(y_test, y_pred,target_names = df.columns)"
   ]
  },
  {
   "cell_type": "code",
   "execution_count": null,
   "id": "82820ca7",
   "metadata": {},
   "outputs": [],
   "source": [
    "[0.795,0.897,0.865,0.821,0.911,0.734,0.852,0.788,0.509]\n",
    "[\"normal\",\"AF\",\"I-AVB\",\"LBBB\",\"RBBB\",\"PAC\",\"PVC\",\"STD\",\"STE\"]\n",
    "[0.86,0.87,0.95,0.50,0.87,0.66,0.75, 0.48,0.64]\n",
    "[\"RBBB\",\"PVC\",\"AF\",\"LBBBB\",\"STE\",\"I-AVB\",\"PAC\",\"normal\",\"STD\"]\n",
    "[0.90,0.88,0.95,0.43,0.88,0.73,0.74, 0.67,0.64]\n",
    "[\"RBBB\",\"PVC\",\"AF\",\"LBBBB\",\"STE\",\"I-AVB\",\"PAC\",\"normal\",\"STD\"]"
   ]
  },
  {
   "cell_type": "code",
   "execution_count": 22,
   "id": "0c5cbc6b",
   "metadata": {},
   "outputs": [],
   "source": [
    "to_beat = dict(zip([\"normal\",\"AF\",\"I-AVB\",\"LBBB\",\"RBBB\",\"PAC\",\"PVC\",\"STD\",\"STE\"],[0.795,0.897,0.865,0.821,0.911,0.734,0.852,0.788,0.509]))\n",
    "best = dict(zip([\"RBBB\",\"PVC\",\"AF\",\"LBBB\",\"STE\",\"I-AVB\",\"PAC\",\"normal\",\"STD\"],[0.86,0.87,0.95,0.50,0.87,0.66,0.75, 0.48,0.64]))\n",
    "augmented_best = dict(zip([\"RBBB\",\"PVC\",\"AF\",\"LBBB\",\"STE\",\"I-AVB\",\"PAC\",\"normal\",\"STD\"],[0.90,0.88,0.95,0.43,0.88,0.73,0.74, 0.67,0.64]))\n",
    "\n",
    "to_beat = dict(sorted(to_beat.items()))\n",
    "best = dict(sorted(best.items()))\n",
    "augmented_best = dict(sorted(augmented_best.items()))\n",
    "df = pd.DataFrame([to_beat,best,augmented_best],index=[\"winner\",\"ours\",\"augmented\"]).T"
   ]
  },
  {
   "cell_type": "code",
   "execution_count": 25,
   "id": "55bcd804",
   "metadata": {},
   "outputs": [
    {
     "data": {
      "text/html": [
       "<div>\n",
       "<style scoped>\n",
       "    .dataframe tbody tr th:only-of-type {\n",
       "        vertical-align: middle;\n",
       "    }\n",
       "\n",
       "    .dataframe tbody tr th {\n",
       "        vertical-align: top;\n",
       "    }\n",
       "\n",
       "    .dataframe thead th {\n",
       "        text-align: right;\n",
       "    }\n",
       "</style>\n",
       "<table border=\"1\" class=\"dataframe\">\n",
       "  <thead>\n",
       "    <tr style=\"text-align: right;\">\n",
       "      <th></th>\n",
       "      <th>winner</th>\n",
       "      <th>ours</th>\n",
       "      <th>augmented</th>\n",
       "      <th>better</th>\n",
       "    </tr>\n",
       "  </thead>\n",
       "  <tbody>\n",
       "    <tr>\n",
       "      <th>AF</th>\n",
       "      <td>0.897</td>\n",
       "      <td>0.95</td>\n",
       "      <td>0.95</td>\n",
       "      <td>True</td>\n",
       "    </tr>\n",
       "    <tr>\n",
       "      <th>I-AVB</th>\n",
       "      <td>0.865</td>\n",
       "      <td>0.66</td>\n",
       "      <td>0.73</td>\n",
       "      <td>False</td>\n",
       "    </tr>\n",
       "    <tr>\n",
       "      <th>LBBB</th>\n",
       "      <td>0.821</td>\n",
       "      <td>0.50</td>\n",
       "      <td>0.43</td>\n",
       "      <td>False</td>\n",
       "    </tr>\n",
       "    <tr>\n",
       "      <th>PAC</th>\n",
       "      <td>0.734</td>\n",
       "      <td>0.75</td>\n",
       "      <td>0.74</td>\n",
       "      <td>True</td>\n",
       "    </tr>\n",
       "    <tr>\n",
       "      <th>PVC</th>\n",
       "      <td>0.852</td>\n",
       "      <td>0.87</td>\n",
       "      <td>0.88</td>\n",
       "      <td>True</td>\n",
       "    </tr>\n",
       "    <tr>\n",
       "      <th>RBBB</th>\n",
       "      <td>0.911</td>\n",
       "      <td>0.86</td>\n",
       "      <td>0.90</td>\n",
       "      <td>False</td>\n",
       "    </tr>\n",
       "    <tr>\n",
       "      <th>STD</th>\n",
       "      <td>0.788</td>\n",
       "      <td>0.64</td>\n",
       "      <td>0.64</td>\n",
       "      <td>False</td>\n",
       "    </tr>\n",
       "    <tr>\n",
       "      <th>STE</th>\n",
       "      <td>0.509</td>\n",
       "      <td>0.87</td>\n",
       "      <td>0.88</td>\n",
       "      <td>True</td>\n",
       "    </tr>\n",
       "    <tr>\n",
       "      <th>normal</th>\n",
       "      <td>0.795</td>\n",
       "      <td>0.48</td>\n",
       "      <td>0.67</td>\n",
       "      <td>False</td>\n",
       "    </tr>\n",
       "  </tbody>\n",
       "</table>\n",
       "</div>"
      ],
      "text/plain": [
       "        winner  ours  augmented  better\n",
       "AF       0.897  0.95       0.95    True\n",
       "I-AVB    0.865  0.66       0.73   False\n",
       "LBBB     0.821  0.50       0.43   False\n",
       "PAC      0.734  0.75       0.74    True\n",
       "PVC      0.852  0.87       0.88    True\n",
       "RBBB     0.911  0.86       0.90   False\n",
       "STD      0.788  0.64       0.64   False\n",
       "STE      0.509  0.87       0.88    True\n",
       "normal   0.795  0.48       0.67   False"
      ]
     },
     "execution_count": 25,
     "metadata": {},
     "output_type": "execute_result"
    }
   ],
   "source": [
    "df[\"better\"] = df[\"winner\"]<df[\"ours\"]\n",
    "df"
   ]
  }
 ],
 "metadata": {
  "kernelspec": {
   "display_name": "Python 3 (ipykernel)",
   "language": "python",
   "name": "python3"
  },
  "language_info": {
   "codemirror_mode": {
    "name": "ipython",
    "version": 3
   },
   "file_extension": ".py",
   "mimetype": "text/x-python",
   "name": "python",
   "nbconvert_exporter": "python",
   "pygments_lexer": "ipython3",
   "version": "3.8.12"
  }
 },
 "nbformat": 4,
 "nbformat_minor": 5
}
