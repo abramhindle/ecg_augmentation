{
 "cells": [
  {
   "cell_type": "code",
   "execution_count": 1,
   "id": "175e9e93",
   "metadata": {},
   "outputs": [
    {
     "name": "stderr",
     "output_type": "stream",
     "text": [
      "/home/asalimi/miniconda3/envs/ddsp/lib/python3.8/site-packages/tqdm/auto.py:22: TqdmWarning: IProgress not found. Please update jupyter and ipywidgets. See https://ipywidgets.readthedocs.io/en/stable/user_install.html\n",
      "  from .autonotebook import tqdm as notebook_tqdm\n"
     ]
    }
   ],
   "source": [
    "from helper_code import *\n",
    "import numpy as np, os, sys, joblib\n",
    "import ecg_plot\n",
    "import pandas as pd\n",
    "from glob import glob\n",
    "import os\n",
    "from torch.utils.data import Dataset, DataLoader\n",
    "from sklearn.model_selection import train_test_split\n",
    "from tsai.all import *\n",
    "import torch\n",
    "import optuna\n",
    "from optuna.integration import FastAIPruningCallback\n",
    "\n",
    "torch.cuda.set_device(1) \n",
    "\n",
    "\n",
    "def snomedConvert(code,snomed=True):\n",
    "    codes =  pd.read_csv(\"data/codes.csv\",sep=\";\")[[\"Dx\",\"SNOMED CT Code\"]]\n",
    "    if snomed:\n",
    "        df.columns = [codes[codes[\"SNOMED CT Code\"] == int(x)].iloc[0][\"Dx\"] for x in df.columns]\n",
    "        return df"
   ]
  },
  {
   "cell_type": "code",
   "execution_count": 2,
   "id": "dd6c0c2e",
   "metadata": {},
   "outputs": [
    {
     "data": {
      "text/plain": [
       "1"
      ]
     },
     "execution_count": 2,
     "metadata": {},
     "output_type": "execute_result"
    }
   ],
   "source": [
    "df = pd.read_csv(\"data/WFDB_CPSC2018.csv\")\n",
    "codes =  pd.read_csv(\"data/codes.csv\",sep=\";\")\n",
    "# df.columns = [codes[codes[\"SNOMED CT Code\"] == x].iloc[0][\"Dx\"] for x in df.columns]\n",
    "np.sum(codes[\"SNOMED CT Code\"] == int(df.columns[0]))"
   ]
  },
  {
   "cell_type": "code",
   "execution_count": 3,
   "id": "544f628f",
   "metadata": {},
   "outputs": [
    {
     "data": {
      "text/plain": [
       "array([ True, False, False, ..., False, False, False])"
      ]
     },
     "execution_count": 3,
     "metadata": {},
     "output_type": "execute_result"
    }
   ],
   "source": [
    "X = np.load('./data/big_numpy_datasets/WFDB_CPSC2018.npy', mmap_mode='c')\n",
    "df = pd.read_csv(\"data/WFDB_CPSC2018.csv\").drop(columns=[\"headers\",\"leads\"])\n",
    "\n",
    "y = snomedConvert(df)\n",
    "y = y[y.columns[0]].to_numpy()\n",
    "y"
   ]
  },
  {
   "cell_type": "code",
   "execution_count": 4,
   "id": "1eea90e7",
   "metadata": {},
   "outputs": [
    {
     "data": {
      "image/png": "[encoded data removed]",
      "text/plain": [
       "<Figure size 1152x36 with 1 Axes>"
      ]
     },
     "metadata": {
      "needs_background": "light"
     },
     "output_type": "display_data"
    },
    {
     "data": {
      "text/plain": [
       "((#4815) [2849,6802,4096,496,2012,173,1178,5343,505,5739...],\n",
       " (#1375) [4964,5847,413,6628,1735,5258,6065,3308,3619,3857...],\n",
       " (#687) [2626,5678,5053,2717,3363,963,5856,5471,1253,148...])"
      ]
     },
     "execution_count": 4,
     "metadata": {},
     "output_type": "execute_result"
    }
   ],
   "source": [
    "splits = get_splits(y, valid_size=.2,test_size=0.1, stratify=True, random_state=23, shuffle=True)\n",
    "splits"
   ]
  },
  {
   "cell_type": "code",
   "execution_count": 5,
   "id": "b6dbfddf",
   "metadata": {},
   "outputs": [
    {
     "name": "stdout",
     "output_type": "stream",
     "text": [
      "Counts by label: {'right bundle branch block': 1857, 'sinus rhythm': 918, 'atrial fibrillation': 1221, 'ventricular ectopics': 700, 'st depression': 869, 'left bundle branch block': 236, 'st elevation': 220, '1st degree av block': 722, 'premature atrial contraction': 616}\n"
     ]
    }
   ],
   "source": [
    "df = pd.read_csv(\"data/WFDB_CPSC2018.csv\").drop(columns=[\"headers\",\"leads\"])\n",
    "y = snomedConvert(df)\n",
    "y_multi = []\n",
    "for i,row in y.iterrows():\n",
    "    sample_labels = []\n",
    "    for i,r in enumerate(row):\n",
    "        if r == True:\n",
    "            sample_labels.append(y.columns[i])\n",
    "        \n",
    "    y_multi.append(list(tuple(sample_labels)))\n",
    "label_counts = collections.Counter([a for r in y_multi for a in r])\n",
    "print('Counts by label:', dict(label_counts))"
   ]
  },
  {
   "cell_type": "code",
   "execution_count": null,
   "id": "5b56ca96",
   "metadata": {},
   "outputs": [],
   "source": [
    "def objective(trial:optuna.Trial):\n",
    "    \n",
    "    # Define search space here. More info here https://optuna.readthedocs.io/en/stable/tutorial/10_key_features/002_configurations.html\n",
    "    nf = trial.suggest_categorical('num_filters', [32, 64, 96]) # search through all categorical values in the provided list\n",
    "    depth = trial.suggest_int('depth', 3, 9, step=3) # search through all integer values between 3 and 9 with 3 increment steps\n",
    "    dropout_rate = trial.suggest_float(\"dropout_rate\", 0.0, 0.5, step=.1) # search through all float values between 0.0 and 0.5 with 0.1 increment steps\n",
    "    learning_rate = trial.suggest_float(\"learning_rate\", 1e-5, 1e-2, log=True)  # search through all float values between 0.0 and 0.5 in log increment steps\n",
    "    \n",
    "    batch_tfms = TSStandardize(by_sample=True)\n",
    "    tfms  = [None, TSMultiLabelClassification()]\n",
    "    batch_tfms = [TSStandardize(by_sample=True)]\n",
    "    dsets = TSDatasets(X.astype(float), y_multi, tfms=tfms, splits=splits) # inplace=True by default\n",
    "    dls   = TSDataLoaders.from_dsets(dsets.train,dsets.valid, bs=[64, 128], batch_tfms=batch_tfms, num_workers=0)\n",
    "    metrics =[accuracy_multi, balanced_accuracy_multi, precision_multi, recall_multi, specificity_multi, F1_multi] \n",
    "\n",
    "    model = InceptionTimePlus(dls.vars, dls.c, dls.len,nf=nf, fc_dropout=dropout_rate, depth=depth)\n",
    "    learn = Learner(dls, model, metrics=metrics,loss_func=nn.BCEWithLogitsLoss(), cbs=FastAIPruningCallback(trial))\n",
    "\n",
    "\n",
    "#     with ContextManagers([learn.no_logging(), learn.no_bar()]): # [Optional] this prevents fastai from printing anything during training\n",
    "    learn.fit_one_cycle(100, lr_max=learning_rate)\n",
    "\n",
    "    # Return the objective value\n",
    "    return learn.recorder.values[-1][-1] # return the f1 value and try to maximize it\n",
    "\n",
    "study_name = \"mini\" # Unique identifier of the study.\n",
    "storage_name = \"sqlite:///{}.db\".format(study_name)\n",
    "study = optuna.create_study(study_name=study_name, storage=storage_name,direction='maximize')\n",
    "\n",
    "study.optimize(objective, n_trials=100)"
   ]
  },
  {
   "cell_type": "code",
   "execution_count": null,
   "id": "7914d6d2",
   "metadata": {},
   "outputs": [
    {
     "data": {
      "text/html": [
       "\n",
       "<style>\n",
       "    /* Turns off some styling */\n",
       "    progress {\n",
       "        /* gets rid of default border in Firefox and Opera. */\n",
       "        border: none;\n",
       "        /* Needs to be in here for Safari polyfill so background images work as expected. */\n",
       "        background-size: auto;\n",
       "    }\n",
       "    .progress-bar-interrupted, .progress-bar-interrupted::-webkit-progress-bar {\n",
       "        background: #F44336;\n",
       "    }\n",
       "</style>\n"
      ],
      "text/plain": [
       "<IPython.core.display.HTML object>"
      ]
     },
     "metadata": {},
     "output_type": "display_data"
    },
    {
     "data": {
      "text/html": [
       "\n",
       "    <div>\n",
       "      <progress value='5' class='' max='250' style='width:300px; height:20px; vertical-align: middle;'></progress>\n",
       "      2.00% [5/250 08:18<6:46:47]\n",
       "    </div>\n",
       "    \n",
       "<table border=\"1\" class=\"dataframe\">\n",
       "  <thead>\n",
       "    <tr style=\"text-align: left;\">\n",
       "      <th>epoch</th>\n",
       "      <th>train_loss</th>\n",
       "      <th>valid_loss</th>\n",
       "      <th>precision_multi</th>\n",
       "      <th>recall_multi</th>\n",
       "      <th>specificity_multi</th>\n",
       "      <th>F1_multi</th>\n",
       "      <th>time</th>\n",
       "    </tr>\n",
       "  </thead>\n",
       "  <tbody>\n",
       "    <tr>\n",
       "      <td>0</td>\n",
       "      <td>0.674556</td>\n",
       "      <td>0.666342</td>\n",
       "      <td>0.217712</td>\n",
       "      <td>0.852563</td>\n",
       "      <td>0.585684</td>\n",
       "      <td>0.346739</td>\n",
       "      <td>01:35</td>\n",
       "    </tr>\n",
       "    <tr>\n",
       "      <td>1</td>\n",
       "      <td>0.659372</td>\n",
       "      <td>0.649711</td>\n",
       "      <td>0.226437</td>\n",
       "      <td>0.874264</td>\n",
       "      <td>0.596153</td>\n",
       "      <td>0.359569</td>\n",
       "      <td>01:39</td>\n",
       "    </tr>\n",
       "    <tr>\n",
       "      <td>2</td>\n",
       "      <td>0.646828</td>\n",
       "      <td>0.639527</td>\n",
       "      <td>0.233429</td>\n",
       "      <td>0.887723</td>\n",
       "      <td>0.605869</td>\n",
       "      <td>0.369533</td>\n",
       "      <td>01:40</td>\n",
       "    </tr>\n",
       "    <tr>\n",
       "      <td>3</td>\n",
       "      <td>0.637312</td>\n",
       "      <td>0.631499</td>\n",
       "      <td>0.238902</td>\n",
       "      <td>0.893682</td>\n",
       "      <td>0.614858</td>\n",
       "      <td>0.376890</td>\n",
       "      <td>01:40</td>\n",
       "    </tr>\n",
       "    <tr>\n",
       "      <td>4</td>\n",
       "      <td>0.629859</td>\n",
       "      <td>0.623120</td>\n",
       "      <td>0.249548</td>\n",
       "      <td>0.903880</td>\n",
       "      <td>0.632467</td>\n",
       "      <td>0.390984</td>\n",
       "      <td>01:41</td>\n",
       "    </tr>\n",
       "  </tbody>\n",
       "</table><p>\n",
       "\n",
       "    <div>\n",
       "      <progress value='69' class='' max='75' style='width:300px; height:20px; vertical-align: middle;'></progress>\n",
       "      92.00% [69/75 01:12<00:06 0.6230]\n",
       "    </div>\n",
       "    "
      ],
      "text/plain": [
       "<IPython.core.display.HTML object>"
      ]
     },
     "metadata": {},
     "output_type": "display_data"
    },
    {
     "data": {
      "image/png": "[encoded data removed]",
      "text/plain": [
       "<Figure size 432x288 with 1 Axes>"
      ]
     },
     "metadata": {},
     "output_type": "display_data"
    }
   ],
   "source": [
    "tfms  = [None, TSMultiLabelClassification()]\n",
    "batch_tfms = [TSStandardize(by_sample=True)]\n",
    "dsets = TSDatasets(X.astype(float), y_multi, tfms=tfms, splits=splits) # inplace=True by default\n",
    "dls   = TSDataLoaders.from_dsets(dsets.train,dsets.valid, bs=[64, 128], batch_tfms=batch_tfms, num_workers=0)\n",
    "metrics =[ precision_multi, recall_multi, specificity_multi, F1_multi] \n",
    "model = MiniRocketPlus(dls.vars, dls.c,2500)\n",
    "# model = InceptionTimePlus(dls.vars, dls.c, dls.len)\n",
    "learn = Learner(dls, model, metrics=metrics, cbs=ShowGraph())\n",
    "learn.fit_one_cycle(250, lr_max=1e-4)\n",
    "learn.recorder.plot_metrics()"
   ]
  },
  {
   "cell_type": "code",
   "execution_count": 22,
   "id": "d9ff2240",
   "metadata": {},
   "outputs": [],
   "source": [
    "# nn.BCEWithLogitsLoss?"
   ]
  },
  {
   "cell_type": "code",
   "execution_count": 23,
   "id": "76a821cf",
   "metadata": {},
   "outputs": [
    {
     "data": {
      "text/plain": [
       "array([[-7.84720704e-02, -4.12600696e-01, -2.18182340e-01,\n",
       "        -9.80459303e-02,  3.71059179e-01,  3.25657755e-01,\n",
       "        -2.48570561e-01,  2.40334675e-01, -1.63715184e-01],\n",
       "       [ 1.24575153e-01, -1.36219069e-01, -2.46257503e-02,\n",
       "         1.44775674e-01, -2.14409769e-01,  3.34912658e-01,\n",
       "         6.78366944e-02,  1.02839664e-01, -1.57196477e-01],\n",
       "       [ 1.08623877e-01, -2.17653006e-01, -6.15041144e-02,\n",
       "        -5.97859547e-02, -1.75389633e-01,  1.03842862e-01,\n",
       "         2.99280167e-01,  3.14129218e-02,  1.27586991e-01],\n",
       "       [ 4.45486456e-02,  1.15933612e-01, -1.94757894e-01,\n",
       "         1.51232677e-02, -1.32961482e-01, -1.46226197e-01,\n",
       "         1.94128394e-01, -1.00214943e-01,  1.58320934e-01],\n",
       "       [ 7.91124776e-02,  1.14165002e-03,  9.09411684e-02,\n",
       "         2.47980338e-02, -3.38582963e-01, -7.88431522e-03,\n",
       "         2.37779394e-01, -1.16928264e-01,  1.32603616e-01],\n",
       "       [-6.40033036e-02,  6.39755726e-01, -1.48044795e-01,\n",
       "         1.43291265e-01,  3.59730870e-01, -6.11705959e-01,\n",
       "         9.76874605e-02, -1.51283935e-01, -8.28004107e-02],\n",
       "       [-8.34610760e-02, -2.67275989e-01,  3.51457708e-02,\n",
       "        -1.32427126e-01, -1.16856493e-01, -4.04880755e-03,\n",
       "         9.57840011e-02, -2.84905396e-02,  5.21501899e-01],\n",
       "       [-4.02501933e-02, -6.77945912e-02, -1.77580759e-01,\n",
       "         5.00060096e-02,  8.67785960e-02, -4.27659824e-02,\n",
       "         3.71645093e-01, -1.12763204e-01, -6.03318634e-03],\n",
       "       [ 5.54066561e-02,  9.52805877e-02,  2.11220905e-01,\n",
       "        -4.40098681e-02, -3.58874172e-01,  1.02394268e-01,\n",
       "        -8.86690244e-02,  6.02765493e-02, -5.92841208e-02],\n",
       "       [ 7.17653427e-03,  3.26606989e-01, -9.23939869e-02,\n",
       "         5.70884831e-02,  1.47708818e-01, -3.94687027e-01,\n",
       "        -1.73781931e-01, -6.19848929e-02,  9.76286978e-02],\n",
       "       [ 9.25153792e-02, -4.00559634e-01, -9.59281530e-03,\n",
       "         4.90802824e-02,  7.75193237e-03,  3.68497521e-01,\n",
       "         8.03929940e-02,  8.02323222e-02, -1.84337452e-01],\n",
       "       [ 3.78786355e-01,  1.00868054e-01,  2.66658843e-01,\n",
       "         3.05810720e-02, -5.56272328e-01,  1.29461437e-01,\n",
       "        -4.23039734e-01,  1.81567773e-01, -5.03310114e-02],\n",
       "       [ 1.24723457e-01, -2.79669106e-01,  6.61545634e-01,\n",
       "        -3.51199359e-02, -7.24063694e-01,  1.46835744e-01,\n",
       "        -2.15570241e-01,  2.33505055e-01,  2.85571456e-01],\n",
       "       [ 1.13231286e-01, -1.41843911e-02, -3.43880355e-02,\n",
       "         1.12033412e-01, -1.83874324e-01, -1.43840630e-02,\n",
       "         2.31491119e-01, -2.29861904e-02,  4.64967079e-02],\n",
       "       [-3.26168627e-01, -1.41741075e-02, -2.32594073e-01,\n",
       "        -3.31064314e-02,  6.85345292e-01, -5.82118705e-03,\n",
       "         9.85233039e-02, -1.44488007e-01, -2.92886406e-01],\n",
       "       [ 1.77224725e-01,  1.39690816e-01,  2.82499362e-02,\n",
       "         1.11720599e-01, -3.96366090e-01,  2.84986347e-01,\n",
       "         9.26851034e-02,  1.35471597e-02, -2.01446161e-01],\n",
       "       [ 1.70335785e-01, -4.27247405e-01,  2.63939723e-02,\n",
       "         4.22463901e-02, -3.75128895e-01,  4.09768969e-01,\n",
       "         3.20691476e-03,  2.50528097e-01,  9.73276049e-02],\n",
       "       [ 3.56767252e-02, -3.49996015e-02,  1.14783183e-01,\n",
       "         7.47688860e-03,  1.72088131e-01, -2.45434865e-01,\n",
       "        -7.00674718e-03,  7.30530024e-02,  2.16098949e-02],\n",
       "       [ 2.36198470e-01,  2.25800931e-01,  6.89443588e-01,\n",
       "        -8.58993828e-03, -7.20355451e-01, -2.63123423e-01,\n",
       "        -6.34034336e-01,  2.09320799e-01,  4.28568691e-01],\n",
       "       [ 1.44014647e-03, -2.93794751e-01,  2.59867683e-02,\n",
       "        -4.28445786e-02,  2.84420475e-02,  2.01974437e-01,\n",
       "        -1.97609305e-01,  1.23255894e-01,  1.20030843e-01],\n",
       "       [ 8.81429911e-02, -1.46391332e-01, -1.98631570e-01,\n",
       "         4.17200513e-02, -1.24943890e-01,  6.12589478e-01,\n",
       "        -2.99339771e-01,  2.85420150e-01, -2.21345365e-01],\n",
       "       [-1.10123925e-01, -1.80973083e-01, -1.57434061e-01,\n",
       "        -8.64692256e-02,  4.62502182e-01,  2.91702077e-02,\n",
       "        -2.01584045e-02, -1.23104356e-01, -1.65447086e-01],\n",
       "       [-8.43433440e-02,  1.08769082e-01,  1.27903432e-01,\n",
       "        -7.78821930e-02,  3.41462821e-01, -6.21721804e-01,\n",
       "        -1.97463453e-01, -9.58172083e-02,  1.54276967e-01],\n",
       "       [ 1.00826800e-01,  5.38695633e-01, -3.02272052e-01,\n",
       "         1.80675209e-01,  1.38032019e-01, -4.69785452e-01,\n",
       "         3.94080952e-02, -4.09404673e-02, -1.39748707e-01],\n",
       "       [-9.40579548e-02, -4.07322273e-02, -2.05773622e-01,\n",
       "         3.93446721e-02,  1.69338241e-01, -3.54482308e-02,\n",
       "         3.78156930e-01, -1.39431104e-01, -9.18019935e-02],\n",
       "       [-2.03859642e-01,  5.02195179e-01, -1.08718276e-01,\n",
       "         8.72770324e-02, -4.33769226e-02,  4.78066206e-02,\n",
       "         7.70207644e-02,  1.81193613e-02, -2.13754833e-01],\n",
       "       [-1.35237277e-01, -2.96049982e-01,  4.32882980e-02,\n",
       "        -1.25395492e-01,  3.93141061e-01,  2.18880386e-03,\n",
       "        -1.29557595e-01,  1.81891453e-02, -5.52844703e-02],\n",
       "       [-8.11481476e-02, -9.72901434e-02, -2.38178689e-02,\n",
       "         4.91434783e-02, -4.18259501e-01,  5.60484707e-01,\n",
       "         5.62076345e-02,  1.57226190e-01,  1.07010100e-02],\n",
       "       [-2.73864448e-01,  3.79348159e-01, -4.49214578e-01,\n",
       "         7.32907727e-02,  3.31193179e-01, -1.51184380e-01,\n",
       "         2.61410296e-01, -2.35616729e-01, -1.00422680e-01],\n",
       "       [ 1.09291524e-01,  7.54382312e-01,  1.52191073e-01,\n",
       "         1.09890543e-01, -3.15316260e-01, -2.36865029e-01,\n",
       "        -1.77646130e-01,  1.76091529e-02, -1.27655223e-01],\n",
       "       [ 1.68860301e-01, -7.72354230e-02, -1.82892352e-01,\n",
       "         1.07753143e-01,  1.25506818e-01,  1.01994850e-01,\n",
       "        -8.37010443e-02, -1.40642747e-03, -1.37996122e-01],\n",
       "       [-1.28134638e-01, -2.00533450e-01, -2.22946346e-01,\n",
       "        -3.55018154e-02,  3.16446453e-01, -4.52945158e-02,\n",
       "         3.53096753e-01, -1.63787693e-01, -8.25366005e-04],\n",
       "       [ 1.79845288e-01,  2.79009283e-01,  1.44821042e-02,\n",
       "        -5.51406806e-03, -3.33706349e-01, -1.05256364e-01,\n",
       "        -1.09093495e-01,  1.05025480e-02,  1.56169027e-01],\n",
       "       [ 4.92015947e-03,  1.36602283e-01,  1.83208175e-02,\n",
       "        -2.15272382e-02, -1.94239169e-01, -2.11135149e-01,\n",
       "         1.07686237e-01, -1.58499572e-02,  1.71809822e-01],\n",
       "       [-1.16538927e-02, -2.85156399e-01, -1.29344575e-02,\n",
       "        -1.18363619e-01,  4.45983618e-01, -3.77821699e-02,\n",
       "        -3.98889869e-01,  7.57025257e-02, -9.47266147e-02],\n",
       "       [-1.74716756e-01, -5.04997253e-01, -1.51566193e-01,\n",
       "        -2.43884563e-01,  8.47089350e-01,  1.26377955e-01,\n",
       "        -3.75808716e-01,  1.09417759e-01, -2.64720768e-01],\n",
       "       [ 1.33928552e-01,  1.69257402e-01, -4.61809933e-02,\n",
       "         1.09205447e-01,  1.16433032e-01, -6.18376173e-02,\n",
       "        -5.72784357e-02, -3.73193882e-02, -2.39537746e-01],\n",
       "       [-3.74379195e-02,  2.83478089e-02, -4.88659814e-02,\n",
       "         4.24646139e-02,  3.24918568e-01, -4.60796684e-01,\n",
       "         2.05558971e-01, -1.44731015e-01, -2.54696794e-03],\n",
       "       [ 7.98312277e-02,  1.09804988e-01, -1.31078109e-01,\n",
       "         7.76385888e-02, -1.41857937e-01, -6.27297955e-03,\n",
       "         3.06000382e-01, -1.32882714e-01, -3.91023792e-02],\n",
       "       [ 1.21029086e-01, -1.54619604e-01, -9.36109573e-02,\n",
       "         5.63032143e-02,  1.44039094e-01,  2.51283646e-01,\n",
       "        -4.26669791e-02,  2.93275751e-02, -2.75302142e-01],\n",
       "       [-4.11004245e-01,  4.26578641e-01,  1.04740433e-01,\n",
       "        -9.46737081e-02,  1.02529240e+00, -7.40705907e-01,\n",
       "        -1.31575674e-01, -2.01425776e-01, -2.21415401e-01],\n",
       "       [-1.94952846e-01, -1.32201612e-01, -1.07015721e-01,\n",
       "        -1.15788847e-01,  7.72315443e-01, -4.07795101e-01,\n",
       "        -1.01984710e-01, -1.39445856e-01, -4.64724824e-02],\n",
       "       [ 7.24219456e-02, -1.21035874e-01,  1.15611911e-01,\n",
       "        -1.21534094e-02, -4.74695861e-01,  5.29852152e-01,\n",
       "         9.33196917e-02, -6.04712591e-02, -3.84416431e-02],\n",
       "       [ 2.49736950e-01, -7.67880678e-02,  1.66547269e-01,\n",
       "         2.10438482e-02, -1.48087144e-01,  1.16050512e-01,\n",
       "        -2.52486199e-01,  1.12613633e-01, -1.12386703e-01],\n",
       "       [ 8.44299272e-02,  2.54100472e-01, -4.55931760e-03,\n",
       "         1.09519653e-01, -1.64833777e-02, -3.76151741e-01,\n",
       "        -6.52539451e-03, -8.26143846e-02,  1.69349581e-01],\n",
       "       [-5.53704090e-02,  1.96666181e-01, -1.55407831e-01,\n",
       "         3.10551561e-02,  1.59980237e-01, -8.54492113e-02,\n",
       "        -3.39148492e-02,  7.97264948e-02, -7.58525431e-02],\n",
       "       [-1.32582650e-01, -2.14577019e-01, -1.27699271e-01,\n",
       "         5.07406890e-02,  9.17841494e-02,  3.95980984e-01,\n",
       "         2.46011764e-01,  9.18858033e-03, -2.05761343e-01],\n",
       "       [ 1.73728839e-01,  5.63448131e-01,  7.95823708e-02,\n",
       "         5.67866042e-02, -3.74435514e-01, -5.55591524e-01,\n",
       "        -9.12651420e-03, -1.11798055e-01,  2.97887564e-01],\n",
       "       [-1.87011346e-01, -4.75589000e-02, -1.87215686e-01,\n",
       "        -2.37817671e-02, -2.31919112e-03,  5.94087780e-01,\n",
       "        -1.02388613e-01,  8.22873190e-02, -2.04407886e-01],\n",
       "       [ 1.90868869e-01, -2.68142760e-01, -1.12453893e-01,\n",
       "         3.75447273e-02, -3.77588332e-01,  4.67299908e-01,\n",
       "        -1.67174518e-01,  3.98803979e-01,  6.84932619e-02],\n",
       "       [ 2.81739116e-01,  8.56111050e-02,  1.76469296e-01,\n",
       "         6.69812504e-03, -3.85784835e-01, -3.07346992e-02,\n",
       "        -2.42313236e-01, -1.01131715e-01,  1.06675476e-01],\n",
       "       [-2.67187357e-02,  2.90898055e-01,  2.41203085e-02,\n",
       "         7.92384371e-02,  2.51986891e-01, -3.24368179e-01,\n",
       "        -8.95937718e-03, -1.92378074e-01, -1.06289901e-01],\n",
       "       [-7.61866793e-02,  6.58856034e-01,  4.82112728e-02,\n",
       "         7.37104565e-02, -1.13840111e-01, -2.07374632e-01,\n",
       "        -1.42729789e-01, -1.75554417e-02, -1.25969443e-02],\n",
       "       [-1.37557806e-02,  2.13427529e-01, -1.60541922e-01,\n",
       "        -1.51020605e-02, -2.27134019e-01,  1.13780379e-01,\n",
       "         2.21528262e-01, -7.39613473e-02, -8.34639743e-02],\n",
       "       [ 1.44190714e-01, -1.19075648e-01, -4.46801959e-03,\n",
       "         1.28820054e-02, -2.58992881e-01,  3.16579044e-01,\n",
       "         7.53553584e-02, -2.26577502e-02, -4.88273501e-02],\n",
       "       [ 5.47746457e-02,  1.73213527e-01,  8.17142874e-02,\n",
       "         7.71526024e-02, -1.37207741e-02, -3.66073787e-01,\n",
       "         1.19866855e-01, -4.15011309e-02,  7.17485622e-02],\n",
       "       [ 2.67577887e-01,  8.20102841e-02,  2.03427151e-01,\n",
       "         5.30751571e-02, -4.64869708e-01,  8.94116536e-02,\n",
       "        -2.08077371e-01,  7.80851915e-02,  3.25836241e-02],\n",
       "       [ 4.82967161e-02, -2.57988453e-01, -1.35813743e-01,\n",
       "        -1.40965451e-03, -7.62709230e-02,  2.78028965e-01,\n",
       "         2.13749781e-01,  2.14262423e-03, -6.91872165e-02],\n",
       "       [-7.19969571e-02, -3.00367177e-02, -8.27017650e-02,\n",
       "        -2.96561550e-02, -2.61683375e-01,  2.35941067e-01,\n",
       "         3.74983460e-01, -7.65011013e-02,  2.48791110e-02],\n",
       "       [-8.38292614e-02,  1.19972147e-01, -1.60017356e-01,\n",
       "         7.98618570e-02,  4.48646367e-01, -3.47005695e-01,\n",
       "         4.65023011e-01, -2.44163126e-01, -1.44074887e-01],\n",
       "       [-2.80984864e-02, -2.63557494e-01,  8.89520422e-02,\n",
       "        -9.27563086e-02, -4.18335795e-01,  4.11000431e-01,\n",
       "         1.04025260e-01,  1.01637229e-01,  1.42930061e-01],\n",
       "       [ 2.24232435e-01,  1.70070454e-02,  9.60339069e-01,\n",
       "        -5.01290187e-02, -8.88324022e-01, -3.95868085e-02,\n",
       "        -4.01651353e-01,  2.37589419e-01,  1.85065210e-01],\n",
       "       [-2.72815585e-01, -2.39443541e-01, -2.24708483e-01,\n",
       "        -1.59451082e-01,  7.39273727e-01, -1.42738316e-03,\n",
       "        -2.97349058e-02, -1.72010675e-01, -7.52597749e-02],\n",
       "       [ 1.11585289e-01,  3.11403275e-01, -3.43014337e-02,\n",
       "         5.62058855e-03, -1.59702435e-01, -2.21391805e-02,\n",
       "        -1.91502571e-01, -3.37934447e-03, -1.58920914e-01]], dtype=float32)"
      ]
     },
     "execution_count": 23,
     "metadata": {},
     "output_type": "execute_result"
    }
   ],
   "source": [
    "np.array(model(next(iter(dls.train))[0]).detach().cpu())"
   ]
  },
  {
   "cell_type": "code",
   "execution_count": 9,
   "id": "c5bf4851",
   "metadata": {},
   "outputs": [
    {
     "ename": "NameError",
     "evalue": "name 'TSTnext' is not defined",
     "output_type": "error",
     "traceback": [
      "\u001b[0;31m---------------------------------------------------------------------------\u001b[0m",
      "\u001b[0;31mNameError\u001b[0m                                 Traceback (most recent call last)",
      "Input \u001b[0;32mIn [9]\u001b[0m, in \u001b[0;36m<cell line: 1>\u001b[0;34m()\u001b[0m\n\u001b[0;32m----> 1\u001b[0m \u001b[43mTSTnext\u001b[49m(\u001b[38;5;28miter\u001b[39m(dls\u001b[38;5;241m.\u001b[39mtrain))[\u001b[38;5;241m1\u001b[39m]\n",
      "\u001b[0;31mNameError\u001b[0m: name 'TSTnext' is not defined"
     ]
    }
   ],
   "source": [
    "TSTnext(iter(dls.train))[1]"
   ]
  }
 ],
 "metadata": {
  "kernelspec": {
   "display_name": "Python 3 (ipykernel)",
   "language": "python",
   "name": "python3"
  },
  "language_info": {
   "codemirror_mode": {
    "name": "ipython",
    "version": 3
   },
   "file_extension": ".py",
   "mimetype": "text/x-python",
   "name": "python",
   "nbconvert_exporter": "python",
   "pygments_lexer": "ipython3",
   "version": "3.8.12"
  }
 },
 "nbformat": 4,
 "nbformat_minor": 5
}
