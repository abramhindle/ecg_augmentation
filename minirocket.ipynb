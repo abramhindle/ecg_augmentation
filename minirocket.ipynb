{
 "cells": [
  {
   "cell_type": "code",
   "execution_count": null,
   "id": "884f3603",
   "metadata": {},
   "outputs": [],
   "source": [
    "from helper_code import *\n",
    "import numpy as np, os, sys, joblib\n",
    "import ecg_plot\n",
    "import pandas as pd\n",
    "from glob import glob\n",
    "import os\n",
    "from torch.utils.data import Dataset, DataLoader\n",
    "from sklearn.model_selection import train_test_split\n",
    "from tsai.all import *\n",
    "import torch\n",
    "import optuna\n",
    "from optuna.integration import FastAIPruningCallback\n",
    "\n",
    "torch.cuda.set_device(1) \n",
    "\n",
    "\n",
    "def snomedConvert(code,snomed=True):\n",
    "    codes =  pd.read_csv(\"data/codes.csv\",sep=\";\")[[\"Dx\",\"SNOMED CT Code\"]]\n",
    "    if snomed:\n",
    "        df.columns = [codes[codes[\"SNOMED CT Code\"] == int(x)].iloc[0][\"Dx\"] for x in df.columns]\n",
    "        return df"
   ]
  },
  {
   "cell_type": "code",
   "execution_count": null,
   "id": "50dc655f",
   "metadata": {},
   "outputs": [],
   "source": [
    "df = pd.read_csv(\"data/WFDB_CPSC2018.csv\")\n",
    "codes =  pd.read_csv(\"data/codes.csv\",sep=\";\")\n",
    "# df.columns = [codes[codes[\"SNOMED CT Code\"] == x].iloc[0][\"Dx\"] for x in df.columns]\n",
    "np.sum(codes[\"SNOMED CT Code\"] == int(df.columns[0]))"
   ]
  },
  {
   "cell_type": "code",
   "execution_count": null,
   "id": "b9d0aa18",
   "metadata": {},
   "outputs": [],
   "source": [
    "X = np.load('./data/big_numpy_datasets/WFDB_CPSC2018.npy', mmap_mode='c')\n",
    "df = pd.read_csv(\"data/WFDB_CPSC2018.csv\").drop(columns=[\"headers\",\"leads\"])\n",
    "\n",
    "y = snomedConvert(df)\n",
    "y = y[y.columns[0]].to_numpy()\n",
    "y"
   ]
  },
  {
   "cell_type": "code",
   "execution_count": null,
   "id": "bb50de46",
   "metadata": {},
   "outputs": [],
   "source": [
    "splits = get_splits(y, valid_size=.2,test_size=0.1, stratify=True, random_state=23, shuffle=True)\n",
    "splits"
   ]
  },
  {
   "cell_type": "code",
   "execution_count": null,
   "id": "526e7a99",
   "metadata": {},
   "outputs": [],
   "source": [
    "df = pd.read_csv(\"data/WFDB_CPSC2018.csv\").drop(columns=[\"headers\",\"leads\"])\n",
    "y = snomedConvert(df)\n",
    "y_multi = []\n",
    "for i,row in y.iterrows():\n",
    "    sample_labels = []\n",
    "    for i,r in enumerate(row):\n",
    "        if r == True:\n",
    "            sample_labels.append(y.columns[i])\n",
    "        \n",
    "    y_multi.append(list(tuple(sample_labels)))\n",
    "label_counts = collections.Counter([a for r in y_multi for a in r])\n",
    "print('Counts by label:', dict(label_counts))"
   ]
  },
  {
   "cell_type": "code",
   "execution_count": null,
   "id": "107c4f1d",
   "metadata": {},
   "outputs": [],
   "source": [
    "def objective(trial:optuna.Trial):\n",
    "    def save_callback(study, trial):\n",
    "        if study.best_trial == trial:\n",
    "            PATH = Path('./models/inception_multilabel_small.pkl')\n",
    "            PATH.parent.mkdir(parents=True, exist_ok=True)\n",
    "            global learn\n",
    "            learn.export(PATH)\n",
    "        \n",
    "    # Define search space here. More info here https://optuna.readthedocs.io/en/stable/tutorial/10_key_features/002_configurations.html\n",
    "#     nf = trial.suggest_int('num_filters', 16, 48, step=8) # search through all categorical values in the provided list\n",
    "    depth = trial.suggest_int('depth', 9,12,step=1) # search through all integer values between 3 and 9 with 3 increment steps\n",
    "    conv_dropout = trial.suggest_float(\"conv_dropout\", 0.0, 0.2, step=.05) # search through all float values between 0.0 and 0.5 with 0.1 increment steps\n",
    "    learning_rate = trial.suggest_float(\"learning_rate\", 1e-3, 1e-1, log=True)  # search through all float values between 0.0 and 0.5 in log increment steps\n",
    "    \n",
    "    batch_tfms = TSStandardize(by_sample=True)\n",
    "    tfms  = [None, TSMultiLabelClassification()]\n",
    "    batch_tfms = [TSStandardize(by_sample=True)]\n",
    "    dsets = TSDatasets(X.astype(float), y_multi, tfms=tfms, splits=splits) # inplace=True by default\n",
    "    dls   = TSDataLoaders.from_dsets(dsets.train,dsets.valid, bs=[64, 128], batch_tfms=batch_tfms, num_workers=0)\n",
    "    metrics =[accuracy_multi, balanced_accuracy_multi, precision_multi, recall_multi, specificity_multi, F1_multi] \n",
    "\n",
    "    model = InceptionTimePlus(dls.vars, dls.c, dls.len,conv_dropout=conv_dropout, depth=depth)\n",
    "    global learn\n",
    "    learn = Learner(dls, model, metrics=metrics,loss_func=nn.BCEWithLogitsLoss(), cbs=FastAIPruningCallback(trial))\n",
    "\n",
    "\n",
    "#     with ContextManagers([learn.no_logging(), learn.no_bar()]): # [Optional] this prevents fastai from printing anything during training\n",
    "    learn.fit_one_cycle(150, lr_max=learning_rate)\n",
    "\n",
    "    # Return the objective value\n",
    "    return learn.recorder.values[-1][-1] # return the f1 value and try to maximize it\n",
    "\n",
    "study_name = \"inception_study2\" # Unique identifier of the study.\n",
    "storage_name = \"sqlite:///{}.db\".format(study_name)\n",
    "study = optuna.create_study(study_name=study_name, storage=storage_name,direction='maximize',load_if_exists=True,\n",
    "                            pruner=optuna.pruners.MedianPruner(n_warmup_steps=75),sampler=optuna.samplers.RandomSampler())\n",
    "\n",
    "study.optimize(objective, n_trials=75,callbacks=[save_callback])"
   ]
  },
  {
   "cell_type": "code",
   "execution_count": null,
   "id": "48d7831b",
   "metadata": {},
   "outputs": [],
   "source": [
    "tfms  = [None, TSMultiLabelClassification()]\n",
    "batch_tfms = [TSStandardize(by_sample=True)]\n",
    "dsets = TSDatasets(X.astype(float), y_multi, tfms=tfms, splits=splits) # inplace=True by default\n",
    "dls   = TSDataLoaders.from_dsets(dsets.train,dsets.valid, bs=[64, 128], batch_tfms=batch_tfms, num_workers=0)\n",
    "metrics =[ precision_multi, recall_multi, specificity_multi, F1_multi] \n",
    "model = MiniRocketPlus(dls.vars, dls.c,2500)\n",
    "# model = InceptionTimePlus(dls.vars, dls.c, dls.len)\n",
    "learn = Learner(dls, model, metrics=metrics, cbs=ShowGraph())\n",
    "learn.fit_one_cycle(250, lr_max=1e-4)\n",
    "learn.recorder.plot_metrics()"
   ]
  },
  {
   "cell_type": "code",
   "execution_count": 22,
   "id": "06ecedd5",
   "metadata": {},
   "outputs": [],
   "source": [
    "# nn.BCEWithLogitsLoss?"
   ]
  },
  {
   "cell_type": "code",
   "execution_count": null,
   "id": "32b98562",
   "metadata": {},
   "outputs": [],
   "source": [
    "np.array(model(next(iter(dls.train))[0]).detach().cpu())"
   ]
  },
  {
   "cell_type": "code",
   "execution_count": 9,
   "id": "4c20bbde",
   "metadata": {},
   "outputs": [
    {
     "ename": "NameError",
     "evalue": "name 'TSTnext' is not defined",
     "output_type": "error",
     "traceback": [
      "\u001b[0;31m---------------------------------------------------------------------------\u001b[0m",
      "\u001b[0;31mNameError\u001b[0m                                 Traceback (most recent call last)",
      "Input \u001b[0;32mIn [9]\u001b[0m, in \u001b[0;36m<cell line: 1>\u001b[0;34m()\u001b[0m\n\u001b[0;32m----> 1\u001b[0m \u001b[43mTSTnext\u001b[49m(\u001b[38;5;28miter\u001b[39m(dls\u001b[38;5;241m.\u001b[39mtrain))[\u001b[38;5;241m1\u001b[39m]\n",
      "\u001b[0;31mNameError\u001b[0m: name 'TSTnext' is not defined"
     ]
    }
   ],
   "source": [
    "TSTnext(iter(dls.train))[1]"
   ]
  }
 ],
 "metadata": {
  "kernelspec": {
   "display_name": "Python 3 (ipykernel)",
   "language": "python",
   "name": "python3"
  },
  "language_info": {
   "codemirror_mode": {
    "name": "ipython",
    "version": 3
   },
   "file_extension": ".py",
   "mimetype": "text/x-python",
   "name": "python",
   "nbconvert_exporter": "python",
   "pygments_lexer": "ipython3",
   "version": "3.8.12"
  }
 },
 "nbformat": 4,
 "nbformat_minor": 5
}
