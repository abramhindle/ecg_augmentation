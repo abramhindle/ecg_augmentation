{
 "cells": [
  {
   "cell_type": "code",
   "execution_count": 4,
   "id": "d3a34793",
   "metadata": {},
   "outputs": [],
   "source": [
    "from helper_code import *\n",
    "from team_code import *\n",
    "import numpy as np, os, sys, joblib\n",
    "import ecg_plot\n",
    "import pandas as pd\n",
    "from glob import glob\n",
    "import os\n",
    "# codes = pd.read_csv(\"dataset/codes.csv\")"
   ]
  },
  {
   "cell_type": "code",
   "execution_count": 3,
   "id": "f3047735",
   "metadata": {
    "scrolled": true
   },
   "outputs": [
    {
     "name": "stdout",
     "output_type": "stream",
     "text": [
      "Extracting features and labels for WFDB_ChapmanShaoxing\n",
      "\n",
      "\n",
      "Extracting features and labels for WFDB_CPSC2018_2\n",
      "\n",
      "\n",
      "Extracting features and labels for WFDB_CPSC2018\n",
      "\n",
      "\n",
      "    6877/6877...\r"
     ]
    }
   ],
   "source": [
    "# look at dataset directory and extract the label dataframe for each dataset\n",
    "\n",
    "directories = glob(\"data/*/\", recursive = True)\n",
    "for d in directories[0:3]:\n",
    "    dataset = d.split(\"/\")[-2]\n",
    "    header_files, recording_files = find_challenge_files(d)\n",
    "    num_recordings = len(recording_files)\n",
    "\n",
    "    if not num_recordings:\n",
    "        raise Exception('No data was provided.')\n",
    "\n",
    "    # Extract the classes from the dataset.\n",
    "\n",
    "    classes = set()\n",
    "    for header_file in header_files:\n",
    "        header = load_header(header_file)\n",
    "        classes |= set(get_labels(header))\n",
    "    if all(is_integer(x) for x in classes):\n",
    "        classes = sorted(classes, key=lambda x: int(x)) # Sort classes numerically if numbers.\n",
    "    else:\n",
    "        classes = sorted(classes) # Sort classes alphanumerically if not numbers.\n",
    "    num_classes = len(classes)\n",
    "\n",
    "    # Extract the features and labels from the dataset.\n",
    "    \n",
    "    print('Extracting features and labels for %s'%dataset)\n",
    "    print(\"\\n\")\n",
    "    data = np.zeros((num_recordings, 14), dtype=np.float32) # 14 features: one feature for each lead, one feature for age, and one feature for sex\n",
    "    labels = np.zeros((num_recordings, num_classes), dtype=np.bool_) # One-hot encoding of classes\n",
    "    for i in range(num_recordings):\n",
    "        print('    {}/{}...'.format(i+1, num_recordings),end=\"\\r\")\n",
    "\n",
    "        # Load header and recording.\n",
    "        header = load_header(header_files[i])\n",
    "        recording = load_recording(recording_files[i])\n",
    "\n",
    "\n",
    "        current_labels = get_labels(header)\n",
    "        for label in current_labels:\n",
    "            if label in classes:\n",
    "                j = classes.index(label)\n",
    "                labels[i, j] = 1\n",
    "\n",
    "    df = pd.DataFrame(labels,columns = classes)\n",
    "    df[\"headers\"] = header_files\n",
    "    df[\"leads\"] = recording_files\n",
    "    df.to_csv(\"data/%s.csv\"%dataset,index=False)\n",
    "    leads_in_memory = []\n",
    "    for lead in recording_files:\n",
    "        leads_in_memory.append(load_recording(lead)[:,0:2500])\n",
    "    np.save(\"data/big_numpy_datasets/%s\"%d.split(\"/\")[1],np.stack(leads_in_memory,axis = 0))"
   ]
  },
  {
   "cell_type": "code",
   "execution_count": 5,
   "id": "dbdd9ddf",
   "metadata": {},
   "outputs": [
    {
     "ename": "NameError",
     "evalue": "name 'header_files' is not defined",
     "output_type": "error",
     "traceback": [
      "\u001b[0;31m---------------------------------------------------------------------------\u001b[0m",
      "\u001b[0;31mNameError\u001b[0m                                 Traceback (most recent call last)",
      "Input \u001b[0;32mIn [5]\u001b[0m, in \u001b[0;36m<cell line: 2>\u001b[0;34m()\u001b[0m\n\u001b[1;32m      1\u001b[0m ecg_num \u001b[38;5;241m=\u001b[39m \u001b[38;5;241m-\u001b[39m\u001b[38;5;241m1\u001b[39m\n\u001b[0;32m----> 2\u001b[0m header \u001b[38;5;241m=\u001b[39m load_header(\u001b[43mheader_files\u001b[49m[ecg_num])\n\u001b[1;32m      3\u001b[0m leads \u001b[38;5;241m=\u001b[39m load_recording(recording_files[i])\n",
      "\u001b[0;31mNameError\u001b[0m: name 'header_files' is not defined"
     ]
    }
   ],
   "source": [
    "ecg_num = -1\n",
    "header = load_header(header_files[ecg_num])\n",
    "leads = load_recording(recording_files[i])\n",
    "# ecg_plot.plot(leads/np.max(leads))"
   ]
  },
  {
   "cell_type": "code",
   "execution_count": 6,
   "id": "693b790d",
   "metadata": {},
   "outputs": [
    {
     "ename": "NameError",
     "evalue": "name 'leads' is not defined",
     "output_type": "error",
     "traceback": [
      "\u001b[0;31m---------------------------------------------------------------------------\u001b[0m",
      "\u001b[0;31mNameError\u001b[0m                                 Traceback (most recent call last)",
      "Input \u001b[0;32mIn [6]\u001b[0m, in \u001b[0;36m<cell line: 1>\u001b[0;34m()\u001b[0m\n\u001b[0;32m----> 1\u001b[0m fig \u001b[38;5;241m=\u001b[39m pd\u001b[38;5;241m.\u001b[39mDataFrame(\u001b[43mleads\u001b[49m)\u001b[38;5;241m.\u001b[39mT\u001b[38;5;241m.\u001b[39mplot\u001b[38;5;241m.\u001b[39mline(subplots \u001b[38;5;241m=\u001b[39m \u001b[38;5;28;01mTrue\u001b[39;00m,layout\u001b[38;5;241m=\u001b[39m(\u001b[38;5;241m6\u001b[39m,\u001b[38;5;241m2\u001b[39m), figsize\u001b[38;5;241m=\u001b[39m(\u001b[38;5;241m30\u001b[39m,\u001b[38;5;241m20\u001b[39m))\n",
      "\u001b[0;31mNameError\u001b[0m: name 'leads' is not defined"
     ]
    }
   ],
   "source": [
    "fig = pd.DataFrame(leads).T.plot.line(subplots = True,layout=(6,2), figsize=(30,20))"
   ]
  }
 ],
 "metadata": {
  "kernelspec": {
   "display_name": "Python 3 (ipykernel)",
   "language": "python",
   "name": "python3"
  },
  "language_info": {
   "codemirror_mode": {
    "name": "ipython",
    "version": 3
   },
   "file_extension": ".py",
   "mimetype": "text/x-python",
   "name": "python",
   "nbconvert_exporter": "python",
   "pygments_lexer": "ipython3",
   "version": "3.8.12"
  }
 },
 "nbformat": 4,
 "nbformat_minor": 5
}
