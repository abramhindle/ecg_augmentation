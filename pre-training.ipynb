{
 "cells": [
  {
   "cell_type": "code",
   "execution_count": null,
   "id": "3d6f2893",
   "metadata": {},
   "outputs": [],
   "source": [
    "from helper_code import *\n",
    "import numpy as np, os, sys, joblib\n",
    "import ecg_plot\n",
    "import pandas as pd\n",
    "from glob import glob\n",
    "import os\n",
    "from torch.utils.data import Dataset, DataLoader\n",
    "from sklearn.model_selection import train_test_split\n",
    "from tsai.all import *\n",
    "import torch\n",
    "import optuna\n",
    "from optuna.integration import FastAIPruningCallback\n",
    "from sklearn.metrics import classification_report\n",
    "import transformation_funcs as tfs\n",
    "import seaborn as sns\n",
    "from torchsummary import summary\n",
    "torch.cuda.set_device(0) "
   ]
  },
  {
   "cell_type": "markdown",
   "id": "d1ade09b",
   "metadata": {},
   "source": [
    "# train on something else"
   ]
  },
  {
   "cell_type": "code",
   "execution_count": 4,
   "id": "b4473af2",
   "metadata": {},
   "outputs": [
    {
     "data": {
      "image/png": "[encoded data removed]",
      "text/plain": [
       "<Figure size 1152x36 with 1 Axes>"
      ]
     },
     "metadata": {
      "needs_background": "light"
     },
     "output_type": "display_data"
    },
    {
     "name": "stdout",
     "output_type": "stream",
     "text": [
      "Counts by label: {'sinus rhythm': 1752, 'left ventricular hypertrophy': 1232, 't wave abnormal': 2306, 'lateral ischaemia': 903, 'sinus bradycardia': 1677, 'right bundle branch block': 542, 'atrial fibrillation': 570, 't wave inversion': 812, 'nonspecific st t abnormality': 1883, 'atrial flutter': 186, 'ventricular premature beats': 357, 'left axis deviation': 940, 'sinus tachycardia': 1261, 'incomplete right bundle branch block': 407, 'prolonged qt interval': 1391, 'anterior ischemia': 281, 'low qrs voltages': 374, 'premature atrial contraction': 639, 'left anterior fascicular block': 180, 'left atrial enlargement': 870, 'left bundle branch block': 231, 'bundle branch block': 116, '1st degree av block': 769, 'qwave abnormal': 464, 'sinus arrhythmia': 455, 'inferior ischaemia': 451, 'st elevation': 134, 'early repolarization': 140, 'nonspecific intraventricular conduction disorder': 203, 'st interval abnormal': 992}\n"
     ]
    }
   ],
   "source": [
    "\n",
    "def snomedConvert(label_df,snomed=True):\n",
    "    codes =  pd.read_csv(\"data/codes.csv\",sep=\";\")[[\"Dx\",\"SNOMED CT Code\"]]\n",
    "    if snomed:\n",
    "        label_df.columns = [codes[codes[\"SNOMED CT Code\"] == int(x)][\"Dx\"].item() for x in label_df.columns]\n",
    "        return label_df\n",
    "DATASET_NAME = \"WFDB_Ga\"\n",
    "X = np.load('./data/big_numpy_datasets/%s.npy'%DATASET_NAME, mmap_mode='c')\n",
    "label_df = pd.read_csv(\"data/%s.csv\"%DATASET_NAME).drop(columns=[\"headers\",\"leads\"])\n",
    "y = snomedConvert(label_df)\n",
    "# get diseases that exist in more than 0.5 percent of the samples\n",
    "y=y[y.columns[y.sum()>(0.01*y.shape[0])]]\n",
    "splits = get_splits(y.to_numpy(), valid_size=.1,test_size=0.1, stratify=False, random_state=23, shuffle=True)\n",
    "# df = pd.read_csv(\"data/%s.csv\"%DATASET_NAME).drop(columns=[\"headers\",\"leads\"])\n",
    "# y = snomedConvert(y)\n",
    "y_multi = []\n",
    "for i,row in y.iterrows():\n",
    "    sample_labels = []\n",
    "    for i,r in enumerate(row):\n",
    "        if r == True:\n",
    "            sample_labels.append(y.columns[i])\n",
    "        \n",
    "    y_multi.append(list(tuple(sample_labels)))\n",
    "label_counts = collections.Counter([a for r in y_multi for a in r])\n",
    "print('Counts by label:', dict(label_counts))\n"
   ]
  },
  {
   "cell_type": "code",
   "execution_count": null,
   "id": "ea260580",
   "metadata": {},
   "outputs": [],
   "source": [
    "tfms  = [None, TSMultiLabelClassification()]\n",
    "batch_tfms = [TSStandardize(by_sample=True),\n",
    "              tfs.RandomShift(30),\n",
    "              tfs.MulNoise(3),\n",
    "              tfs.CutOutWhenTraining(),\n",
    "              tfs.Scale(scale_factor=0.5)\n",
    "             ]\n",
    "dsets = TSDatasets(X.astype(float), y_multi, tfms=tfms, splits=splits) # inplace=True by default\n",
    "dls   = TSDataLoaders.from_dsets(dsets.train,dsets.valid, bs=[128, 128], batch_tfms=batch_tfms, num_workers=0)\n",
    "metrics =[accuracy_multi, balanced_accuracy_multi, precision_multi, recall_multi, specificity_multi, F1_multi] \n",
    "# model = MiniRocketPlus(dls.vars, dls.c,2500)\n",
    "model = InceptionTimePlus(dls.vars, dls.c, dls.len, depth=10,)\n",
    "learn = Learner(dls, model, metrics=metrics, cbs=ShowGraph(),opt_func = wrap_optimizer(torch.optim.Adam,weight_decay=1e-4))\n",
    "learn.fit_one_cycle(100, lr_max=0.0018562679873326028)\n",
    "learn.recorder.plot_metrics()"
   ]
  },
  {
   "cell_type": "markdown",
   "id": "fa940029",
   "metadata": {},
   "source": [
    "# now test on main dataset"
   ]
  },
  {
   "cell_type": "code",
   "execution_count": 1,
   "id": "9f9e5d7e",
   "metadata": {},
   "outputs": [
    {
     "ename": "NameError",
     "evalue": "name 'np' is not defined",
     "output_type": "error",
     "traceback": [
      "\u001b[0;31m---------------------------------------------------------------------------\u001b[0m",
      "\u001b[0;31mNameError\u001b[0m                                 Traceback (most recent call last)",
      "\u001b[0;32m<ipython-input-1-99c62a097060>\u001b[0m in \u001b[0;36m<module>\u001b[0;34m\u001b[0m\n\u001b[1;32m      5\u001b[0m         \u001b[0;32mreturn\u001b[0m \u001b[0mlabel_df\u001b[0m\u001b[0;34m\u001b[0m\u001b[0;34m\u001b[0m\u001b[0m\n\u001b[1;32m      6\u001b[0m \u001b[0mDATASET_NAME\u001b[0m \u001b[0;34m=\u001b[0m \u001b[0;34m\"WFDB_CPSC2018\"\u001b[0m\u001b[0;34m\u001b[0m\u001b[0;34m\u001b[0m\u001b[0m\n\u001b[0;32m----> 7\u001b[0;31m \u001b[0mX\u001b[0m \u001b[0;34m=\u001b[0m \u001b[0mnp\u001b[0m\u001b[0;34m.\u001b[0m\u001b[0mload\u001b[0m\u001b[0;34m(\u001b[0m\u001b[0;34m'./data/big_numpy_datasets/%s.npy'\u001b[0m\u001b[0;34m%\u001b[0m\u001b[0mDATASET_NAME\u001b[0m\u001b[0;34m,\u001b[0m \u001b[0mmmap_mode\u001b[0m\u001b[0;34m=\u001b[0m\u001b[0;34m'c'\u001b[0m\u001b[0;34m)\u001b[0m\u001b[0;34m\u001b[0m\u001b[0;34m\u001b[0m\u001b[0m\n\u001b[0m\u001b[1;32m      8\u001b[0m \u001b[0mlabel_df\u001b[0m \u001b[0;34m=\u001b[0m \u001b[0mpd\u001b[0m\u001b[0;34m.\u001b[0m\u001b[0mread_csv\u001b[0m\u001b[0;34m(\u001b[0m\u001b[0;34m\"data/%s.csv\"\u001b[0m\u001b[0;34m%\u001b[0m\u001b[0mDATASET_NAME\u001b[0m\u001b[0;34m)\u001b[0m\u001b[0;34m.\u001b[0m\u001b[0mdrop\u001b[0m\u001b[0;34m(\u001b[0m\u001b[0mcolumns\u001b[0m\u001b[0;34m=\u001b[0m\u001b[0;34m[\u001b[0m\u001b[0;34m\"headers\"\u001b[0m\u001b[0;34m,\u001b[0m\u001b[0;34m\"leads\"\u001b[0m\u001b[0;34m]\u001b[0m\u001b[0;34m)\u001b[0m\u001b[0;34m\u001b[0m\u001b[0;34m\u001b[0m\u001b[0m\n\u001b[1;32m      9\u001b[0m \u001b[0my\u001b[0m \u001b[0;34m=\u001b[0m \u001b[0msnomedConvert\u001b[0m\u001b[0;34m(\u001b[0m\u001b[0mlabel_df\u001b[0m\u001b[0;34m)\u001b[0m\u001b[0;34m\u001b[0m\u001b[0;34m\u001b[0m\u001b[0m\n",
      "\u001b[0;31mNameError\u001b[0m: name 'np' is not defined"
     ]
    }
   ],
   "source": [
    "def snomedConvert(label_df,snomed=True):\n",
    "    codes =  pd.read_csv(\"data/codes.csv\",sep=\";\")[[\"Dx\",\"SNOMED CT Code\"]]\n",
    "    if snomed:\n",
    "        label_df.columns = [codes[codes[\"SNOMED CT Code\"] == int(x)][\"Dx\"].item() for x in label_df.columns]\n",
    "        return label_df\n",
    "DATASET_NAME = \"WFDB_CPSC2018\"\n",
    "X = np.load('./data/big_numpy_datasets/%s.npy'%DATASET_NAME, mmap_mode='c')\n",
    "label_df = pd.read_csv(\"data/%s.csv\"%DATASET_NAME).drop(columns=[\"headers\",\"leads\"])\n",
    "y = snomedConvert(label_df)\n",
    "# get diseases that exist in more than 0.5 percent of the samples\n",
    "y=y[y.columns[y.sum()>(0.01*y.shape[0])]]\n",
    "splits = get_splits(y.to_numpy(), valid_size=.1,test_size=0.1, stratify=False, random_state=23, shuffle=True)\n",
    "# df = pd.read_csv(\"data/%s.csv\"%DATASET_NAME).drop(columns=[\"headers\",\"leads\"])\n",
    "# y = snomedConvert(y)\n",
    "y_multi = []\n",
    "for i,row in y.iterrows():\n",
    "    sample_labels = []\n",
    "    for i,r in enumerate(row):\n",
    "        if r == True:\n",
    "            sample_labels.append(y.columns[i])\n",
    "        \n",
    "    y_multi.append(list(tuple(sample_labels)))\n",
    "label_counts = collections.Counter([a for r in y_multi for a in r])\n",
    "print('Counts by label:', dict(label_counts))"
   ]
  },
  {
   "cell_type": "code",
   "execution_count": 8,
   "id": "d746086e",
   "metadata": {},
   "outputs": [
    {
     "data": {
      "text/plain": [
       "array([[ True, False, False, ..., False, False, False],\n",
       "       [False, False, False, ..., False,  True, False],\n",
       "       [False, False,  True, ..., False, False, False],\n",
       "       ...,\n",
       "       [False, False, False, ..., False, False, False],\n",
       "       [False, False,  True, ..., False, False, False],\n",
       "       [False,  True, False, ..., False, False, False]])"
      ]
     },
     "execution_count": 8,
     "metadata": {},
     "output_type": "execute_result"
    }
   ],
   "source": [
    "y.to_numpy()"
   ]
  },
  {
   "cell_type": "code",
   "execution_count": null,
   "id": "5425f0f0",
   "metadata": {},
   "outputs": [],
   "source": [
    "tfms  = [None, TSMultiLabelClassification()]\n",
    "batch_tfms = [TSStandardize(by_sample=True),\n",
    "              tfs.RandomShift(30),\n",
    "              tfs.MulNoise(3),\n",
    "              tfs.CutOut(),\n",
    "              tfs.Scale(scale_factor=0.5)\n",
    "             ]\n",
    "dsets = TSDatasets(X.astype(float), y_multi, tfms=tfms, splits=splits) # inplace=True by default\n",
    "dls   = TSDataLoaders.from_dsets(dsets.train,dsets.valid, bs=[64, 128], batch_tfms=batch_tfms, num_workers=0)\n",
    "metrics =[accuracy_multi, balanced_accuracy_multi, precision_multi, recall_multi, specificity_multi, F1_multi] \n",
    "# model = MiniRocketPlus(dls.vars, dls.c,2500)\n",
    "# model = InceptionTimePlus(dls.vars, dls.c, dls.len, depth=10,)\n",
    "PATH = Path('./models/inception_ga.pkl')\n",
    "learn = load_learner(PATH, cpu=False)\n",
    "model = nn.Sequential(learn.model,nn.Linear(38, 9))\n",
    "\n",
    "learn = Learner(dls, model, metrics=metrics, cbs=ShowGraph())\n",
    "learn.fit_one_cycle(100, lr_max=0.18562679873326028)\n",
    "learn.recorder.plot_metrics()"
   ]
  },
  {
   "cell_type": "code",
   "execution_count": 131,
   "id": "c14b5aa9",
   "metadata": {},
   "outputs": [],
   "source": [
    "# PATH = Path('./models/inception_multilabel_old.pkl')\n",
    "# PATH.parent.mkdir(parents=True, exist_ok=True)\n",
    "# learn.export(PATH)"
   ]
  },
  {
   "cell_type": "markdown",
   "id": "bcb90ba3",
   "metadata": {},
   "source": [
    "# load and test model"
   ]
  },
  {
   "cell_type": "code",
   "execution_count": 55,
   "id": "76c33cd4",
   "metadata": {},
   "outputs": [
    {
     "data": {
      "text/plain": [
       "{'cut_out': False,\n",
       " 'noise': 6.0,\n",
       " 'norm_type': 'Normalize',\n",
       " 'random_shift': 0.1,\n",
       " 'scale': 0.30000000000000004}"
      ]
     },
     "execution_count": 55,
     "metadata": {},
     "output_type": "execute_result"
    }
   ],
   "source": [
    "import optuna\n",
    "PATH = Path('./models/inception_best_0.842064619064331.pkl')\n",
    "learn = load_learner(PATH, cpu=False)\n",
    "study = optuna.load_study(study_name='inception_study', storage='sqlite:///inception_study.db')\n",
    "bp = study.best_trial.params\n",
    "bp"
   ]
  },
  {
   "cell_type": "code",
   "execution_count": 57,
   "id": "024ac109",
   "metadata": {},
   "outputs": [
    {
     "data": {
      "text/html": [],
      "text/plain": [
       "<IPython.core.display.HTML object>"
      ]
     },
     "metadata": {},
     "output_type": "display_data"
    },
    {
     "name": "stdout",
     "output_type": "stream",
     "text": [
      "                              precision    recall  f1-score   support\n",
      "\n",
      "         1st degree av block      0.877     0.814     0.844        70\n",
      "         atrial fibrillation      0.932     0.948     0.940       116\n",
      "    left bundle branch block      0.792     1.000     0.884        19\n",
      "premature atrial contraction      0.658     0.417     0.510        60\n",
      "   right bundle branch block      0.935     0.959     0.947       196\n",
      "                sinus rhythm      0.625     0.747     0.681        87\n",
      "               st depression      0.821     0.802     0.812        86\n",
      "                st elevation      0.421     0.333     0.372        24\n",
      "        ventricular ectopics      0.809     0.618     0.701        89\n",
      "\n",
      "                   micro avg      0.827     0.798     0.812       747\n",
      "                   macro avg      0.763     0.738     0.743       747\n",
      "                weighted avg      0.823     0.798     0.805       747\n",
      "                 samples avg      0.781     0.793     0.781       747\n",
      "\n"
     ]
    }
   ],
   "source": [
    "tfms  = [None, TSMultiLabelClassification()]\n",
    "batch_tfms = [\n",
    "                TSStandardize(by_sample=True),\n",
    "#                 tfs.Normalize(),\n",
    "#               tfs.RandomShift(0.1),\n",
    "#               tfs.MulNoise(6),\n",
    "#               tfs.CutOut(),\n",
    "              tfs.Scale(scale_factor=0.15)\n",
    "             ]\n",
    "# batch_tfms\n",
    "\n",
    "dsets = TSDatasets(X.astype(float), y_multi, tfms=tfms, splits=(splits[0],splits[2])) # inplace=True by default\n",
    "dls   = TSDataLoaders.from_dsets(dsets.train,dsets.valid, bs=[64, 128], batch_tfms=batch_tfms, num_workers=0)\n",
    "valid_probas, valid_targets, valid_preds = learn.get_preds(dl=dls.valid, with_decoded=True)\n",
    "\n",
    "y_pred = (valid_preds>0)\n",
    "y_test = valid_targets\n",
    "\n",
    "print(classification_report(y_test, y_pred,target_names = dls.vocab.o2i.keys(),digits=3))"
   ]
  }
 ],
 "metadata": {
  "kernelspec": {
   "display_name": "Python 3",
   "language": "python",
   "name": "python3"
  },
  "language_info": {
   "codemirror_mode": {
    "name": "ipython",
    "version": 3
   },
   "file_extension": ".py",
   "mimetype": "text/x-python",
   "name": "python",
   "nbconvert_exporter": "python",
   "pygments_lexer": "ipython3",
   "version": "3.8.5"
  }
 },
 "nbformat": 4,
 "nbformat_minor": 5
}
