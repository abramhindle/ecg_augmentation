{
 "cells": [
  {
   "cell_type": "code",
   "execution_count": 1,
   "id": "illegal-packaging",
   "metadata": {},
   "outputs": [
    {
     "name": "stdout",
     "output_type": "stream",
     "text": [
      "os             : Linux-4.15.0-70-generic-x86_64-with-glibc2.10\n",
      "python         : 3.8.5\n",
      "tsai           : 0.2.24\n",
      "fastai         : 2.5.3\n",
      "fastcore       : 1.3.27\n",
      "torch          : 1.8.1+cu101\n",
      "n_cpus         : 96\n",
      "device         : cuda (Tesla V100-SXM2-32GB)\n"
     ]
    }
   ],
   "source": [
    "from helper_code import *\n",
    "import numpy as np, os, sys, joblib\n",
    "import ecg_plot\n",
    "import pandas as pd\n",
    "from glob import glob\n",
    "import os\n",
    "\n",
    "from tsai.all import *\n",
    "computer_setup()"
   ]
  },
  {
   "cell_type": "code",
   "execution_count": 2,
   "id": "removable-malta",
   "metadata": {},
   "outputs": [
    {
     "data": {
      "text/plain": [
       "{'1': 'Nor', '2': 'RoT', '3': 'PVC', '4': 'SPC', '5': 'Unk'}"
      ]
     },
     "execution_count": 2,
     "metadata": {},
     "output_type": "execute_result"
    }
   ],
   "source": [
    "class_map = {\n",
    "    '1':'Nor',  # N:1  - Normal\n",
    "    '2':'RoT',  # r:2  - R-on-T premature ventricular contraction\n",
    "    '3':'PVC',  # V:3  - Premature ventricular contraction\n",
    "    '4':'SPC',  # S:4  - Supraventricular premature or ectopic beat (atrial or nodal)\n",
    "    '5':'Unk',  # Q:5  - Unclassifiable beat\n",
    "    }\n",
    "class_map"
   ]
  },
  {
   "cell_type": "code",
   "execution_count": 3,
   "id": "otherwise-operations",
   "metadata": {},
   "outputs": [
    {
     "data": {
      "text/plain": [
       "((5000, 1, 140),\n",
       " (5000,),\n",
       " ((#500) [0,1,2,3,4,5,6,7,8,9...],\n",
       "  (#4500) [500,501,502,503,504,505,506,507,508,509...]),\n",
       " array(['Nor', 'Nor', 'Nor', ..., 'RoT', 'RoT', 'RoT'], dtype='<U3'))"
      ]
     },
     "execution_count": 3,
     "metadata": {},
     "output_type": "execute_result"
    }
   ],
   "source": [
    "# dataset id\n",
    "dsid = 'ECG5000' \n",
    "X, y, splits = get_UCR_data(dsid, split_data=False)\n",
    "labeler = ReLabeler(class_map)\n",
    "new_y = labeler(y) # map to more descriptive labels\n",
    "X.shape, new_y.shape, splits, new_y"
   ]
  },
  {
   "cell_type": "code",
   "execution_count": 8,
   "id": "ongoing-hollow",
   "metadata": {},
   "outputs": [
    {
     "name": "stdout",
     "output_type": "stream",
     "text": [
      "Counts by label: {'Nor': 2919, 'RoT': 1767, 'PVC': 96, 'SPC': 194, 'Unk': 24}\n",
      "Naive Accuracy: 58.38%\n"
     ]
    }
   ],
   "source": [
    "label_counts = collections.Counter(new_y)\n",
    "print('Counts by label:', dict(label_counts))\n",
    "print(f'Naive Accuracy: {100*max(label_counts.values())/sum(label_counts.values()):0.2f}%')"
   ]
  },
  {
   "cell_type": "code",
   "execution_count": 9,
   "id": "deluxe-commission",
   "metadata": {},
   "outputs": [
    {
     "data": {
      "text/plain": [
       "(#500) [(TSTensor(vars:1, len:140, device=cpu), TensorCategory(0)), (TSTensor(vars:1, len:140, device=cpu), TensorCategory(0)), (TSTensor(vars:1, len:140, device=cpu), TensorCategory(0)), (TSTensor(vars:1, len:140, device=cpu), TensorCategory(0)), (TSTensor(vars:1, len:140, device=cpu), TensorCategory(0)), (TSTensor(vars:1, len:140, device=cpu), TensorCategory(0)), (TSTensor(vars:1, len:140, device=cpu), TensorCategory(0)), (TSTensor(vars:1, len:140, device=cpu), TensorCategory(0)), (TSTensor(vars:1, len:140, device=cpu), TensorCategory(0)), (TSTensor(vars:1, len:140, device=cpu), TensorCategory(0))] ...]"
      ]
     },
     "execution_count": 9,
     "metadata": {},
     "output_type": "execute_result"
    }
   ],
   "source": [
    "tfms  = [None, TSClassification()] # TSClassification == Categorize\n",
    "batch_tfms = TSStandardize()\n",
    "dls = get_ts_dls(X, new_y, splits=splits, tfms=tfms, batch_tfms=batch_tfms, bs=[64, 128])\n",
    "dls.dataset"
   ]
  },
  {
   "cell_type": "code",
   "execution_count": 10,
   "id": "tropical-passage",
   "metadata": {},
   "outputs": [
    {
     "data": {
      "text/html": [],
      "text/plain": [
       "<IPython.core.display.HTML object>"
      ]
     },
     "metadata": {},
     "output_type": "display_data"
    },
    {
     "data": {
      "text/plain": [
       "SuggestedLRs(valley=0.0012022644514217973)"
      ]
     },
     "execution_count": 10,
     "metadata": {},
     "output_type": "execute_result"
    },
    {
     "data": {
      "image/png": "[encoded data removed]",
      "text/plain": [
       "<Figure size 432x288 with 1 Axes>"
      ]
     },
     "metadata": {
      "needs_background": "light"
     },
     "output_type": "display_data"
    }
   ],
   "source": [
    "model = build_ts_model(InceptionTimePlus, dls=dls)\n",
    "learn = Learner(dls, model, metrics=accuracy)\n",
    "learn.lr_find()"
   ]
  },
  {
   "cell_type": "code",
   "execution_count": 11,
   "id": "rocky-baker",
   "metadata": {},
   "outputs": [
    {
     "data": {
      "text/html": [
       "<table border=\"1\" class=\"dataframe\">\n",
       "  <thead>\n",
       "    <tr style=\"text-align: left;\">\n",
       "      <th>epoch</th>\n",
       "      <th>train_loss</th>\n",
       "      <th>valid_loss</th>\n",
       "      <th>accuracy</th>\n",
       "      <th>time</th>\n",
       "    </tr>\n",
       "  </thead>\n",
       "  <tbody>\n",
       "    <tr>\n",
       "      <td>0</td>\n",
       "      <td>1.496262</td>\n",
       "      <td>1.645582</td>\n",
       "      <td>0.346000</td>\n",
       "      <td>00:00</td>\n",
       "    </tr>\n",
       "    <tr>\n",
       "      <td>1</td>\n",
       "      <td>1.235263</td>\n",
       "      <td>1.614043</td>\n",
       "      <td>0.353111</td>\n",
       "      <td>00:00</td>\n",
       "    </tr>\n",
       "    <tr>\n",
       "      <td>2</td>\n",
       "      <td>0.999045</td>\n",
       "      <td>1.446443</td>\n",
       "      <td>0.353333</td>\n",
       "      <td>00:00</td>\n",
       "    </tr>\n",
       "    <tr>\n",
       "      <td>3</td>\n",
       "      <td>0.822071</td>\n",
       "      <td>1.058446</td>\n",
       "      <td>0.606444</td>\n",
       "      <td>00:00</td>\n",
       "    </tr>\n",
       "    <tr>\n",
       "      <td>4</td>\n",
       "      <td>0.687910</td>\n",
       "      <td>1.352069</td>\n",
       "      <td>0.387333</td>\n",
       "      <td>00:00</td>\n",
       "    </tr>\n",
       "    <tr>\n",
       "      <td>5</td>\n",
       "      <td>0.589809</td>\n",
       "      <td>0.278919</td>\n",
       "      <td>0.931333</td>\n",
       "      <td>00:00</td>\n",
       "    </tr>\n",
       "    <tr>\n",
       "      <td>6</td>\n",
       "      <td>0.511856</td>\n",
       "      <td>0.233791</td>\n",
       "      <td>0.931111</td>\n",
       "      <td>00:00</td>\n",
       "    </tr>\n",
       "    <tr>\n",
       "      <td>7</td>\n",
       "      <td>0.453245</td>\n",
       "      <td>0.256793</td>\n",
       "      <td>0.932000</td>\n",
       "      <td>00:00</td>\n",
       "    </tr>\n",
       "    <tr>\n",
       "      <td>8</td>\n",
       "      <td>0.401321</td>\n",
       "      <td>0.254903</td>\n",
       "      <td>0.934222</td>\n",
       "      <td>00:00</td>\n",
       "    </tr>\n",
       "    <tr>\n",
       "      <td>9</td>\n",
       "      <td>0.360504</td>\n",
       "      <td>0.228143</td>\n",
       "      <td>0.936667</td>\n",
       "      <td>00:00</td>\n",
       "    </tr>\n",
       "    <tr>\n",
       "      <td>10</td>\n",
       "      <td>0.327475</td>\n",
       "      <td>0.237788</td>\n",
       "      <td>0.934222</td>\n",
       "      <td>00:00</td>\n",
       "    </tr>\n",
       "    <tr>\n",
       "      <td>11</td>\n",
       "      <td>0.302146</td>\n",
       "      <td>0.284652</td>\n",
       "      <td>0.932444</td>\n",
       "      <td>00:00</td>\n",
       "    </tr>\n",
       "    <tr>\n",
       "      <td>12</td>\n",
       "      <td>0.278942</td>\n",
       "      <td>0.219513</td>\n",
       "      <td>0.936444</td>\n",
       "      <td>00:00</td>\n",
       "    </tr>\n",
       "    <tr>\n",
       "      <td>13</td>\n",
       "      <td>0.255527</td>\n",
       "      <td>0.248906</td>\n",
       "      <td>0.936444</td>\n",
       "      <td>00:00</td>\n",
       "    </tr>\n",
       "    <tr>\n",
       "      <td>14</td>\n",
       "      <td>0.235596</td>\n",
       "      <td>0.222183</td>\n",
       "      <td>0.943333</td>\n",
       "      <td>00:00</td>\n",
       "    </tr>\n",
       "    <tr>\n",
       "      <td>15</td>\n",
       "      <td>0.216179</td>\n",
       "      <td>0.261151</td>\n",
       "      <td>0.922444</td>\n",
       "      <td>00:00</td>\n",
       "    </tr>\n",
       "    <tr>\n",
       "      <td>16</td>\n",
       "      <td>0.202340</td>\n",
       "      <td>0.282026</td>\n",
       "      <td>0.936444</td>\n",
       "      <td>00:00</td>\n",
       "    </tr>\n",
       "    <tr>\n",
       "      <td>17</td>\n",
       "      <td>0.188113</td>\n",
       "      <td>0.267775</td>\n",
       "      <td>0.925778</td>\n",
       "      <td>00:00</td>\n",
       "    </tr>\n",
       "    <tr>\n",
       "      <td>18</td>\n",
       "      <td>0.175583</td>\n",
       "      <td>0.282754</td>\n",
       "      <td>0.902000</td>\n",
       "      <td>00:00</td>\n",
       "    </tr>\n",
       "    <tr>\n",
       "      <td>19</td>\n",
       "      <td>0.164229</td>\n",
       "      <td>0.222989</td>\n",
       "      <td>0.936444</td>\n",
       "      <td>00:00</td>\n",
       "    </tr>\n",
       "    <tr>\n",
       "      <td>20</td>\n",
       "      <td>0.152730</td>\n",
       "      <td>0.231318</td>\n",
       "      <td>0.932667</td>\n",
       "      <td>00:00</td>\n",
       "    </tr>\n",
       "    <tr>\n",
       "      <td>21</td>\n",
       "      <td>0.141105</td>\n",
       "      <td>0.223811</td>\n",
       "      <td>0.930667</td>\n",
       "      <td>00:00</td>\n",
       "    </tr>\n",
       "    <tr>\n",
       "      <td>22</td>\n",
       "      <td>0.132422</td>\n",
       "      <td>0.215664</td>\n",
       "      <td>0.935556</td>\n",
       "      <td>00:00</td>\n",
       "    </tr>\n",
       "    <tr>\n",
       "      <td>23</td>\n",
       "      <td>0.123245</td>\n",
       "      <td>0.232394</td>\n",
       "      <td>0.921778</td>\n",
       "      <td>00:00</td>\n",
       "    </tr>\n",
       "    <tr>\n",
       "      <td>24</td>\n",
       "      <td>0.114834</td>\n",
       "      <td>0.208070</td>\n",
       "      <td>0.941333</td>\n",
       "      <td>00:00</td>\n",
       "    </tr>\n",
       "    <tr>\n",
       "      <td>25</td>\n",
       "      <td>0.107413</td>\n",
       "      <td>0.209402</td>\n",
       "      <td>0.941111</td>\n",
       "      <td>00:00</td>\n",
       "    </tr>\n",
       "    <tr>\n",
       "      <td>26</td>\n",
       "      <td>0.100283</td>\n",
       "      <td>0.219094</td>\n",
       "      <td>0.933778</td>\n",
       "      <td>00:00</td>\n",
       "    </tr>\n",
       "    <tr>\n",
       "      <td>27</td>\n",
       "      <td>0.094530</td>\n",
       "      <td>0.219609</td>\n",
       "      <td>0.935111</td>\n",
       "      <td>00:00</td>\n",
       "    </tr>\n",
       "    <tr>\n",
       "      <td>28</td>\n",
       "      <td>0.089279</td>\n",
       "      <td>0.217864</td>\n",
       "      <td>0.937556</td>\n",
       "      <td>00:00</td>\n",
       "    </tr>\n",
       "    <tr>\n",
       "      <td>29</td>\n",
       "      <td>0.085019</td>\n",
       "      <td>0.218345</td>\n",
       "      <td>0.937333</td>\n",
       "      <td>00:00</td>\n",
       "    </tr>\n",
       "  </tbody>\n",
       "</table>"
      ],
      "text/plain": [
       "<IPython.core.display.HTML object>"
      ]
     },
     "metadata": {},
     "output_type": "display_data"
    }
   ],
   "source": [
    "learn = ts_learner(dls, arch=InceptionTimePlus, metrics=accuracy)\n",
    "learn.fit_one_cycle(30, lr_max=1e-3)"
   ]
  },
  {
   "cell_type": "code",
   "execution_count": 12,
   "id": "agricultural-summit",
   "metadata": {},
   "outputs": [
    {
     "data": {
      "text/html": [],
      "text/plain": [
       "<IPython.core.display.HTML object>"
      ]
     },
     "metadata": {},
     "output_type": "display_data"
    },
    {
     "data": {
      "text/plain": [
       "SuggestedLRs(valley=0.00019054606673307717)"
      ]
     },
     "execution_count": 12,
     "metadata": {},
     "output_type": "execute_result"
    },
    {
     "data": {
      "image/png": "[encoded data removed]",
      "text/plain": [
       "<Figure size 432x288 with 1 Axes>"
      ]
     },
     "metadata": {
      "needs_background": "light"
     },
     "output_type": "display_data"
    }
   ],
   "source": [
    "tfms = [None, TSClassification()]\n",
    "batch_tfms = TSStandardize(by_sample=True)\n",
    "dls = get_ts_dls(X, y, splits=splits, tfms=tfms, batch_tfms=batch_tfms)\n",
    "model = build_ts_model(MiniRocket, dls=dls)\n",
    "learn = Learner(dls, model, metrics=accuracy, cbs=ShowGraph())\n",
    "learn.lr_find()"
   ]
  },
  {
   "cell_type": "code",
   "execution_count": 13,
   "id": "knowing-aging",
   "metadata": {},
   "outputs": [
    {
     "data": {
      "text/html": [
       "<table border=\"1\" class=\"dataframe\">\n",
       "  <thead>\n",
       "    <tr style=\"text-align: left;\">\n",
       "      <th>epoch</th>\n",
       "      <th>train_loss</th>\n",
       "      <th>valid_loss</th>\n",
       "      <th>accuracy</th>\n",
       "      <th>time</th>\n",
       "    </tr>\n",
       "  </thead>\n",
       "  <tbody>\n",
       "    <tr>\n",
       "      <td>0</td>\n",
       "      <td>1.448233</td>\n",
       "      <td>1.599729</td>\n",
       "      <td>0.353556</td>\n",
       "      <td>00:00</td>\n",
       "    </tr>\n",
       "    <tr>\n",
       "      <td>1</td>\n",
       "      <td>1.198403</td>\n",
       "      <td>1.464065</td>\n",
       "      <td>0.766667</td>\n",
       "      <td>00:00</td>\n",
       "    </tr>\n",
       "    <tr>\n",
       "      <td>2</td>\n",
       "      <td>0.950061</td>\n",
       "      <td>1.171477</td>\n",
       "      <td>0.864222</td>\n",
       "      <td>00:00</td>\n",
       "    </tr>\n",
       "    <tr>\n",
       "      <td>3</td>\n",
       "      <td>0.767685</td>\n",
       "      <td>0.789022</td>\n",
       "      <td>0.891556</td>\n",
       "      <td>00:00</td>\n",
       "    </tr>\n",
       "    <tr>\n",
       "      <td>4</td>\n",
       "      <td>0.637467</td>\n",
       "      <td>0.549727</td>\n",
       "      <td>0.909111</td>\n",
       "      <td>00:00</td>\n",
       "    </tr>\n",
       "    <tr>\n",
       "      <td>5</td>\n",
       "      <td>0.534349</td>\n",
       "      <td>0.363102</td>\n",
       "      <td>0.921111</td>\n",
       "      <td>00:00</td>\n",
       "    </tr>\n",
       "    <tr>\n",
       "      <td>6</td>\n",
       "      <td>0.460500</td>\n",
       "      <td>0.303972</td>\n",
       "      <td>0.925556</td>\n",
       "      <td>00:00</td>\n",
       "    </tr>\n",
       "    <tr>\n",
       "      <td>7</td>\n",
       "      <td>0.396720</td>\n",
       "      <td>0.252093</td>\n",
       "      <td>0.941111</td>\n",
       "      <td>00:00</td>\n",
       "    </tr>\n",
       "    <tr>\n",
       "      <td>8</td>\n",
       "      <td>0.343897</td>\n",
       "      <td>0.234013</td>\n",
       "      <td>0.939556</td>\n",
       "      <td>00:00</td>\n",
       "    </tr>\n",
       "    <tr>\n",
       "      <td>9</td>\n",
       "      <td>0.299401</td>\n",
       "      <td>0.227042</td>\n",
       "      <td>0.941111</td>\n",
       "      <td>00:00</td>\n",
       "    </tr>\n",
       "    <tr>\n",
       "      <td>10</td>\n",
       "      <td>0.266824</td>\n",
       "      <td>0.230215</td>\n",
       "      <td>0.942667</td>\n",
       "      <td>00:00</td>\n",
       "    </tr>\n",
       "    <tr>\n",
       "      <td>11</td>\n",
       "      <td>0.236142</td>\n",
       "      <td>0.238406</td>\n",
       "      <td>0.936222</td>\n",
       "      <td>00:00</td>\n",
       "    </tr>\n",
       "    <tr>\n",
       "      <td>12</td>\n",
       "      <td>0.211052</td>\n",
       "      <td>0.227632</td>\n",
       "      <td>0.942667</td>\n",
       "      <td>00:00</td>\n",
       "    </tr>\n",
       "    <tr>\n",
       "      <td>13</td>\n",
       "      <td>0.189865</td>\n",
       "      <td>0.232213</td>\n",
       "      <td>0.939111</td>\n",
       "      <td>00:00</td>\n",
       "    </tr>\n",
       "    <tr>\n",
       "      <td>14</td>\n",
       "      <td>0.169682</td>\n",
       "      <td>0.224841</td>\n",
       "      <td>0.945333</td>\n",
       "      <td>00:00</td>\n",
       "    </tr>\n",
       "    <tr>\n",
       "      <td>15</td>\n",
       "      <td>0.155690</td>\n",
       "      <td>0.239239</td>\n",
       "      <td>0.941778</td>\n",
       "      <td>00:00</td>\n",
       "    </tr>\n",
       "    <tr>\n",
       "      <td>16</td>\n",
       "      <td>0.139315</td>\n",
       "      <td>0.236981</td>\n",
       "      <td>0.943778</td>\n",
       "      <td>00:00</td>\n",
       "    </tr>\n",
       "    <tr>\n",
       "      <td>17</td>\n",
       "      <td>0.127031</td>\n",
       "      <td>0.234580</td>\n",
       "      <td>0.942000</td>\n",
       "      <td>00:00</td>\n",
       "    </tr>\n",
       "    <tr>\n",
       "      <td>18</td>\n",
       "      <td>0.116531</td>\n",
       "      <td>0.236241</td>\n",
       "      <td>0.942222</td>\n",
       "      <td>00:00</td>\n",
       "    </tr>\n",
       "    <tr>\n",
       "      <td>19</td>\n",
       "      <td>0.107344</td>\n",
       "      <td>0.236086</td>\n",
       "      <td>0.942444</td>\n",
       "      <td>00:00</td>\n",
       "    </tr>\n",
       "    <tr>\n",
       "      <td>20</td>\n",
       "      <td>0.100842</td>\n",
       "      <td>0.236341</td>\n",
       "      <td>0.943778</td>\n",
       "      <td>00:00</td>\n",
       "    </tr>\n",
       "    <tr>\n",
       "      <td>21</td>\n",
       "      <td>0.093756</td>\n",
       "      <td>0.240362</td>\n",
       "      <td>0.941556</td>\n",
       "      <td>00:00</td>\n",
       "    </tr>\n",
       "    <tr>\n",
       "      <td>22</td>\n",
       "      <td>0.085525</td>\n",
       "      <td>0.238780</td>\n",
       "      <td>0.942000</td>\n",
       "      <td>00:00</td>\n",
       "    </tr>\n",
       "    <tr>\n",
       "      <td>23</td>\n",
       "      <td>0.078412</td>\n",
       "      <td>0.239780</td>\n",
       "      <td>0.942222</td>\n",
       "      <td>00:00</td>\n",
       "    </tr>\n",
       "    <tr>\n",
       "      <td>24</td>\n",
       "      <td>0.072863</td>\n",
       "      <td>0.238844</td>\n",
       "      <td>0.942444</td>\n",
       "      <td>00:00</td>\n",
       "    </tr>\n",
       "    <tr>\n",
       "      <td>25</td>\n",
       "      <td>0.068790</td>\n",
       "      <td>0.236048</td>\n",
       "      <td>0.943111</td>\n",
       "      <td>00:00</td>\n",
       "    </tr>\n",
       "    <tr>\n",
       "      <td>26</td>\n",
       "      <td>0.065372</td>\n",
       "      <td>0.237761</td>\n",
       "      <td>0.943111</td>\n",
       "      <td>00:00</td>\n",
       "    </tr>\n",
       "    <tr>\n",
       "      <td>27</td>\n",
       "      <td>0.061203</td>\n",
       "      <td>0.238344</td>\n",
       "      <td>0.943111</td>\n",
       "      <td>00:00</td>\n",
       "    </tr>\n",
       "    <tr>\n",
       "      <td>28</td>\n",
       "      <td>0.058991</td>\n",
       "      <td>0.238919</td>\n",
       "      <td>0.942889</td>\n",
       "      <td>00:00</td>\n",
       "    </tr>\n",
       "    <tr>\n",
       "      <td>29</td>\n",
       "      <td>0.056192</td>\n",
       "      <td>0.239844</td>\n",
       "      <td>0.942222</td>\n",
       "      <td>00:00</td>\n",
       "    </tr>\n",
       "  </tbody>\n",
       "</table>"
      ],
      "text/plain": [
       "<IPython.core.display.HTML object>"
      ]
     },
     "metadata": {},
     "output_type": "display_data"
    },
    {
     "data": {
      "image/png": "[encoded data removed]",
      "text/plain": [
       "<Figure size 432x288 with 1 Axes>"
      ]
     },
     "metadata": {},
     "output_type": "display_data"
    },
    {
     "data": {
      "image/png": "[encoded data removed]",
      "text/plain": [
       "<Figure size 864x288 with 2 Axes>"
      ]
     },
     "metadata": {
      "needs_background": "light"
     },
     "output_type": "display_data"
    },
    {
     "name": "stdout",
     "output_type": "stream",
     "text": [
      "Total time        : 0:00:23.723542\n"
     ]
    }
   ],
   "source": [
    "tfms = [None, TSClassification()]\n",
    "batch_tfms = [TSStandardize(by_sample=True), TSMagScale()]\n",
    "dls = get_ts_dls(X, y, splits=splits, tfms=tfms, batch_tfms=batch_tfms)\n",
    "model = build_ts_model(MiniRocket, dls=dls)\n",
    "learn = Learner(dls, model, metrics=accuracy, cbs=ShowGraph())\n",
    "timer.start()\n",
    "learn.fit_one_cycle(30, 3e-4)\n",
    "timer.stop()"
   ]
  }
 ],
 "metadata": {
  "kernelspec": {
   "display_name": "Python 3",
   "language": "python",
   "name": "python3"
  },
  "language_info": {
   "codemirror_mode": {
    "name": "ipython",
    "version": 3
   },
   "file_extension": ".py",
   "mimetype": "text/x-python",
   "name": "python",
   "nbconvert_exporter": "python",
   "pygments_lexer": "ipython3",
   "version": "3.8.5"
  }
 },
 "nbformat": 4,
 "nbformat_minor": 5
}
