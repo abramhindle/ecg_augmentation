{
 "cells": [
  {
   "cell_type": "code",
   "execution_count": 1,
   "id": "300118ac-e779-4567-8825-0dc9ae082ba2",
   "metadata": {},
   "outputs": [
    {
     "name": "stderr",
     "output_type": "stream",
     "text": [
      "/home/amirsalimi/miniconda3/envs/ecg_augment/lib/python3.10/site-packages/tqdm/auto.py:22: TqdmWarning: IProgress not found. Please update jupyter and ipywidgets. See https://ipywidgets.readthedocs.io/en/stable/user_install.html\n",
      "  from .autonotebook import tqdm as notebook_tqdm\n"
     ]
    }
   ],
   "source": [
    "from helper_code import *\n",
    "import numpy as np, os, sys, joblib\n",
    "import ecg_plot\n",
    "import pandas as pd\n",
    "from glob import glob\n",
    "import os\n",
    "from torch.utils.data import Dataset, DataLoader\n",
    "from sklearn.model_selection import train_test_split\n",
    "from tsai.all import *\n",
    "import torch\n",
    "import optuna\n",
    "from optuna.integration import FastAIPruningCallback\n",
    "from sklearn.metrics import classification_report\n",
    "import transformation_funcs as tfs\n",
    "import seaborn as sns\n",
    "from torchsummary import summary\n",
    "import argparse\n"
   ]
  },
  {
   "cell_type": "markdown",
   "id": "3efb115b-3464-4627-a518-8d3b85de4fbb",
   "metadata": {},
   "source": [
    "# experiment design\n",
    "- pick a dataset\n",
    "- pick a scaling factor (sf)\n",
    "- train with 25% of dataset and test on the rest\n",
    "- train until no improvement is seen for 10 epochs\n",
    "- best F1 for validation set is the score of the experiment"
   ]
  },
  {
   "cell_type": "code",
   "execution_count": 6,
   "id": "19e025ca-8de9-43d0-b3f5-5c36c6e2ac6c",
   "metadata": {
    "tags": []
   },
   "outputs": [
    {
     "name": "stdout",
     "output_type": "stream",
     "text": [
      "transforms: ['Scale', 'NormMinMax']\n",
      "sc-n\n"
     ]
    }
   ],
   "source": [
    "torch.cuda.set_device(1)\n",
    "datasets = [\"PTBXL\",\"ChapmanShaoxing\",\"CPSC2018\",]\n",
    "norm_type = \"minmax\"\n",
    "max_len = 5000\n",
    "sf =  0.1\n",
    "scale_type = \"nearest\"\n",
    "architecture = \"inception\"\n",
    "DATASET_ID = \"CPSC2018\"\n",
    "transforms = [\"sc\",\"n\"]\n",
    "batch_tfms = []\n",
    "\n",
    "processing_type = '-'.join([x for x in transforms])\n",
    "\n",
    "if \"sc\" in transforms:\n",
    "    batch_tfms.append(tfs.Scale(scale_factor=sf,mode=scale_type))\n",
    "\n",
    "if \"n\" in transforms:\n",
    "    if norm_type == \"minmax\":\n",
    "        batch_tfms.append(tfs.NormMinMax())\n",
    "    if norm_type == \"maxdiv\":\n",
    "        batch_tfms.append(tfs.NormMaxDiv())\n",
    "    if norm_type == \"zscore\":\n",
    "        batch_tfms.append(tfs.NormZScore())\n",
    "    if norm_type == \"median\":\n",
    "        batch_tfms.append(tfs.NormMedian())\n",
    "    if norm_type == \"deci_scale\":\n",
    "        batch_tfms.append(tfs.NormDecimalScaling())\n",
    "        \n",
    "if \"bp\" in transforms:\n",
    "    batch_tfms.append(tfs.BandPass(int(sf*500),low_cut=50, high_cut=1,leads=12,))\n",
    "if \"sh\" in transforms:\n",
    "    batch_tfms.append(tfs.RandomShift(0.1))\n",
    "if len(transforms)==0:\n",
    "    processing_type = \"raw\"\n",
    "print(\"transforms:\",[x.name for x in batch_tfms])\n",
    "print(processing_type)"
   ]
  },
  {
   "cell_type": "code",
   "execution_count": 7,
   "id": "b0573a54-65a1-4af2-a17d-afa53ede7432",
   "metadata": {},
   "outputs": [
    {
     "data": {
      "image/png": "[encoded data removed]",
      "text/plain": [
       "<Figure size 1152x720 with 1 Axes>"
      ]
     },
     "metadata": {
      "needs_background": "light"
     },
     "output_type": "display_data"
    },
    {
     "name": "stdout",
     "output_type": "stream",
     "text": [
      "Counts by label: {'right bundle branch block': 1857, 'sinus rhythm': 918, 'atrial fibrillation': 1221, 'ventricular ectopics': 700, 'st depression': 869, '1st degree av block': 722, 'premature atrial contraction': 616}\n"
     ]
    }
   ],
   "source": [
    "DATASET_NAME = \"WFDB_%s_signitured\"%DATASET_ID\n",
    "X = np.load('./data/big_numpy_datasets/%s.npy'%DATASET_NAME, mmap_mode='c')\n",
    "label_df = pd.read_csv(\"data/%s.csv\"%DATASET_NAME).drop(columns=[\"headers\",\"leads\"])\n",
    "y = snomedConvert(label_df)\n",
    "y = y[y.columns[y.sum()>0.05*len(y)] ]\n",
    "\n",
    "cv_splits = get_splits(y.to_numpy(), n_splits = 20, valid_size=.1,test_size=0.1, stratify=False, random_state=23, shuffle=True)\n",
    "y_multi = []\n",
    "for i,row in y.iterrows():\n",
    "    sample_labels = []\n",
    "    for i,r in enumerate(row):\n",
    "        if r == True:\n",
    "            sample_labels.append(y.columns[i])\n",
    "        \n",
    "    y_multi.append(list(tuple(sample_labels)))\n",
    "label_counts = collections.Counter([a for r in y_multi for a in r])\n",
    "print('Counts by label:', dict(label_counts))\n",
    "tfms  = [None, TSMultiLabelClassification()]\n",
    "\n"
   ]
  },
  {
   "cell_type": "code",
   "execution_count": null,
   "id": "f87733ff-ba8f-4f41-8344-c69b62b14a91",
   "metadata": {},
   "outputs": [],
   "source": [
    "# no saving \n",
    "architecture = \"minirocket\"\n",
    "for cv_num in range(20):\n",
    "#     cv_num = cv_num + 0\n",
    "    dsets = TSDatasets(X.astype(float)[:,:,0:max_len], y_multi, tfms=tfms, splits=cv_splits[cv_num]) # inplace=True by default\n",
    "    dls   = TSDataLoaders.from_dsets(dsets.train,dsets.valid, bs=[64, 128], batch_tfms=batch_tfms, num_workers=0)\n",
    "    metrics =[accuracy_multi, balanced_accuracy_multi, precision_multi, recall_multi, specificity_multi, F1_multi]\n",
    "    if architecture == \"inception\":\n",
    "        model = InceptionTimePlus(dls.vars, dls.c, dls.len,)\n",
    "    elif architecture == \"minirocket\":\n",
    "        model = MiniRocketVotingClassifier(dls.vars, dls.c,dls.len)\n",
    "    # try : loss_func = BCEWithLogitsLossFlat(pos_weight=dls.train.cws.sqrt())\n",
    "    \n",
    "    learn = Learner(dls, model, metrics=metrics,\n",
    "                    cbs=[\n",
    "#                         fastai.callback.all.SaveModelCallback(monitor=\"F1_multi\",fname=\"%s_%s_%s_%s_%s\"%(architecture,DATASET_ID,processing_type,sf,cv_num)),\n",
    "                        fastai.callback.all.EarlyStoppingCallback(monitor='F1_multi', min_delta=0.005, patience=50)\n",
    "                        ],\n",
    "#                     model_dir=\"models/scaling/\"\n",
    "                   )\n",
    "\n",
    "    learn.fit_one_cycle(400, lr_max=0.01,)\n",
    "#     # now test it on test set\n",
    "#     learn.load(\"%s_%s_%s_%s_%s\"%(architecture,DATASET_ID,processing_type,sf,cv_num))\n",
    "#     fold_splits = cv_splits[cv_num]\n",
    "#     dsets = TSDatasets(X.astype(float)[:,:,0:max_len], y_multi, tfms=tfms, splits=(fold_splits[0],fold_splits[2])) # inplace=True by default\n",
    "#     dls   = TSDataLoaders.from_dsets(dsets.train,dsets.valid, bs=[128, 128], batch_tfms=batch_tfms, num_workers=0)\n",
    "\n",
    "#     valid_probas, valid_targets, valid_preds = learn.get_preds(dl=dls.valid, with_decoded=True)\n",
    "#     y_pred = (valid_preds>0)\n",
    "#     y_test = valid_targets\n",
    "#     report = classification_report(y_test, y_pred,target_names = dls.vocab.o2i.keys(),digits=3,output_dict=True)\n",
    "#     df = pd.DataFrame(report).reset_index()\n",
    "#     df.to_csv(\"models/scaling/csvs/%s_%s_%s_%s_%s.csv\"%(architecture,DATASET_ID,processing_type,sf,cv_num),index=False)\n",
    "#     df"
   ]
  },
  {
   "cell_type": "code",
   "execution_count": 23,
   "id": "dc362188-42a3-4f97-a446-3e314f49c067",
   "metadata": {},
   "outputs": [],
   "source": [
    "# # minirocket version\n",
    "# from tsai.models.MINIROCKET_Pytorch import *\n",
    "# from tsai.models.utils import *\n",
    "\n",
    "# X = X.astype(float)[:,:,0:max_len]\n",
    "# mrf = MiniRocketFeatures(X.shape[1], X.shape[2]).to(default_device())\n",
    "# X_train = X[cv_splits[cv_num][0]]\n",
    "# mrf.fit(X_train)\n",
    "# X_feat = get_minirocket_features(X, mrf, chunksize=1024, to_np=True)\n",
    "# X_feat.shape, type(X_feat)"
   ]
  },
  {
   "cell_type": "code",
   "execution_count": 47,
   "id": "a6813127-27f8-42ae-9d64-05cbb68125d1",
   "metadata": {},
   "outputs": [
    {
     "data": {
      "text/html": [
       "\n",
       "<style>\n",
       "    /* Turns off some styling */\n",
       "    progress {\n",
       "        /* gets rid of default border in Firefox and Opera. */\n",
       "        border: none;\n",
       "        /* Needs to be in here for Safari polyfill so background images work as expected. */\n",
       "        background-size: auto;\n",
       "    }\n",
       "    .progress-bar-interrupted, .progress-bar-interrupted::-webkit-progress-bar {\n",
       "        background: #F44336;\n",
       "    }\n",
       "</style>\n"
      ],
      "text/plain": [
       "<IPython.core.display.HTML object>"
      ]
     },
     "metadata": {},
     "output_type": "display_data"
    },
    {
     "data": {
      "text/html": [
       "\n",
       "    <div>\n",
       "      <progress value='1' class='' max='400' style='width:300px; height:20px; vertical-align: middle;'></progress>\n",
       "      0.25% [1/400 00:07<52:21]\n",
       "    </div>\n",
       "    \n",
       "<table border=\"1\" class=\"dataframe\">\n",
       "  <thead>\n",
       "    <tr style=\"text-align: left;\">\n",
       "      <th>epoch</th>\n",
       "      <th>train_loss</th>\n",
       "      <th>valid_loss</th>\n",
       "      <th>F1_multi</th>\n",
       "      <th>time</th>\n",
       "    </tr>\n",
       "  </thead>\n",
       "  <tbody>\n",
       "    <tr>\n",
       "      <td>0</td>\n",
       "      <td>0.523882</td>\n",
       "      <td>0.386341</td>\n",
       "      <td>0.649416</td>\n",
       "      <td>00:07</td>\n",
       "    </tr>\n",
       "  </tbody>\n",
       "</table><p>\n",
       "\n",
       "    <div>\n",
       "      <progress value='41' class='' max='91' style='width:300px; height:20px; vertical-align: middle;'></progress>\n",
       "      45.05% [41/91 00:03<00:04 0.3925]\n",
       "    </div>\n",
       "    "
      ],
      "text/plain": [
       "<IPython.core.display.HTML object>"
      ]
     },
     "metadata": {},
     "output_type": "display_data"
    },
    {
     "name": "stderr",
     "output_type": "stream",
     "text": [
      "\n",
      "KeyboardInterrupt\n",
      "\n"
     ]
    }
   ],
   "source": [
    "# minirocket version\n",
    "\n",
    "architecture = \"minirocket\"\n",
    "for cv_num in range(20):\n",
    "#     cv_num = cv_num + 0\n",
    "    dsets = TSDatasets(X.astype(float)[:,:,0:max_len], y_multi, tfms=tfms, splits=cv_splits[cv_num]) # inplace=True by default\n",
    "    dls   = TSDataLoaders.from_dsets(dsets.train,dsets.valid, bs=[64, 128], batch_tfms=batch_tfms, num_workers=0)\n",
    "    metrics =[ F1_multi]\n",
    "    if architecture == \"inception\":\n",
    "        model = InceptionTimePlus(dls.vars, dls.c, dls.len,)\n",
    "    elif architecture == \"minirocket\":\n",
    "        model = MiniRocketPlus(dls.vars, dls.c,dls.len)\n",
    "    # try : loss_func = BCEWithLogitsLossFlat(pos_weight=dls.train.cws.sqrt())\n",
    "    \n",
    "    learn = Learner(dls, model, metrics=metrics,\n",
    "                    cbs=[\n",
    "#                         fastai.callback.all.SaveModelCallback(monitor=\"F1_multi\",fname=\"%s_%s_%s_%s_%s\"%(architecture,DATASET_ID,processing_type,sf,cv_num)),\n",
    "                        fastai.callback.all.EarlyStoppingCallback(monitor='F1_multi', min_delta=0.005, patience=50)\n",
    "                        ],\n",
    "#                     model_dir=\"models/scaling/\"\n",
    "                   )\n",
    "\n",
    "    learn.fit_one_cycle(400, lr_max=0.01,)\n",
    "#     # now test it on test set\n",
    "#     learn.load(\"%s_%s_%s_%s_%s\"%(architecture,DATASET_ID,processing_type,sf,cv_num))\n",
    "#     fold_splits = cv_splits[cv_num]\n",
    "#     dsets = TSDatasets(X.astype(float)[:,:,0:max_len], y_multi, tfms=tfms, splits=(fold_splits[0],fold_splits[2])) # inplace=True by default\n",
    "#     dls   = TSDataLoaders.from_dsets(dsets.train,dsets.valid, bs=[128, 128], batch_tfms=batch_tfms, num_workers=0)\n",
    "\n",
    "#     valid_probas, valid_targets, valid_preds = learn.get_preds(dl=dls.valid, with_decoded=True)\n",
    "#     y_pred = (valid_preds>0)\n",
    "#     y_test = valid_targets\n",
    "#     report = classification_report(y_test, y_pred,target_names = dls.vocab.o2i.keys(),digits=3,output_dict=True)\n",
    "#     df = pd.DataFrame(report).reset_index()\n",
    "#     df.to_csv(\"models/scaling/csvs/%s_%s_%s_%s_%s.csv\"%(architecture,DATASET_ID,processing_type,sf,cv_num),index=False)\n",
    "#     df"
   ]
  },
  {
   "cell_type": "code",
   "execution_count": 45,
   "id": "78d0c19f-57f0-4546-af41-8cc960dc8bde",
   "metadata": {},
   "outputs": [
    {
     "data": {
      "text/plain": [
       "array([[-89.446815, -42.022007, -70.356026, -29.939886, -65.76913 ,\n",
       "        -84.5251  , -64.962776],\n",
       "       [-84.544   , -40.012135, -67.63268 , -30.603289, -62.555702,\n",
       "        -82.08255 , -61.762066]], dtype=float32)"
      ]
     },
     "execution_count": 45,
     "metadata": {},
     "output_type": "execute_result"
    }
   ],
   "source": [
    "v = model(torch.tensor(X[0:2][:,:,0:max_len]).float().to(device))\n",
    "v.cpu().detach().numpy()"
   ]
  },
  {
   "cell_type": "code",
   "execution_count": 28,
   "id": "0a947ccc-6ba5-4bac-8022-88a358a80a82",
   "metadata": {},
   "outputs": [
    {
     "data": {
      "text/plain": [
       "(12, 7, 500)"
      ]
     },
     "execution_count": 28,
     "metadata": {},
     "output_type": "execute_result"
    }
   ],
   "source": [
    "dls.vars, dls.c,dls.len"
   ]
  },
  {
   "cell_type": "code",
   "execution_count": 27,
   "id": "0d3e8797-2de7-4aa1-a0e2-90a8c241888e",
   "metadata": {},
   "outputs": [
    {
     "ename": "TypeError",
     "evalue": "MiniRocket.__init__() got an unexpected keyword argument 'custom_head'",
     "output_type": "error",
     "traceback": [
      "\u001b[0;31m---------------------------------------------------------------------------\u001b[0m",
      "\u001b[0;31mTypeError\u001b[0m                                 Traceback (most recent call last)",
      "Input \u001b[0;32mIn [27]\u001b[0m, in \u001b[0;36m<cell line: 1>\u001b[0;34m()\u001b[0m\n\u001b[0;32m----> 1\u001b[0m \u001b[43mbuild_ts_model\u001b[49m\u001b[43m(\u001b[49m\u001b[43mMiniRocket\u001b[49m\u001b[43m,\u001b[49m\u001b[43m \u001b[49m\u001b[43mdls\u001b[49m\u001b[38;5;241;43m=\u001b[39;49m\u001b[43mdls\u001b[49m\u001b[43m)\u001b[49m\n",
      "File \u001b[0;32m~/miniconda3/envs/ecg_augment/lib/python3.10/site-packages/tsai/models/utils.py:158\u001b[0m, in \u001b[0;36mbuild_ts_model\u001b[0;34m(arch, c_in, c_out, seq_len, d, dls, device, verbose, pretrained, weights_path, exclude_head, cut, init, arch_config, **kwargs)\u001b[0m\n\u001b[1;32m    154\u001b[0m \u001b[38;5;28;01mif\u001b[39;00m \u001b[38;5;28msum\u001b[39m([\u001b[38;5;241m1\u001b[39m \u001b[38;5;28;01mfor\u001b[39;00m v \u001b[38;5;129;01min\u001b[39;00m [\u001b[38;5;124m'\u001b[39m\u001b[38;5;124mRNN_FCN\u001b[39m\u001b[38;5;124m'\u001b[39m, \u001b[38;5;124m'\u001b[39m\u001b[38;5;124mLSTM_FCN\u001b[39m\u001b[38;5;124m'\u001b[39m, \u001b[38;5;124m'\u001b[39m\u001b[38;5;124mRNNPlus\u001b[39m\u001b[38;5;124m'\u001b[39m, \u001b[38;5;124m'\u001b[39m\u001b[38;5;124mLSTMPlus\u001b[39m\u001b[38;5;124m'\u001b[39m, \u001b[38;5;124m'\u001b[39m\u001b[38;5;124mGRUPlus\u001b[39m\u001b[38;5;124m'\u001b[39m, \u001b[38;5;124m'\u001b[39m\u001b[38;5;124mInceptionTime\u001b[39m\u001b[38;5;124m'\u001b[39m, \u001b[38;5;124m'\u001b[39m\u001b[38;5;124mTSiT\u001b[39m\u001b[38;5;124m'\u001b[39m,\n\u001b[1;32m    155\u001b[0m                     \u001b[38;5;124m'\u001b[39m\u001b[38;5;124mGRU_FCN\u001b[39m\u001b[38;5;124m'\u001b[39m, \u001b[38;5;124m'\u001b[39m\u001b[38;5;124mOmniScaleCNN\u001b[39m\u001b[38;5;124m'\u001b[39m, \u001b[38;5;124m'\u001b[39m\u001b[38;5;124mmWDN\u001b[39m\u001b[38;5;124m'\u001b[39m, \u001b[38;5;124m'\u001b[39m\u001b[38;5;124mTST\u001b[39m\u001b[38;5;124m'\u001b[39m, \u001b[38;5;124m'\u001b[39m\u001b[38;5;124mXCM\u001b[39m\u001b[38;5;124m'\u001b[39m, \u001b[38;5;124m'\u001b[39m\u001b[38;5;124mMLP\u001b[39m\u001b[38;5;124m'\u001b[39m, \u001b[38;5;124m'\u001b[39m\u001b[38;5;124mMiniRocket\u001b[39m\u001b[38;5;124m'\u001b[39m, \u001b[38;5;124m'\u001b[39m\u001b[38;5;124mInceptionRocket\u001b[39m\u001b[38;5;124m'\u001b[39m]\n\u001b[1;32m    156\u001b[0m         \u001b[38;5;28;01mif\u001b[39;00m v \u001b[38;5;129;01min\u001b[39;00m arch\u001b[38;5;241m.\u001b[39m\u001b[38;5;18m__name__\u001b[39m]):\n\u001b[1;32m    157\u001b[0m     pv(\u001b[38;5;124mf\u001b[39m\u001b[38;5;124m'\u001b[39m\u001b[38;5;124march: \u001b[39m\u001b[38;5;132;01m{\u001b[39;00march\u001b[38;5;241m.\u001b[39m\u001b[38;5;18m__name__\u001b[39m\u001b[38;5;132;01m}\u001b[39;00m\u001b[38;5;124m(c_in=\u001b[39m\u001b[38;5;132;01m{\u001b[39;00mc_in\u001b[38;5;132;01m}\u001b[39;00m\u001b[38;5;124m c_out=\u001b[39m\u001b[38;5;132;01m{\u001b[39;00mc_out\u001b[38;5;132;01m}\u001b[39;00m\u001b[38;5;124m seq_len=\u001b[39m\u001b[38;5;132;01m{\u001b[39;00mseq_len\u001b[38;5;132;01m}\u001b[39;00m\u001b[38;5;124m device=\u001b[39m\u001b[38;5;132;01m{\u001b[39;00mdevice\u001b[38;5;132;01m}\u001b[39;00m\u001b[38;5;124m, arch_config=\u001b[39m\u001b[38;5;132;01m{\u001b[39;00march_config\u001b[38;5;132;01m}\u001b[39;00m\u001b[38;5;124m, kwargs=\u001b[39m\u001b[38;5;132;01m{\u001b[39;00mkwargs\u001b[38;5;132;01m}\u001b[39;00m\u001b[38;5;124m)\u001b[39m\u001b[38;5;124m'\u001b[39m, verbose)\n\u001b[0;32m--> 158\u001b[0m     model \u001b[38;5;241m=\u001b[39m \u001b[43march\u001b[49m\u001b[43m(\u001b[49m\u001b[43mc_in\u001b[49m\u001b[43m,\u001b[49m\u001b[43m \u001b[49m\u001b[43mc_out\u001b[49m\u001b[43m,\u001b[49m\u001b[43m \u001b[49m\u001b[43mseq_len\u001b[49m\u001b[38;5;241;43m=\u001b[39;49m\u001b[43mseq_len\u001b[49m\u001b[43m,\u001b[49m\u001b[43m \u001b[49m\u001b[38;5;241;43m*\u001b[39;49m\u001b[38;5;241;43m*\u001b[39;49m\u001b[43march_config\u001b[49m\u001b[43m,\u001b[49m\u001b[43m \u001b[49m\u001b[38;5;241;43m*\u001b[39;49m\u001b[38;5;241;43m*\u001b[39;49m\u001b[43mkwargs\u001b[49m\u001b[43m)\u001b[49m\u001b[38;5;241m.\u001b[39mto(device\u001b[38;5;241m=\u001b[39mdevice)\n\u001b[1;32m    159\u001b[0m \u001b[38;5;28;01melif\u001b[39;00m \u001b[38;5;124m'\u001b[39m\u001b[38;5;124mxresnet\u001b[39m\u001b[38;5;124m'\u001b[39m \u001b[38;5;129;01min\u001b[39;00m arch\u001b[38;5;241m.\u001b[39m\u001b[38;5;18m__name__\u001b[39m \u001b[38;5;129;01mand\u001b[39;00m \u001b[38;5;129;01mnot\u001b[39;00m \u001b[38;5;124m'\u001b[39m\u001b[38;5;124m1d\u001b[39m\u001b[38;5;124m'\u001b[39m \u001b[38;5;129;01min\u001b[39;00m arch\u001b[38;5;241m.\u001b[39m\u001b[38;5;18m__name__\u001b[39m:\n\u001b[1;32m    160\u001b[0m     pv(\u001b[38;5;124mf\u001b[39m\u001b[38;5;124m'\u001b[39m\u001b[38;5;124march: \u001b[39m\u001b[38;5;132;01m{\u001b[39;00march\u001b[38;5;241m.\u001b[39m\u001b[38;5;18m__name__\u001b[39m\u001b[38;5;132;01m}\u001b[39;00m\u001b[38;5;124m(c_in=\u001b[39m\u001b[38;5;132;01m{\u001b[39;00mc_in\u001b[38;5;132;01m}\u001b[39;00m\u001b[38;5;124m c_out=\u001b[39m\u001b[38;5;132;01m{\u001b[39;00mc_out\u001b[38;5;132;01m}\u001b[39;00m\u001b[38;5;124m device=\u001b[39m\u001b[38;5;132;01m{\u001b[39;00mdevice\u001b[38;5;132;01m}\u001b[39;00m\u001b[38;5;124m, arch_config=\u001b[39m\u001b[38;5;132;01m{\u001b[39;00march_config\u001b[38;5;132;01m}\u001b[39;00m\u001b[38;5;124m, kwargs=\u001b[39m\u001b[38;5;132;01m{\u001b[39;00mkwargs\u001b[38;5;132;01m}\u001b[39;00m\u001b[38;5;124m)\u001b[39m\u001b[38;5;124m'\u001b[39m, verbose)\n",
      "\u001b[0;31mTypeError\u001b[0m: MiniRocket.__init__() got an unexpected keyword argument 'custom_head'"
     ]
    }
   ],
   "source": [
    "build_ts_model(MiniRocket, dls=dls)"
   ]
  },
  {
   "cell_type": "code",
   "execution_count": 4,
   "id": "8c6b9690-bedc-451e-8618-8b8da6cb457d",
   "metadata": {},
   "outputs": [
    {
     "data": {
      "text/html": [
       "\n",
       "<style>\n",
       "    /* Turns off some styling */\n",
       "    progress {\n",
       "        /* gets rid of default border in Firefox and Opera. */\n",
       "        border: none;\n",
       "        /* Needs to be in here for Safari polyfill so background images work as expected. */\n",
       "        background-size: auto;\n",
       "    }\n",
       "    .progress-bar-interrupted, .progress-bar-interrupted::-webkit-progress-bar {\n",
       "        background: #F44336;\n",
       "    }\n",
       "</style>\n"
      ],
      "text/plain": [
       "<IPython.core.display.HTML object>"
      ]
     },
     "metadata": {},
     "output_type": "display_data"
    },
    {
     "data": {
      "text/html": [
       "\n",
       "    <div>\n",
       "      <progress value='0' class='' max='400' style='width:300px; height:20px; vertical-align: middle;'></progress>\n",
       "      0.00% [0/400 00:00<00:00]\n",
       "    </div>\n",
       "    \n",
       "<table border=\"1\" class=\"dataframe\">\n",
       "  <thead>\n",
       "    <tr style=\"text-align: left;\">\n",
       "      <th>epoch</th>\n",
       "      <th>train_loss</th>\n",
       "      <th>valid_loss</th>\n",
       "      <th>accuracy_multi</th>\n",
       "      <th>balanced_accuracy_multi</th>\n",
       "      <th>precision_multi</th>\n",
       "      <th>recall_multi</th>\n",
       "      <th>specificity_multi</th>\n",
       "      <th>F1_multi</th>\n",
       "      <th>time</th>\n",
       "    </tr>\n",
       "  </thead>\n",
       "  <tbody>\n",
       "  </tbody>\n",
       "</table><p>\n",
       "\n",
       "    <div>\n",
       "      <progress value='65' class='' max='91' style='width:300px; height:20px; vertical-align: middle;'></progress>\n",
       "      71.43% [65/91 00:10<00:04 0.3944]\n",
       "    </div>\n",
       "    "
      ],
      "text/plain": [
       "<IPython.core.display.HTML object>"
      ]
     },
     "metadata": {},
     "output_type": "display_data"
    },
    {
     "name": "stderr",
     "output_type": "stream",
     "text": [
      "\n",
      "KeyboardInterrupt\n",
      "\n"
     ]
    }
   ],
   "source": [
    "for cv_num in range(20):\n",
    "#     cv_num = cv_num + 0\n",
    "    dsets = TSDatasets(X.astype(float)[:,:,0:max_len], y_multi, tfms=tfms, splits=cv_splits[cv_num]) # inplace=True by default\n",
    "    dls   = TSDataLoaders.from_dsets(dsets.train,dsets.valid, bs=[64, 128], batch_tfms=batch_tfms, num_workers=0)\n",
    "    metrics =[accuracy_multi, balanced_accuracy_multi, precision_multi, recall_multi, specificity_multi, F1_multi]\n",
    "    if architecture == \"inception\":\n",
    "        model = InceptionTimePlus(dls.vars, dls.c, dls.len,)\n",
    "    elif architecture == \"minirocket\":\n",
    "        model = MiniRocketPlus(dls.vars, dls.c,dls.len)\n",
    "    # try : loss_func = BCEWithLogitsLossFlat(pos_weight=dls.train.cws.sqrt())\n",
    "    \n",
    "    learn = Learner(dls, model, metrics=metrics,\n",
    "#                     opt_func = wrap_optimizer(torch.optim.Adam,weight_decay=6.614e-07),\n",
    "                    cbs=[fastai.callback.all.SaveModelCallback(\n",
    "                        monitor=\"F1_multi\",fname=\"%s_%s_%s_%s_%s\"%(architecture,DATASET_ID,processing_type,sf,cv_num)),\n",
    "                        fastai.callback.all.EarlyStoppingCallback(monitor='F1_multi', min_delta=0.005, patience=50)\n",
    "                        ],\n",
    "                    model_dir=\"models/scaling/\")\n",
    "\n",
    "    learn.fit_one_cycle(400, lr_max=0.01,)\n",
    "    # now test it on test set\n",
    "    learn.load(\"%s_%s_%s_%s_%s\"%(architecture,DATASET_ID,processing_type,sf,cv_num))\n",
    "    fold_splits = cv_splits[cv_num]\n",
    "    dsets = TSDatasets(X.astype(float)[:,:,0:max_len], y_multi, tfms=tfms, splits=(fold_splits[0],fold_splits[2])) # inplace=True by default\n",
    "    dls   = TSDataLoaders.from_dsets(dsets.train,dsets.valid, bs=[128, 128], batch_tfms=batch_tfms, num_workers=0)\n",
    "\n",
    "    valid_probas, valid_targets, valid_preds = learn.get_preds(dl=dls.valid, with_decoded=True)\n",
    "    y_pred = (valid_preds>0)\n",
    "    y_test = valid_targets\n",
    "    report = classification_report(y_test, y_pred,target_names = dls.vocab.o2i.keys(),digits=3,output_dict=True)\n",
    "    df = pd.DataFrame(report).reset_index()\n",
    "    df.to_csv(\"models/scaling/csvs/%s_%s_%s_%s_%s.csv\"%(architecture,DATASET_ID,processing_type,sf,cv_num),index=False)\n",
    "    df"
   ]
  },
  {
   "cell_type": "code",
   "execution_count": null,
   "id": "cf425016-a9b2-442e-ad5d-13f21478b05e",
   "metadata": {},
   "outputs": [],
   "source": []
  }
 ],
 "metadata": {
  "kernelspec": {
   "display_name": "Python 3 (ipykernel)",
   "language": "python",
   "name": "python3"
  },
  "language_info": {
   "codemirror_mode": {
    "name": "ipython",
    "version": 3
   },
   "file_extension": ".py",
   "mimetype": "text/x-python",
   "name": "python",
   "nbconvert_exporter": "python",
   "pygments_lexer": "ipython3",
   "version": "3.10.4"
  }
 },
 "nbformat": 4,
 "nbformat_minor": 5
}
