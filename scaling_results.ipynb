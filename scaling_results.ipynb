{
 "cells": [
  {
   "cell_type": "code",
   "execution_count": 155,
   "id": "93f5c9b4",
   "metadata": {},
   "outputs": [
    {
     "data": {
      "text/plain": [
       "<module 'amir_tools' from '/home/amirsalimi/ecg_augmentation/amir_tools.py'>"
      ]
     },
     "execution_count": 155,
     "metadata": {},
     "output_type": "execute_result"
    }
   ],
   "source": [
    "%matplotlib inline\n",
    "import cd_diagrams as cdd\n",
    "import imp\n",
    "import pandas as pd\n",
    "import numpy as np\n",
    "import amir_tools as at\n",
    "import seaborn as sns\n",
    "import glob\n",
    "imp.reload(at)\n"
   ]
  },
  {
   "cell_type": "code",
   "execution_count": 156,
   "id": "ea002ec3-6e74-4947-a995-0e8311efb506",
   "metadata": {},
   "outputs": [
    {
     "data": {
      "text/html": [
       "<div>\n",
       "<style scoped>\n",
       "    .dataframe tbody tr th:only-of-type {\n",
       "        vertical-align: middle;\n",
       "    }\n",
       "\n",
       "    .dataframe tbody tr th {\n",
       "        vertical-align: top;\n",
       "    }\n",
       "\n",
       "    .dataframe thead th {\n",
       "        text-align: right;\n",
       "    }\n",
       "</style>\n",
       "<table border=\"1\" class=\"dataframe\">\n",
       "  <thead>\n",
       "    <tr style=\"text-align: right;\">\n",
       "      <th></th>\n",
       "      <th>classifier_name</th>\n",
       "      <th>dataset_name</th>\n",
       "      <th>accuracy</th>\n",
       "    </tr>\n",
       "  </thead>\n",
       "  <tbody>\n",
       "    <tr>\n",
       "      <th>0</th>\n",
       "      <td>inception_0.1</td>\n",
       "      <td>0</td>\n",
       "      <td>0.800561</td>\n",
       "    </tr>\n",
       "    <tr>\n",
       "      <th>1</th>\n",
       "      <td>inception_0.1</td>\n",
       "      <td>1</td>\n",
       "      <td>0.762906</td>\n",
       "    </tr>\n",
       "    <tr>\n",
       "      <th>2</th>\n",
       "      <td>inception_0.1</td>\n",
       "      <td>2</td>\n",
       "      <td>0.833316</td>\n",
       "    </tr>\n",
       "    <tr>\n",
       "      <th>3</th>\n",
       "      <td>inception_0.1</td>\n",
       "      <td>3</td>\n",
       "      <td>0.820001</td>\n",
       "    </tr>\n",
       "    <tr>\n",
       "      <th>4</th>\n",
       "      <td>inception_0.1</td>\n",
       "      <td>4</td>\n",
       "      <td>0.823807</td>\n",
       "    </tr>\n",
       "    <tr>\n",
       "      <th>...</th>\n",
       "      <td>...</td>\n",
       "      <td>...</td>\n",
       "      <td>...</td>\n",
       "    </tr>\n",
       "    <tr>\n",
       "      <th>95</th>\n",
       "      <td>inception_1.0</td>\n",
       "      <td>15</td>\n",
       "      <td>0.694407</td>\n",
       "    </tr>\n",
       "    <tr>\n",
       "      <th>96</th>\n",
       "      <td>inception_1.0</td>\n",
       "      <td>16</td>\n",
       "      <td>0.662449</td>\n",
       "    </tr>\n",
       "    <tr>\n",
       "      <th>97</th>\n",
       "      <td>inception_1.0</td>\n",
       "      <td>17</td>\n",
       "      <td>0.706808</td>\n",
       "    </tr>\n",
       "    <tr>\n",
       "      <th>98</th>\n",
       "      <td>inception_1.0</td>\n",
       "      <td>18</td>\n",
       "      <td>0.779531</td>\n",
       "    </tr>\n",
       "    <tr>\n",
       "      <th>99</th>\n",
       "      <td>inception_1.0</td>\n",
       "      <td>19</td>\n",
       "      <td>0.714885</td>\n",
       "    </tr>\n",
       "  </tbody>\n",
       "</table>\n",
       "<p>100 rows × 3 columns</p>\n",
       "</div>"
      ],
      "text/plain": [
       "   classifier_name  dataset_name  accuracy\n",
       "0    inception_0.1             0  0.800561\n",
       "1    inception_0.1             1  0.762906\n",
       "2    inception_0.1             2  0.833316\n",
       "3    inception_0.1             3  0.820001\n",
       "4    inception_0.1             4  0.823807\n",
       "..             ...           ...       ...\n",
       "95   inception_1.0            15  0.694407\n",
       "96   inception_1.0            16  0.662449\n",
       "97   inception_1.0            17  0.706808\n",
       "98   inception_1.0            18  0.779531\n",
       "99   inception_1.0            19  0.714885\n",
       "\n",
       "[100 rows x 3 columns]"
      ]
     },
     "execution_count": 156,
     "metadata": {},
     "output_type": "execute_result"
    }
   ],
   "source": [
    "df_median"
   ]
  },
  {
   "cell_type": "code",
   "execution_count": 157,
   "id": "933e18f0-1a22-4ee0-8690-3f735d2cdecf",
   "metadata": {},
   "outputs": [
    {
     "name": "stdout",
     "output_type": "stream",
     "text": [
      "Index(['1st degree av block', 'atrial fibrillation',\n",
      "       'premature atrial contraction', 'right bundle branch block',\n",
      "       'sinus rhythm', 'st depression'],\n",
      "      dtype='object')\n"
     ]
    }
   ],
   "source": [
    "df_median = frame.reset_index()[[\"classifier_name\",\"index\",]]\n",
    "print(frame.columns[0:-4])\n",
    "df_median[\"value\"] = list(frame[frame.columns].mean(axis=1).values)\n",
    "df_median.columns = [\"classifier_name\",\"dataset_name\",\"accuracy\"]\n",
    "# df_median.head()\n"
   ]
  },
  {
   "cell_type": "code",
   "execution_count": 191,
   "id": "fbdef60d",
   "metadata": {},
   "outputs": [
    {
     "data": {
      "text/html": [
       "<div>\n",
       "<style scoped>\n",
       "    .dataframe tbody tr th:only-of-type {\n",
       "        vertical-align: middle;\n",
       "    }\n",
       "\n",
       "    .dataframe tbody tr th {\n",
       "        vertical-align: top;\n",
       "    }\n",
       "\n",
       "    .dataframe thead th {\n",
       "        text-align: right;\n",
       "    }\n",
       "</style>\n",
       "<table border=\"1\" class=\"dataframe\">\n",
       "  <thead>\n",
       "    <tr style=\"text-align: right;\">\n",
       "      <th></th>\n",
       "      <th>classifier_name</th>\n",
       "      <th>1st degree av block</th>\n",
       "      <th>atrial fibrillation</th>\n",
       "      <th>premature atrial contraction</th>\n",
       "      <th>right bundle branch block</th>\n",
       "      <th>sinus rhythm</th>\n",
       "      <th>st depression</th>\n",
       "      <th>ventricular ectopics</th>\n",
       "      <th>micro avg</th>\n",
       "      <th>macro avg</th>\n",
       "      <th>weighted avg</th>\n",
       "      <th>samples avg</th>\n",
       "    </tr>\n",
       "  </thead>\n",
       "  <tbody>\n",
       "    <tr>\n",
       "      <th>0</th>\n",
       "      <td>inception_0.05</td>\n",
       "      <td>0.820144</td>\n",
       "      <td>0.917031</td>\n",
       "      <td>0.666667</td>\n",
       "      <td>0.895442</td>\n",
       "      <td>0.715026</td>\n",
       "      <td>0.759777</td>\n",
       "      <td>0.759494</td>\n",
       "      <td>0.814440</td>\n",
       "      <td>0.790511</td>\n",
       "      <td>0.815959</td>\n",
       "      <td>0.750315</td>\n",
       "    </tr>\n",
       "    <tr>\n",
       "      <th>1</th>\n",
       "      <td>inception_0.05</td>\n",
       "      <td>0.829630</td>\n",
       "      <td>0.921162</td>\n",
       "      <td>0.679612</td>\n",
       "      <td>0.907767</td>\n",
       "      <td>0.706587</td>\n",
       "      <td>0.726257</td>\n",
       "      <td>0.819277</td>\n",
       "      <td>0.828225</td>\n",
       "      <td>0.798613</td>\n",
       "      <td>0.824538</td>\n",
       "      <td>0.769044</td>\n",
       "    </tr>\n",
       "    <tr>\n",
       "      <th>2</th>\n",
       "      <td>inception_0.05</td>\n",
       "      <td>0.809160</td>\n",
       "      <td>0.900901</td>\n",
       "      <td>0.637168</td>\n",
       "      <td>0.909535</td>\n",
       "      <td>0.751445</td>\n",
       "      <td>0.740741</td>\n",
       "      <td>0.718954</td>\n",
       "      <td>0.814380</td>\n",
       "      <td>0.781129</td>\n",
       "      <td>0.810669</td>\n",
       "      <td>0.734595</td>\n",
       "    </tr>\n",
       "    <tr>\n",
       "      <th>3</th>\n",
       "      <td>inception_0.05</td>\n",
       "      <td>0.793651</td>\n",
       "      <td>0.916300</td>\n",
       "      <td>0.693069</td>\n",
       "      <td>0.930348</td>\n",
       "      <td>0.755556</td>\n",
       "      <td>0.791444</td>\n",
       "      <td>0.743590</td>\n",
       "      <td>0.835388</td>\n",
       "      <td>0.803422</td>\n",
       "      <td>0.832039</td>\n",
       "      <td>0.766618</td>\n",
       "    </tr>\n",
       "    <tr>\n",
       "      <th>4</th>\n",
       "      <td>inception_0.05</td>\n",
       "      <td>0.757576</td>\n",
       "      <td>0.931624</td>\n",
       "      <td>0.627119</td>\n",
       "      <td>0.923483</td>\n",
       "      <td>0.689266</td>\n",
       "      <td>0.744681</td>\n",
       "      <td>0.772152</td>\n",
       "      <td>0.812410</td>\n",
       "      <td>0.777986</td>\n",
       "      <td>0.813151</td>\n",
       "      <td>0.748180</td>\n",
       "    </tr>\n",
       "    <tr>\n",
       "      <th>...</th>\n",
       "      <td>...</td>\n",
       "      <td>...</td>\n",
       "      <td>...</td>\n",
       "      <td>...</td>\n",
       "      <td>...</td>\n",
       "      <td>...</td>\n",
       "      <td>...</td>\n",
       "      <td>...</td>\n",
       "      <td>...</td>\n",
       "      <td>...</td>\n",
       "      <td>...</td>\n",
       "      <td>...</td>\n",
       "    </tr>\n",
       "    <tr>\n",
       "      <th>15</th>\n",
       "      <td>inception_1.0</td>\n",
       "      <td>0.828125</td>\n",
       "      <td>0.903766</td>\n",
       "      <td>0.350515</td>\n",
       "      <td>0.913386</td>\n",
       "      <td>0.674033</td>\n",
       "      <td>0.545455</td>\n",
       "      <td>0.645570</td>\n",
       "      <td>0.758101</td>\n",
       "      <td>0.694407</td>\n",
       "      <td>0.746968</td>\n",
       "      <td>0.672149</td>\n",
       "    </tr>\n",
       "    <tr>\n",
       "      <th>16</th>\n",
       "      <td>inception_1.0</td>\n",
       "      <td>0.832117</td>\n",
       "      <td>0.853846</td>\n",
       "      <td>0.176471</td>\n",
       "      <td>0.920716</td>\n",
       "      <td>0.692308</td>\n",
       "      <td>0.619048</td>\n",
       "      <td>0.542636</td>\n",
       "      <td>0.752036</td>\n",
       "      <td>0.662449</td>\n",
       "      <td>0.724583</td>\n",
       "      <td>0.682678</td>\n",
       "    </tr>\n",
       "    <tr>\n",
       "      <th>17</th>\n",
       "      <td>inception_1.0</td>\n",
       "      <td>0.800000</td>\n",
       "      <td>0.867925</td>\n",
       "      <td>0.238095</td>\n",
       "      <td>0.926702</td>\n",
       "      <td>0.729167</td>\n",
       "      <td>0.719101</td>\n",
       "      <td>0.666667</td>\n",
       "      <td>0.776187</td>\n",
       "      <td>0.706808</td>\n",
       "      <td>0.763085</td>\n",
       "      <td>0.682678</td>\n",
       "    </tr>\n",
       "    <tr>\n",
       "      <th>18</th>\n",
       "      <td>inception_1.0</td>\n",
       "      <td>0.842105</td>\n",
       "      <td>0.953586</td>\n",
       "      <td>0.455446</td>\n",
       "      <td>0.927461</td>\n",
       "      <td>0.760234</td>\n",
       "      <td>0.777143</td>\n",
       "      <td>0.740741</td>\n",
       "      <td>0.826374</td>\n",
       "      <td>0.779531</td>\n",
       "      <td>0.820416</td>\n",
       "      <td>0.747695</td>\n",
       "    </tr>\n",
       "    <tr>\n",
       "      <th>19</th>\n",
       "      <td>inception_1.0</td>\n",
       "      <td>0.832117</td>\n",
       "      <td>0.914980</td>\n",
       "      <td>0.216867</td>\n",
       "      <td>0.930946</td>\n",
       "      <td>0.708995</td>\n",
       "      <td>0.716418</td>\n",
       "      <td>0.683871</td>\n",
       "      <td>0.788311</td>\n",
       "      <td>0.714885</td>\n",
       "      <td>0.772759</td>\n",
       "      <td>0.725376</td>\n",
       "    </tr>\n",
       "  </tbody>\n",
       "</table>\n",
       "<p>120 rows × 12 columns</p>\n",
       "</div>"
      ],
      "text/plain": [
       "   classifier_name  1st degree av block  atrial fibrillation  \\\n",
       "0   inception_0.05             0.820144             0.917031   \n",
       "1   inception_0.05             0.829630             0.921162   \n",
       "2   inception_0.05             0.809160             0.900901   \n",
       "3   inception_0.05             0.793651             0.916300   \n",
       "4   inception_0.05             0.757576             0.931624   \n",
       "..             ...                  ...                  ...   \n",
       "15   inception_1.0             0.828125             0.903766   \n",
       "16   inception_1.0             0.832117             0.853846   \n",
       "17   inception_1.0             0.800000             0.867925   \n",
       "18   inception_1.0             0.842105             0.953586   \n",
       "19   inception_1.0             0.832117             0.914980   \n",
       "\n",
       "    premature atrial contraction  right bundle branch block  sinus rhythm  \\\n",
       "0                       0.666667                   0.895442      0.715026   \n",
       "1                       0.679612                   0.907767      0.706587   \n",
       "2                       0.637168                   0.909535      0.751445   \n",
       "3                       0.693069                   0.930348      0.755556   \n",
       "4                       0.627119                   0.923483      0.689266   \n",
       "..                           ...                        ...           ...   \n",
       "15                      0.350515                   0.913386      0.674033   \n",
       "16                      0.176471                   0.920716      0.692308   \n",
       "17                      0.238095                   0.926702      0.729167   \n",
       "18                      0.455446                   0.927461      0.760234   \n",
       "19                      0.216867                   0.930946      0.708995   \n",
       "\n",
       "    st depression  ventricular ectopics  micro avg  macro avg  weighted avg  \\\n",
       "0        0.759777              0.759494   0.814440   0.790511      0.815959   \n",
       "1        0.726257              0.819277   0.828225   0.798613      0.824538   \n",
       "2        0.740741              0.718954   0.814380   0.781129      0.810669   \n",
       "3        0.791444              0.743590   0.835388   0.803422      0.832039   \n",
       "4        0.744681              0.772152   0.812410   0.777986      0.813151   \n",
       "..            ...                   ...        ...        ...           ...   \n",
       "15       0.545455              0.645570   0.758101   0.694407      0.746968   \n",
       "16       0.619048              0.542636   0.752036   0.662449      0.724583   \n",
       "17       0.719101              0.666667   0.776187   0.706808      0.763085   \n",
       "18       0.777143              0.740741   0.826374   0.779531      0.820416   \n",
       "19       0.716418              0.683871   0.788311   0.714885      0.772759   \n",
       "\n",
       "    samples avg  \n",
       "0      0.750315  \n",
       "1      0.769044  \n",
       "2      0.734595  \n",
       "3      0.766618  \n",
       "4      0.748180  \n",
       "..          ...  \n",
       "15     0.672149  \n",
       "16     0.682678  \n",
       "17     0.682678  \n",
       "18     0.747695  \n",
       "19     0.725376  \n",
       "\n",
       "[120 rows x 12 columns]"
      ]
     },
     "execution_count": 191,
     "metadata": {},
     "output_type": "execute_result"
    }
   ],
   "source": [
    "DATASET_ID = \"CPSC2018\"\n",
    "experiments = []\n",
    "for sc in [\"0.05\",\"0.1\",\"0.25\",\"0.5\",\"0.75\",\"1.0\"]:\n",
    "    try:\n",
    "        for i in range(20):\n",
    "            df = pd.read_csv(\"models/scaling/csvs/inception_CPSC2018_sc-n_%s_%s.csv\"%(sc,i))\n",
    "            df = df.loc[df[\"index\"]==\"f1-score\"]\n",
    "            df = df.rename(columns={\"index\":\"classifier_name\"})\n",
    "    #         df[\"dataset_name\"] = i\n",
    "            df[\"classifier_name\"] = \"inception_%s\"%sc\n",
    "    #         df.index = df[\"dataset_name\"]\n",
    "        #     df[\"group\"] = i\n",
    "            df.index = [i]\n",
    "            experiments.append(df)\n",
    "    except:\n",
    "        continue\n",
    "exp_df = pd.concat(experiments)\n",
    "exp_df"
   ]
  },
  {
   "cell_type": "code",
   "execution_count": 192,
   "id": "4fd59dd9-2e84-4831-84cd-d9736d5b39ec",
   "metadata": {},
   "outputs": [
    {
     "name": "stdout",
     "output_type": "stream",
     "text": [
      "['inception_0.05' 'inception_0.1' 'inception_0.25' 'inception_0.5'\n",
      " 'inception_0.75' 'inception_1.0']\n",
      "inception_0.05     6.0\n",
      "inception_0.1     13.0\n",
      "inception_0.25     0.0\n",
      "inception_0.5      1.0\n",
      "inception_0.75     0.0\n",
      "inception_1.0      0.0\n",
      "dtype: float64\n",
      "inception_1.0     5.00\n",
      "inception_0.75    4.70\n",
      "inception_0.5     4.00\n",
      "inception_0.25    3.25\n",
      "inception_0.05    2.40\n",
      "inception_0.1     1.65\n",
      "dtype: float64\n",
      "('inception_0.1', 'inception_0.75', 3.814697265625e-06, True)\n",
      "('inception_0.1', 'inception_1.0', 5.7220458984375e-06, True)\n",
      "('inception_0.1', 'inception_0.5', 9.5367431640625e-06, True)\n",
      "('inception_0.05', 'inception_1.0', 8.20159912109375e-05, True)\n",
      "('inception_0.05', 'inception_0.75', 0.0002613067626953125, True)\n",
      "('inception_0.1', 'inception_0.25', 0.0003948211669921875, True)\n",
      "('inception_0.05', 'inception_0.5', 0.01068878173828125, False)\n",
      "('inception_0.25', 'inception_1.0', 0.013616561889648438, False)\n",
      "('inception_0.25', 'inception_0.75', 0.023950576782226562, False)\n",
      "('inception_0.05', 'inception_0.1', 0.03623390197753906, False)\n",
      "('inception_0.5', 'inception_1.0', 0.058258056640625, False)\n",
      "('inception_0.05', 'inception_0.25', 0.08969497680664062, False)\n",
      "('inception_0.25', 'inception_0.5', 0.1893482208251953, False)\n",
      "('inception_0.5', 'inception_0.75', 0.2305126190185547, False)\n",
      "('inception_0.75', 'inception_1.0', 0.40909767150878906, False)\n",
      "Index(['inception_1.0', 'inception_0.75', 'inception_0.5', 'inception_0.25',\n",
      "       'inception_0.05', 'inception_0.1'],\n",
      "      dtype='object')\n",
      "[2, 3, 0, 1]\n",
      "[2, 3, 4]\n",
      "[5, 4]\n"
     ]
    },
    {
     "data": {
      "text/plain": [
       "<module 'matplotlib.pyplot' from '/home/amirsalimi/miniconda3/envs/ecg_augment/lib/python3.10/site-packages/matplotlib/pyplot.py'>"
      ]
     },
     "execution_count": 192,
     "metadata": {},
     "output_type": "execute_result"
    },
    {
     "data": {
      "image/png": "[encoded data removed]",
      "text/plain": [
       "<Figure size 648x126 with 1 Axes>"
      ]
     },
     "metadata": {},
     "output_type": "display_data"
    }
   ],
   "source": [
    "df_median = exp_df.reset_index()[[\"classifier_name\",\"index\",]]\n",
    "df_median[\"value\"] = list(exp_df[exp_df.columns[0:-4]].mean(axis=1).values)\n",
    "df_median.columns = [\"classifier_name\",\"dataset_name\",\"accuracy\"]\n",
    "cdd.draw_cd_diagram(df_perf=df_median, title='Mean F1', labels=False,alpha=0.05)"
   ]
  },
  {
   "cell_type": "code",
   "execution_count": 193,
   "id": "15d0868c-d7b1-4db3-b4f3-9f571de0b991",
   "metadata": {},
   "outputs": [
    {
     "data": {
      "image/png": "[encoded data removed]",
      "text/plain": [
       "<Figure size 1440x432 with 1 Axes>"
      ]
     },
     "metadata": {},
     "output_type": "display_data"
    }
   ],
   "source": [
    "sns.set(rc = {'figure.figsize':(20,6)})\n",
    "sns.set(font_scale = 2)\n",
    "data = exp_df.melt(id_vars = \"classifier_name\")\n",
    "data[\"variable\"] = [at.label_shortner(x) for x in data[\"variable\"]]\n",
    "\n",
    "#sns.boxplot(data=data,hue=\"classifier_name\",x=\"variable\",y=\"value\",)\n",
    "ax = sns.stripplot(data=data,hue=\"classifier_name\",x=\"variable\",y=\"value\",dodge=True,size=8, edgecolor='gray',)\n",
    "ax.set_xticklabels(ax.get_xticklabels(),fontsize=20)\n",
    "ax.set_xlabel(\"\", fontsize = 25)\n",
    "ax.set_ylabel(\"F1 Values\", fontsize = 25)\n",
    "# ax.set_title(\"Expriment Results for MiniRocket on CPSC\", fontsize = 25)\n",
    "plt.legend( fontsize = 16)\n",
    "plt.tight_layout()"
   ]
  },
  {
   "cell_type": "markdown",
   "id": "6d57a992",
   "metadata": {},
   "source": [
    "# cspc + inception + all funcs analysis"
   ]
  },
  {
   "cell_type": "code",
   "execution_count": 153,
   "id": "ae3837c7",
   "metadata": {},
   "outputs": [
    {
     "name": "stdout",
     "output_type": "stream",
     "text": [
      "['sc', 'n', 'bp', 'sh']\n"
     ]
    },
    {
     "ename": "NameError",
     "evalue": "name 'cv_splits' is not defined",
     "output_type": "error",
     "traceback": [
      "\u001b[0;31m---------------------------------------------------------------------------\u001b[0m",
      "\u001b[0;31mNameError\u001b[0m                                 Traceback (most recent call last)",
      "Input \u001b[0;32mIn [153]\u001b[0m, in \u001b[0;36m<cell line: 26>\u001b[0;34m()\u001b[0m\n\u001b[1;32m     25\u001b[0m probas_list, targets_list \u001b[38;5;241m=\u001b[39m [],[]\n\u001b[1;32m     26\u001b[0m \u001b[38;5;28;01mfor\u001b[39;00m cv_num \u001b[38;5;129;01min\u001b[39;00m \u001b[38;5;28mrange\u001b[39m(\u001b[38;5;241m10\u001b[39m):\n\u001b[0;32m---> 27\u001b[0m     fold_splits \u001b[38;5;241m=\u001b[39m \u001b[43mcv_splits\u001b[49m[cv_num]\n\u001b[1;32m     28\u001b[0m     dsets \u001b[38;5;241m=\u001b[39m TSDatasets(X\u001b[38;5;241m.\u001b[39mastype(\u001b[38;5;28mfloat\u001b[39m)[:,:,\u001b[38;5;241m0\u001b[39m:max_len], y_multi, tfms\u001b[38;5;241m=\u001b[39mtfms, splits\u001b[38;5;241m=\u001b[39m(fold_splits[\u001b[38;5;241m0\u001b[39m],fold_splits[\u001b[38;5;241m2\u001b[39m])) \u001b[38;5;66;03m# inplace=True by default\u001b[39;00m\n\u001b[1;32m     29\u001b[0m     dls   \u001b[38;5;241m=\u001b[39m TSDataLoaders\u001b[38;5;241m.\u001b[39mfrom_dsets(dsets\u001b[38;5;241m.\u001b[39mtrain,dsets\u001b[38;5;241m.\u001b[39mvalid, bs\u001b[38;5;241m=\u001b[39m[\u001b[38;5;241m128\u001b[39m, \u001b[38;5;241m128\u001b[39m], batch_tfms\u001b[38;5;241m=\u001b[39mbatch_tfms, num_workers\u001b[38;5;241m=\u001b[39m\u001b[38;5;241m0\u001b[39m)\n",
      "\u001b[0;31mNameError\u001b[0m: name 'cv_splits' is not defined"
     ]
    }
   ],
   "source": [
    "max_len = 10000\n",
    "sf = 0.5\n",
    "model_type = \"inception\"\n",
    "data_set = \"CPSC\"\n",
    "processes = [\"sc\",\"n\",\"bp\",\"sh\"]\n",
    "\n",
    "batch_tfms = []\n",
    "\n",
    "processing_type = '-'.join([x for x in processes])\n",
    "if \"sc\" in processes:\n",
    "    batch_tfms.append(tfs.Scale(scale_factor=sf,))\n",
    "if \"n\" in processes:\n",
    "    batch_tfms.append(tfs.Normalize())\n",
    "if \"bp\" in processes:\n",
    "    batch_tfms.append(tfs.BandPass(int(sf*500),low_cut=50, high_cut=1,leads=12,))\n",
    "if \"sh\" in processes:\n",
    "    batch_tfms.append(tfs.RandomShift(0.1))\n",
    "if len(processes)==0:\n",
    "    processing_type = \"raw\"\n",
    "\n",
    "print(processes)\n",
    "\n",
    "tfms  = [None, TSMultiLabelClassification()]\n",
    "reports = []\n",
    "probas_list, targets_list = [],[]\n",
    "for cv_num in range(10):\n",
    "    fold_splits = cv_splits[cv_num]\n",
    "    dsets = TSDatasets(X.astype(float)[:,:,0:max_len], y_multi, tfms=tfms, splits=(fold_splits[0],fold_splits[2])) # inplace=True by default\n",
    "    dls   = TSDataLoaders.from_dsets(dsets.train,dsets.valid, bs=[128, 128], batch_tfms=batch_tfms, num_workers=0)\n",
    "    metrics =[accuracy_multi, balanced_accuracy_multi, precision_multi, recall_multi, specificity_multi, F1_multi] \n",
    "    \n",
    "#     model = InceptionTimePlus(dls.vars, dls.c, dls.len, depth=13, ks = 110,nf=28 )\n",
    "    model = InceptionTimePlus(dls.vars, dls.c, dls.len, depth=12, ks = 130,nf=32 )\n",
    "    learn = Learner(dls, model, metrics=metrics, \n",
    "                    cbs=[ShowGraph()],\n",
    "                    model_dir=\"models/10CV/\")\n",
    "    learn.load(\"%s_%s_%s_%s\"%(model_type,processing_type,max_len,cv_num))\n",
    "    valid_probas, valid_targets, valid_preds = learn.get_preds(dl=dls.valid, with_decoded=True)\n",
    "    probas_list.append(valid_probas)\n",
    "    targets_list.append(valid_targets)\n",
    "    y_pred = (valid_preds>0)\n",
    "    y_test = valid_targets\n",
    "\n",
    "    report = classification_report(y_test, y_pred,target_names = dls.vocab.o2i.keys(),digits=3,output_dict=True)\n",
    "    reports.append(report)\n",
    "for report in reports:\n",
    "    for k,v in report.items():\n",
    "        report[k] = report[k][\"f1-score\"]\n",
    "# df for f1\n",
    "f1_df = pd.DataFrame(reports)\n",
    "f1_df.to_csv(\"csvs/%s_%s_%s_%s.csv\"%(model_type,processing_type,max_len,DATASET_ID))\n"
   ]
  },
  {
   "cell_type": "code",
   "execution_count": 154,
   "id": "da44dc5a",
   "metadata": {},
   "outputs": [
    {
     "ename": "NameError",
     "evalue": "name 'dls' is not defined",
     "output_type": "error",
     "traceback": [
      "\u001b[0;31m---------------------------------------------------------------------------\u001b[0m",
      "\u001b[0;31mNameError\u001b[0m                                 Traceback (most recent call last)",
      "Input \u001b[0;32mIn [154]\u001b[0m, in \u001b[0;36m<cell line: 1>\u001b[0;34m()\u001b[0m\n\u001b[0;32m----> 1\u001b[0m \u001b[38;5;28mnext\u001b[39m(\u001b[38;5;28miter\u001b[39m(\u001b[43mdls\u001b[49m\u001b[38;5;241m.\u001b[39mvalid))\n",
      "\u001b[0;31mNameError\u001b[0m: name 'dls' is not defined"
     ]
    }
   ],
   "source": [
    "next(iter(dls.valid))"
   ]
  },
  {
   "cell_type": "code",
   "execution_count": null,
   "id": "e688fa07",
   "metadata": {},
   "outputs": [],
   "source": [
    "max_len = 10000\n",
    "sf = 0.5\n",
    "model_type = \"inception\"\n",
    "data_set = \"CPSC\"\n",
    "processes = [\"sc\",\"n\",\"bp\",\"sh\"]\n",
    "\n",
    "batch_tfms = []\n",
    "\n",
    "processing_type = '-'.join([x for x in processes])\n",
    "if \"sc\" in processes:\n",
    "    batch_tfms.append(tfs.Scale(scale_factor=sf,))\n",
    "if \"n\" in processes:\n",
    "    batch_tfms.append(tfs.Normalize())\n",
    "if \"bp\" in processes:\n",
    "    batch_tfms.append(tfs.BandPass(int(sf*500),low_cut=50, high_cut=1,leads=12,))\n",
    "if \"sh\" in processes:\n",
    "    batch_tfms.append(tfs.RandomShift(0.1))\n",
    "if len(processes)==0:\n",
    "    processing_type = \"raw\"\n",
    "\n",
    "print(processes)\n",
    "\n",
    "tfms  = [None, TSMultiLabelClassification()]\n",
    "reports = []\n",
    "probas_list, targets_list = [],[]\n",
    "for cv_num in range(10):\n",
    "    fold_splits = cv_splits[cv_num]\n",
    "    dsets = TSDatasets(X.astype(float)[:,:,0:max_len], y_multi, tfms=tfms, splits=(fold_splits[0],fold_splits[2])) # inplace=True by default\n",
    "    dls   = TSDataLoaders.from_dsets(dsets.train,dsets.valid, bs=[128, 128], batch_tfms=batch_tfms, num_workers=0)\n",
    "    metrics =[accuracy_multi, balanced_accuracy_multi, precision_multi, recall_multi, specificity_multi, F1_multi] \n",
    "    \n",
    "#     model = InceptionTimePlus(dls.vars, dls.c, dls.len, depth=13, ks = 110,nf=28 )\n",
    "    model = InceptionTimePlus(dls.vars, dls.c, dls.len, depth=12, ks = 130,nf=32 )\n",
    "    learn = Learner(dls, model, metrics=metrics, \n",
    "                    cbs=[ShowGraph()],\n",
    "                    model_dir=\"models/10CV/\")\n",
    "    learn.load(\"%s_%s_%s_%s\"%(model_type,processing_type,max_len,cv_num))\n",
    "    valid_probas, valid_targets, valid_preds = learn.get_preds(dl=dls.valid, with_decoded=True)\n",
    "    probas_list.append(valid_probas)\n",
    "    targets_list.append(valid_targets)\n",
    "    y_pred = (valid_preds>0)\n",
    "    y_test = valid_targets\n",
    "\n",
    "    report = classification_report(y_test, y_pred,target_names = dls.vocab.o2i.keys(),digits=3,output_dict=True)\n",
    "    reports.append(report)\n",
    "for report in reports:\n",
    "    for k,v in report.items():\n",
    "        report[k] = report[k][\"f1-score\"]\n",
    "# df for f1\n",
    "f1_df = pd.DataFrame(reports)\n",
    "f1_df.to_csv(\"csvs/%s_%s_%s_%s_f1.csv\"%(model_type,processing_type,max_len,DATASET_ID))\n"
   ]
  },
  {
   "cell_type": "code",
   "execution_count": null,
   "id": "97251c1c",
   "metadata": {},
   "outputs": [],
   "source": [
    "#df for auc\n",
    "aucs_list = []\n",
    "for targets,probs in zip(targets_list,probas_list):\n",
    "    fig, aucs = at.draw_aucs(targets,probs,list(dls.vocab.o2i.keys()))\n",
    "    aucs_list.append(dict(aucs))\n",
    "auc_df = pd.DataFrame(aucs_list)"
   ]
  },
  {
   "cell_type": "markdown",
   "id": "de3d9cec",
   "metadata": {},
   "source": [
    "## scale + normal + bandpass"
   ]
  },
  {
   "cell_type": "code",
   "execution_count": 43,
   "id": "f8f319c2",
   "metadata": {},
   "outputs": [
    {
     "name": "stdout",
     "output_type": "stream",
     "text": [
      "['sc', 'n', 'bp']\n"
     ]
    },
    {
     "data": {
      "text/html": [],
      "text/plain": [
       "<IPython.core.display.HTML object>"
      ]
     },
     "metadata": {},
     "output_type": "display_data"
    },
    {
     "data": {
      "text/html": [],
      "text/plain": [
       "<IPython.core.display.HTML object>"
      ]
     },
     "metadata": {},
     "output_type": "display_data"
    },
    {
     "data": {
      "text/html": [],
      "text/plain": [
       "<IPython.core.display.HTML object>"
      ]
     },
     "metadata": {},
     "output_type": "display_data"
    },
    {
     "data": {
      "text/html": [],
      "text/plain": [
       "<IPython.core.display.HTML object>"
      ]
     },
     "metadata": {},
     "output_type": "display_data"
    },
    {
     "data": {
      "text/html": [],
      "text/plain": [
       "<IPython.core.display.HTML object>"
      ]
     },
     "metadata": {},
     "output_type": "display_data"
    },
    {
     "data": {
      "text/html": [],
      "text/plain": [
       "<IPython.core.display.HTML object>"
      ]
     },
     "metadata": {},
     "output_type": "display_data"
    },
    {
     "data": {
      "text/html": [],
      "text/plain": [
       "<IPython.core.display.HTML object>"
      ]
     },
     "metadata": {},
     "output_type": "display_data"
    },
    {
     "data": {
      "text/html": [],
      "text/plain": [
       "<IPython.core.display.HTML object>"
      ]
     },
     "metadata": {},
     "output_type": "display_data"
    },
    {
     "data": {
      "text/html": [],
      "text/plain": [
       "<IPython.core.display.HTML object>"
      ]
     },
     "metadata": {},
     "output_type": "display_data"
    },
    {
     "data": {
      "text/html": [],
      "text/plain": [
       "<IPython.core.display.HTML object>"
      ]
     },
     "metadata": {},
     "output_type": "display_data"
    }
   ],
   "source": [
    "max_len = 10000\n",
    "sf = 0.5\n",
    "model_type = \"inception\"\n",
    "data_set = \"CPSC\"\n",
    "processes = [\"sc\",\"n\",\"bp\"]\n",
    "\n",
    "batch_tfms = []\n",
    "\n",
    "processing_type = '-'.join([x for x in processes])\n",
    "if \"sc\" in processes:\n",
    "    batch_tfms.append(tfs.Scale(scale_factor=sf,))\n",
    "if \"n\" in processes:\n",
    "    batch_tfms.append(tfs.Normalize())\n",
    "if \"bp\" in processes:\n",
    "    batch_tfms.append(tfs.BandPass(int(sf*500),low_cut=50, high_cut=1,leads=12,))\n",
    "if \"sh\" in processes:\n",
    "    batch_tfms.append(tfs.RandomShift(0.1))\n",
    "if len(processes)==0:\n",
    "    processing_type = \"raw\"\n",
    "\n",
    "print(processes)\n",
    "\n",
    "tfms  = [None, TSMultiLabelClassification()]\n",
    "reports = []\n",
    "probas_list, targets_list = [],[]\n",
    "for cv_num in range(10):\n",
    "    fold_splits = cv_splits[cv_num]\n",
    "    dsets = TSDatasets(X.astype(float)[:,:,0:max_len], y_multi, tfms=tfms, splits=(fold_splits[0],fold_splits[2])) # inplace=True by default\n",
    "    dls   = TSDataLoaders.from_dsets(dsets.train,dsets.valid, bs=[128, 128], batch_tfms=batch_tfms, num_workers=0)\n",
    "    metrics =[accuracy_multi, balanced_accuracy_multi, precision_multi, recall_multi, specificity_multi, F1_multi] \n",
    "    \n",
    "#     model = InceptionTimePlus(dls.vars, dls.c, dls.len, depth=13, ks = 110,nf=28 )\n",
    "    model = InceptionTimePlus(dls.vars, dls.c, dls.len, depth=12, ks = 130,nf=32 )\n",
    "    learn = Learner(dls, model, metrics=metrics, \n",
    "                    cbs=[ShowGraph()],\n",
    "                    model_dir=\"models/10CV/\")\n",
    "    learn.load(\"%s_%s_%s_%s\"%(model_type,processing_type,max_len,cv_num))\n",
    "    valid_probas, valid_targets, valid_preds = learn.get_preds(dl=dls.valid, with_decoded=True)\n",
    "    probas_list.append(valid_probas)\n",
    "    targets_list.append(valid_targets)\n",
    "    y_pred = (valid_preds>0)\n",
    "    y_test = valid_targets\n",
    "\n",
    "    report = classification_report(y_test, y_pred,target_names = dls.vocab.o2i.keys(),digits=3,output_dict=True)\n",
    "    reports.append(report)\n",
    "for report in reports:\n",
    "    for k,v in report.items():\n",
    "        report[k] = report[k][\"f1-score\"]\n",
    "# df for f1\n",
    "f1_df = pd.DataFrame(reports)\n",
    "f1_df.to_csv(\"csvs/%s_%s_%s_%s.csv\"%(model_type,processing_type,max_len,DATASET_ID))\n"
   ]
  },
  {
   "cell_type": "code",
   "execution_count": 46,
   "id": "e4b3911b",
   "metadata": {},
   "outputs": [
    {
     "data": {
      "text/plain": [
       "1st degree av block             0.860317\n",
       "atrial fibrillation             0.945148\n",
       "left bundle branch block        0.911840\n",
       "premature atrial contraction    0.759480\n",
       "right bundle branch block       0.946151\n",
       "sinus rhythm                    0.806625\n",
       "st depression                   0.810050\n",
       "st elevation                    0.525063\n",
       "ventricular ectopics            0.845929\n",
       "micro avg                       0.863821\n",
       "macro avg                       0.824211\n",
       "weighted avg                    0.861098\n",
       "samples avg                     0.838185\n",
       "dtype: float64"
      ]
     },
     "execution_count": 46,
     "metadata": {},
     "output_type": "execute_result"
    }
   ],
   "source": [
    "f1_df.median()"
   ]
  },
  {
   "cell_type": "markdown",
   "id": "bddcebf0",
   "metadata": {},
   "source": [
    "## scale + normal "
   ]
  },
  {
   "cell_type": "code",
   "execution_count": 47,
   "id": "4128619f",
   "metadata": {},
   "outputs": [
    {
     "name": "stdout",
     "output_type": "stream",
     "text": [
      "['sc', 'n']\n"
     ]
    },
    {
     "data": {
      "text/html": [],
      "text/plain": [
       "<IPython.core.display.HTML object>"
      ]
     },
     "metadata": {},
     "output_type": "display_data"
    },
    {
     "data": {
      "text/html": [],
      "text/plain": [
       "<IPython.core.display.HTML object>"
      ]
     },
     "metadata": {},
     "output_type": "display_data"
    },
    {
     "data": {
      "text/html": [],
      "text/plain": [
       "<IPython.core.display.HTML object>"
      ]
     },
     "metadata": {},
     "output_type": "display_data"
    },
    {
     "data": {
      "text/html": [],
      "text/plain": [
       "<IPython.core.display.HTML object>"
      ]
     },
     "metadata": {},
     "output_type": "display_data"
    },
    {
     "data": {
      "text/html": [],
      "text/plain": [
       "<IPython.core.display.HTML object>"
      ]
     },
     "metadata": {},
     "output_type": "display_data"
    },
    {
     "data": {
      "text/html": [],
      "text/plain": [
       "<IPython.core.display.HTML object>"
      ]
     },
     "metadata": {},
     "output_type": "display_data"
    },
    {
     "data": {
      "text/html": [],
      "text/plain": [
       "<IPython.core.display.HTML object>"
      ]
     },
     "metadata": {},
     "output_type": "display_data"
    },
    {
     "data": {
      "text/html": [],
      "text/plain": [
       "<IPython.core.display.HTML object>"
      ]
     },
     "metadata": {},
     "output_type": "display_data"
    },
    {
     "data": {
      "text/html": [],
      "text/plain": [
       "<IPython.core.display.HTML object>"
      ]
     },
     "metadata": {},
     "output_type": "display_data"
    },
    {
     "data": {
      "text/html": [],
      "text/plain": [
       "<IPython.core.display.HTML object>"
      ]
     },
     "metadata": {},
     "output_type": "display_data"
    }
   ],
   "source": [
    "max_len = 10000\n",
    "sf = 0.5\n",
    "model_type = \"inception\"\n",
    "data_set = \"CPSC\"\n",
    "processes = [\"sc\",\"n\"]\n",
    "\n",
    "batch_tfms = []\n",
    "\n",
    "processing_type = '-'.join([x for x in processes])\n",
    "if \"sc\" in processes:\n",
    "    batch_tfms.append(tfs.Scale(scale_factor=sf,))\n",
    "if \"n\" in processes:\n",
    "    batch_tfms.append(tfs.Normalize())\n",
    "if \"bp\" in processes:\n",
    "    batch_tfms.append(tfs.BandPass(int(sf*500),low_cut=50, high_cut=1,leads=12,))\n",
    "if \"sh\" in processes:\n",
    "    batch_tfms.append(tfs.RandomShift(0.1))\n",
    "if len(processes)==0:\n",
    "    processing_type = \"raw\"\n",
    "\n",
    "print(processes)\n",
    "\n",
    "tfms  = [None, TSMultiLabelClassification()]\n",
    "reports = []\n",
    "probas_list, targets_list = [],[]\n",
    "for cv_num in range(10):\n",
    "    fold_splits = cv_splits[cv_num]\n",
    "    dsets = TSDatasets(X.astype(float)[:,:,0:max_len], y_multi, tfms=tfms, splits=(fold_splits[0],fold_splits[2])) # inplace=True by default\n",
    "    dls   = TSDataLoaders.from_dsets(dsets.train,dsets.valid, bs=[128, 128], batch_tfms=batch_tfms, num_workers=0)\n",
    "    metrics =[accuracy_multi, balanced_accuracy_multi, precision_multi, recall_multi, specificity_multi, F1_multi] \n",
    "    \n",
    "#     model = InceptionTimePlus(dls.vars, dls.c, dls.len, depth=13, ks = 110,nf=28 )\n",
    "    model = InceptionTimePlus(dls.vars, dls.c, dls.len, depth=12, ks = 130,nf=32 )\n",
    "    learn = Learner(dls, model, metrics=metrics, \n",
    "                    cbs=[ShowGraph()],\n",
    "                    model_dir=\"models/10CV/\")\n",
    "    learn.load(\"%s_%s_%s_%s\"%(model_type,processing_type,max_len,cv_num))\n",
    "    valid_probas, valid_targets, valid_preds = learn.get_preds(dl=dls.valid, with_decoded=True)\n",
    "    probas_list.append(valid_probas)\n",
    "    targets_list.append(valid_targets)\n",
    "    y_pred = (valid_preds>0)\n",
    "    y_test = valid_targets\n",
    "\n",
    "    report = classification_report(y_test, y_pred,target_names = dls.vocab.o2i.keys(),digits=3,output_dict=True)\n",
    "    reports.append(report)\n",
    "for report in reports:\n",
    "    for k,v in report.items():\n",
    "        report[k] = report[k][\"f1-score\"]\n",
    "# df for f1\n",
    "f1_df = pd.DataFrame(reports)\n",
    "f1_df.to_csv(\"csvs/%s_%s_%s_%s.csv\"%(model_type,processing_type,max_len,DATASET_ID))\n"
   ]
  },
  {
   "cell_type": "markdown",
   "id": "c0b88fc7",
   "metadata": {},
   "source": [
    "## scale"
   ]
  },
  {
   "cell_type": "code",
   "execution_count": 51,
   "id": "9190082d",
   "metadata": {},
   "outputs": [
    {
     "name": "stdout",
     "output_type": "stream",
     "text": [
      "['sc']\n"
     ]
    },
    {
     "data": {
      "text/html": [],
      "text/plain": [
       "<IPython.core.display.HTML object>"
      ]
     },
     "metadata": {},
     "output_type": "display_data"
    },
    {
     "data": {
      "text/html": [],
      "text/plain": [
       "<IPython.core.display.HTML object>"
      ]
     },
     "metadata": {},
     "output_type": "display_data"
    },
    {
     "data": {
      "text/html": [],
      "text/plain": [
       "<IPython.core.display.HTML object>"
      ]
     },
     "metadata": {},
     "output_type": "display_data"
    },
    {
     "data": {
      "text/html": [],
      "text/plain": [
       "<IPython.core.display.HTML object>"
      ]
     },
     "metadata": {},
     "output_type": "display_data"
    },
    {
     "data": {
      "text/html": [],
      "text/plain": [
       "<IPython.core.display.HTML object>"
      ]
     },
     "metadata": {},
     "output_type": "display_data"
    },
    {
     "data": {
      "text/html": [],
      "text/plain": [
       "<IPython.core.display.HTML object>"
      ]
     },
     "metadata": {},
     "output_type": "display_data"
    },
    {
     "data": {
      "text/html": [],
      "text/plain": [
       "<IPython.core.display.HTML object>"
      ]
     },
     "metadata": {},
     "output_type": "display_data"
    },
    {
     "data": {
      "text/html": [],
      "text/plain": [
       "<IPython.core.display.HTML object>"
      ]
     },
     "metadata": {},
     "output_type": "display_data"
    },
    {
     "data": {
      "text/html": [],
      "text/plain": [
       "<IPython.core.display.HTML object>"
      ]
     },
     "metadata": {},
     "output_type": "display_data"
    },
    {
     "data": {
      "text/html": [],
      "text/plain": [
       "<IPython.core.display.HTML object>"
      ]
     },
     "metadata": {},
     "output_type": "display_data"
    }
   ],
   "source": [
    "max_len = 10000\n",
    "sf = 0.5\n",
    "model_type = \"inception\"\n",
    "data_set = \"CPSC\"\n",
    "processes = [\"sc\"]\n",
    "\n",
    "batch_tfms = []\n",
    "\n",
    "processing_type = '-'.join([x for x in processes])\n",
    "if \"sc\" in processes:\n",
    "    batch_tfms.append(tfs.Scale(scale_factor=sf,))\n",
    "if \"n\" in processes:\n",
    "    batch_tfms.append(tfs.Normalize())\n",
    "if \"bp\" in processes:\n",
    "    batch_tfms.append(tfs.BandPass(int(sf*500),low_cut=50, high_cut=1,leads=12,))\n",
    "if \"sh\" in processes:\n",
    "    batch_tfms.append(tfs.RandomShift(0.1))\n",
    "if len(processes)==0:\n",
    "    processing_type = \"raw\"\n",
    "\n",
    "print(processes)\n",
    "\n",
    "tfms  = [None, TSMultiLabelClassification()]\n",
    "reports = []\n",
    "probas_list, targets_list = [],[]\n",
    "for cv_num in range(10):\n",
    "    fold_splits = cv_splits[cv_num]\n",
    "    dsets = TSDatasets(X.astype(float)[:,:,0:max_len], y_multi, tfms=tfms, splits=(fold_splits[0],fold_splits[2])) # inplace=True by default\n",
    "    dls   = TSDataLoaders.from_dsets(dsets.train,dsets.valid, bs=[128, 128], batch_tfms=batch_tfms, num_workers=0)\n",
    "    metrics =[accuracy_multi, balanced_accuracy_multi, precision_multi, recall_multi, specificity_multi, F1_multi] \n",
    "    \n",
    "#     model = InceptionTimePlus(dls.vars, dls.c, dls.len, depth=13, ks = 110,nf=28 )\n",
    "    model = InceptionTimePlus(dls.vars, dls.c, dls.len, depth=12, ks = 130,nf=32 )\n",
    "    learn = Learner(dls, model, metrics=metrics, \n",
    "                    cbs=[ShowGraph()],\n",
    "                    model_dir=\"models/10CV/\")\n",
    "    learn.load(\"%s_%s_%s_%s\"%(model_type,processing_type,max_len,cv_num))\n",
    "    valid_probas, valid_targets, valid_preds = learn.get_preds(dl=dls.valid, with_decoded=True)\n",
    "    probas_list.append(valid_probas)\n",
    "    targets_list.append(valid_targets)\n",
    "    y_pred = (valid_preds>0)\n",
    "    y_test = valid_targets\n",
    "\n",
    "    report = classification_report(y_test, y_pred,target_names = dls.vocab.o2i.keys(),digits=3,output_dict=True)\n",
    "    reports.append(report)\n",
    "for report in reports:\n",
    "    for k,v in report.items():\n",
    "        report[k] = report[k][\"f1-score\"]\n",
    "# df for f1\n",
    "f1_df = pd.DataFrame(reports)\n",
    "f1_df.to_csv(\"csvs/%s_%s_%s_%s.csv\"%(model_type,processing_type,max_len,DATASET_ID))\n"
   ]
  },
  {
   "cell_type": "markdown",
   "id": "e2a09acc",
   "metadata": {},
   "source": [
    "### Table Generation:\n"
   ]
  },
  {
   "cell_type": "code",
   "execution_count": 30,
   "id": "604b12c2",
   "metadata": {},
   "outputs": [
    {
     "data": {
      "text/html": [
       "<div>\n",
       "<style scoped>\n",
       "    .dataframe tbody tr th:only-of-type {\n",
       "        vertical-align: middle;\n",
       "    }\n",
       "\n",
       "    .dataframe tbody tr th {\n",
       "        vertical-align: top;\n",
       "    }\n",
       "\n",
       "    .dataframe thead th {\n",
       "        text-align: right;\n",
       "    }\n",
       "</style>\n",
       "<table border=\"1\" class=\"dataframe\">\n",
       "  <thead>\n",
       "    <tr style=\"text-align: right;\">\n",
       "      <th></th>\n",
       "      <th>1st degree av block</th>\n",
       "      <th>atrial fibrillation</th>\n",
       "      <th>left bundle branch block</th>\n",
       "      <th>premature atrial contraction</th>\n",
       "      <th>right bundle branch block</th>\n",
       "      <th>sinus rhythm</th>\n",
       "      <th>st depression</th>\n",
       "      <th>st elevation</th>\n",
       "      <th>ventricular ectopics</th>\n",
       "      <th>micro avg</th>\n",
       "      <th>macro avg</th>\n",
       "      <th>weighted avg</th>\n",
       "      <th>samples avg</th>\n",
       "      <th>experiment</th>\n",
       "    </tr>\n",
       "  </thead>\n",
       "  <tbody>\n",
       "    <tr>\n",
       "      <th>0</th>\n",
       "      <td>0.854962</td>\n",
       "      <td>0.937759</td>\n",
       "      <td>0.918919</td>\n",
       "      <td>0.728972</td>\n",
       "      <td>0.923483</td>\n",
       "      <td>0.793651</td>\n",
       "      <td>0.826816</td>\n",
       "      <td>0.526316</td>\n",
       "      <td>0.855422</td>\n",
       "      <td>0.858896</td>\n",
       "      <td>0.818478</td>\n",
       "      <td>0.856420</td>\n",
       "      <td>0.834546</td>\n",
       "      <td>inception_sc-n-bp_10000_CPSC2018</td>\n",
       "    </tr>\n",
       "    <tr>\n",
       "      <th>1</th>\n",
       "      <td>0.833333</td>\n",
       "      <td>0.945148</td>\n",
       "      <td>0.923077</td>\n",
       "      <td>0.774775</td>\n",
       "      <td>0.940874</td>\n",
       "      <td>0.811765</td>\n",
       "      <td>0.811111</td>\n",
       "      <td>0.600000</td>\n",
       "      <td>0.833333</td>\n",
       "      <td>0.866303</td>\n",
       "      <td>0.830380</td>\n",
       "      <td>0.863926</td>\n",
       "      <td>0.838428</td>\n",
       "      <td>inception_sc-n-bp_10000_CPSC2018</td>\n",
       "    </tr>\n",
       "    <tr>\n",
       "      <th>2</th>\n",
       "      <td>0.865672</td>\n",
       "      <td>0.945148</td>\n",
       "      <td>0.850000</td>\n",
       "      <td>0.782609</td>\n",
       "      <td>0.945736</td>\n",
       "      <td>0.789189</td>\n",
       "      <td>0.802198</td>\n",
       "      <td>0.512821</td>\n",
       "      <td>0.810127</td>\n",
       "      <td>0.859851</td>\n",
       "      <td>0.811500</td>\n",
       "      <td>0.857781</td>\n",
       "      <td>0.836002</td>\n",
       "      <td>inception_sc-n-bp_10000_CPSC2018</td>\n",
       "    </tr>\n",
       "    <tr>\n",
       "      <th>3</th>\n",
       "      <td>0.867647</td>\n",
       "      <td>0.965812</td>\n",
       "      <td>0.950000</td>\n",
       "      <td>0.750000</td>\n",
       "      <td>0.953608</td>\n",
       "      <td>0.802139</td>\n",
       "      <td>0.808989</td>\n",
       "      <td>0.523810</td>\n",
       "      <td>0.857143</td>\n",
       "      <td>0.872727</td>\n",
       "      <td>0.831016</td>\n",
       "      <td>0.871410</td>\n",
       "      <td>0.855410</td>\n",
       "      <td>inception_sc-n-bp_10000_CPSC2018</td>\n",
       "    </tr>\n",
       "    <tr>\n",
       "      <th>4</th>\n",
       "      <td>0.888889</td>\n",
       "      <td>0.953586</td>\n",
       "      <td>0.904762</td>\n",
       "      <td>0.752294</td>\n",
       "      <td>0.948454</td>\n",
       "      <td>0.817204</td>\n",
       "      <td>0.820225</td>\n",
       "      <td>0.486486</td>\n",
       "      <td>0.848485</td>\n",
       "      <td>0.873392</td>\n",
       "      <td>0.824487</td>\n",
       "      <td>0.870000</td>\n",
       "      <td>0.847404</td>\n",
       "      <td>inception_sc-n-bp_10000_CPSC2018</td>\n",
       "    </tr>\n",
       "  </tbody>\n",
       "</table>\n",
       "</div>"
      ],
      "text/plain": [
       "   1st degree av block  atrial fibrillation  left bundle branch block  \\\n",
       "0             0.854962             0.937759                  0.918919   \n",
       "1             0.833333             0.945148                  0.923077   \n",
       "2             0.865672             0.945148                  0.850000   \n",
       "3             0.867647             0.965812                  0.950000   \n",
       "4             0.888889             0.953586                  0.904762   \n",
       "\n",
       "   premature atrial contraction  right bundle branch block  sinus rhythm  \\\n",
       "0                      0.728972                   0.923483      0.793651   \n",
       "1                      0.774775                   0.940874      0.811765   \n",
       "2                      0.782609                   0.945736      0.789189   \n",
       "3                      0.750000                   0.953608      0.802139   \n",
       "4                      0.752294                   0.948454      0.817204   \n",
       "\n",
       "   st depression  st elevation  ventricular ectopics  micro avg  macro avg  \\\n",
       "0       0.826816      0.526316              0.855422   0.858896   0.818478   \n",
       "1       0.811111      0.600000              0.833333   0.866303   0.830380   \n",
       "2       0.802198      0.512821              0.810127   0.859851   0.811500   \n",
       "3       0.808989      0.523810              0.857143   0.872727   0.831016   \n",
       "4       0.820225      0.486486              0.848485   0.873392   0.824487   \n",
       "\n",
       "   weighted avg  samples avg                        experiment  \n",
       "0      0.856420     0.834546  inception_sc-n-bp_10000_CPSC2018  \n",
       "1      0.863926     0.838428  inception_sc-n-bp_10000_CPSC2018  \n",
       "2      0.857781     0.836002  inception_sc-n-bp_10000_CPSC2018  \n",
       "3      0.871410     0.855410  inception_sc-n-bp_10000_CPSC2018  \n",
       "4      0.870000     0.847404  inception_sc-n-bp_10000_CPSC2018  "
      ]
     },
     "execution_count": 30,
     "metadata": {},
     "output_type": "execute_result"
    }
   ],
   "source": [
    "path = \"csvs/\" # use your path\n",
    "all_files = glob.glob(path + \"/inception*CPSC2018.csv\")\n",
    "li = []\n",
    "for filename in all_files:\n",
    "    df = pd.read_csv(filename, header=0)\n",
    "    df[\"experiment\"] = filename.split(\"/\")[-1].split(\".\")[0]\n",
    "    li.append(df)\n",
    "\n",
    "    \n",
    "frame = pd.concat(li, axis=0, ignore_index=True)\n",
    "frame = frame.drop(columns=frame.columns[0])\n",
    "frame.head()"
   ]
  },
  {
   "cell_type": "code",
   "execution_count": 31,
   "id": "faa44618",
   "metadata": {},
   "outputs": [
    {
     "data": {
      "text/html": [
       "<div>\n",
       "<style scoped>\n",
       "    .dataframe tbody tr th:only-of-type {\n",
       "        vertical-align: middle;\n",
       "    }\n",
       "\n",
       "    .dataframe tbody tr th {\n",
       "        vertical-align: top;\n",
       "    }\n",
       "\n",
       "    .dataframe thead th {\n",
       "        text-align: right;\n",
       "    }\n",
       "</style>\n",
       "<table border=\"1\" class=\"dataframe\">\n",
       "  <thead>\n",
       "    <tr style=\"text-align: right;\">\n",
       "      <th></th>\n",
       "      <th>1st degree av block</th>\n",
       "      <th>atrial fibrillation</th>\n",
       "      <th>left bundle branch block</th>\n",
       "      <th>premature atrial contraction</th>\n",
       "      <th>right bundle branch block</th>\n",
       "      <th>sinus rhythm</th>\n",
       "      <th>st depression</th>\n",
       "      <th>st elevation</th>\n",
       "      <th>ventricular ectopics</th>\n",
       "      <th>micro avg</th>\n",
       "      <th>macro avg</th>\n",
       "      <th>weighted avg</th>\n",
       "      <th>samples avg</th>\n",
       "    </tr>\n",
       "    <tr>\n",
       "      <th>experiment</th>\n",
       "      <th></th>\n",
       "      <th></th>\n",
       "      <th></th>\n",
       "      <th></th>\n",
       "      <th></th>\n",
       "      <th></th>\n",
       "      <th></th>\n",
       "      <th></th>\n",
       "      <th></th>\n",
       "      <th></th>\n",
       "      <th></th>\n",
       "      <th></th>\n",
       "      <th></th>\n",
       "    </tr>\n",
       "  </thead>\n",
       "  <tbody>\n",
       "    <tr>\n",
       "      <th>inception_raw_10000_CPSC2018</th>\n",
       "      <td>0.860390</td>\n",
       "      <td>0.942889</td>\n",
       "      <td>0.902381</td>\n",
       "      <td>0.728972</td>\n",
       "      <td>0.946429</td>\n",
       "      <td>0.790356</td>\n",
       "      <td>0.827772</td>\n",
       "      <td>0.512821</td>\n",
       "      <td>0.810969</td>\n",
       "      <td>0.861125</td>\n",
       "      <td>0.815148</td>\n",
       "      <td>0.858535</td>\n",
       "      <td>0.834304</td>\n",
       "    </tr>\n",
       "    <tr>\n",
       "      <th>inception_sc-n-bp-sh_10000_CPSC2018</th>\n",
       "      <td>0.867950</td>\n",
       "      <td>0.943174</td>\n",
       "      <td>0.871795</td>\n",
       "      <td>0.732357</td>\n",
       "      <td>0.944941</td>\n",
       "      <td>0.790428</td>\n",
       "      <td>0.782371</td>\n",
       "      <td>0.513158</td>\n",
       "      <td>0.824623</td>\n",
       "      <td>0.857628</td>\n",
       "      <td>0.812525</td>\n",
       "      <td>0.855021</td>\n",
       "      <td>0.834182</td>\n",
       "    </tr>\n",
       "    <tr>\n",
       "      <th>inception_sc-n-bp_10000_CPSC2018</th>\n",
       "      <td>0.860317</td>\n",
       "      <td>0.945148</td>\n",
       "      <td>0.911840</td>\n",
       "      <td>0.759480</td>\n",
       "      <td>0.946151</td>\n",
       "      <td>0.806625</td>\n",
       "      <td>0.810050</td>\n",
       "      <td>0.525063</td>\n",
       "      <td>0.845929</td>\n",
       "      <td>0.863821</td>\n",
       "      <td>0.824211</td>\n",
       "      <td>0.861098</td>\n",
       "      <td>0.838185</td>\n",
       "    </tr>\n",
       "    <tr>\n",
       "      <th>inception_sc-n_10000_CPSC2018</th>\n",
       "      <td>0.861448</td>\n",
       "      <td>0.942913</td>\n",
       "      <td>0.908907</td>\n",
       "      <td>0.751311</td>\n",
       "      <td>0.947505</td>\n",
       "      <td>0.810050</td>\n",
       "      <td>0.810837</td>\n",
       "      <td>0.500000</td>\n",
       "      <td>0.830926</td>\n",
       "      <td>0.861403</td>\n",
       "      <td>0.815315</td>\n",
       "      <td>0.858093</td>\n",
       "      <td>0.839034</td>\n",
       "    </tr>\n",
       "    <tr>\n",
       "      <th>inception_sc_10000_CPSC2018</th>\n",
       "      <td>0.858305</td>\n",
       "      <td>0.941423</td>\n",
       "      <td>0.904762</td>\n",
       "      <td>0.759011</td>\n",
       "      <td>0.946015</td>\n",
       "      <td>0.803255</td>\n",
       "      <td>0.825177</td>\n",
       "      <td>0.459064</td>\n",
       "      <td>0.854540</td>\n",
       "      <td>0.865649</td>\n",
       "      <td>0.816061</td>\n",
       "      <td>0.862641</td>\n",
       "      <td>0.844614</td>\n",
       "    </tr>\n",
       "  </tbody>\n",
       "</table>\n",
       "</div>"
      ],
      "text/plain": [
       "                                     1st degree av block  atrial fibrillation  \\\n",
       "experiment                                                                      \n",
       "inception_raw_10000_CPSC2018                    0.860390             0.942889   \n",
       "inception_sc-n-bp-sh_10000_CPSC2018             0.867950             0.943174   \n",
       "inception_sc-n-bp_10000_CPSC2018                0.860317             0.945148   \n",
       "inception_sc-n_10000_CPSC2018                   0.861448             0.942913   \n",
       "inception_sc_10000_CPSC2018                     0.858305             0.941423   \n",
       "\n",
       "                                     left bundle branch block  \\\n",
       "experiment                                                      \n",
       "inception_raw_10000_CPSC2018                         0.902381   \n",
       "inception_sc-n-bp-sh_10000_CPSC2018                  0.871795   \n",
       "inception_sc-n-bp_10000_CPSC2018                     0.911840   \n",
       "inception_sc-n_10000_CPSC2018                        0.908907   \n",
       "inception_sc_10000_CPSC2018                          0.904762   \n",
       "\n",
       "                                     premature atrial contraction  \\\n",
       "experiment                                                          \n",
       "inception_raw_10000_CPSC2018                             0.728972   \n",
       "inception_sc-n-bp-sh_10000_CPSC2018                      0.732357   \n",
       "inception_sc-n-bp_10000_CPSC2018                         0.759480   \n",
       "inception_sc-n_10000_CPSC2018                            0.751311   \n",
       "inception_sc_10000_CPSC2018                              0.759011   \n",
       "\n",
       "                                     right bundle branch block  sinus rhythm  \\\n",
       "experiment                                                                     \n",
       "inception_raw_10000_CPSC2018                          0.946429      0.790356   \n",
       "inception_sc-n-bp-sh_10000_CPSC2018                   0.944941      0.790428   \n",
       "inception_sc-n-bp_10000_CPSC2018                      0.946151      0.806625   \n",
       "inception_sc-n_10000_CPSC2018                         0.947505      0.810050   \n",
       "inception_sc_10000_CPSC2018                           0.946015      0.803255   \n",
       "\n",
       "                                     st depression  st elevation  \\\n",
       "experiment                                                         \n",
       "inception_raw_10000_CPSC2018              0.827772      0.512821   \n",
       "inception_sc-n-bp-sh_10000_CPSC2018       0.782371      0.513158   \n",
       "inception_sc-n-bp_10000_CPSC2018          0.810050      0.525063   \n",
       "inception_sc-n_10000_CPSC2018             0.810837      0.500000   \n",
       "inception_sc_10000_CPSC2018               0.825177      0.459064   \n",
       "\n",
       "                                     ventricular ectopics  micro avg  \\\n",
       "experiment                                                             \n",
       "inception_raw_10000_CPSC2018                     0.810969   0.861125   \n",
       "inception_sc-n-bp-sh_10000_CPSC2018              0.824623   0.857628   \n",
       "inception_sc-n-bp_10000_CPSC2018                 0.845929   0.863821   \n",
       "inception_sc-n_10000_CPSC2018                    0.830926   0.861403   \n",
       "inception_sc_10000_CPSC2018                      0.854540   0.865649   \n",
       "\n",
       "                                     macro avg  weighted avg  samples avg  \n",
       "experiment                                                                 \n",
       "inception_raw_10000_CPSC2018          0.815148      0.858535     0.834304  \n",
       "inception_sc-n-bp-sh_10000_CPSC2018   0.812525      0.855021     0.834182  \n",
       "inception_sc-n-bp_10000_CPSC2018      0.824211      0.861098     0.838185  \n",
       "inception_sc-n_10000_CPSC2018         0.815315      0.858093     0.839034  \n",
       "inception_sc_10000_CPSC2018           0.816061      0.862641     0.844614  "
      ]
     },
     "execution_count": 31,
     "metadata": {},
     "output_type": "execute_result"
    }
   ],
   "source": [
    "frame.groupby(\"experiment\").median()"
   ]
  },
  {
   "cell_type": "markdown",
   "id": "7b25bc38",
   "metadata": {},
   "source": [
    "# CSPC + minirocket "
   ]
  },
  {
   "cell_type": "markdown",
   "id": "0fc63a9e",
   "metadata": {},
   "source": [
    "## raw"
   ]
  },
  {
   "cell_type": "code",
   "execution_count": null,
   "id": "ea02cfba",
   "metadata": {},
   "outputs": [],
   "source": [
    "max_len = 6000\n",
    "sf = 0.5\n",
    "model_type = \"minirocket\"\n",
    "data_set = \"CPSC2018\"\n",
    "processes = []\n",
    "\n",
    "batch_tfms = []\n",
    "\n",
    "processing_type = '-'.join([x for x in processes])\n",
    "if \"sc\" in processes:\n",
    "    batch_tfms.append(tfs.Scale(scale_factor=sf,))\n",
    "if \"n\" in processes:\n",
    "    batch_tfms.append(tfs.Normalize())\n",
    "if \"bp\" in processes:\n",
    "    batch_tfms.append(tfs.BandPass(int(sf*500),low_cut=50, high_cut=1,leads=12,))\n",
    "if \"sh\" in processes:\n",
    "    batch_tfms.append(tfs.RandomShift(0.1))\n",
    "if len(processes)==0:\n",
    "    processing_type = \"raw\"\n",
    "\n",
    "print(processes)\n",
    "\n",
    "tfms  = [None, TSMultiLabelClassification()]\n",
    "reports = []\n",
    "probas_list, targets_list = [],[]\n",
    "for cv_num in range(10):\n",
    "    print(cv_num)\n",
    "    fold_splits = cv_splits[cv_num]\n",
    "    dsets = TSDatasets(X.astype(float)[:,:,0:max_len], y_multi, tfms=tfms, splits=(fold_splits[0],fold_splits[2])) # inplace=True by default\n",
    "    dls   = TSDataLoaders.from_dsets(dsets.train,dsets.valid, bs=[128, 128], batch_tfms=batch_tfms, num_workers=0)\n",
    "    metrics =[accuracy_multi, balanced_accuracy_multi, precision_multi, recall_multi, specificity_multi, F1_multi] \n",
    "    \n",
    "#     model = InceptionTimePlus(dls.vars, dls.c, dls.len, depth=13, ks = 110,nf=28 )\n",
    "    model = MiniRocketPlus(dls.vars, dls.c,dls.len)\n",
    "    learn = Learner(dls, model, metrics=metrics, \n",
    "                    cbs=[ShowGraph()],\n",
    "                    model_dir=\"models/10CV/\")\n",
    "    learn.load(\"%s_%s_%s_%s_%s\"%(model_type,data_set,processing_type,max_len,cv_num))\n",
    "    valid_probas, valid_targets, valid_preds = learn.get_preds(dl=dls.valid, with_decoded=True)\n",
    "    probas_list.append(valid_probas)\n",
    "    targets_list.append(valid_targets)\n",
    "    y_pred = (valid_preds>0)\n",
    "    y_test = valid_targets\n",
    "\n",
    "    report = classification_report(y_test, y_pred,target_names = dls.vocab.o2i.keys(),digits=3,output_dict=True)\n",
    "    reports.append(report)\n",
    "\n",
    "for report in reports:\n",
    "    for k,v in report.items():\n",
    "        report[k] = report[k][\"f1-score\"]\n",
    "# df for f1\n",
    "f1_df = pd.DataFrame(reports)\n",
    "f1_df.to_csv(\"csvs/%s_%s_%s_%s.csv\"%(model_type,processing_type,max_len,DATASET_ID))\n",
    "f1.median()"
   ]
  },
  {
   "cell_type": "code",
   "execution_count": 5,
   "id": "1d1ec607",
   "metadata": {},
   "outputs": [
    {
     "data": {
      "text/plain": [
       "(12, 9, 6000)"
      ]
     },
     "execution_count": 5,
     "metadata": {},
     "output_type": "execute_result"
    }
   ],
   "source": [
    "dls.vars, dls.c,dls.len"
   ]
  },
  {
   "cell_type": "code",
   "execution_count": 6,
   "id": "ef6218b6",
   "metadata": {},
   "outputs": [
    {
     "data": {
      "text/plain": [
       "1st degree av block             0.811555\n",
       "atrial fibrillation             0.915462\n",
       "left bundle branch block        0.850000\n",
       "premature atrial contraction    0.372358\n",
       "right bundle branch block       0.907246\n",
       "sinus rhythm                    0.637298\n",
       "st depression                   0.730248\n",
       "st elevation                    0.305361\n",
       "ventricular ectopics            0.618402\n",
       "micro avg                       0.764165\n",
       "macro avg                       0.687524\n",
       "weighted avg                    0.753884\n",
       "samples avg                     0.706817\n",
       "dtype: float64"
      ]
     },
     "execution_count": 6,
     "metadata": {},
     "output_type": "execute_result"
    }
   ],
   "source": [
    "for report in reports:\n",
    "    for k,v in report.items():\n",
    "        report[k] = report[k][\"f1-score\"]\n",
    "# df for f1\n",
    "f1_df = pd.DataFrame(reports)\n",
    "f1_df.to_csv(\"csvs/%s_%s_%s_%s.csv\"%(model_type,processing_type,max_len,DATASET_ID))\n",
    "f1_df.median()"
   ]
  },
  {
   "cell_type": "code",
   "execution_count": 9,
   "id": "2efbf38f",
   "metadata": {},
   "outputs": [
    {
     "name": "stdout",
     "output_type": "stream",
     "text": [
      "['sc']\n",
      "0\n"
     ]
    },
    {
     "data": {
      "text/html": [],
      "text/plain": [
       "<IPython.core.display.HTML object>"
      ]
     },
     "metadata": {},
     "output_type": "display_data"
    },
    {
     "name": "stdout",
     "output_type": "stream",
     "text": [
      "1\n"
     ]
    },
    {
     "data": {
      "text/html": [],
      "text/plain": [
       "<IPython.core.display.HTML object>"
      ]
     },
     "metadata": {},
     "output_type": "display_data"
    },
    {
     "name": "stdout",
     "output_type": "stream",
     "text": [
      "2\n"
     ]
    },
    {
     "data": {
      "text/html": [],
      "text/plain": [
       "<IPython.core.display.HTML object>"
      ]
     },
     "metadata": {},
     "output_type": "display_data"
    },
    {
     "name": "stdout",
     "output_type": "stream",
     "text": [
      "3\n"
     ]
    },
    {
     "data": {
      "text/html": [],
      "text/plain": [
       "<IPython.core.display.HTML object>"
      ]
     },
     "metadata": {},
     "output_type": "display_data"
    },
    {
     "name": "stdout",
     "output_type": "stream",
     "text": [
      "4\n"
     ]
    },
    {
     "data": {
      "text/html": [],
      "text/plain": [
       "<IPython.core.display.HTML object>"
      ]
     },
     "metadata": {},
     "output_type": "display_data"
    },
    {
     "name": "stdout",
     "output_type": "stream",
     "text": [
      "5\n"
     ]
    },
    {
     "data": {
      "text/html": [],
      "text/plain": [
       "<IPython.core.display.HTML object>"
      ]
     },
     "metadata": {},
     "output_type": "display_data"
    },
    {
     "name": "stdout",
     "output_type": "stream",
     "text": [
      "6\n"
     ]
    },
    {
     "data": {
      "text/html": [],
      "text/plain": [
       "<IPython.core.display.HTML object>"
      ]
     },
     "metadata": {},
     "output_type": "display_data"
    },
    {
     "name": "stdout",
     "output_type": "stream",
     "text": [
      "7\n"
     ]
    },
    {
     "data": {
      "text/html": [],
      "text/plain": [
       "<IPython.core.display.HTML object>"
      ]
     },
     "metadata": {},
     "output_type": "display_data"
    },
    {
     "name": "stdout",
     "output_type": "stream",
     "text": [
      "8\n"
     ]
    },
    {
     "data": {
      "text/html": [],
      "text/plain": [
       "<IPython.core.display.HTML object>"
      ]
     },
     "metadata": {},
     "output_type": "display_data"
    },
    {
     "name": "stdout",
     "output_type": "stream",
     "text": [
      "9\n"
     ]
    },
    {
     "data": {
      "text/html": [],
      "text/plain": [
       "<IPython.core.display.HTML object>"
      ]
     },
     "metadata": {},
     "output_type": "display_data"
    },
    {
     "data": {
      "text/plain": [
       "1st degree av block             0.817344\n",
       "atrial fibrillation             0.914162\n",
       "left bundle branch block        0.886305\n",
       "premature atrial contraction    0.431193\n",
       "right bundle branch block       0.915982\n",
       "sinus rhythm                    0.693182\n",
       "st depression                   0.715839\n",
       "st elevation                    0.332895\n",
       "ventricular ectopics            0.607891\n",
       "micro avg                       0.764447\n",
       "macro avg                       0.697922\n",
       "weighted avg                    0.758933\n",
       "samples avg                     0.706914\n",
       "dtype: float64"
      ]
     },
     "execution_count": 9,
     "metadata": {},
     "output_type": "execute_result"
    }
   ],
   "source": [
    "max_len = 6000\n",
    "sf = 0.5\n",
    "model_type = \"minirocket\"\n",
    "data_set = \"CPSC2018\"\n",
    "processes = [\"sc\"]\n",
    "\n",
    "batch_tfms = []\n",
    "\n",
    "processing_type = '-'.join([x for x in processes])\n",
    "if \"sc\" in processes:\n",
    "    batch_tfms.append(tfs.Scale(scale_factor=sf,))\n",
    "if \"n\" in processes:\n",
    "    batch_tfms.append(tfs.Normalize())\n",
    "if \"bp\" in processes:\n",
    "    batch_tfms.append(tfs.BandPass(int(sf*500),low_cut=50, high_cut=1,leads=12,))\n",
    "if \"sh\" in processes:\n",
    "    batch_tfms.append(tfs.RandomShift(0.1))\n",
    "if len(processes)==0:\n",
    "    processing_type = \"raw\"\n",
    "\n",
    "print(processes)\n",
    "\n",
    "tfms  = [None, TSMultiLabelClassification()]\n",
    "reports = []\n",
    "probas_list, targets_list = [],[]\n",
    "for cv_num in range(10):\n",
    "    fold_splits = cv_splits[cv_num]\n",
    "    dsets = TSDatasets(X.astype(float)[:,:,0:max_len], y_multi, tfms=tfms, splits=(fold_splits[0],fold_splits[2])) # inplace=True by default\n",
    "    dls   = TSDataLoaders.from_dsets(dsets.train,dsets.valid, bs=[128, 128], batch_tfms=batch_tfms, num_workers=0)\n",
    "    metrics =[accuracy_multi, balanced_accuracy_multi, precision_multi, recall_multi, specificity_multi, F1_multi] \n",
    "    \n",
    "#     model = InceptionTimePlus(dls.vars, dls.c, dls.len, depth=13, ks = 110,nf=28 )\n",
    "    model = MiniRocketPlus(dls.vars, dls.c,dls.len)\n",
    "    learn = Learner(dls, model, metrics=metrics, \n",
    "                    cbs=[ShowGraph()],\n",
    "                    model_dir=\"models/10CV/\")\n",
    "    learn.load(\"%s_%s_%s_%s_%s\"%(model_type,data_set,processing_type,max_len,cv_num))\n",
    "    valid_probas, valid_targets, valid_preds = learn.get_preds(dl=dls.valid, with_decoded=True)\n",
    "    probas_list.append(valid_probas)\n",
    "    targets_list.append(valid_targets)\n",
    "    y_pred = (valid_preds>0)\n",
    "    y_test = valid_targets\n",
    "\n",
    "    report = classification_report(y_test, y_pred,target_names = dls.vocab.o2i.keys(),digits=3,output_dict=True)\n",
    "    reports.append(report)\n",
    "\n",
    "for report in reports:\n",
    "    for k,v in report.items():\n",
    "        report[k] = report[k][\"f1-score\"]\n",
    "# df for f1\n",
    "f1_df = pd.DataFrame(reports)\n",
    "f1_df.to_csv(\"csvs/%s_%s_%s_%s.csv\"%(model_type,processing_type,max_len,DATASET_ID))\n",
    "f1_df.median()"
   ]
  },
  {
   "cell_type": "code",
   "execution_count": 14,
   "id": "c8e91e6c",
   "metadata": {},
   "outputs": [
    {
     "name": "stdout",
     "output_type": "stream",
     "text": [
      "['sc', 'n']\n"
     ]
    },
    {
     "data": {
      "text/html": [],
      "text/plain": [
       "<IPython.core.display.HTML object>"
      ]
     },
     "metadata": {},
     "output_type": "display_data"
    },
    {
     "data": {
      "text/html": [],
      "text/plain": [
       "<IPython.core.display.HTML object>"
      ]
     },
     "metadata": {},
     "output_type": "display_data"
    },
    {
     "data": {
      "text/html": [],
      "text/plain": [
       "<IPython.core.display.HTML object>"
      ]
     },
     "metadata": {},
     "output_type": "display_data"
    },
    {
     "data": {
      "text/html": [],
      "text/plain": [
       "<IPython.core.display.HTML object>"
      ]
     },
     "metadata": {},
     "output_type": "display_data"
    },
    {
     "data": {
      "text/html": [],
      "text/plain": [
       "<IPython.core.display.HTML object>"
      ]
     },
     "metadata": {},
     "output_type": "display_data"
    },
    {
     "data": {
      "text/html": [],
      "text/plain": [
       "<IPython.core.display.HTML object>"
      ]
     },
     "metadata": {},
     "output_type": "display_data"
    },
    {
     "data": {
      "text/html": [],
      "text/plain": [
       "<IPython.core.display.HTML object>"
      ]
     },
     "metadata": {},
     "output_type": "display_data"
    },
    {
     "data": {
      "text/html": [],
      "text/plain": [
       "<IPython.core.display.HTML object>"
      ]
     },
     "metadata": {},
     "output_type": "display_data"
    },
    {
     "data": {
      "text/html": [],
      "text/plain": [
       "<IPython.core.display.HTML object>"
      ]
     },
     "metadata": {},
     "output_type": "display_data"
    },
    {
     "data": {
      "text/html": [],
      "text/plain": [
       "<IPython.core.display.HTML object>"
      ]
     },
     "metadata": {},
     "output_type": "display_data"
    },
    {
     "data": {
      "text/plain": [
       "1st degree av block             0.811152\n",
       "atrial fibrillation             0.909481\n",
       "left bundle branch block        0.839634\n",
       "premature atrial contraction    0.405357\n",
       "right bundle branch block       0.911876\n",
       "sinus rhythm                    0.703146\n",
       "st depression                   0.739957\n",
       "st elevation                    0.329823\n",
       "ventricular ectopics            0.638984\n",
       "micro avg                       0.770334\n",
       "macro avg                       0.701077\n",
       "weighted avg                    0.764967\n",
       "samples avg                     0.713464\n",
       "dtype: float64"
      ]
     },
     "execution_count": 14,
     "metadata": {},
     "output_type": "execute_result"
    }
   ],
   "source": [
    "max_len = 6000\n",
    "sf = 0.5\n",
    "model_type = \"minirocket\"\n",
    "data_set = \"CPSC2018\"\n",
    "processes = [\"sc\",\"n\"]\n",
    "\n",
    "batch_tfms = []\n",
    "\n",
    "processing_type = '-'.join([x for x in processes])\n",
    "if \"sc\" in processes:\n",
    "    batch_tfms.append(tfs.Scale(scale_factor=sf,))\n",
    "if \"n\" in processes:\n",
    "    batch_tfms.append(tfs.Normalize())\n",
    "if \"bp\" in processes:\n",
    "    batch_tfms.append(tfs.BandPass(int(sf*500),low_cut=50, high_cut=1,leads=12,))\n",
    "if \"sh\" in processes:\n",
    "    batch_tfms.append(tfs.RandomShift(0.1))\n",
    "if len(processes)==0:\n",
    "    processing_type = \"raw\"\n",
    "\n",
    "print(processes)\n",
    "\n",
    "tfms  = [None, TSMultiLabelClassification()]\n",
    "reports = []\n",
    "probas_list, targets_list = [],[]\n",
    "for cv_num in range(10):\n",
    "    fold_splits = cv_splits[cv_num]\n",
    "    dsets = TSDatasets(X.astype(float)[:,:,0:max_len], y_multi, tfms=tfms, splits=(fold_splits[0],fold_splits[2])) # inplace=True by default\n",
    "    dls   = TSDataLoaders.from_dsets(dsets.train,dsets.valid, bs=[128, 128], batch_tfms=batch_tfms, num_workers=0)\n",
    "    metrics =[accuracy_multi, balanced_accuracy_multi, precision_multi, recall_multi, specificity_multi, F1_multi] \n",
    "    \n",
    "#     model = InceptionTimePlus(dls.vars, dls.c, dls.len, depth=13, ks = 110,nf=28 )\n",
    "    model = MiniRocketPlus(dls.vars, dls.c,dls.len)\n",
    "    learn = Learner(dls, model, metrics=metrics, \n",
    "                    cbs=[ShowGraph()],\n",
    "                    model_dir=\"models/10CV/\")\n",
    "    learn.load(\"%s_%s_%s_%s_%s\"%(model_type,data_set,processing_type,max_len,cv_num))\n",
    "    valid_probas, valid_targets, valid_preds = learn.get_preds(dl=dls.valid, with_decoded=True)\n",
    "    probas_list.append(valid_probas)\n",
    "    targets_list.append(valid_targets)\n",
    "    y_pred = (valid_preds>0)\n",
    "    y_test = valid_targets\n",
    "\n",
    "    report = classification_report(y_test, y_pred,target_names = dls.vocab.o2i.keys(),digits=3,output_dict=True)\n",
    "    reports.append(report)\n",
    "\n",
    "for report in reports:\n",
    "    for k,v in report.items():\n",
    "        report[k] = report[k][\"f1-score\"]\n",
    "# df for f1\n",
    "f1_df = pd.DataFrame(reports)\n",
    "f1_df.to_csv(\"csvs/%s_%s_%s_%s.csv\"%(model_type,processing_type,max_len,DATASET_ID))\n",
    "f1_df.median()"
   ]
  },
  {
   "cell_type": "code",
   "execution_count": null,
   "id": "acc597ae",
   "metadata": {},
   "outputs": [],
   "source": []
  },
  {
   "cell_type": "code",
   "execution_count": 10,
   "id": "f21fe20d",
   "metadata": {},
   "outputs": [
    {
     "name": "stdout",
     "output_type": "stream",
     "text": [
      "['sc', 'n', 'bp']\n"
     ]
    },
    {
     "data": {
      "text/html": [],
      "text/plain": [
       "<IPython.core.display.HTML object>"
      ]
     },
     "metadata": {},
     "output_type": "display_data"
    },
    {
     "data": {
      "text/html": [],
      "text/plain": [
       "<IPython.core.display.HTML object>"
      ]
     },
     "metadata": {},
     "output_type": "display_data"
    },
    {
     "data": {
      "text/html": [],
      "text/plain": [
       "<IPython.core.display.HTML object>"
      ]
     },
     "metadata": {},
     "output_type": "display_data"
    },
    {
     "data": {
      "text/html": [],
      "text/plain": [
       "<IPython.core.display.HTML object>"
      ]
     },
     "metadata": {},
     "output_type": "display_data"
    },
    {
     "data": {
      "text/html": [],
      "text/plain": [
       "<IPython.core.display.HTML object>"
      ]
     },
     "metadata": {},
     "output_type": "display_data"
    },
    {
     "data": {
      "text/html": [],
      "text/plain": [
       "<IPython.core.display.HTML object>"
      ]
     },
     "metadata": {},
     "output_type": "display_data"
    },
    {
     "data": {
      "text/html": [],
      "text/plain": [
       "<IPython.core.display.HTML object>"
      ]
     },
     "metadata": {},
     "output_type": "display_data"
    },
    {
     "data": {
      "text/html": [],
      "text/plain": [
       "<IPython.core.display.HTML object>"
      ]
     },
     "metadata": {},
     "output_type": "display_data"
    },
    {
     "data": {
      "text/html": [],
      "text/plain": [
       "<IPython.core.display.HTML object>"
      ]
     },
     "metadata": {},
     "output_type": "display_data"
    },
    {
     "data": {
      "text/html": [],
      "text/plain": [
       "<IPython.core.display.HTML object>"
      ]
     },
     "metadata": {},
     "output_type": "display_data"
    },
    {
     "data": {
      "text/plain": [
       "1st degree av block             0.802699\n",
       "atrial fibrillation             0.909084\n",
       "left bundle branch block        0.850000\n",
       "premature atrial contraction    0.453288\n",
       "right bundle branch block       0.902390\n",
       "sinus rhythm                    0.693338\n",
       "st depression                   0.731317\n",
       "st elevation                    0.352564\n",
       "ventricular ectopics            0.644841\n",
       "micro avg                       0.770774\n",
       "macro avg                       0.700076\n",
       "weighted avg                    0.760271\n",
       "samples avg                     0.719772\n",
       "dtype: float64"
      ]
     },
     "execution_count": 10,
     "metadata": {},
     "output_type": "execute_result"
    }
   ],
   "source": [
    "max_len = 6000\n",
    "sf = 0.5\n",
    "model_type = \"minirocket\"\n",
    "data_set = \"CPSC2018\"\n",
    "processes = [\"sc\",\"n\",\"bp\",]\n",
    "\n",
    "batch_tfms = []\n",
    "\n",
    "processing_type = '-'.join([x for x in processes])\n",
    "if \"sc\" in processes:\n",
    "    batch_tfms.append(tfs.Scale(scale_factor=sf,))\n",
    "if \"n\" in processes:\n",
    "    batch_tfms.append(tfs.Normalize())\n",
    "if \"bp\" in processes:\n",
    "    batch_tfms.append(tfs.BandPass(int(sf*500),low_cut=50, high_cut=1,leads=12,))\n",
    "if \"sh\" in processes:\n",
    "    batch_tfms.append(tfs.RandomShift(0.1))\n",
    "if len(processes)==0:\n",
    "    processing_type = \"raw\"\n",
    "\n",
    "print(processes)\n",
    "\n",
    "tfms  = [None, TSMultiLabelClassification()]\n",
    "reports = []\n",
    "probas_list, targets_list = [],[]\n",
    "for cv_num in range(10):\n",
    "    fold_splits = cv_splits[cv_num]\n",
    "    dsets = TSDatasets(X.astype(float)[:,:,0:max_len], y_multi, tfms=tfms, splits=(fold_splits[0],fold_splits[2])) # inplace=True by default\n",
    "    dls   = TSDataLoaders.from_dsets(dsets.train,dsets.valid, bs=[128, 128], batch_tfms=batch_tfms, num_workers=0)\n",
    "    metrics =[accuracy_multi, balanced_accuracy_multi, precision_multi, recall_multi, specificity_multi, F1_multi] \n",
    "    \n",
    "#     model = InceptionTimePlus(dls.vars, dls.c, dls.len, depth=13, ks = 110,nf=28 )\n",
    "    model = MiniRocketPlus(dls.vars, dls.c,dls.len)\n",
    "    learn = Learner(dls, model, metrics=metrics, \n",
    "                    cbs=[ShowGraph()],\n",
    "                    model_dir=\"models/10CV/\")\n",
    "    learn.load(\"%s_%s_%s_%s_%s\"%(model_type,data_set,processing_type,max_len,cv_num))\n",
    "    valid_probas, valid_targets, valid_preds = learn.get_preds(dl=dls.valid, with_decoded=True)\n",
    "    probas_list.append(valid_probas)\n",
    "    targets_list.append(valid_targets)\n",
    "    y_pred = (valid_preds>0)\n",
    "    y_test = valid_targets\n",
    "\n",
    "    report = classification_report(y_test, y_pred,target_names = dls.vocab.o2i.keys(),digits=3,output_dict=True)\n",
    "    reports.append(report)\n",
    "\n",
    "for report in reports:\n",
    "    for k,v in report.items():\n",
    "        report[k] = report[k][\"f1-score\"]\n",
    "# df for f1\n",
    "f1_df = pd.DataFrame(reports)\n",
    "f1_df.to_csv(\"csvs/%s_%s_%s_%s.csv\"%(model_type,processing_type,max_len,DATASET_ID))\n",
    "f1_df.median()"
   ]
  },
  {
   "cell_type": "code",
   "execution_count": null,
   "id": "28ec2756",
   "metadata": {},
   "outputs": [],
   "source": []
  },
  {
   "cell_type": "code",
   "execution_count": 11,
   "id": "58103139",
   "metadata": {},
   "outputs": [
    {
     "name": "stdout",
     "output_type": "stream",
     "text": [
      "['sc', 'n', 'bp', 'sh']\n"
     ]
    },
    {
     "data": {
      "text/html": [],
      "text/plain": [
       "<IPython.core.display.HTML object>"
      ]
     },
     "metadata": {},
     "output_type": "display_data"
    },
    {
     "data": {
      "text/html": [],
      "text/plain": [
       "<IPython.core.display.HTML object>"
      ]
     },
     "metadata": {},
     "output_type": "display_data"
    },
    {
     "data": {
      "text/html": [],
      "text/plain": [
       "<IPython.core.display.HTML object>"
      ]
     },
     "metadata": {},
     "output_type": "display_data"
    },
    {
     "data": {
      "text/html": [],
      "text/plain": [
       "<IPython.core.display.HTML object>"
      ]
     },
     "metadata": {},
     "output_type": "display_data"
    },
    {
     "data": {
      "text/html": [],
      "text/plain": [
       "<IPython.core.display.HTML object>"
      ]
     },
     "metadata": {},
     "output_type": "display_data"
    },
    {
     "data": {
      "text/html": [],
      "text/plain": [
       "<IPython.core.display.HTML object>"
      ]
     },
     "metadata": {},
     "output_type": "display_data"
    },
    {
     "data": {
      "text/html": [],
      "text/plain": [
       "<IPython.core.display.HTML object>"
      ]
     },
     "metadata": {},
     "output_type": "display_data"
    },
    {
     "data": {
      "text/html": [],
      "text/plain": [
       "<IPython.core.display.HTML object>"
      ]
     },
     "metadata": {},
     "output_type": "display_data"
    },
    {
     "data": {
      "text/html": [],
      "text/plain": [
       "<IPython.core.display.HTML object>"
      ]
     },
     "metadata": {},
     "output_type": "display_data"
    },
    {
     "data": {
      "text/html": [],
      "text/plain": [
       "<IPython.core.display.HTML object>"
      ]
     },
     "metadata": {},
     "output_type": "display_data"
    },
    {
     "data": {
      "text/plain": [
       "1st degree av block             0.830852\n",
       "atrial fibrillation             0.915230\n",
       "left bundle branch block        0.889229\n",
       "premature atrial contraction    0.467428\n",
       "right bundle branch block       0.906961\n",
       "sinus rhythm                    0.697793\n",
       "st depression                   0.746384\n",
       "st elevation                    0.428105\n",
       "ventricular ectopics            0.672792\n",
       "micro avg                       0.784053\n",
       "macro avg                       0.725375\n",
       "weighted avg                    0.778323\n",
       "samples avg                     0.733358\n",
       "dtype: float64"
      ]
     },
     "execution_count": 11,
     "metadata": {},
     "output_type": "execute_result"
    }
   ],
   "source": [
    "max_len = 6000\n",
    "sf = 0.5\n",
    "model_type = \"minirocket\"\n",
    "data_set = \"CPSC2018\"\n",
    "processes = [\"sc\",\"n\",\"bp\",\"sh\"]\n",
    "\n",
    "batch_tfms = []\n",
    "\n",
    "processing_type = '-'.join([x for x in processes])\n",
    "if \"sc\" in processes:\n",
    "    batch_tfms.append(tfs.Scale(scale_factor=sf,))\n",
    "if \"n\" in processes:\n",
    "    batch_tfms.append(tfs.Normalize())\n",
    "if \"bp\" in processes:\n",
    "    batch_tfms.append(tfs.BandPass(int(sf*500),low_cut=50, high_cut=1,leads=12,))\n",
    "if \"sh\" in processes:\n",
    "    batch_tfms.append(tfs.RandomShift(0.1))\n",
    "if len(processes)==0:\n",
    "    processing_type = \"raw\"\n",
    "\n",
    "print(processes)\n",
    "\n",
    "tfms  = [None, TSMultiLabelClassification()]\n",
    "reports = []\n",
    "probas_list, targets_list = [],[]\n",
    "for cv_num in range(10):\n",
    "    fold_splits = cv_splits[cv_num]\n",
    "    dsets = TSDatasets(X.astype(float)[:,:,0:max_len], y_multi, tfms=tfms, splits=(fold_splits[0],fold_splits[2])) # inplace=True by default\n",
    "    dls   = TSDataLoaders.from_dsets(dsets.train,dsets.valid, bs=[128, 128], batch_tfms=batch_tfms, num_workers=0)\n",
    "    metrics =[accuracy_multi, balanced_accuracy_multi, precision_multi, recall_multi, specificity_multi, F1_multi] \n",
    "    \n",
    "#     model = InceptionTimePlus(dls.vars, dls.c, dls.len, depth=13, ks = 110,nf=28 )\n",
    "    model = MiniRocketPlus(dls.vars, dls.c,dls.len)\n",
    "    learn = Learner(dls, model, metrics=metrics, \n",
    "                    cbs=[ShowGraph()],\n",
    "                    model_dir=\"models/10CV/\")\n",
    "    learn.load(\"%s_%s_%s_%s_%s\"%(model_type,data_set,processing_type,max_len,cv_num))\n",
    "    valid_probas, valid_targets, valid_preds = learn.get_preds(dl=dls.valid, with_decoded=True)\n",
    "    probas_list.append(valid_probas)\n",
    "    targets_list.append(valid_targets)\n",
    "    y_pred = (valid_preds>0)\n",
    "    y_test = valid_targets\n",
    "\n",
    "    report = classification_report(y_test, y_pred,target_names = dls.vocab.o2i.keys(),digits=3,output_dict=True)\n",
    "    reports.append(report)\n",
    "\n",
    "for report in reports:\n",
    "    for k,v in report.items():\n",
    "        report[k] = report[k][\"f1-score\"]\n",
    "# df for f1\n",
    "f1_df = pd.DataFrame(reports)\n",
    "f1_df.to_csv(\"csvs/%s_%s_%s_%s.csv\"%(model_type,processing_type,max_len,DATASET_ID))\n",
    "f1_df.median()"
   ]
  },
  {
   "cell_type": "markdown",
   "id": "03cbcf9a",
   "metadata": {},
   "source": [
    "# Chapman Dataset"
   ]
  },
  {
   "cell_type": "code",
   "execution_count": 49,
   "id": "42a5b922",
   "metadata": {},
   "outputs": [],
   "source": [
    "def snomedConvert(label_df,snomed=True):\n",
    "    codes =  pd.read_csv(\"data/snomed_codes.csv\",sep=\",\")[[\"Dx\",\"SNOMEDCTCode\"]]\n",
    "    if snomed:\n",
    "        label_df.columns = [codes[codes[\"SNOMEDCTCode\"] == int(x)][\"Dx\"].item() for x in label_df.columns]\n",
    "        return label_df\n",
    "# DATASET_ID = \"CPSC2018\"\n",
    "DATASET_ID = \"ChapmanShaoxing\"\n",
    "DATASET_NAME = \"WFDB_%s_signitured\"%DATASET_ID\n",
    "X = np.load('./data/big_numpy_datasets/%s.npy'%DATASET_NAME, mmap_mode='c')\n",
    "label_df = pd.read_csv(\"data/%s.csv\"%DATASET_NAME).drop(columns=[\"headers\",\"leads\"])\n",
    "y = snomedConvert(label_df)\n"
   ]
  },
  {
   "cell_type": "code",
   "execution_count": 54,
   "id": "7e6a5d2d",
   "metadata": {},
   "outputs": [
    {
     "data": {
      "text/plain": [
       "(10247, 54)"
      ]
     },
     "execution_count": 54,
     "metadata": {},
     "output_type": "execute_result"
    }
   ],
   "source": [
    "y.shape"
   ]
  },
  {
   "cell_type": "code",
   "execution_count": 43,
   "id": "ff783ea0",
   "metadata": {},
   "outputs": [
    {
     "data": {
      "text/plain": [
       "Index(['left ventricular high voltage', 'atrial fibrillation',\n",
       "       't wave abnormal', 'sinus bradycardia', 'supraventricular tachycardia',\n",
       "       'sinus rhythm', 'sinus tachycardia', 'nonspecific st t abnormality'],\n",
       "      dtype='object')"
      ]
     },
     "execution_count": 43,
     "metadata": {},
     "output_type": "execute_result"
    }
   ],
   "source": [
    "y.columns[(y.sum()/len(y))>0.05]"
   ]
  },
  {
   "cell_type": "code",
   "execution_count": 20,
   "id": "650f5027",
   "metadata": {},
   "outputs": [
    {
     "data": {
      "image/png": "[encoded data removed]",
      "text/plain": [
       "<Figure size 1152x360 with 1 Axes>"
      ]
     },
     "metadata": {
      "needs_background": "light"
     },
     "output_type": "display_data"
    },
    {
     "name": "stdout",
     "output_type": "stream",
     "text": [
      "Counts by label: {'right bundle branch block': 454, 'atrial fibrillation': 1780, 't wave abnormal': 1876, 'sinus bradycardia': 3889, 'atrial flutter': 445, 'nonspecific st t abnormality': 1158, 'st depression': 402, 'sinus rhythm': 1826, 'left ventricular high voltage': 1295, 'sinus tachycardia': 1568, '1st degree av block': 247, 'atrial bigeminy': 3, 't wave inversion': 157, 'left bundle branch block': 205, 'p wave change': 95, 'qwave abnormal': 235, 'premature atrial contraction': 258, 'av block': 166, 'ventricular premature beats': 294, 'nonspecific intraventricular conduction disorder': 235, 'low qrs voltages': 249, 'left axis deviation': 382, 'right axis deviation': 215, 'countercolockwise rotation': 162, 'myocardial infarction': 40, 'st elevation': 176, 'ventricular trigeminy': 8, 'prolonged qt interval': 57, 'u wave abnormal': 22, 'early repolarization': 22, 'prolonged pr interval': 12, 'clockwise rotation': 76, 'left ventricular hypertrophy': 15, 'right atrial hypertrophy': 3, 'right atrial  high voltage': 8, 'fqrs wave': 3, 'junctional escape': 15, 'right ventricular hypertrophy': 4, '2nd degree av block': 8, 'ventricular pre excitation': 12, 'ventricular escape beat': 7, 'complete heart block': 1, 'wolff parkinson white pattern': 4, 'wandering atrial pacemaker': 2, 'junctional premature complex': 1, 'ventricular bigeminy': 3, 'mobitz type i wenckebach atrioventricular block': 6, 'fusion beats': 2, 'st interval abnormal': 2, 'supraventricular tachycardia': 587, 'atrial tachycardia': 121, 'atrioventricular  node reentrant tachycardia': 16, 'sinus atrium to atrial wandering rhythm': 7, 'atrioventricular reentrant tachycardia': 8}\n"
     ]
    }
   ],
   "source": [
    "\n",
    "cv_splits = get_splits(y.to_numpy(), n_splits = 10, valid_size=.1,test_size=0.1, stratify=False, random_state=23, shuffle=True)\n",
    "y_multi = []\n",
    "for i,row in y.iterrows():\n",
    "    sample_labels = []\n",
    "    for i,r in enumerate(row):\n",
    "        if r == True:\n",
    "            sample_labels.append(y.columns[i])\n",
    "        \n",
    "    y_multi.append(list(tuple(sample_labels)))\n",
    "label_counts = collections.Counter([a for r in y_multi for a in r])\n",
    "print('Counts by label:', dict(label_counts))"
   ]
  },
  {
   "cell_type": "markdown",
   "id": "492a790a",
   "metadata": {},
   "source": [
    "## Inception Raw"
   ]
  },
  {
   "cell_type": "code",
   "execution_count": 24,
   "id": "9a500a5e",
   "metadata": {},
   "outputs": [
    {
     "name": "stdout",
     "output_type": "stream",
     "text": [
      "[]\n"
     ]
    },
    {
     "data": {
      "text/html": [],
      "text/plain": [
       "<IPython.core.display.HTML object>"
      ]
     },
     "metadata": {},
     "output_type": "display_data"
    },
    {
     "data": {
      "text/html": [],
      "text/plain": [
       "<IPython.core.display.HTML object>"
      ]
     },
     "metadata": {},
     "output_type": "display_data"
    },
    {
     "data": {
      "text/html": [],
      "text/plain": [
       "<IPython.core.display.HTML object>"
      ]
     },
     "metadata": {},
     "output_type": "display_data"
    },
    {
     "data": {
      "text/html": [],
      "text/plain": [
       "<IPython.core.display.HTML object>"
      ]
     },
     "metadata": {},
     "output_type": "display_data"
    },
    {
     "data": {
      "text/html": [],
      "text/plain": [
       "<IPython.core.display.HTML object>"
      ]
     },
     "metadata": {},
     "output_type": "display_data"
    },
    {
     "data": {
      "text/html": [],
      "text/plain": [
       "<IPython.core.display.HTML object>"
      ]
     },
     "metadata": {},
     "output_type": "display_data"
    },
    {
     "data": {
      "text/html": [],
      "text/plain": [
       "<IPython.core.display.HTML object>"
      ]
     },
     "metadata": {},
     "output_type": "display_data"
    },
    {
     "data": {
      "text/html": [],
      "text/plain": [
       "<IPython.core.display.HTML object>"
      ]
     },
     "metadata": {},
     "output_type": "display_data"
    },
    {
     "data": {
      "text/html": [],
      "text/plain": [
       "<IPython.core.display.HTML object>"
      ]
     },
     "metadata": {},
     "output_type": "display_data"
    },
    {
     "data": {
      "text/html": [],
      "text/plain": [
       "<IPython.core.display.HTML object>"
      ]
     },
     "metadata": {},
     "output_type": "display_data"
    }
   ],
   "source": [
    "max_len = 5000\n",
    "sf = 0.5\n",
    "model_type = \"inception\"\n",
    "data_set = \"ChapmanShaoxing\"\n",
    "processes = []\n",
    "\n",
    "batch_tfms = []\n",
    "\n",
    "processing_type = '-'.join([x for x in processes])\n",
    "if \"sc\" in processes:\n",
    "    batch_tfms.append(tfs.Scale(scale_factor=sf,))\n",
    "if \"n\" in processes:\n",
    "    batch_tfms.append(tfs.Normalize())\n",
    "if \"bp\" in processes:\n",
    "    batch_tfms.append(tfs.BandPass(int(sf*500),low_cut=50, high_cut=1,leads=12,))\n",
    "if \"sh\" in processes:\n",
    "    batch_tfms.append(tfs.RandomShift(0.1))\n",
    "if len(processes)==0:\n",
    "    processing_type = \"raw\"\n",
    "\n",
    "print(processes)\n",
    "\n",
    "tfms  = [None, TSMultiLabelClassification()]\n",
    "reports = []\n",
    "probas_list, targets_list = [],[]\n",
    "for cv_num in range(10):\n",
    "    fold_splits = cv_splits[cv_num]\n",
    "    dsets = TSDatasets(X.astype(float)[:,:,0:max_len], y_multi, tfms=tfms, splits=(fold_splits[0],fold_splits[2])) # inplace=True by default\n",
    "    dls   = TSDataLoaders.from_dsets(dsets.train,dsets.valid, bs=[128, 128], batch_tfms=batch_tfms, num_workers=0)\n",
    "    metrics =[accuracy_multi, balanced_accuracy_multi, precision_multi, recall_multi, specificity_multi, F1_multi] \n",
    "    \n",
    "#     model = InceptionTimePlus(dls.vars, dls.c, dls.len, depth=13, ks = 110,nf=28 )\n",
    "    model = InceptionTimePlus(dls.vars, dls.c, dls.len, depth=12, ks = 130,nf=32 )\n",
    "    learn = Learner(dls, model, metrics=metrics, \n",
    "                    cbs=[ShowGraph()],\n",
    "                    model_dir=\"models/10CV/\")\n",
    "    learn.load(\"%s_%s_%s_%s_%s\"%(model_type,data_set,processing_type,max_len,cv_num))\n",
    "    \n",
    "    valid_probas, valid_targets, valid_preds = learn.get_preds(dl=dls.valid, with_decoded=True)\n",
    "    probas_list.append(valid_probas)\n",
    "    targets_list.append(valid_targets)\n",
    "    y_pred = (valid_preds>0)\n",
    "    y_test = valid_targets\n",
    "\n",
    "    report = classification_report(y_test, y_pred,target_names = dls.vocab.o2i.keys(),digits=3,output_dict=True)\n",
    "    reports.append(report)\n",
    "for report in reports:\n",
    "    for k,v in report.items():\n",
    "        report[k] = report[k][\"f1-score\"]\n",
    "# df for f1\n",
    "f1_df = pd.DataFrame(reports)\n",
    "f1_df.to_csv(\"csvs/%s_%s_%s_%s.csv\"%(model_type,processing_type,max_len,DATASET_ID))\n"
   ]
  },
  {
   "cell_type": "markdown",
   "id": "a7029878",
   "metadata": {},
   "source": [
    "## inception all chapman"
   ]
  },
  {
   "cell_type": "code",
   "execution_count": 30,
   "id": "d805e34c",
   "metadata": {},
   "outputs": [
    {
     "name": "stdout",
     "output_type": "stream",
     "text": [
      "['sc', 'n', 'bp', 'sh']\n"
     ]
    },
    {
     "data": {
      "text/html": [],
      "text/plain": [
       "<IPython.core.display.HTML object>"
      ]
     },
     "metadata": {},
     "output_type": "display_data"
    },
    {
     "data": {
      "text/html": [],
      "text/plain": [
       "<IPython.core.display.HTML object>"
      ]
     },
     "metadata": {},
     "output_type": "display_data"
    },
    {
     "data": {
      "text/html": [],
      "text/plain": [
       "<IPython.core.display.HTML object>"
      ]
     },
     "metadata": {},
     "output_type": "display_data"
    },
    {
     "data": {
      "text/html": [],
      "text/plain": [
       "<IPython.core.display.HTML object>"
      ]
     },
     "metadata": {},
     "output_type": "display_data"
    },
    {
     "data": {
      "text/html": [],
      "text/plain": [
       "<IPython.core.display.HTML object>"
      ]
     },
     "metadata": {},
     "output_type": "display_data"
    },
    {
     "data": {
      "text/html": [],
      "text/plain": [
       "<IPython.core.display.HTML object>"
      ]
     },
     "metadata": {},
     "output_type": "display_data"
    },
    {
     "data": {
      "text/html": [],
      "text/plain": [
       "<IPython.core.display.HTML object>"
      ]
     },
     "metadata": {},
     "output_type": "display_data"
    },
    {
     "data": {
      "text/html": [],
      "text/plain": [
       "<IPython.core.display.HTML object>"
      ]
     },
     "metadata": {},
     "output_type": "display_data"
    },
    {
     "data": {
      "text/html": [],
      "text/plain": [
       "<IPython.core.display.HTML object>"
      ]
     },
     "metadata": {},
     "output_type": "display_data"
    },
    {
     "data": {
      "text/html": [],
      "text/plain": [
       "<IPython.core.display.HTML object>"
      ]
     },
     "metadata": {},
     "output_type": "display_data"
    },
    {
     "data": {
      "text/html": [
       "<div>\n",
       "<style scoped>\n",
       "    .dataframe tbody tr th:only-of-type {\n",
       "        vertical-align: middle;\n",
       "    }\n",
       "\n",
       "    .dataframe tbody tr th {\n",
       "        vertical-align: top;\n",
       "    }\n",
       "\n",
       "    .dataframe thead th {\n",
       "        text-align: right;\n",
       "    }\n",
       "</style>\n",
       "<table border=\"1\" class=\"dataframe\">\n",
       "  <thead>\n",
       "    <tr style=\"text-align: right;\">\n",
       "      <th></th>\n",
       "      <th>1st degree av block</th>\n",
       "      <th>2nd degree av block</th>\n",
       "      <th>atrial bigeminy</th>\n",
       "      <th>atrial fibrillation</th>\n",
       "      <th>atrial flutter</th>\n",
       "      <th>atrial tachycardia</th>\n",
       "      <th>atrioventricular  node reentrant tachycardia</th>\n",
       "      <th>atrioventricular reentrant tachycardia</th>\n",
       "      <th>av block</th>\n",
       "      <th>clockwise rotation</th>\n",
       "      <th>...</th>\n",
       "      <th>ventricular escape beat</th>\n",
       "      <th>ventricular pre excitation</th>\n",
       "      <th>ventricular premature beats</th>\n",
       "      <th>ventricular trigeminy</th>\n",
       "      <th>wandering atrial pacemaker</th>\n",
       "      <th>wolff parkinson white pattern</th>\n",
       "      <th>micro avg</th>\n",
       "      <th>macro avg</th>\n",
       "      <th>weighted avg</th>\n",
       "      <th>samples avg</th>\n",
       "    </tr>\n",
       "  </thead>\n",
       "  <tbody>\n",
       "    <tr>\n",
       "      <th>0</th>\n",
       "      <td>0.530612</td>\n",
       "      <td>0.0</td>\n",
       "      <td>0.0</td>\n",
       "      <td>0.922652</td>\n",
       "      <td>0.584615</td>\n",
       "      <td>0.315789</td>\n",
       "      <td>0.000000</td>\n",
       "      <td>0.0</td>\n",
       "      <td>0.272727</td>\n",
       "      <td>0.285714</td>\n",
       "      <td>...</td>\n",
       "      <td>0.0</td>\n",
       "      <td>0.0</td>\n",
       "      <td>0.800000</td>\n",
       "      <td>0.0</td>\n",
       "      <td>0.0</td>\n",
       "      <td>0.0</td>\n",
       "      <td>0.753401</td>\n",
       "      <td>0.260137</td>\n",
       "      <td>0.724123</td>\n",
       "      <td>0.811512</td>\n",
       "    </tr>\n",
       "    <tr>\n",
       "      <th>1</th>\n",
       "      <td>0.558824</td>\n",
       "      <td>0.0</td>\n",
       "      <td>0.0</td>\n",
       "      <td>0.928571</td>\n",
       "      <td>0.590164</td>\n",
       "      <td>0.133333</td>\n",
       "      <td>0.333333</td>\n",
       "      <td>0.0</td>\n",
       "      <td>0.095238</td>\n",
       "      <td>0.538462</td>\n",
       "      <td>...</td>\n",
       "      <td>0.0</td>\n",
       "      <td>0.0</td>\n",
       "      <td>0.686567</td>\n",
       "      <td>0.0</td>\n",
       "      <td>0.0</td>\n",
       "      <td>0.0</td>\n",
       "      <td>0.750540</td>\n",
       "      <td>0.251496</td>\n",
       "      <td>0.724000</td>\n",
       "      <td>0.802145</td>\n",
       "    </tr>\n",
       "    <tr>\n",
       "      <th>2</th>\n",
       "      <td>0.488889</td>\n",
       "      <td>0.0</td>\n",
       "      <td>0.0</td>\n",
       "      <td>0.923077</td>\n",
       "      <td>0.619718</td>\n",
       "      <td>0.400000</td>\n",
       "      <td>0.000000</td>\n",
       "      <td>0.0</td>\n",
       "      <td>0.380952</td>\n",
       "      <td>0.615385</td>\n",
       "      <td>...</td>\n",
       "      <td>0.0</td>\n",
       "      <td>0.0</td>\n",
       "      <td>0.745763</td>\n",
       "      <td>0.0</td>\n",
       "      <td>0.0</td>\n",
       "      <td>0.0</td>\n",
       "      <td>0.746750</td>\n",
       "      <td>0.249394</td>\n",
       "      <td>0.718837</td>\n",
       "      <td>0.807464</td>\n",
       "    </tr>\n",
       "    <tr>\n",
       "      <th>3</th>\n",
       "      <td>0.480000</td>\n",
       "      <td>0.0</td>\n",
       "      <td>0.0</td>\n",
       "      <td>0.907042</td>\n",
       "      <td>0.588235</td>\n",
       "      <td>0.285714</td>\n",
       "      <td>0.000000</td>\n",
       "      <td>0.0</td>\n",
       "      <td>0.190476</td>\n",
       "      <td>0.461538</td>\n",
       "      <td>...</td>\n",
       "      <td>0.0</td>\n",
       "      <td>0.0</td>\n",
       "      <td>0.721311</td>\n",
       "      <td>0.0</td>\n",
       "      <td>0.0</td>\n",
       "      <td>0.0</td>\n",
       "      <td>0.743373</td>\n",
       "      <td>0.248187</td>\n",
       "      <td>0.715263</td>\n",
       "      <td>0.801091</td>\n",
       "    </tr>\n",
       "    <tr>\n",
       "      <th>4</th>\n",
       "      <td>0.500000</td>\n",
       "      <td>0.0</td>\n",
       "      <td>0.0</td>\n",
       "      <td>0.924370</td>\n",
       "      <td>0.645161</td>\n",
       "      <td>0.476190</td>\n",
       "      <td>0.000000</td>\n",
       "      <td>0.0</td>\n",
       "      <td>0.111111</td>\n",
       "      <td>0.444444</td>\n",
       "      <td>...</td>\n",
       "      <td>0.0</td>\n",
       "      <td>0.0</td>\n",
       "      <td>0.819672</td>\n",
       "      <td>0.0</td>\n",
       "      <td>0.0</td>\n",
       "      <td>0.0</td>\n",
       "      <td>0.754098</td>\n",
       "      <td>0.258215</td>\n",
       "      <td>0.727218</td>\n",
       "      <td>0.812563</td>\n",
       "    </tr>\n",
       "    <tr>\n",
       "      <th>5</th>\n",
       "      <td>0.452830</td>\n",
       "      <td>0.0</td>\n",
       "      <td>0.0</td>\n",
       "      <td>0.926554</td>\n",
       "      <td>0.686567</td>\n",
       "      <td>0.210526</td>\n",
       "      <td>0.000000</td>\n",
       "      <td>0.0</td>\n",
       "      <td>0.148148</td>\n",
       "      <td>0.285714</td>\n",
       "      <td>...</td>\n",
       "      <td>0.0</td>\n",
       "      <td>0.0</td>\n",
       "      <td>0.838710</td>\n",
       "      <td>0.0</td>\n",
       "      <td>0.0</td>\n",
       "      <td>0.0</td>\n",
       "      <td>0.742616</td>\n",
       "      <td>0.239682</td>\n",
       "      <td>0.716346</td>\n",
       "      <td>0.797765</td>\n",
       "    </tr>\n",
       "    <tr>\n",
       "      <th>6</th>\n",
       "      <td>0.518519</td>\n",
       "      <td>0.0</td>\n",
       "      <td>0.0</td>\n",
       "      <td>0.898551</td>\n",
       "      <td>0.584615</td>\n",
       "      <td>0.300000</td>\n",
       "      <td>0.000000</td>\n",
       "      <td>0.0</td>\n",
       "      <td>0.181818</td>\n",
       "      <td>0.588235</td>\n",
       "      <td>...</td>\n",
       "      <td>0.0</td>\n",
       "      <td>0.0</td>\n",
       "      <td>0.653846</td>\n",
       "      <td>0.0</td>\n",
       "      <td>0.0</td>\n",
       "      <td>0.0</td>\n",
       "      <td>0.745847</td>\n",
       "      <td>0.242614</td>\n",
       "      <td>0.718814</td>\n",
       "      <td>0.801643</td>\n",
       "    </tr>\n",
       "    <tr>\n",
       "      <th>7</th>\n",
       "      <td>0.560000</td>\n",
       "      <td>0.0</td>\n",
       "      <td>0.0</td>\n",
       "      <td>0.908587</td>\n",
       "      <td>0.558824</td>\n",
       "      <td>0.235294</td>\n",
       "      <td>0.000000</td>\n",
       "      <td>0.0</td>\n",
       "      <td>0.153846</td>\n",
       "      <td>0.380952</td>\n",
       "      <td>...</td>\n",
       "      <td>0.0</td>\n",
       "      <td>0.0</td>\n",
       "      <td>0.763636</td>\n",
       "      <td>0.0</td>\n",
       "      <td>0.0</td>\n",
       "      <td>0.0</td>\n",
       "      <td>0.752170</td>\n",
       "      <td>0.242608</td>\n",
       "      <td>0.722492</td>\n",
       "      <td>0.808625</td>\n",
       "    </tr>\n",
       "    <tr>\n",
       "      <th>8</th>\n",
       "      <td>0.509804</td>\n",
       "      <td>0.0</td>\n",
       "      <td>0.0</td>\n",
       "      <td>0.930748</td>\n",
       "      <td>0.539683</td>\n",
       "      <td>0.333333</td>\n",
       "      <td>0.000000</td>\n",
       "      <td>0.0</td>\n",
       "      <td>0.190476</td>\n",
       "      <td>0.333333</td>\n",
       "      <td>...</td>\n",
       "      <td>0.0</td>\n",
       "      <td>0.0</td>\n",
       "      <td>0.819672</td>\n",
       "      <td>0.0</td>\n",
       "      <td>0.0</td>\n",
       "      <td>0.0</td>\n",
       "      <td>0.746471</td>\n",
       "      <td>0.242349</td>\n",
       "      <td>0.717518</td>\n",
       "      <td>0.804476</td>\n",
       "    </tr>\n",
       "    <tr>\n",
       "      <th>9</th>\n",
       "      <td>0.530612</td>\n",
       "      <td>0.0</td>\n",
       "      <td>0.0</td>\n",
       "      <td>0.930748</td>\n",
       "      <td>0.718750</td>\n",
       "      <td>0.315789</td>\n",
       "      <td>0.000000</td>\n",
       "      <td>0.0</td>\n",
       "      <td>0.210526</td>\n",
       "      <td>0.428571</td>\n",
       "      <td>...</td>\n",
       "      <td>0.0</td>\n",
       "      <td>0.0</td>\n",
       "      <td>0.819672</td>\n",
       "      <td>0.0</td>\n",
       "      <td>0.0</td>\n",
       "      <td>0.0</td>\n",
       "      <td>0.756956</td>\n",
       "      <td>0.248152</td>\n",
       "      <td>0.725061</td>\n",
       "      <td>0.813454</td>\n",
       "    </tr>\n",
       "  </tbody>\n",
       "</table>\n",
       "<p>10 rows × 58 columns</p>\n",
       "</div>"
      ],
      "text/plain": [
       "   1st degree av block  2nd degree av block  atrial bigeminy  \\\n",
       "0             0.530612                  0.0              0.0   \n",
       "1             0.558824                  0.0              0.0   \n",
       "2             0.488889                  0.0              0.0   \n",
       "3             0.480000                  0.0              0.0   \n",
       "4             0.500000                  0.0              0.0   \n",
       "5             0.452830                  0.0              0.0   \n",
       "6             0.518519                  0.0              0.0   \n",
       "7             0.560000                  0.0              0.0   \n",
       "8             0.509804                  0.0              0.0   \n",
       "9             0.530612                  0.0              0.0   \n",
       "\n",
       "   atrial fibrillation  atrial flutter  atrial tachycardia  \\\n",
       "0             0.922652        0.584615            0.315789   \n",
       "1             0.928571        0.590164            0.133333   \n",
       "2             0.923077        0.619718            0.400000   \n",
       "3             0.907042        0.588235            0.285714   \n",
       "4             0.924370        0.645161            0.476190   \n",
       "5             0.926554        0.686567            0.210526   \n",
       "6             0.898551        0.584615            0.300000   \n",
       "7             0.908587        0.558824            0.235294   \n",
       "8             0.930748        0.539683            0.333333   \n",
       "9             0.930748        0.718750            0.315789   \n",
       "\n",
       "   atrioventricular  node reentrant tachycardia  \\\n",
       "0                                      0.000000   \n",
       "1                                      0.333333   \n",
       "2                                      0.000000   \n",
       "3                                      0.000000   \n",
       "4                                      0.000000   \n",
       "5                                      0.000000   \n",
       "6                                      0.000000   \n",
       "7                                      0.000000   \n",
       "8                                      0.000000   \n",
       "9                                      0.000000   \n",
       "\n",
       "   atrioventricular reentrant tachycardia  av block  clockwise rotation  ...  \\\n",
       "0                                     0.0  0.272727            0.285714  ...   \n",
       "1                                     0.0  0.095238            0.538462  ...   \n",
       "2                                     0.0  0.380952            0.615385  ...   \n",
       "3                                     0.0  0.190476            0.461538  ...   \n",
       "4                                     0.0  0.111111            0.444444  ...   \n",
       "5                                     0.0  0.148148            0.285714  ...   \n",
       "6                                     0.0  0.181818            0.588235  ...   \n",
       "7                                     0.0  0.153846            0.380952  ...   \n",
       "8                                     0.0  0.190476            0.333333  ...   \n",
       "9                                     0.0  0.210526            0.428571  ...   \n",
       "\n",
       "   ventricular escape beat  ventricular pre excitation  \\\n",
       "0                      0.0                         0.0   \n",
       "1                      0.0                         0.0   \n",
       "2                      0.0                         0.0   \n",
       "3                      0.0                         0.0   \n",
       "4                      0.0                         0.0   \n",
       "5                      0.0                         0.0   \n",
       "6                      0.0                         0.0   \n",
       "7                      0.0                         0.0   \n",
       "8                      0.0                         0.0   \n",
       "9                      0.0                         0.0   \n",
       "\n",
       "   ventricular premature beats  ventricular trigeminy  \\\n",
       "0                     0.800000                    0.0   \n",
       "1                     0.686567                    0.0   \n",
       "2                     0.745763                    0.0   \n",
       "3                     0.721311                    0.0   \n",
       "4                     0.819672                    0.0   \n",
       "5                     0.838710                    0.0   \n",
       "6                     0.653846                    0.0   \n",
       "7                     0.763636                    0.0   \n",
       "8                     0.819672                    0.0   \n",
       "9                     0.819672                    0.0   \n",
       "\n",
       "   wandering atrial pacemaker  wolff parkinson white pattern  micro avg  \\\n",
       "0                         0.0                            0.0   0.753401   \n",
       "1                         0.0                            0.0   0.750540   \n",
       "2                         0.0                            0.0   0.746750   \n",
       "3                         0.0                            0.0   0.743373   \n",
       "4                         0.0                            0.0   0.754098   \n",
       "5                         0.0                            0.0   0.742616   \n",
       "6                         0.0                            0.0   0.745847   \n",
       "7                         0.0                            0.0   0.752170   \n",
       "8                         0.0                            0.0   0.746471   \n",
       "9                         0.0                            0.0   0.756956   \n",
       "\n",
       "   macro avg  weighted avg  samples avg  \n",
       "0   0.260137      0.724123     0.811512  \n",
       "1   0.251496      0.724000     0.802145  \n",
       "2   0.249394      0.718837     0.807464  \n",
       "3   0.248187      0.715263     0.801091  \n",
       "4   0.258215      0.727218     0.812563  \n",
       "5   0.239682      0.716346     0.797765  \n",
       "6   0.242614      0.718814     0.801643  \n",
       "7   0.242608      0.722492     0.808625  \n",
       "8   0.242349      0.717518     0.804476  \n",
       "9   0.248152      0.725061     0.813454  \n",
       "\n",
       "[10 rows x 58 columns]"
      ]
     },
     "execution_count": 30,
     "metadata": {},
     "output_type": "execute_result"
    }
   ],
   "source": [
    "max_len = 5000\n",
    "sf = 0.5\n",
    "model_type = \"inception\"\n",
    "data_set = \"ChapmanShaoxing\"\n",
    "processes = [\"sc\",\"n\",\"bp\",\"sh\"]\n",
    "\n",
    "batch_tfms = []\n",
    "\n",
    "processing_type = '-'.join([x for x in processes])\n",
    "if \"sc\" in processes:\n",
    "    batch_tfms.append(tfs.Scale(scale_factor=sf,))\n",
    "if \"n\" in processes:\n",
    "    batch_tfms.append(tfs.Normalize())\n",
    "if \"bp\" in processes:\n",
    "    batch_tfms.append(tfs.BandPass(int(sf*500),low_cut=50, high_cut=1,leads=12,))\n",
    "if \"sh\" in processes:\n",
    "    batch_tfms.append(tfs.RandomShift(0.1))\n",
    "if len(processes)==0:\n",
    "    processing_type = \"raw\"\n",
    "\n",
    "print(processes)\n",
    "\n",
    "tfms  = [None, TSMultiLabelClassification()]\n",
    "reports = []\n",
    "probas_list, targets_list = [],[]\n",
    "for cv_num in range(10):\n",
    "    fold_splits = cv_splits[cv_num]\n",
    "    dsets = TSDatasets(X.astype(float)[:,:,0:max_len], y_multi, tfms=tfms, splits=(fold_splits[0],fold_splits[2])) # inplace=True by default\n",
    "    dls   = TSDataLoaders.from_dsets(dsets.train,dsets.valid, bs=[128, 128], batch_tfms=batch_tfms, num_workers=0)\n",
    "    metrics =[accuracy_multi, balanced_accuracy_multi, precision_multi, recall_multi, specificity_multi, F1_multi] \n",
    "    \n",
    "#     model = InceptionTimePlus(dls.vars, dls.c, dls.len, depth=13, ks = 110,nf=28 )\n",
    "    model = InceptionTimePlus(dls.vars, dls.c, dls.len, depth=12, ks = 130,nf=32 )\n",
    "    learn = Learner(dls, model, metrics=metrics, \n",
    "                    cbs=[ShowGraph()],\n",
    "                    model_dir=\"models/10CV/\")\n",
    "    learn.load(\"%s_%s_%s_%s_%s\"%(model_type,data_set,processing_type,max_len,cv_num))\n",
    "    \n",
    "    valid_probas, valid_targets, valid_preds = learn.get_preds(dl=dls.valid, with_decoded=True)\n",
    "    probas_list.append(valid_probas)\n",
    "    targets_list.append(valid_targets)\n",
    "    y_pred = (valid_preds>0)\n",
    "    y_test = valid_targets\n",
    "\n",
    "    report = classification_report(y_test, y_pred,target_names = dls.vocab.o2i.keys(),digits=3,output_dict=True)\n",
    "    reports.append(report)\n",
    "for report in reports:\n",
    "    for k,v in report.items():\n",
    "        report[k] = report[k][\"f1-score\"]\n",
    "# df for f1\n",
    "f1_df = pd.DataFrame(reports)\n",
    "f1_df.to_csv(\"csvs/%s_%s_%s_%s.csv\"%(model_type,processing_type,max_len,DATASET_ID))\n",
    "f1_df"
   ]
  },
  {
   "cell_type": "markdown",
   "id": "b6fde422",
   "metadata": {},
   "source": [
    "## inception sc+n+bp"
   ]
  },
  {
   "cell_type": "code",
   "execution_count": 31,
   "id": "bab6c20f",
   "metadata": {},
   "outputs": [
    {
     "name": "stdout",
     "output_type": "stream",
     "text": [
      "['sc', 'n', 'bp']\n"
     ]
    },
    {
     "data": {
      "text/html": [],
      "text/plain": [
       "<IPython.core.display.HTML object>"
      ]
     },
     "metadata": {},
     "output_type": "display_data"
    },
    {
     "data": {
      "text/html": [],
      "text/plain": [
       "<IPython.core.display.HTML object>"
      ]
     },
     "metadata": {},
     "output_type": "display_data"
    },
    {
     "data": {
      "text/html": [],
      "text/plain": [
       "<IPython.core.display.HTML object>"
      ]
     },
     "metadata": {},
     "output_type": "display_data"
    },
    {
     "data": {
      "text/html": [],
      "text/plain": [
       "<IPython.core.display.HTML object>"
      ]
     },
     "metadata": {},
     "output_type": "display_data"
    },
    {
     "data": {
      "text/html": [],
      "text/plain": [
       "<IPython.core.display.HTML object>"
      ]
     },
     "metadata": {},
     "output_type": "display_data"
    },
    {
     "data": {
      "text/html": [],
      "text/plain": [
       "<IPython.core.display.HTML object>"
      ]
     },
     "metadata": {},
     "output_type": "display_data"
    },
    {
     "data": {
      "text/html": [],
      "text/plain": [
       "<IPython.core.display.HTML object>"
      ]
     },
     "metadata": {},
     "output_type": "display_data"
    },
    {
     "data": {
      "text/html": [],
      "text/plain": [
       "<IPython.core.display.HTML object>"
      ]
     },
     "metadata": {},
     "output_type": "display_data"
    },
    {
     "data": {
      "text/html": [],
      "text/plain": [
       "<IPython.core.display.HTML object>"
      ]
     },
     "metadata": {},
     "output_type": "display_data"
    },
    {
     "data": {
      "text/html": [],
      "text/plain": [
       "<IPython.core.display.HTML object>"
      ]
     },
     "metadata": {},
     "output_type": "display_data"
    },
    {
     "data": {
      "text/html": [
       "<div>\n",
       "<style scoped>\n",
       "    .dataframe tbody tr th:only-of-type {\n",
       "        vertical-align: middle;\n",
       "    }\n",
       "\n",
       "    .dataframe tbody tr th {\n",
       "        vertical-align: top;\n",
       "    }\n",
       "\n",
       "    .dataframe thead th {\n",
       "        text-align: right;\n",
       "    }\n",
       "</style>\n",
       "<table border=\"1\" class=\"dataframe\">\n",
       "  <thead>\n",
       "    <tr style=\"text-align: right;\">\n",
       "      <th></th>\n",
       "      <th>1st degree av block</th>\n",
       "      <th>2nd degree av block</th>\n",
       "      <th>atrial bigeminy</th>\n",
       "      <th>atrial fibrillation</th>\n",
       "      <th>atrial flutter</th>\n",
       "      <th>atrial tachycardia</th>\n",
       "      <th>atrioventricular  node reentrant tachycardia</th>\n",
       "      <th>atrioventricular reentrant tachycardia</th>\n",
       "      <th>av block</th>\n",
       "      <th>clockwise rotation</th>\n",
       "      <th>...</th>\n",
       "      <th>ventricular escape beat</th>\n",
       "      <th>ventricular pre excitation</th>\n",
       "      <th>ventricular premature beats</th>\n",
       "      <th>ventricular trigeminy</th>\n",
       "      <th>wandering atrial pacemaker</th>\n",
       "      <th>wolff parkinson white pattern</th>\n",
       "      <th>micro avg</th>\n",
       "      <th>macro avg</th>\n",
       "      <th>weighted avg</th>\n",
       "      <th>samples avg</th>\n",
       "    </tr>\n",
       "  </thead>\n",
       "  <tbody>\n",
       "    <tr>\n",
       "      <th>0</th>\n",
       "      <td>0.458333</td>\n",
       "      <td>0.0</td>\n",
       "      <td>0.0</td>\n",
       "      <td>0.914601</td>\n",
       "      <td>0.705882</td>\n",
       "      <td>0.352941</td>\n",
       "      <td>0.0</td>\n",
       "      <td>0.0</td>\n",
       "      <td>0.095238</td>\n",
       "      <td>0.375000</td>\n",
       "      <td>...</td>\n",
       "      <td>0.0</td>\n",
       "      <td>0.0</td>\n",
       "      <td>0.763636</td>\n",
       "      <td>0.0</td>\n",
       "      <td>0.0</td>\n",
       "      <td>0.0</td>\n",
       "      <td>0.755404</td>\n",
       "      <td>0.258350</td>\n",
       "      <td>0.727831</td>\n",
       "      <td>0.810607</td>\n",
       "    </tr>\n",
       "    <tr>\n",
       "      <th>1</th>\n",
       "      <td>0.489796</td>\n",
       "      <td>0.0</td>\n",
       "      <td>0.0</td>\n",
       "      <td>0.928775</td>\n",
       "      <td>0.584615</td>\n",
       "      <td>0.480000</td>\n",
       "      <td>0.0</td>\n",
       "      <td>0.0</td>\n",
       "      <td>0.260870</td>\n",
       "      <td>0.666667</td>\n",
       "      <td>...</td>\n",
       "      <td>0.0</td>\n",
       "      <td>0.0</td>\n",
       "      <td>0.807018</td>\n",
       "      <td>0.0</td>\n",
       "      <td>0.0</td>\n",
       "      <td>0.0</td>\n",
       "      <td>0.746659</td>\n",
       "      <td>0.242212</td>\n",
       "      <td>0.714434</td>\n",
       "      <td>0.808597</td>\n",
       "    </tr>\n",
       "    <tr>\n",
       "      <th>2</th>\n",
       "      <td>0.541667</td>\n",
       "      <td>0.0</td>\n",
       "      <td>0.0</td>\n",
       "      <td>0.900552</td>\n",
       "      <td>0.600000</td>\n",
       "      <td>0.500000</td>\n",
       "      <td>0.0</td>\n",
       "      <td>0.0</td>\n",
       "      <td>0.105263</td>\n",
       "      <td>0.307692</td>\n",
       "      <td>...</td>\n",
       "      <td>0.0</td>\n",
       "      <td>0.0</td>\n",
       "      <td>0.736842</td>\n",
       "      <td>0.0</td>\n",
       "      <td>0.0</td>\n",
       "      <td>0.0</td>\n",
       "      <td>0.754749</td>\n",
       "      <td>0.273675</td>\n",
       "      <td>0.726720</td>\n",
       "      <td>0.811655</td>\n",
       "    </tr>\n",
       "    <tr>\n",
       "      <th>3</th>\n",
       "      <td>0.363636</td>\n",
       "      <td>0.0</td>\n",
       "      <td>0.0</td>\n",
       "      <td>0.932584</td>\n",
       "      <td>0.619718</td>\n",
       "      <td>0.210526</td>\n",
       "      <td>0.0</td>\n",
       "      <td>0.0</td>\n",
       "      <td>0.105263</td>\n",
       "      <td>0.400000</td>\n",
       "      <td>...</td>\n",
       "      <td>0.0</td>\n",
       "      <td>0.0</td>\n",
       "      <td>0.754098</td>\n",
       "      <td>0.0</td>\n",
       "      <td>0.0</td>\n",
       "      <td>0.0</td>\n",
       "      <td>0.749860</td>\n",
       "      <td>0.245403</td>\n",
       "      <td>0.724329</td>\n",
       "      <td>0.810957</td>\n",
       "    </tr>\n",
       "    <tr>\n",
       "      <th>4</th>\n",
       "      <td>0.530612</td>\n",
       "      <td>0.0</td>\n",
       "      <td>0.0</td>\n",
       "      <td>0.920904</td>\n",
       "      <td>0.628571</td>\n",
       "      <td>0.400000</td>\n",
       "      <td>0.0</td>\n",
       "      <td>0.0</td>\n",
       "      <td>0.095238</td>\n",
       "      <td>0.533333</td>\n",
       "      <td>...</td>\n",
       "      <td>0.0</td>\n",
       "      <td>0.0</td>\n",
       "      <td>0.769231</td>\n",
       "      <td>0.0</td>\n",
       "      <td>0.0</td>\n",
       "      <td>0.0</td>\n",
       "      <td>0.746176</td>\n",
       "      <td>0.259323</td>\n",
       "      <td>0.720280</td>\n",
       "      <td>0.807355</td>\n",
       "    </tr>\n",
       "    <tr>\n",
       "      <th>5</th>\n",
       "      <td>0.560000</td>\n",
       "      <td>0.0</td>\n",
       "      <td>0.0</td>\n",
       "      <td>0.910112</td>\n",
       "      <td>0.606061</td>\n",
       "      <td>0.444444</td>\n",
       "      <td>0.0</td>\n",
       "      <td>0.0</td>\n",
       "      <td>0.181818</td>\n",
       "      <td>0.333333</td>\n",
       "      <td>...</td>\n",
       "      <td>0.0</td>\n",
       "      <td>0.0</td>\n",
       "      <td>0.903226</td>\n",
       "      <td>0.0</td>\n",
       "      <td>0.0</td>\n",
       "      <td>0.0</td>\n",
       "      <td>0.752719</td>\n",
       "      <td>0.250863</td>\n",
       "      <td>0.721813</td>\n",
       "      <td>0.812869</td>\n",
       "    </tr>\n",
       "    <tr>\n",
       "      <th>6</th>\n",
       "      <td>0.458333</td>\n",
       "      <td>0.0</td>\n",
       "      <td>0.0</td>\n",
       "      <td>0.910615</td>\n",
       "      <td>0.676471</td>\n",
       "      <td>0.400000</td>\n",
       "      <td>0.0</td>\n",
       "      <td>0.0</td>\n",
       "      <td>0.173913</td>\n",
       "      <td>0.333333</td>\n",
       "      <td>...</td>\n",
       "      <td>0.0</td>\n",
       "      <td>0.0</td>\n",
       "      <td>0.813559</td>\n",
       "      <td>0.0</td>\n",
       "      <td>0.0</td>\n",
       "      <td>0.0</td>\n",
       "      <td>0.750640</td>\n",
       "      <td>0.246402</td>\n",
       "      <td>0.723292</td>\n",
       "      <td>0.812247</td>\n",
       "    </tr>\n",
       "    <tr>\n",
       "      <th>7</th>\n",
       "      <td>0.489796</td>\n",
       "      <td>0.0</td>\n",
       "      <td>0.0</td>\n",
       "      <td>0.920904</td>\n",
       "      <td>0.626866</td>\n",
       "      <td>0.421053</td>\n",
       "      <td>0.0</td>\n",
       "      <td>0.0</td>\n",
       "      <td>0.160000</td>\n",
       "      <td>0.400000</td>\n",
       "      <td>...</td>\n",
       "      <td>0.0</td>\n",
       "      <td>0.0</td>\n",
       "      <td>0.730159</td>\n",
       "      <td>0.0</td>\n",
       "      <td>0.0</td>\n",
       "      <td>0.0</td>\n",
       "      <td>0.754089</td>\n",
       "      <td>0.245102</td>\n",
       "      <td>0.722834</td>\n",
       "      <td>0.811726</td>\n",
       "    </tr>\n",
       "    <tr>\n",
       "      <th>8</th>\n",
       "      <td>0.489796</td>\n",
       "      <td>0.0</td>\n",
       "      <td>0.0</td>\n",
       "      <td>0.927778</td>\n",
       "      <td>0.613333</td>\n",
       "      <td>0.300000</td>\n",
       "      <td>0.0</td>\n",
       "      <td>0.0</td>\n",
       "      <td>0.200000</td>\n",
       "      <td>0.571429</td>\n",
       "      <td>...</td>\n",
       "      <td>0.0</td>\n",
       "      <td>0.0</td>\n",
       "      <td>0.785714</td>\n",
       "      <td>0.0</td>\n",
       "      <td>0.0</td>\n",
       "      <td>0.0</td>\n",
       "      <td>0.750640</td>\n",
       "      <td>0.246783</td>\n",
       "      <td>0.721314</td>\n",
       "      <td>0.806177</td>\n",
       "    </tr>\n",
       "    <tr>\n",
       "      <th>9</th>\n",
       "      <td>0.488889</td>\n",
       "      <td>0.0</td>\n",
       "      <td>0.0</td>\n",
       "      <td>0.922222</td>\n",
       "      <td>0.636364</td>\n",
       "      <td>0.300000</td>\n",
       "      <td>0.0</td>\n",
       "      <td>0.0</td>\n",
       "      <td>0.272727</td>\n",
       "      <td>0.571429</td>\n",
       "      <td>...</td>\n",
       "      <td>0.0</td>\n",
       "      <td>0.0</td>\n",
       "      <td>0.800000</td>\n",
       "      <td>0.0</td>\n",
       "      <td>0.0</td>\n",
       "      <td>0.0</td>\n",
       "      <td>0.752492</td>\n",
       "      <td>0.259583</td>\n",
       "      <td>0.722490</td>\n",
       "      <td>0.809934</td>\n",
       "    </tr>\n",
       "  </tbody>\n",
       "</table>\n",
       "<p>10 rows × 58 columns</p>\n",
       "</div>"
      ],
      "text/plain": [
       "   1st degree av block  2nd degree av block  atrial bigeminy  \\\n",
       "0             0.458333                  0.0              0.0   \n",
       "1             0.489796                  0.0              0.0   \n",
       "2             0.541667                  0.0              0.0   \n",
       "3             0.363636                  0.0              0.0   \n",
       "4             0.530612                  0.0              0.0   \n",
       "5             0.560000                  0.0              0.0   \n",
       "6             0.458333                  0.0              0.0   \n",
       "7             0.489796                  0.0              0.0   \n",
       "8             0.489796                  0.0              0.0   \n",
       "9             0.488889                  0.0              0.0   \n",
       "\n",
       "   atrial fibrillation  atrial flutter  atrial tachycardia  \\\n",
       "0             0.914601        0.705882            0.352941   \n",
       "1             0.928775        0.584615            0.480000   \n",
       "2             0.900552        0.600000            0.500000   \n",
       "3             0.932584        0.619718            0.210526   \n",
       "4             0.920904        0.628571            0.400000   \n",
       "5             0.910112        0.606061            0.444444   \n",
       "6             0.910615        0.676471            0.400000   \n",
       "7             0.920904        0.626866            0.421053   \n",
       "8             0.927778        0.613333            0.300000   \n",
       "9             0.922222        0.636364            0.300000   \n",
       "\n",
       "   atrioventricular  node reentrant tachycardia  \\\n",
       "0                                           0.0   \n",
       "1                                           0.0   \n",
       "2                                           0.0   \n",
       "3                                           0.0   \n",
       "4                                           0.0   \n",
       "5                                           0.0   \n",
       "6                                           0.0   \n",
       "7                                           0.0   \n",
       "8                                           0.0   \n",
       "9                                           0.0   \n",
       "\n",
       "   atrioventricular reentrant tachycardia  av block  clockwise rotation  ...  \\\n",
       "0                                     0.0  0.095238            0.375000  ...   \n",
       "1                                     0.0  0.260870            0.666667  ...   \n",
       "2                                     0.0  0.105263            0.307692  ...   \n",
       "3                                     0.0  0.105263            0.400000  ...   \n",
       "4                                     0.0  0.095238            0.533333  ...   \n",
       "5                                     0.0  0.181818            0.333333  ...   \n",
       "6                                     0.0  0.173913            0.333333  ...   \n",
       "7                                     0.0  0.160000            0.400000  ...   \n",
       "8                                     0.0  0.200000            0.571429  ...   \n",
       "9                                     0.0  0.272727            0.571429  ...   \n",
       "\n",
       "   ventricular escape beat  ventricular pre excitation  \\\n",
       "0                      0.0                         0.0   \n",
       "1                      0.0                         0.0   \n",
       "2                      0.0                         0.0   \n",
       "3                      0.0                         0.0   \n",
       "4                      0.0                         0.0   \n",
       "5                      0.0                         0.0   \n",
       "6                      0.0                         0.0   \n",
       "7                      0.0                         0.0   \n",
       "8                      0.0                         0.0   \n",
       "9                      0.0                         0.0   \n",
       "\n",
       "   ventricular premature beats  ventricular trigeminy  \\\n",
       "0                     0.763636                    0.0   \n",
       "1                     0.807018                    0.0   \n",
       "2                     0.736842                    0.0   \n",
       "3                     0.754098                    0.0   \n",
       "4                     0.769231                    0.0   \n",
       "5                     0.903226                    0.0   \n",
       "6                     0.813559                    0.0   \n",
       "7                     0.730159                    0.0   \n",
       "8                     0.785714                    0.0   \n",
       "9                     0.800000                    0.0   \n",
       "\n",
       "   wandering atrial pacemaker  wolff parkinson white pattern  micro avg  \\\n",
       "0                         0.0                            0.0   0.755404   \n",
       "1                         0.0                            0.0   0.746659   \n",
       "2                         0.0                            0.0   0.754749   \n",
       "3                         0.0                            0.0   0.749860   \n",
       "4                         0.0                            0.0   0.746176   \n",
       "5                         0.0                            0.0   0.752719   \n",
       "6                         0.0                            0.0   0.750640   \n",
       "7                         0.0                            0.0   0.754089   \n",
       "8                         0.0                            0.0   0.750640   \n",
       "9                         0.0                            0.0   0.752492   \n",
       "\n",
       "   macro avg  weighted avg  samples avg  \n",
       "0   0.258350      0.727831     0.810607  \n",
       "1   0.242212      0.714434     0.808597  \n",
       "2   0.273675      0.726720     0.811655  \n",
       "3   0.245403      0.724329     0.810957  \n",
       "4   0.259323      0.720280     0.807355  \n",
       "5   0.250863      0.721813     0.812869  \n",
       "6   0.246402      0.723292     0.812247  \n",
       "7   0.245102      0.722834     0.811726  \n",
       "8   0.246783      0.721314     0.806177  \n",
       "9   0.259583      0.722490     0.809934  \n",
       "\n",
       "[10 rows x 58 columns]"
      ]
     },
     "execution_count": 31,
     "metadata": {},
     "output_type": "execute_result"
    }
   ],
   "source": [
    "max_len = 5000\n",
    "sf = 0.5\n",
    "model_type = \"inception\"\n",
    "data_set = \"ChapmanShaoxing\"\n",
    "processes = [\"sc\",\"n\",\"bp\",]\n",
    "\n",
    "batch_tfms = []\n",
    "\n",
    "processing_type = '-'.join([x for x in processes])\n",
    "if \"sc\" in processes:\n",
    "    batch_tfms.append(tfs.Scale(scale_factor=sf,))\n",
    "if \"n\" in processes:\n",
    "    batch_tfms.append(tfs.Normalize())\n",
    "if \"bp\" in processes:\n",
    "    batch_tfms.append(tfs.BandPass(int(sf*500),low_cut=50, high_cut=1,leads=12,))\n",
    "if \"sh\" in processes:\n",
    "    batch_tfms.append(tfs.RandomShift(0.1))\n",
    "if len(processes)==0:\n",
    "    processing_type = \"raw\"\n",
    "\n",
    "print(processes)\n",
    "\n",
    "tfms  = [None, TSMultiLabelClassification()]\n",
    "reports = []\n",
    "probas_list, targets_list = [],[]\n",
    "for cv_num in range(10):\n",
    "    fold_splits = cv_splits[cv_num]\n",
    "    dsets = TSDatasets(X.astype(float)[:,:,0:max_len], y_multi, tfms=tfms, splits=(fold_splits[0],fold_splits[2])) # inplace=True by default\n",
    "    dls   = TSDataLoaders.from_dsets(dsets.train,dsets.valid, bs=[128, 128], batch_tfms=batch_tfms, num_workers=0)\n",
    "    metrics =[accuracy_multi, balanced_accuracy_multi, precision_multi, recall_multi, specificity_multi, F1_multi] \n",
    "    \n",
    "#     model = InceptionTimePlus(dls.vars, dls.c, dls.len, depth=13, ks = 110,nf=28 )\n",
    "    model = InceptionTimePlus(dls.vars, dls.c, dls.len, depth=12, ks = 130,nf=32 )\n",
    "    learn = Learner(dls, model, metrics=metrics, \n",
    "                    cbs=[ShowGraph()],\n",
    "                    model_dir=\"models/10CV/\")\n",
    "    learn.load(\"%s_%s_%s_%s_%s\"%(model_type,data_set,processing_type,max_len,cv_num))\n",
    "    \n",
    "    valid_probas, valid_targets, valid_preds = learn.get_preds(dl=dls.valid, with_decoded=True)\n",
    "    probas_list.append(valid_probas)\n",
    "    targets_list.append(valid_targets)\n",
    "    y_pred = (valid_preds>0)\n",
    "    y_test = valid_targets\n",
    "\n",
    "    report = classification_report(y_test, y_pred,target_names = dls.vocab.o2i.keys(),digits=3,output_dict=True)\n",
    "    reports.append(report)\n",
    "for report in reports:\n",
    "    for k,v in report.items():\n",
    "        report[k] = report[k][\"f1-score\"]\n",
    "# df for f1\n",
    "f1_df = pd.DataFrame(reports)\n",
    "f1_df.to_csv(\"csvs/%s_%s_%s_%s.csv\"%(model_type,processing_type,max_len,DATASET_ID))\n",
    "f1_df"
   ]
  },
  {
   "cell_type": "markdown",
   "id": "449504f8",
   "metadata": {},
   "source": [
    "## inception chapman ( sc + n)"
   ]
  },
  {
   "cell_type": "code",
   "execution_count": 32,
   "id": "04183d50",
   "metadata": {},
   "outputs": [
    {
     "name": "stdout",
     "output_type": "stream",
     "text": [
      "['sc', 'n']\n"
     ]
    },
    {
     "data": {
      "text/html": [],
      "text/plain": [
       "<IPython.core.display.HTML object>"
      ]
     },
     "metadata": {},
     "output_type": "display_data"
    },
    {
     "data": {
      "text/html": [],
      "text/plain": [
       "<IPython.core.display.HTML object>"
      ]
     },
     "metadata": {},
     "output_type": "display_data"
    },
    {
     "data": {
      "text/html": [],
      "text/plain": [
       "<IPython.core.display.HTML object>"
      ]
     },
     "metadata": {},
     "output_type": "display_data"
    },
    {
     "data": {
      "text/html": [],
      "text/plain": [
       "<IPython.core.display.HTML object>"
      ]
     },
     "metadata": {},
     "output_type": "display_data"
    },
    {
     "data": {
      "text/html": [],
      "text/plain": [
       "<IPython.core.display.HTML object>"
      ]
     },
     "metadata": {},
     "output_type": "display_data"
    },
    {
     "data": {
      "text/html": [],
      "text/plain": [
       "<IPython.core.display.HTML object>"
      ]
     },
     "metadata": {},
     "output_type": "display_data"
    },
    {
     "data": {
      "text/html": [],
      "text/plain": [
       "<IPython.core.display.HTML object>"
      ]
     },
     "metadata": {},
     "output_type": "display_data"
    },
    {
     "data": {
      "text/html": [],
      "text/plain": [
       "<IPython.core.display.HTML object>"
      ]
     },
     "metadata": {},
     "output_type": "display_data"
    },
    {
     "data": {
      "text/html": [],
      "text/plain": [
       "<IPython.core.display.HTML object>"
      ]
     },
     "metadata": {},
     "output_type": "display_data"
    },
    {
     "data": {
      "text/html": [],
      "text/plain": [
       "<IPython.core.display.HTML object>"
      ]
     },
     "metadata": {},
     "output_type": "display_data"
    },
    {
     "data": {
      "text/html": [
       "<div>\n",
       "<style scoped>\n",
       "    .dataframe tbody tr th:only-of-type {\n",
       "        vertical-align: middle;\n",
       "    }\n",
       "\n",
       "    .dataframe tbody tr th {\n",
       "        vertical-align: top;\n",
       "    }\n",
       "\n",
       "    .dataframe thead th {\n",
       "        text-align: right;\n",
       "    }\n",
       "</style>\n",
       "<table border=\"1\" class=\"dataframe\">\n",
       "  <thead>\n",
       "    <tr style=\"text-align: right;\">\n",
       "      <th></th>\n",
       "      <th>1st degree av block</th>\n",
       "      <th>2nd degree av block</th>\n",
       "      <th>atrial bigeminy</th>\n",
       "      <th>atrial fibrillation</th>\n",
       "      <th>atrial flutter</th>\n",
       "      <th>atrial tachycardia</th>\n",
       "      <th>atrioventricular  node reentrant tachycardia</th>\n",
       "      <th>atrioventricular reentrant tachycardia</th>\n",
       "      <th>av block</th>\n",
       "      <th>clockwise rotation</th>\n",
       "      <th>...</th>\n",
       "      <th>ventricular escape beat</th>\n",
       "      <th>ventricular pre excitation</th>\n",
       "      <th>ventricular premature beats</th>\n",
       "      <th>ventricular trigeminy</th>\n",
       "      <th>wandering atrial pacemaker</th>\n",
       "      <th>wolff parkinson white pattern</th>\n",
       "      <th>micro avg</th>\n",
       "      <th>macro avg</th>\n",
       "      <th>weighted avg</th>\n",
       "      <th>samples avg</th>\n",
       "    </tr>\n",
       "  </thead>\n",
       "  <tbody>\n",
       "    <tr>\n",
       "      <th>0</th>\n",
       "      <td>0.509804</td>\n",
       "      <td>0.0</td>\n",
       "      <td>0.0</td>\n",
       "      <td>0.915254</td>\n",
       "      <td>0.615385</td>\n",
       "      <td>0.222222</td>\n",
       "      <td>0.0</td>\n",
       "      <td>0.0</td>\n",
       "      <td>0.200000</td>\n",
       "      <td>0.352941</td>\n",
       "      <td>...</td>\n",
       "      <td>0.0</td>\n",
       "      <td>0.0</td>\n",
       "      <td>0.779661</td>\n",
       "      <td>0.0</td>\n",
       "      <td>0.0</td>\n",
       "      <td>0.0</td>\n",
       "      <td>0.760114</td>\n",
       "      <td>0.262317</td>\n",
       "      <td>0.730934</td>\n",
       "      <td>0.816986</td>\n",
       "    </tr>\n",
       "    <tr>\n",
       "      <th>1</th>\n",
       "      <td>0.470588</td>\n",
       "      <td>0.0</td>\n",
       "      <td>0.0</td>\n",
       "      <td>0.903955</td>\n",
       "      <td>0.591549</td>\n",
       "      <td>0.380952</td>\n",
       "      <td>0.0</td>\n",
       "      <td>0.0</td>\n",
       "      <td>0.260870</td>\n",
       "      <td>0.500000</td>\n",
       "      <td>...</td>\n",
       "      <td>0.0</td>\n",
       "      <td>0.0</td>\n",
       "      <td>0.800000</td>\n",
       "      <td>0.0</td>\n",
       "      <td>0.0</td>\n",
       "      <td>0.0</td>\n",
       "      <td>0.753210</td>\n",
       "      <td>0.250883</td>\n",
       "      <td>0.721271</td>\n",
       "      <td>0.813269</td>\n",
       "    </tr>\n",
       "    <tr>\n",
       "      <th>2</th>\n",
       "      <td>0.468085</td>\n",
       "      <td>0.0</td>\n",
       "      <td>0.0</td>\n",
       "      <td>0.926027</td>\n",
       "      <td>0.625000</td>\n",
       "      <td>0.347826</td>\n",
       "      <td>0.0</td>\n",
       "      <td>0.0</td>\n",
       "      <td>0.166667</td>\n",
       "      <td>0.307692</td>\n",
       "      <td>...</td>\n",
       "      <td>0.0</td>\n",
       "      <td>0.0</td>\n",
       "      <td>0.736842</td>\n",
       "      <td>0.0</td>\n",
       "      <td>0.0</td>\n",
       "      <td>0.0</td>\n",
       "      <td>0.751060</td>\n",
       "      <td>0.248489</td>\n",
       "      <td>0.723843</td>\n",
       "      <td>0.805939</td>\n",
       "    </tr>\n",
       "    <tr>\n",
       "      <th>3</th>\n",
       "      <td>0.391304</td>\n",
       "      <td>0.0</td>\n",
       "      <td>0.0</td>\n",
       "      <td>0.922222</td>\n",
       "      <td>0.500000</td>\n",
       "      <td>0.400000</td>\n",
       "      <td>0.0</td>\n",
       "      <td>0.0</td>\n",
       "      <td>0.095238</td>\n",
       "      <td>0.461538</td>\n",
       "      <td>...</td>\n",
       "      <td>0.0</td>\n",
       "      <td>0.0</td>\n",
       "      <td>0.825397</td>\n",
       "      <td>0.0</td>\n",
       "      <td>0.0</td>\n",
       "      <td>0.0</td>\n",
       "      <td>0.746735</td>\n",
       "      <td>0.243829</td>\n",
       "      <td>0.715488</td>\n",
       "      <td>0.805626</td>\n",
       "    </tr>\n",
       "    <tr>\n",
       "      <th>4</th>\n",
       "      <td>0.440000</td>\n",
       "      <td>0.0</td>\n",
       "      <td>0.0</td>\n",
       "      <td>0.919668</td>\n",
       "      <td>0.580645</td>\n",
       "      <td>0.454545</td>\n",
       "      <td>0.0</td>\n",
       "      <td>0.0</td>\n",
       "      <td>0.181818</td>\n",
       "      <td>0.166667</td>\n",
       "      <td>...</td>\n",
       "      <td>0.0</td>\n",
       "      <td>0.0</td>\n",
       "      <td>0.766667</td>\n",
       "      <td>0.0</td>\n",
       "      <td>0.0</td>\n",
       "      <td>0.0</td>\n",
       "      <td>0.745470</td>\n",
       "      <td>0.249323</td>\n",
       "      <td>0.719822</td>\n",
       "      <td>0.803481</td>\n",
       "    </tr>\n",
       "    <tr>\n",
       "      <th>5</th>\n",
       "      <td>0.470588</td>\n",
       "      <td>0.0</td>\n",
       "      <td>0.0</td>\n",
       "      <td>0.927374</td>\n",
       "      <td>0.588235</td>\n",
       "      <td>0.285714</td>\n",
       "      <td>0.0</td>\n",
       "      <td>0.0</td>\n",
       "      <td>0.086957</td>\n",
       "      <td>0.714286</td>\n",
       "      <td>...</td>\n",
       "      <td>0.0</td>\n",
       "      <td>0.0</td>\n",
       "      <td>0.806452</td>\n",
       "      <td>0.0</td>\n",
       "      <td>0.0</td>\n",
       "      <td>0.0</td>\n",
       "      <td>0.752598</td>\n",
       "      <td>0.265386</td>\n",
       "      <td>0.728950</td>\n",
       "      <td>0.813009</td>\n",
       "    </tr>\n",
       "    <tr>\n",
       "      <th>6</th>\n",
       "      <td>0.461538</td>\n",
       "      <td>0.0</td>\n",
       "      <td>0.0</td>\n",
       "      <td>0.918310</td>\n",
       "      <td>0.634921</td>\n",
       "      <td>0.333333</td>\n",
       "      <td>0.0</td>\n",
       "      <td>0.0</td>\n",
       "      <td>0.166667</td>\n",
       "      <td>0.666667</td>\n",
       "      <td>...</td>\n",
       "      <td>0.0</td>\n",
       "      <td>0.0</td>\n",
       "      <td>0.758621</td>\n",
       "      <td>0.0</td>\n",
       "      <td>0.0</td>\n",
       "      <td>0.0</td>\n",
       "      <td>0.754192</td>\n",
       "      <td>0.255777</td>\n",
       "      <td>0.725074</td>\n",
       "      <td>0.811979</td>\n",
       "    </tr>\n",
       "    <tr>\n",
       "      <th>7</th>\n",
       "      <td>0.509804</td>\n",
       "      <td>0.0</td>\n",
       "      <td>0.0</td>\n",
       "      <td>0.914127</td>\n",
       "      <td>0.562500</td>\n",
       "      <td>0.400000</td>\n",
       "      <td>0.0</td>\n",
       "      <td>0.0</td>\n",
       "      <td>0.181818</td>\n",
       "      <td>0.266667</td>\n",
       "      <td>...</td>\n",
       "      <td>0.0</td>\n",
       "      <td>0.0</td>\n",
       "      <td>0.754717</td>\n",
       "      <td>0.0</td>\n",
       "      <td>0.0</td>\n",
       "      <td>0.0</td>\n",
       "      <td>0.745142</td>\n",
       "      <td>0.247188</td>\n",
       "      <td>0.717640</td>\n",
       "      <td>0.802967</td>\n",
       "    </tr>\n",
       "    <tr>\n",
       "      <th>8</th>\n",
       "      <td>0.520000</td>\n",
       "      <td>0.0</td>\n",
       "      <td>0.0</td>\n",
       "      <td>0.918033</td>\n",
       "      <td>0.523077</td>\n",
       "      <td>0.117647</td>\n",
       "      <td>0.0</td>\n",
       "      <td>0.0</td>\n",
       "      <td>0.166667</td>\n",
       "      <td>0.571429</td>\n",
       "      <td>...</td>\n",
       "      <td>0.0</td>\n",
       "      <td>0.0</td>\n",
       "      <td>0.703704</td>\n",
       "      <td>0.0</td>\n",
       "      <td>0.0</td>\n",
       "      <td>0.0</td>\n",
       "      <td>0.755682</td>\n",
       "      <td>0.248520</td>\n",
       "      <td>0.725681</td>\n",
       "      <td>0.813889</td>\n",
       "    </tr>\n",
       "    <tr>\n",
       "      <th>9</th>\n",
       "      <td>0.454545</td>\n",
       "      <td>0.0</td>\n",
       "      <td>0.0</td>\n",
       "      <td>0.916667</td>\n",
       "      <td>0.600000</td>\n",
       "      <td>0.333333</td>\n",
       "      <td>0.0</td>\n",
       "      <td>0.0</td>\n",
       "      <td>0.181818</td>\n",
       "      <td>0.533333</td>\n",
       "      <td>...</td>\n",
       "      <td>0.0</td>\n",
       "      <td>0.0</td>\n",
       "      <td>0.785714</td>\n",
       "      <td>0.0</td>\n",
       "      <td>0.0</td>\n",
       "      <td>0.0</td>\n",
       "      <td>0.753491</td>\n",
       "      <td>0.252374</td>\n",
       "      <td>0.723498</td>\n",
       "      <td>0.807467</td>\n",
       "    </tr>\n",
       "  </tbody>\n",
       "</table>\n",
       "<p>10 rows × 58 columns</p>\n",
       "</div>"
      ],
      "text/plain": [
       "   1st degree av block  2nd degree av block  atrial bigeminy  \\\n",
       "0             0.509804                  0.0              0.0   \n",
       "1             0.470588                  0.0              0.0   \n",
       "2             0.468085                  0.0              0.0   \n",
       "3             0.391304                  0.0              0.0   \n",
       "4             0.440000                  0.0              0.0   \n",
       "5             0.470588                  0.0              0.0   \n",
       "6             0.461538                  0.0              0.0   \n",
       "7             0.509804                  0.0              0.0   \n",
       "8             0.520000                  0.0              0.0   \n",
       "9             0.454545                  0.0              0.0   \n",
       "\n",
       "   atrial fibrillation  atrial flutter  atrial tachycardia  \\\n",
       "0             0.915254        0.615385            0.222222   \n",
       "1             0.903955        0.591549            0.380952   \n",
       "2             0.926027        0.625000            0.347826   \n",
       "3             0.922222        0.500000            0.400000   \n",
       "4             0.919668        0.580645            0.454545   \n",
       "5             0.927374        0.588235            0.285714   \n",
       "6             0.918310        0.634921            0.333333   \n",
       "7             0.914127        0.562500            0.400000   \n",
       "8             0.918033        0.523077            0.117647   \n",
       "9             0.916667        0.600000            0.333333   \n",
       "\n",
       "   atrioventricular  node reentrant tachycardia  \\\n",
       "0                                           0.0   \n",
       "1                                           0.0   \n",
       "2                                           0.0   \n",
       "3                                           0.0   \n",
       "4                                           0.0   \n",
       "5                                           0.0   \n",
       "6                                           0.0   \n",
       "7                                           0.0   \n",
       "8                                           0.0   \n",
       "9                                           0.0   \n",
       "\n",
       "   atrioventricular reentrant tachycardia  av block  clockwise rotation  ...  \\\n",
       "0                                     0.0  0.200000            0.352941  ...   \n",
       "1                                     0.0  0.260870            0.500000  ...   \n",
       "2                                     0.0  0.166667            0.307692  ...   \n",
       "3                                     0.0  0.095238            0.461538  ...   \n",
       "4                                     0.0  0.181818            0.166667  ...   \n",
       "5                                     0.0  0.086957            0.714286  ...   \n",
       "6                                     0.0  0.166667            0.666667  ...   \n",
       "7                                     0.0  0.181818            0.266667  ...   \n",
       "8                                     0.0  0.166667            0.571429  ...   \n",
       "9                                     0.0  0.181818            0.533333  ...   \n",
       "\n",
       "   ventricular escape beat  ventricular pre excitation  \\\n",
       "0                      0.0                         0.0   \n",
       "1                      0.0                         0.0   \n",
       "2                      0.0                         0.0   \n",
       "3                      0.0                         0.0   \n",
       "4                      0.0                         0.0   \n",
       "5                      0.0                         0.0   \n",
       "6                      0.0                         0.0   \n",
       "7                      0.0                         0.0   \n",
       "8                      0.0                         0.0   \n",
       "9                      0.0                         0.0   \n",
       "\n",
       "   ventricular premature beats  ventricular trigeminy  \\\n",
       "0                     0.779661                    0.0   \n",
       "1                     0.800000                    0.0   \n",
       "2                     0.736842                    0.0   \n",
       "3                     0.825397                    0.0   \n",
       "4                     0.766667                    0.0   \n",
       "5                     0.806452                    0.0   \n",
       "6                     0.758621                    0.0   \n",
       "7                     0.754717                    0.0   \n",
       "8                     0.703704                    0.0   \n",
       "9                     0.785714                    0.0   \n",
       "\n",
       "   wandering atrial pacemaker  wolff parkinson white pattern  micro avg  \\\n",
       "0                         0.0                            0.0   0.760114   \n",
       "1                         0.0                            0.0   0.753210   \n",
       "2                         0.0                            0.0   0.751060   \n",
       "3                         0.0                            0.0   0.746735   \n",
       "4                         0.0                            0.0   0.745470   \n",
       "5                         0.0                            0.0   0.752598   \n",
       "6                         0.0                            0.0   0.754192   \n",
       "7                         0.0                            0.0   0.745142   \n",
       "8                         0.0                            0.0   0.755682   \n",
       "9                         0.0                            0.0   0.753491   \n",
       "\n",
       "   macro avg  weighted avg  samples avg  \n",
       "0   0.262317      0.730934     0.816986  \n",
       "1   0.250883      0.721271     0.813269  \n",
       "2   0.248489      0.723843     0.805939  \n",
       "3   0.243829      0.715488     0.805626  \n",
       "4   0.249323      0.719822     0.803481  \n",
       "5   0.265386      0.728950     0.813009  \n",
       "6   0.255777      0.725074     0.811979  \n",
       "7   0.247188      0.717640     0.802967  \n",
       "8   0.248520      0.725681     0.813889  \n",
       "9   0.252374      0.723498     0.807467  \n",
       "\n",
       "[10 rows x 58 columns]"
      ]
     },
     "execution_count": 32,
     "metadata": {},
     "output_type": "execute_result"
    }
   ],
   "source": [
    "max_len = 5000\n",
    "sf = 0.5\n",
    "model_type = \"inception\"\n",
    "data_set = \"ChapmanShaoxing\"\n",
    "processes = [\"sc\",\"n\",]\n",
    "\n",
    "batch_tfms = []\n",
    "\n",
    "processing_type = '-'.join([x for x in processes])\n",
    "if \"sc\" in processes:\n",
    "    batch_tfms.append(tfs.Scale(scale_factor=sf,))\n",
    "if \"n\" in processes:\n",
    "    batch_tfms.append(tfs.Normalize())\n",
    "if \"bp\" in processes:\n",
    "    batch_tfms.append(tfs.BandPass(int(sf*500),low_cut=50, high_cut=1,leads=12,))\n",
    "if \"sh\" in processes:\n",
    "    batch_tfms.append(tfs.RandomShift(0.1))\n",
    "if len(processes)==0:\n",
    "    processing_type = \"raw\"\n",
    "\n",
    "print(processes)\n",
    "\n",
    "tfms  = [None, TSMultiLabelClassification()]\n",
    "reports = []\n",
    "probas_list, targets_list = [],[]\n",
    "for cv_num in range(10):\n",
    "    fold_splits = cv_splits[cv_num]\n",
    "    dsets = TSDatasets(X.astype(float)[:,:,0:max_len], y_multi, tfms=tfms, splits=(fold_splits[0],fold_splits[2])) # inplace=True by default\n",
    "    dls   = TSDataLoaders.from_dsets(dsets.train,dsets.valid, bs=[128, 128], batch_tfms=batch_tfms, num_workers=0)\n",
    "    metrics =[accuracy_multi, balanced_accuracy_multi, precision_multi, recall_multi, specificity_multi, F1_multi] \n",
    "    \n",
    "#     model = InceptionTimePlus(dls.vars, dls.c, dls.len, depth=13, ks = 110,nf=28 )\n",
    "    model = InceptionTimePlus(dls.vars, dls.c, dls.len, depth=12, ks = 130,nf=32 )\n",
    "    learn = Learner(dls, model, metrics=metrics, \n",
    "                    cbs=[ShowGraph()],\n",
    "                    model_dir=\"models/10CV/\")\n",
    "    learn.load(\"%s_%s_%s_%s_%s\"%(model_type,data_set,processing_type,max_len,cv_num))\n",
    "    \n",
    "    valid_probas, valid_targets, valid_preds = learn.get_preds(dl=dls.valid, with_decoded=True)\n",
    "    probas_list.append(valid_probas)\n",
    "    targets_list.append(valid_targets)\n",
    "    y_pred = (valid_preds>0)\n",
    "    y_test = valid_targets\n",
    "\n",
    "    report = classification_report(y_test, y_pred,target_names = dls.vocab.o2i.keys(),digits=3,output_dict=True)\n",
    "    reports.append(report)\n",
    "for report in reports:\n",
    "    for k,v in report.items():\n",
    "        report[k] = report[k][\"f1-score\"]\n",
    "# df for f1\n",
    "f1_df = pd.DataFrame(reports)\n",
    "f1_df.to_csv(\"csvs/%s_%s_%s_%s.csv\"%(model_type,processing_type,max_len,DATASET_ID))\n",
    "f1_df"
   ]
  },
  {
   "cell_type": "markdown",
   "id": "df065dde",
   "metadata": {},
   "source": [
    "# inception + chapman (sc)"
   ]
  },
  {
   "cell_type": "code",
   "execution_count": 33,
   "id": "8db04297",
   "metadata": {},
   "outputs": [
    {
     "name": "stdout",
     "output_type": "stream",
     "text": [
      "['sc']\n"
     ]
    },
    {
     "data": {
      "text/html": [],
      "text/plain": [
       "<IPython.core.display.HTML object>"
      ]
     },
     "metadata": {},
     "output_type": "display_data"
    },
    {
     "data": {
      "text/html": [],
      "text/plain": [
       "<IPython.core.display.HTML object>"
      ]
     },
     "metadata": {},
     "output_type": "display_data"
    },
    {
     "data": {
      "text/html": [],
      "text/plain": [
       "<IPython.core.display.HTML object>"
      ]
     },
     "metadata": {},
     "output_type": "display_data"
    },
    {
     "data": {
      "text/html": [],
      "text/plain": [
       "<IPython.core.display.HTML object>"
      ]
     },
     "metadata": {},
     "output_type": "display_data"
    },
    {
     "data": {
      "text/html": [],
      "text/plain": [
       "<IPython.core.display.HTML object>"
      ]
     },
     "metadata": {},
     "output_type": "display_data"
    },
    {
     "data": {
      "text/html": [],
      "text/plain": [
       "<IPython.core.display.HTML object>"
      ]
     },
     "metadata": {},
     "output_type": "display_data"
    },
    {
     "data": {
      "text/html": [],
      "text/plain": [
       "<IPython.core.display.HTML object>"
      ]
     },
     "metadata": {},
     "output_type": "display_data"
    },
    {
     "data": {
      "text/html": [],
      "text/plain": [
       "<IPython.core.display.HTML object>"
      ]
     },
     "metadata": {},
     "output_type": "display_data"
    },
    {
     "data": {
      "text/html": [],
      "text/plain": [
       "<IPython.core.display.HTML object>"
      ]
     },
     "metadata": {},
     "output_type": "display_data"
    },
    {
     "data": {
      "text/html": [],
      "text/plain": [
       "<IPython.core.display.HTML object>"
      ]
     },
     "metadata": {},
     "output_type": "display_data"
    },
    {
     "data": {
      "text/html": [
       "<div>\n",
       "<style scoped>\n",
       "    .dataframe tbody tr th:only-of-type {\n",
       "        vertical-align: middle;\n",
       "    }\n",
       "\n",
       "    .dataframe tbody tr th {\n",
       "        vertical-align: top;\n",
       "    }\n",
       "\n",
       "    .dataframe thead th {\n",
       "        text-align: right;\n",
       "    }\n",
       "</style>\n",
       "<table border=\"1\" class=\"dataframe\">\n",
       "  <thead>\n",
       "    <tr style=\"text-align: right;\">\n",
       "      <th></th>\n",
       "      <th>1st degree av block</th>\n",
       "      <th>2nd degree av block</th>\n",
       "      <th>atrial bigeminy</th>\n",
       "      <th>atrial fibrillation</th>\n",
       "      <th>atrial flutter</th>\n",
       "      <th>atrial tachycardia</th>\n",
       "      <th>atrioventricular  node reentrant tachycardia</th>\n",
       "      <th>atrioventricular reentrant tachycardia</th>\n",
       "      <th>av block</th>\n",
       "      <th>clockwise rotation</th>\n",
       "      <th>...</th>\n",
       "      <th>ventricular escape beat</th>\n",
       "      <th>ventricular pre excitation</th>\n",
       "      <th>ventricular premature beats</th>\n",
       "      <th>ventricular trigeminy</th>\n",
       "      <th>wandering atrial pacemaker</th>\n",
       "      <th>wolff parkinson white pattern</th>\n",
       "      <th>micro avg</th>\n",
       "      <th>macro avg</th>\n",
       "      <th>weighted avg</th>\n",
       "      <th>samples avg</th>\n",
       "    </tr>\n",
       "  </thead>\n",
       "  <tbody>\n",
       "    <tr>\n",
       "      <th>0</th>\n",
       "      <td>0.500000</td>\n",
       "      <td>0.0</td>\n",
       "      <td>0.0</td>\n",
       "      <td>0.916905</td>\n",
       "      <td>0.621622</td>\n",
       "      <td>0.272727</td>\n",
       "      <td>0.0</td>\n",
       "      <td>0.0</td>\n",
       "      <td>0.000000</td>\n",
       "      <td>0.470588</td>\n",
       "      <td>...</td>\n",
       "      <td>0.0</td>\n",
       "      <td>0.0</td>\n",
       "      <td>0.700000</td>\n",
       "      <td>0.0</td>\n",
       "      <td>0.0</td>\n",
       "      <td>0.0</td>\n",
       "      <td>0.766180</td>\n",
       "      <td>0.272168</td>\n",
       "      <td>0.748697</td>\n",
       "      <td>0.821092</td>\n",
       "    </tr>\n",
       "    <tr>\n",
       "      <th>1</th>\n",
       "      <td>0.571429</td>\n",
       "      <td>0.0</td>\n",
       "      <td>0.0</td>\n",
       "      <td>0.919220</td>\n",
       "      <td>0.545455</td>\n",
       "      <td>0.444444</td>\n",
       "      <td>0.0</td>\n",
       "      <td>0.0</td>\n",
       "      <td>0.153846</td>\n",
       "      <td>0.470588</td>\n",
       "      <td>...</td>\n",
       "      <td>0.0</td>\n",
       "      <td>0.0</td>\n",
       "      <td>0.777778</td>\n",
       "      <td>0.0</td>\n",
       "      <td>0.0</td>\n",
       "      <td>0.0</td>\n",
       "      <td>0.769274</td>\n",
       "      <td>0.263666</td>\n",
       "      <td>0.746179</td>\n",
       "      <td>0.823033</td>\n",
       "    </tr>\n",
       "    <tr>\n",
       "      <th>2</th>\n",
       "      <td>0.425532</td>\n",
       "      <td>0.0</td>\n",
       "      <td>0.0</td>\n",
       "      <td>0.914601</td>\n",
       "      <td>0.637681</td>\n",
       "      <td>0.476190</td>\n",
       "      <td>0.0</td>\n",
       "      <td>0.0</td>\n",
       "      <td>0.083333</td>\n",
       "      <td>0.461538</td>\n",
       "      <td>...</td>\n",
       "      <td>0.0</td>\n",
       "      <td>0.0</td>\n",
       "      <td>0.705882</td>\n",
       "      <td>0.0</td>\n",
       "      <td>0.0</td>\n",
       "      <td>0.0</td>\n",
       "      <td>0.760340</td>\n",
       "      <td>0.259097</td>\n",
       "      <td>0.732467</td>\n",
       "      <td>0.817908</td>\n",
       "    </tr>\n",
       "    <tr>\n",
       "      <th>3</th>\n",
       "      <td>0.458333</td>\n",
       "      <td>0.0</td>\n",
       "      <td>0.0</td>\n",
       "      <td>0.913649</td>\n",
       "      <td>0.696970</td>\n",
       "      <td>0.300000</td>\n",
       "      <td>0.0</td>\n",
       "      <td>0.0</td>\n",
       "      <td>0.095238</td>\n",
       "      <td>0.500000</td>\n",
       "      <td>...</td>\n",
       "      <td>0.0</td>\n",
       "      <td>0.0</td>\n",
       "      <td>0.785714</td>\n",
       "      <td>0.0</td>\n",
       "      <td>0.0</td>\n",
       "      <td>0.0</td>\n",
       "      <td>0.772469</td>\n",
       "      <td>0.260103</td>\n",
       "      <td>0.742990</td>\n",
       "      <td>0.826089</td>\n",
       "    </tr>\n",
       "    <tr>\n",
       "      <th>4</th>\n",
       "      <td>0.448980</td>\n",
       "      <td>0.0</td>\n",
       "      <td>0.0</td>\n",
       "      <td>0.917127</td>\n",
       "      <td>0.646154</td>\n",
       "      <td>0.285714</td>\n",
       "      <td>0.0</td>\n",
       "      <td>0.0</td>\n",
       "      <td>0.080000</td>\n",
       "      <td>0.526316</td>\n",
       "      <td>...</td>\n",
       "      <td>0.0</td>\n",
       "      <td>0.0</td>\n",
       "      <td>0.800000</td>\n",
       "      <td>0.0</td>\n",
       "      <td>0.0</td>\n",
       "      <td>0.0</td>\n",
       "      <td>0.775120</td>\n",
       "      <td>0.271004</td>\n",
       "      <td>0.749787</td>\n",
       "      <td>0.831857</td>\n",
       "    </tr>\n",
       "    <tr>\n",
       "      <th>5</th>\n",
       "      <td>0.421053</td>\n",
       "      <td>0.0</td>\n",
       "      <td>0.0</td>\n",
       "      <td>0.904110</td>\n",
       "      <td>0.567164</td>\n",
       "      <td>0.272727</td>\n",
       "      <td>0.0</td>\n",
       "      <td>0.0</td>\n",
       "      <td>0.206897</td>\n",
       "      <td>0.333333</td>\n",
       "      <td>...</td>\n",
       "      <td>0.0</td>\n",
       "      <td>0.0</td>\n",
       "      <td>0.750000</td>\n",
       "      <td>0.5</td>\n",
       "      <td>0.0</td>\n",
       "      <td>0.0</td>\n",
       "      <td>0.772266</td>\n",
       "      <td>0.271291</td>\n",
       "      <td>0.746307</td>\n",
       "      <td>0.821679</td>\n",
       "    </tr>\n",
       "    <tr>\n",
       "      <th>6</th>\n",
       "      <td>0.400000</td>\n",
       "      <td>0.0</td>\n",
       "      <td>0.0</td>\n",
       "      <td>0.914286</td>\n",
       "      <td>0.527778</td>\n",
       "      <td>0.352941</td>\n",
       "      <td>0.0</td>\n",
       "      <td>0.0</td>\n",
       "      <td>0.105263</td>\n",
       "      <td>0.533333</td>\n",
       "      <td>...</td>\n",
       "      <td>0.0</td>\n",
       "      <td>0.0</td>\n",
       "      <td>0.800000</td>\n",
       "      <td>0.0</td>\n",
       "      <td>0.0</td>\n",
       "      <td>0.0</td>\n",
       "      <td>0.765217</td>\n",
       "      <td>0.264974</td>\n",
       "      <td>0.741213</td>\n",
       "      <td>0.818328</td>\n",
       "    </tr>\n",
       "    <tr>\n",
       "      <th>7</th>\n",
       "      <td>0.530612</td>\n",
       "      <td>0.0</td>\n",
       "      <td>0.0</td>\n",
       "      <td>0.933333</td>\n",
       "      <td>0.600000</td>\n",
       "      <td>0.315789</td>\n",
       "      <td>0.0</td>\n",
       "      <td>0.0</td>\n",
       "      <td>0.166667</td>\n",
       "      <td>0.307692</td>\n",
       "      <td>...</td>\n",
       "      <td>0.0</td>\n",
       "      <td>0.0</td>\n",
       "      <td>0.714286</td>\n",
       "      <td>0.0</td>\n",
       "      <td>0.0</td>\n",
       "      <td>0.0</td>\n",
       "      <td>0.759501</td>\n",
       "      <td>0.257192</td>\n",
       "      <td>0.734132</td>\n",
       "      <td>0.814915</td>\n",
       "    </tr>\n",
       "    <tr>\n",
       "      <th>8</th>\n",
       "      <td>0.444444</td>\n",
       "      <td>0.0</td>\n",
       "      <td>0.0</td>\n",
       "      <td>0.925208</td>\n",
       "      <td>0.686567</td>\n",
       "      <td>0.300000</td>\n",
       "      <td>0.0</td>\n",
       "      <td>0.0</td>\n",
       "      <td>0.166667</td>\n",
       "      <td>0.153846</td>\n",
       "      <td>...</td>\n",
       "      <td>0.0</td>\n",
       "      <td>0.0</td>\n",
       "      <td>0.758621</td>\n",
       "      <td>0.0</td>\n",
       "      <td>0.0</td>\n",
       "      <td>0.0</td>\n",
       "      <td>0.767356</td>\n",
       "      <td>0.255749</td>\n",
       "      <td>0.741429</td>\n",
       "      <td>0.824935</td>\n",
       "    </tr>\n",
       "    <tr>\n",
       "      <th>9</th>\n",
       "      <td>0.480000</td>\n",
       "      <td>0.0</td>\n",
       "      <td>0.0</td>\n",
       "      <td>0.923077</td>\n",
       "      <td>0.593750</td>\n",
       "      <td>0.347826</td>\n",
       "      <td>0.0</td>\n",
       "      <td>0.0</td>\n",
       "      <td>0.090909</td>\n",
       "      <td>0.533333</td>\n",
       "      <td>...</td>\n",
       "      <td>0.0</td>\n",
       "      <td>0.0</td>\n",
       "      <td>0.807018</td>\n",
       "      <td>0.0</td>\n",
       "      <td>0.0</td>\n",
       "      <td>0.0</td>\n",
       "      <td>0.764889</td>\n",
       "      <td>0.261891</td>\n",
       "      <td>0.738459</td>\n",
       "      <td>0.819287</td>\n",
       "    </tr>\n",
       "  </tbody>\n",
       "</table>\n",
       "<p>10 rows × 58 columns</p>\n",
       "</div>"
      ],
      "text/plain": [
       "   1st degree av block  2nd degree av block  atrial bigeminy  \\\n",
       "0             0.500000                  0.0              0.0   \n",
       "1             0.571429                  0.0              0.0   \n",
       "2             0.425532                  0.0              0.0   \n",
       "3             0.458333                  0.0              0.0   \n",
       "4             0.448980                  0.0              0.0   \n",
       "5             0.421053                  0.0              0.0   \n",
       "6             0.400000                  0.0              0.0   \n",
       "7             0.530612                  0.0              0.0   \n",
       "8             0.444444                  0.0              0.0   \n",
       "9             0.480000                  0.0              0.0   \n",
       "\n",
       "   atrial fibrillation  atrial flutter  atrial tachycardia  \\\n",
       "0             0.916905        0.621622            0.272727   \n",
       "1             0.919220        0.545455            0.444444   \n",
       "2             0.914601        0.637681            0.476190   \n",
       "3             0.913649        0.696970            0.300000   \n",
       "4             0.917127        0.646154            0.285714   \n",
       "5             0.904110        0.567164            0.272727   \n",
       "6             0.914286        0.527778            0.352941   \n",
       "7             0.933333        0.600000            0.315789   \n",
       "8             0.925208        0.686567            0.300000   \n",
       "9             0.923077        0.593750            0.347826   \n",
       "\n",
       "   atrioventricular  node reentrant tachycardia  \\\n",
       "0                                           0.0   \n",
       "1                                           0.0   \n",
       "2                                           0.0   \n",
       "3                                           0.0   \n",
       "4                                           0.0   \n",
       "5                                           0.0   \n",
       "6                                           0.0   \n",
       "7                                           0.0   \n",
       "8                                           0.0   \n",
       "9                                           0.0   \n",
       "\n",
       "   atrioventricular reentrant tachycardia  av block  clockwise rotation  ...  \\\n",
       "0                                     0.0  0.000000            0.470588  ...   \n",
       "1                                     0.0  0.153846            0.470588  ...   \n",
       "2                                     0.0  0.083333            0.461538  ...   \n",
       "3                                     0.0  0.095238            0.500000  ...   \n",
       "4                                     0.0  0.080000            0.526316  ...   \n",
       "5                                     0.0  0.206897            0.333333  ...   \n",
       "6                                     0.0  0.105263            0.533333  ...   \n",
       "7                                     0.0  0.166667            0.307692  ...   \n",
       "8                                     0.0  0.166667            0.153846  ...   \n",
       "9                                     0.0  0.090909            0.533333  ...   \n",
       "\n",
       "   ventricular escape beat  ventricular pre excitation  \\\n",
       "0                      0.0                         0.0   \n",
       "1                      0.0                         0.0   \n",
       "2                      0.0                         0.0   \n",
       "3                      0.0                         0.0   \n",
       "4                      0.0                         0.0   \n",
       "5                      0.0                         0.0   \n",
       "6                      0.0                         0.0   \n",
       "7                      0.0                         0.0   \n",
       "8                      0.0                         0.0   \n",
       "9                      0.0                         0.0   \n",
       "\n",
       "   ventricular premature beats  ventricular trigeminy  \\\n",
       "0                     0.700000                    0.0   \n",
       "1                     0.777778                    0.0   \n",
       "2                     0.705882                    0.0   \n",
       "3                     0.785714                    0.0   \n",
       "4                     0.800000                    0.0   \n",
       "5                     0.750000                    0.5   \n",
       "6                     0.800000                    0.0   \n",
       "7                     0.714286                    0.0   \n",
       "8                     0.758621                    0.0   \n",
       "9                     0.807018                    0.0   \n",
       "\n",
       "   wandering atrial pacemaker  wolff parkinson white pattern  micro avg  \\\n",
       "0                         0.0                            0.0   0.766180   \n",
       "1                         0.0                            0.0   0.769274   \n",
       "2                         0.0                            0.0   0.760340   \n",
       "3                         0.0                            0.0   0.772469   \n",
       "4                         0.0                            0.0   0.775120   \n",
       "5                         0.0                            0.0   0.772266   \n",
       "6                         0.0                            0.0   0.765217   \n",
       "7                         0.0                            0.0   0.759501   \n",
       "8                         0.0                            0.0   0.767356   \n",
       "9                         0.0                            0.0   0.764889   \n",
       "\n",
       "   macro avg  weighted avg  samples avg  \n",
       "0   0.272168      0.748697     0.821092  \n",
       "1   0.263666      0.746179     0.823033  \n",
       "2   0.259097      0.732467     0.817908  \n",
       "3   0.260103      0.742990     0.826089  \n",
       "4   0.271004      0.749787     0.831857  \n",
       "5   0.271291      0.746307     0.821679  \n",
       "6   0.264974      0.741213     0.818328  \n",
       "7   0.257192      0.734132     0.814915  \n",
       "8   0.255749      0.741429     0.824935  \n",
       "9   0.261891      0.738459     0.819287  \n",
       "\n",
       "[10 rows x 58 columns]"
      ]
     },
     "execution_count": 33,
     "metadata": {},
     "output_type": "execute_result"
    }
   ],
   "source": [
    "max_len = 5000\n",
    "sf = 0.5\n",
    "model_type = \"inception\"\n",
    "data_set = \"ChapmanShaoxing\"\n",
    "processes = [\"sc\"]\n",
    "\n",
    "batch_tfms = []\n",
    "\n",
    "processing_type = '-'.join([x for x in processes])\n",
    "if \"sc\" in processes:\n",
    "    batch_tfms.append(tfs.Scale(scale_factor=sf,))\n",
    "if \"n\" in processes:\n",
    "    batch_tfms.append(tfs.Normalize())\n",
    "if \"bp\" in processes:\n",
    "    batch_tfms.append(tfs.BandPass(int(sf*500),low_cut=50, high_cut=1,leads=12,))\n",
    "if \"sh\" in processes:\n",
    "    batch_tfms.append(tfs.RandomShift(0.1))\n",
    "if len(processes)==0:\n",
    "    processing_type = \"raw\"\n",
    "\n",
    "print(processes)\n",
    "\n",
    "tfms  = [None, TSMultiLabelClassification()]\n",
    "reports = []\n",
    "probas_list, targets_list = [],[]\n",
    "for cv_num in range(10):\n",
    "    fold_splits = cv_splits[cv_num]\n",
    "    dsets = TSDatasets(X.astype(float)[:,:,0:max_len], y_multi, tfms=tfms, splits=(fold_splits[0],fold_splits[2])) # inplace=True by default\n",
    "    dls   = TSDataLoaders.from_dsets(dsets.train,dsets.valid, bs=[128, 128], batch_tfms=batch_tfms, num_workers=0)\n",
    "    metrics =[accuracy_multi, balanced_accuracy_multi, precision_multi, recall_multi, specificity_multi, F1_multi] \n",
    "    \n",
    "#     model = InceptionTimePlus(dls.vars, dls.c, dls.len, depth=13, ks = 110,nf=28 )\n",
    "    model = InceptionTimePlus(dls.vars, dls.c, dls.len, depth=12, ks = 130,nf=32 )\n",
    "    learn = Learner(dls, model, metrics=metrics, \n",
    "                    cbs=[ShowGraph()],\n",
    "                    model_dir=\"models/10CV/\")\n",
    "    learn.load(\"%s_%s_%s_%s_%s\"%(model_type,data_set,processing_type,max_len,cv_num))\n",
    "    \n",
    "    valid_probas, valid_targets, valid_preds = learn.get_preds(dl=dls.valid, with_decoded=True)\n",
    "    probas_list.append(valid_probas)\n",
    "    targets_list.append(valid_targets)\n",
    "    y_pred = (valid_preds>0)\n",
    "    y_test = valid_targets\n",
    "\n",
    "    report = classification_report(y_test, y_pred,target_names = dls.vocab.o2i.keys(),digits=3,output_dict=True)\n",
    "    reports.append(report)\n",
    "for report in reports:\n",
    "    for k,v in report.items():\n",
    "        report[k] = report[k][\"f1-score\"]\n",
    "# df for f1\n",
    "f1_df = pd.DataFrame(reports)\n",
    "f1_df.to_csv(\"csvs/%s_%s_%s_%s.csv\"%(model_type,processing_type,max_len,DATASET_ID))\n",
    "f1_df"
   ]
  },
  {
   "cell_type": "markdown",
   "id": "05468583",
   "metadata": {},
   "source": [
    "## Loop for minirocket/chapman"
   ]
  },
  {
   "cell_type": "code",
   "execution_count": null,
   "id": "fdc9ca80",
   "metadata": {},
   "outputs": [],
   "source": [
    "max_len = 5000\n",
    "sf = 0.5\n",
    "model_type = \"minirocket\"\n",
    "data_set = \"ChapmanShaoxing\"\n",
    "processes_combinations = [[\"sc\",\"n\",\"bp\",\"sh\"],[\"sc\",\"n\",\"bp\"],[\"sc\",\"n\",],[\"sc\",],[]]\n",
    "\n",
    "for processes in processes_combinations:\n",
    "    batch_tfms = []\n",
    "\n",
    "    processing_type = '-'.join([x for x in processes])\n",
    "    if \"sc\" in processes:\n",
    "        batch_tfms.append(tfs.Scale(scale_factor=sf,))\n",
    "    if \"n\" in processes:\n",
    "        batch_tfms.append(tfs.Normalize())\n",
    "    if \"bp\" in processes:\n",
    "        batch_tfms.append(tfs.BandPass(int(sf*500),low_cut=50, high_cut=1,leads=12,))\n",
    "    if \"sh\" in processes:\n",
    "        batch_tfms.append(tfs.RandomShift(0.1))\n",
    "    if len(processes)==0:\n",
    "        processing_type = \"raw\"\n",
    "\n",
    "    print(processes)\n",
    "\n",
    "    tfms  = [None, TSMultiLabelClassification()]\n",
    "    reports = []\n",
    "    probas_list, targets_list = [],[]\n",
    "    for cv_num in range(10):\n",
    "        fold_splits = cv_splits[cv_num]\n",
    "        dsets = TSDatasets(X.astype(float)[:,:,0:max_len], y_multi, tfms=tfms, splits=(fold_splits[0],fold_splits[2])) # inplace=True by default\n",
    "        dls   = TSDataLoaders.from_dsets(dsets.train,dsets.valid, bs=[128, 128], batch_tfms=batch_tfms, num_workers=0)\n",
    "        metrics =[accuracy_multi, balanced_accuracy_multi, precision_multi, recall_multi, specificity_multi, F1_multi] \n",
    "\n",
    "    #     model = InceptionTimePlus(dls.vars, dls.c, dls.len, depth=13, ks = 110,nf=28 )\n",
    "        model = MiniRocketPlus(dls.vars, dls.c,dls.len)\n",
    "        learn = Learner(dls, model, metrics=metrics, \n",
    "                        cbs=[ShowGraph()],\n",
    "                        model_dir=\"models/10CV/\")\n",
    "        learn.load(\"%s_%s_%s_%s_%s\"%(model_type,data_set,processing_type,max_len,cv_num))\n",
    "\n",
    "        valid_probas, valid_targets, valid_preds = learn.get_preds(dl=dls.valid, with_decoded=True)\n",
    "        probas_list.append(valid_probas)\n",
    "        targets_list.append(valid_targets)\n",
    "        y_pred = (valid_preds>0)\n",
    "        y_test = valid_targets\n",
    "\n",
    "        report = classification_report(y_test, y_pred,target_names = dls.vocab.o2i.keys(),digits=3,output_dict=True)\n",
    "        reports.append(report)\n",
    "    for report in reports:\n",
    "        for k,v in report.items():\n",
    "            report[k] = report[k][\"f1-score\"]\n",
    "    # df for f1\n",
    "    f1_df = pd.DataFrame(reports)\n",
    "    f1_df.to_csv(\"csvs/%s_%s_%s_%s.csv\"%(model_type,processing_type,max_len,DATASET_ID))\n",
    "    print(model_type,processing_type,max_len,DATASET_ID)\n",
    "#     print(processes)\n",
    "    print(f1_df)"
   ]
  },
  {
   "cell_type": "code",
   "execution_count": 46,
   "id": "c27ef1e2",
   "metadata": {},
   "outputs": [
    {
     "data": {
      "text/plain": [
       "(10247, 54)"
      ]
     },
     "execution_count": 46,
     "metadata": {},
     "output_type": "execute_result"
    }
   ],
   "source": [
    "y.shape"
   ]
  }
 ],
 "metadata": {
  "kernelspec": {
   "display_name": "Python 3 (ipykernel)",
   "language": "python",
   "name": "python3"
  },
  "language_info": {
   "codemirror_mode": {
    "name": "ipython",
    "version": 3
   },
   "file_extension": ".py",
   "mimetype": "text/x-python",
   "name": "python",
   "nbconvert_exporter": "python",
   "pygments_lexer": "ipython3",
   "version": "3.10.4"
  }
 },
 "nbformat": 4,
 "nbformat_minor": 5
}
