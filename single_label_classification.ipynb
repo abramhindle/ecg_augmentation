{
 "cells": [
  {
   "cell_type": "code",
   "execution_count": 1,
   "id": "300118ac-e779-4567-8825-0dc9ae082ba2",
   "metadata": {},
   "outputs": [
    {
     "name": "stderr",
     "output_type": "stream",
     "text": [
      "/home/amirsalimi/miniconda3/envs/ecg_augment/lib/python3.10/site-packages/tqdm/auto.py:22: TqdmWarning: IProgress not found. Please update jupyter and ipywidgets. See https://ipywidgets.readthedocs.io/en/stable/user_install.html\n",
      "  from .autonotebook import tqdm as notebook_tqdm\n"
     ]
    }
   ],
   "source": [
    "from helper_code import *\n",
    "import numpy as np, os, sys, joblib\n",
    "import ecg_plot\n",
    "import pandas as pd\n",
    "from glob import glob\n",
    "import os\n",
    "from torch.utils.data import Dataset, DataLoader\n",
    "from sklearn.model_selection import train_test_split\n",
    "from tsai.all import *\n",
    "import torch\n",
    "import optuna\n",
    "from optuna.integration import FastAIPruningCallback\n",
    "from sklearn.metrics import classification_report\n",
    "import transformation_funcs as tfs\n",
    "import seaborn as sns\n",
    "from torchsummary import summary\n",
    "import argparse\n"
   ]
  },
  {
   "cell_type": "markdown",
   "id": "3efb115b-3464-4627-a518-8d3b85de4fbb",
   "metadata": {},
   "source": [
    "# experiment design\n",
    "- pick a dataset\n",
    "- drop all labels that have less than 1000 ECG examples in the dataset\n",
    "- get an equal amount of ECGs that do not have the disease (from the same dataset)\n",
    "- train until no improvement is seen for 10 epochs\n",
    "- best F1 for validation set is the score of the experiment"
   ]
  },
  {
   "cell_type": "code",
   "execution_count": 36,
   "id": "19e025ca-8de9-43d0-b3f5-5c36c6e2ac6c",
   "metadata": {
    "tags": []
   },
   "outputs": [
    {
     "name": "stdout",
     "output_type": "stream",
     "text": [
      "transforms: ['Scale', 'NormMinMax']\n",
      "sc-n\n"
     ]
    }
   ],
   "source": [
    "torch.cuda.set_device(0)\n",
    "datasets = [\"PTBXL\",\"ChapmanShaoxing\",\"CPSC2018\",]\n",
    "norm_type = \"minmax\"\n",
    "max_len = 8000\n",
    "sf = 0.5\n",
    "scale_type = \"nearest\"\n",
    "architecture = \"inception\"\n",
    "DATASET_ID = \"CPSC2018\"\n",
    "transforms = [\"sc\",\"n\"]\n",
    "batch_tfms = []\n",
    "\n",
    "processing_type = '-'.join([x for x in transforms])\n",
    "\n",
    "if \"sc\" in transforms:\n",
    "    batch_tfms.append(tfs.Scale(scale_factor=sf,mode=scale_type))\n",
    "\n",
    "if \"n\" in transforms:\n",
    "    if norm_type == \"minmax\":\n",
    "        batch_tfms.append(tfs.NormMinMax())\n",
    "    if norm_type == \"maxdiv\":\n",
    "        batch_tfms.append(tfs.NormMaxDiv())\n",
    "    if norm_type == \"zscore\":\n",
    "        batch_tfms.append(tfs.NormZScore())\n",
    "    if norm_type == \"median\":\n",
    "        batch_tfms.append(tfs.NormMedian())\n",
    "    if norm_type == \"deci_scale\":\n",
    "        batch_tfms.append(tfs.NormDecimalScaling())\n",
    "        \n",
    "if \"bp\" in transforms:\n",
    "    batch_tfms.append(tfs.BandPass(int(sf*500),low_cut=50, high_cut=1,leads=12,))\n",
    "if \"sh\" in transforms:\n",
    "    batch_tfms.append(tfs.RandomShift(0.1))\n",
    "if len(transforms)==0:\n",
    "    processing_type = \"raw\"\n",
    "print(\"transforms:\",[x.name for x in batch_tfms])\n",
    "print(processing_type)"
   ]
  },
  {
   "cell_type": "code",
   "execution_count": 66,
   "id": "0235dd37-ff5f-4afd-a671-31fe0f6ce7ce",
   "metadata": {
    "tags": []
   },
   "outputs": [],
   "source": [
    "# ### for all datasets, get labels that are common\n",
    "# for x in [\"PTBXL\",\"ChapmanShaoxing\",\"CPSC2018\",]:\n",
    "#     DATASET_ID = x\n",
    "#     DATASET_NAME = \"WFDB_%s_signitured\"%DATASET_ID\n",
    "#     X = np.load('./data/big_numpy_datasets/%s.npy'%DATASET_NAME, mmap_mode='c')\n",
    "#     label_df = pd.read_csv(\"data/%s.csv\"%DATASET_NAME).drop(columns=[\"headers\",\"leads\"])\n",
    "#     y = snomedConvert(label_df)\n",
    "#     y=y[(y.columns[y.sum()>1000])]\n",
    "#     print(X.shape)\n",
    "#     print(x)\n",
    "#     print(y.sum())\n",
    "    "
   ]
  },
  {
   "cell_type": "code",
   "execution_count": 89,
   "id": "097cc5fe-9a90-4f27-bfaf-a6d58235852c",
   "metadata": {},
   "outputs": [
    {
     "data": {
      "text/html": [
       "<div>\n",
       "<style scoped>\n",
       "    .dataframe tbody tr th:only-of-type {\n",
       "        vertical-align: middle;\n",
       "    }\n",
       "\n",
       "    .dataframe tbody tr th {\n",
       "        vertical-align: top;\n",
       "    }\n",
       "\n",
       "    .dataframe thead th {\n",
       "        text-align: right;\n",
       "    }\n",
       "</style>\n",
       "<table border=\"1\" class=\"dataframe\">\n",
       "  <thead>\n",
       "    <tr style=\"text-align: right;\">\n",
       "      <th></th>\n",
       "      <th>right bundle branch block</th>\n",
       "      <th>atrial fibrillation</th>\n",
       "    </tr>\n",
       "  </thead>\n",
       "  <tbody>\n",
       "    <tr>\n",
       "      <th>0</th>\n",
       "      <td>True</td>\n",
       "      <td>False</td>\n",
       "    </tr>\n",
       "    <tr>\n",
       "      <th>1</th>\n",
       "      <td>False</td>\n",
       "      <td>False</td>\n",
       "    </tr>\n",
       "    <tr>\n",
       "      <th>2</th>\n",
       "      <td>False</td>\n",
       "      <td>True</td>\n",
       "    </tr>\n",
       "    <tr>\n",
       "      <th>3</th>\n",
       "      <td>False</td>\n",
       "      <td>True</td>\n",
       "    </tr>\n",
       "    <tr>\n",
       "      <th>4</th>\n",
       "      <td>False</td>\n",
       "      <td>False</td>\n",
       "    </tr>\n",
       "    <tr>\n",
       "      <th>...</th>\n",
       "      <td>...</td>\n",
       "      <td>...</td>\n",
       "    </tr>\n",
       "    <tr>\n",
       "      <th>6872</th>\n",
       "      <td>False</td>\n",
       "      <td>False</td>\n",
       "    </tr>\n",
       "    <tr>\n",
       "      <th>6873</th>\n",
       "      <td>False</td>\n",
       "      <td>False</td>\n",
       "    </tr>\n",
       "    <tr>\n",
       "      <th>6874</th>\n",
       "      <td>False</td>\n",
       "      <td>False</td>\n",
       "    </tr>\n",
       "    <tr>\n",
       "      <th>6875</th>\n",
       "      <td>False</td>\n",
       "      <td>True</td>\n",
       "    </tr>\n",
       "    <tr>\n",
       "      <th>6876</th>\n",
       "      <td>False</td>\n",
       "      <td>False</td>\n",
       "    </tr>\n",
       "  </tbody>\n",
       "</table>\n",
       "<p>6877 rows × 2 columns</p>\n",
       "</div>"
      ],
      "text/plain": [
       "      right bundle branch block  atrial fibrillation\n",
       "0                          True                False\n",
       "1                         False                False\n",
       "2                         False                 True\n",
       "3                         False                 True\n",
       "4                         False                False\n",
       "...                         ...                  ...\n",
       "6872                      False                False\n",
       "6873                      False                False\n",
       "6874                      False                False\n",
       "6875                      False                 True\n",
       "6876                      False                False\n",
       "\n",
       "[6877 rows x 2 columns]"
      ]
     },
     "execution_count": 89,
     "metadata": {},
     "output_type": "execute_result"
    }
   ],
   "source": [
    "# create an array for a label which can be used for single label classification\n",
    "DATASET_ID = x\n",
    "DATASET_NAME = \"WFDB_%s_signitured\"%DATASET_ID\n",
    "X = np.load('./data/big_numpy_datasets/%s.npy'%DATASET_NAME, mmap_mode='c')\n",
    "label_df = pd.read_csv(\"data/%s.csv\"%DATASET_NAME).drop(columns=[\"headers\",\"leads\"])\n",
    "y = snomedConvert(label_df)\n",
    "y = y[(y.columns[y.sum()>1000]) & (y.columns[y.sum()<0.5*len(y)])]\n",
    "y"
   ]
  },
  {
   "cell_type": "code",
   "execution_count": 227,
   "id": "0f315c90-edf6-4392-ba73-d8403dcf7435",
   "metadata": {},
   "outputs": [
    {
     "name": "stdout",
     "output_type": "stream",
     "text": [
      "for right bundle branch block: 6877 ecgs, 1857 have 1857 don't\n"
     ]
    }
   ],
   "source": [
    "# this function takes a label, and returns a balanced dataset \n",
    "# where half the data has the label and the other does not\n",
    "label = y.columns[0]\n",
    "y_label = y[label]\n",
    "\n",
    "have_index = np.array(y_label[y_label==True].index)\n",
    "have_not_index = np.array(list(set(y_label.index).difference(set(have_index))))\n",
    "\n",
    "# if have_index bigger than 50% of the total ecgs,\n",
    "# then we can pick with replacement or skip (this is rare)\n",
    "if len(have_index) > 0.5 * len(y_label):\n",
    "    have_not_index = np.random.choice(have_not_index,len(have_index),replace=True)\n",
    "else:\n",
    "    have_not_index = np.random.choice(have_not_index,len(have_index),replace=False)\n",
    "\n",
    "num_have = len(have_index)\n",
    "num_have_not = len(have_not_index)\n",
    "print(\"for %s: %s ecgs, %s have %s don't\"%(label,len(y_label), num_have,num_have_not))\n",
    "\n",
    "# this variable will contain all the indices we are interested in\n",
    "selected_indices = np.concatenate([have_index,have_not_index])\n",
    "selected_indices = np.sort(selected_indices)\n",
    "\n",
    "X_sl = X[selected_indices] # X for experiment\n",
    "y_sl = y_label.loc[selected_indices] # y for experiment"
   ]
  },
  {
   "cell_type": "code",
   "execution_count": 229,
   "id": "d47b6db8-1cc5-485c-9426-1094ec5ba2bd",
   "metadata": {},
   "outputs": [
    {
     "data": {
      "image/png": "[encoded data removed]",
      "text/plain": [
       "<Figure size 1152x36 with 1 Axes>"
      ]
     },
     "metadata": {
      "needs_background": "light"
     },
     "output_type": "display_data"
    }
   ],
   "source": [
    "cv_splits = get_splits(y_sl.to_numpy()*1, n_splits =1, valid_size=.1,stratify=False, random_state=23, shuffle=True)"
   ]
  },
  {
   "cell_type": "code",
   "execution_count": null,
   "id": "4cd2fe2b-d9be-4aae-a9bf-a4b4c695118a",
   "metadata": {},
   "outputs": [],
   "source": [
    "# now we can start the experiment\n",
    "tfms  = [None, TSClassification()]\n",
    "dsets = TSDatasets(X_sl.astype(float)[:,:,0:max_len],  y_sl.to_numpy()*1, tfms=tfms, splits=cv_splits) # inplace=True by default\n",
    "dls   = TSDataLoaders.from_dsets(dsets.train,dsets.valid, bs=[64, 128], batch_tfms=batch_tfms, num_workers=0, )\n",
    "metrics =[F1Score()]\n",
    "model = InceptionTimePlus(dls.vars, dls.c, dls.len)\n",
    "# model = MiniRocketPlus(dls.vars, dls.c,dls.len)\n",
    "# try : loss_func = BCEWithLogitsLossFlat(pos_weight=dls.train.cws.sqrt())\n",
    "learn = Learner(dls, model, metrics=metrics,)\n",
    "learn.fit_one_cycle(300, lr_max=0.01)"
   ]
  }
 ],
 "metadata": {
  "kernelspec": {
   "display_name": "Python 3 (ipykernel)",
   "language": "python",
   "name": "python3"
  },
  "language_info": {
   "codemirror_mode": {
    "name": "ipython",
    "version": 3
   },
   "file_extension": ".py",
   "mimetype": "text/x-python",
   "name": "python",
   "nbconvert_exporter": "python",
   "pygments_lexer": "ipython3",
   "version": "3.10.4"
  }
 },
 "nbformat": 4,
 "nbformat_minor": 5
}
